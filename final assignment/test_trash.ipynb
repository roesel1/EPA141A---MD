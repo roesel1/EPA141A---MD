{
 "cells": [
  {
   "cell_type": "code",
   "execution_count": 1,
   "outputs": [],
   "source": [
    "import pandas as pd\n",
    "import pickle"
   ],
   "metadata": {
    "collapsed": false,
    "ExecuteTime": {
     "end_time": "2024-06-21T08:19:59.624140500Z",
     "start_time": "2024-06-21T08:19:59.605551300Z"
    }
   },
   "id": "80e3ecc4b6e3b06c"
  },
  {
   "cell_type": "code",
   "execution_count": 2,
   "outputs": [],
   "source": [
    "experiments = pd.read_csv('data/Results_Candidate_Solutions_experiments.csv')\n",
    "outcomes = pd.read_csv('data/Results_Candidate_Solutions_outcomes.csv')\n",
    "experiments.drop(columns='Unnamed: 0', inplace=True)"
   ],
   "metadata": {
    "collapsed": false,
    "ExecuteTime": {
     "end_time": "2024-06-21T08:20:00.107628200Z",
     "start_time": "2024-06-21T08:19:59.610675100Z"
    }
   },
   "id": "2f8e2ed9986ba42c"
  },
  {
   "cell_type": "code",
   "execution_count": 3,
   "outputs": [],
   "source": [
    "results = experiments.join(outcomes)\n",
    "results.drop(columns='Unnamed: 0', inplace=True)\n",
    "results = results[results['2_RfR 0'] == 0]"
   ],
   "metadata": {
    "collapsed": false,
    "ExecuteTime": {
     "end_time": "2024-06-21T08:20:00.166711Z",
     "start_time": "2024-06-21T08:20:00.117570600Z"
    }
   },
   "id": "db4f2c8fcc9eb971"
  },
  {
   "cell_type": "code",
   "execution_count": 4,
   "outputs": [],
   "source": [
    "policy_test = results[['A.3_DikeIncrease 0', 'policy']].drop_duplicates()\n",
    "# print(policy_test)\n",
    "results.replace({'Policy0': 'Policy7', 'Policy6000': 'Policy10', 'Policy12000': 'Policy12'}, inplace=True)"
   ],
   "metadata": {
    "collapsed": false,
    "ExecuteTime": {
     "end_time": "2024-06-21T08:20:00.211930500Z",
     "start_time": "2024-06-21T08:20:00.163629600Z"
    }
   },
   "id": "13b5082b9f6de8b2"
  },
  {
   "cell_type": "code",
   "execution_count": 5,
   "outputs": [],
   "source": [
    "box_all = pd.read_csv('data/All_space_Prim3.csv')\n",
    "box_a5 = pd.read_csv('data/A5_space_Prim3.csv')"
   ],
   "metadata": {
    "collapsed": false,
    "ExecuteTime": {
     "end_time": "2024-06-21T08:20:00.230707400Z",
     "start_time": "2024-06-21T08:20:00.201137400Z"
    }
   },
   "id": "2cc32c6d9349c35b"
  },
  {
   "cell_type": "code",
   "execution_count": 16,
   "outputs": [],
   "source": [
    "condition = (((results['A.1_pfail'] > float(box_all.iloc[1, 1])) & (results['A.1_pfail'] < float(box_all.iloc[1, 2])) & (str(results['discount rate 2']) in box_all.iloc[2, 1][1:-1].split(','))) | ((results['A.5_pfail'] > float(box_a5.iloc[1, 1])) & (results['A.5_pfail'] < float(box_a5.iloc[1, 2])) & (results['A.1_pfail'] > float(box_a5.iloc[2, 1])) & (results['A.1_pfail'] < float(box_a5.iloc[2, 2])) & (results['A.2_pfail'] > float(box_a5.iloc[3, 1])) & (results['A.2_pfail'] < float(box_a5.iloc[3, 2])) & (results['A.4_pfail'] > float(box_a5.iloc[4, 1])) & (results['A.4_pfail'] < float(box_a5.iloc[4, 2]))))"
   ],
   "metadata": {
    "collapsed": false,
    "ExecuteTime": {
     "end_time": "2024-06-21T08:28:13.793096600Z",
     "start_time": "2024-06-21T08:28:13.777208600Z"
    }
   },
   "id": "92daf2b492c50d49"
  },
  {
   "cell_type": "code",
   "execution_count": 21,
   "outputs": [],
   "source": [
    "worst_cases = results[condition]\n",
    "worst_cases.to_csv()"
   ],
   "metadata": {
    "collapsed": false,
    "ExecuteTime": {
     "end_time": "2024-06-21T08:31:12.388608200Z",
     "start_time": "2024-06-21T08:31:12.365607900Z"
    }
   },
   "id": "90c3c345e7c39da9"
  },
  {
   "cell_type": "code",
   "execution_count": null,
   "outputs": [],
   "source": [],
   "metadata": {
    "collapsed": false,
    "ExecuteTime": {
     "start_time": "2024-06-21T08:20:01.149103Z"
    }
   },
   "id": "2306aa7601b17a4c"
  }
 ],
 "metadata": {
  "kernelspec": {
   "display_name": "Python 3",
   "language": "python",
   "name": "python3"
  },
  "language_info": {
   "codemirror_mode": {
    "name": "ipython",
    "version": 2
   },
   "file_extension": ".py",
   "mimetype": "text/x-python",
   "name": "python",
   "nbconvert_exporter": "python",
   "pygments_lexer": "ipython2",
   "version": "2.7.6"
  }
 },
 "nbformat": 4,
 "nbformat_minor": 5
}
