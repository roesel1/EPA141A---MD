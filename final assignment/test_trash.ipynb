{
 "cells": [
  {
   "cell_type": "code",
   "execution_count": 1,
   "outputs": [],
   "source": [
    "import pandas as pd\n",
    "import pickle"
   ],
   "metadata": {
    "collapsed": false,
    "ExecuteTime": {
     "end_time": "2024-06-21T07:17:58.976726200Z",
     "start_time": "2024-06-21T07:17:58.971038100Z"
    }
   },
   "id": "80e3ecc4b6e3b06c"
  },
  {
   "cell_type": "code",
   "execution_count": 2,
   "outputs": [],
   "source": [
    "experiments = pd.read_csv('data/Results_Candidate_Solutions_experiments.csv')\n",
    "outcomes = pd.read_csv('data/Results_Candidate_Solutions_outcomes.csv')"
   ],
   "metadata": {
    "collapsed": false,
    "ExecuteTime": {
     "end_time": "2024-06-21T07:18:43.872425100Z",
     "start_time": "2024-06-21T07:18:43.321007200Z"
    }
   },
   "id": "2f8e2ed9986ba42c"
  },
  {
   "cell_type": "code",
   "execution_count": 3,
   "outputs": [],
   "source": [
    "box_all = pd.read_csv('data/All_space_Prim3.csv')\n",
    "box_a5 = pd.read_csv('data/A5_space_Prim3.csv')"
   ],
   "metadata": {
    "collapsed": false,
    "ExecuteTime": {
     "end_time": "2024-06-21T07:18:44.783415300Z",
     "start_time": "2024-06-21T07:18:44.736523100Z"
    }
   },
   "id": "2cc32c6d9349c35b"
  },
  {
   "cell_type": "code",
   "execution_count": null,
   "outputs": [],
   "source": [
    "condition = experiments['A.1_pfail'] > box_all.iloc[1, 1] and experiments['A.1_pfail'] < box_all.iloc[]"
   ],
   "metadata": {
    "collapsed": false
   },
   "id": "92daf2b492c50d49"
  },
  {
   "cell_type": "code",
   "execution_count": 7,
   "outputs": [
    {
     "data": {
      "text/plain": "        Unnamed: 0                  box 11             box 11.1  \\\n0              NaN                     min                  max   \n1        A.1_pfail  5.7580857970003854e-05  0.34852142511564244   \n2  discount rate 2         {1.5, 2.5, 3.5}      {1.5, 2.5, 3.5}   \n\n                box 11.2  box 11.3  \n0               qp value  qp value  \n1                    NaN       0.0  \n2  4.621244764152512e-47       NaN  ",
      "text/html": "<div>\n<style scoped>\n    .dataframe tbody tr th:only-of-type {\n        vertical-align: middle;\n    }\n\n    .dataframe tbody tr th {\n        vertical-align: top;\n    }\n\n    .dataframe thead th {\n        text-align: right;\n    }\n</style>\n<table border=\"1\" class=\"dataframe\">\n  <thead>\n    <tr style=\"text-align: right;\">\n      <th></th>\n      <th>Unnamed: 0</th>\n      <th>box 11</th>\n      <th>box 11.1</th>\n      <th>box 11.2</th>\n      <th>box 11.3</th>\n    </tr>\n  </thead>\n  <tbody>\n    <tr>\n      <th>0</th>\n      <td>NaN</td>\n      <td>min</td>\n      <td>max</td>\n      <td>qp value</td>\n      <td>qp value</td>\n    </tr>\n    <tr>\n      <th>1</th>\n      <td>A.1_pfail</td>\n      <td>5.7580857970003854e-05</td>\n      <td>0.34852142511564244</td>\n      <td>NaN</td>\n      <td>0.0</td>\n    </tr>\n    <tr>\n      <th>2</th>\n      <td>discount rate 2</td>\n      <td>{1.5, 2.5, 3.5}</td>\n      <td>{1.5, 2.5, 3.5}</td>\n      <td>4.621244764152512e-47</td>\n      <td>NaN</td>\n    </tr>\n  </tbody>\n</table>\n</div>"
     },
     "execution_count": 7,
     "metadata": {},
     "output_type": "execute_result"
    }
   ],
   "source": [
    "box_all"
   ],
   "metadata": {
    "collapsed": false,
    "ExecuteTime": {
     "end_time": "2024-06-21T07:35:44.522865200Z",
     "start_time": "2024-06-21T07:35:44.499757Z"
    }
   },
   "id": "a81ce313cd29a3f"
  },
  {
   "cell_type": "code",
   "execution_count": 8,
   "outputs": [
    {
     "data": {
      "text/plain": "'5.7580857970003854e-05'"
     },
     "execution_count": 8,
     "metadata": {},
     "output_type": "execute_result"
    }
   ],
   "source": [
    "box_all.iloc[1, 1]"
   ],
   "metadata": {
    "collapsed": false,
    "ExecuteTime": {
     "end_time": "2024-06-21T07:36:25.571311600Z",
     "start_time": "2024-06-21T07:36:25.535467400Z"
    }
   },
   "id": "81dd763d9610852f"
  },
  {
   "cell_type": "code",
   "execution_count": 5,
   "outputs": [
    {
     "data": {
      "text/plain": "  Unnamed: 0                 box 17            box 17.1  \\\n0        NaN                    min                 max   \n1  A.5_pfail  6.151444931642075e-05  0.3140143622474688   \n2  A.1_pfail     0.3395427067856819  0.9999601150085979   \n3  A.2_pfail    0.09891447862561753  0.9999876402257111   \n4  A.4_pfail    0.10478334222369302  0.9999511254809813   \n\n                  box 17.2  box 17.3  \n0                 qp value  qp value  \n1                      NaN       0.0  \n2  2.5499166993043987e-176       NaN  \n3   1.7722675866686015e-31       NaN  \n4   1.4506939566056245e-23       NaN  ",
      "text/html": "<div>\n<style scoped>\n    .dataframe tbody tr th:only-of-type {\n        vertical-align: middle;\n    }\n\n    .dataframe tbody tr th {\n        vertical-align: top;\n    }\n\n    .dataframe thead th {\n        text-align: right;\n    }\n</style>\n<table border=\"1\" class=\"dataframe\">\n  <thead>\n    <tr style=\"text-align: right;\">\n      <th></th>\n      <th>Unnamed: 0</th>\n      <th>box 17</th>\n      <th>box 17.1</th>\n      <th>box 17.2</th>\n      <th>box 17.3</th>\n    </tr>\n  </thead>\n  <tbody>\n    <tr>\n      <th>0</th>\n      <td>NaN</td>\n      <td>min</td>\n      <td>max</td>\n      <td>qp value</td>\n      <td>qp value</td>\n    </tr>\n    <tr>\n      <th>1</th>\n      <td>A.5_pfail</td>\n      <td>6.151444931642075e-05</td>\n      <td>0.3140143622474688</td>\n      <td>NaN</td>\n      <td>0.0</td>\n    </tr>\n    <tr>\n      <th>2</th>\n      <td>A.1_pfail</td>\n      <td>0.3395427067856819</td>\n      <td>0.9999601150085979</td>\n      <td>2.5499166993043987e-176</td>\n      <td>NaN</td>\n    </tr>\n    <tr>\n      <th>3</th>\n      <td>A.2_pfail</td>\n      <td>0.09891447862561753</td>\n      <td>0.9999876402257111</td>\n      <td>1.7722675866686015e-31</td>\n      <td>NaN</td>\n    </tr>\n    <tr>\n      <th>4</th>\n      <td>A.4_pfail</td>\n      <td>0.10478334222369302</td>\n      <td>0.9999511254809813</td>\n      <td>1.4506939566056245e-23</td>\n      <td>NaN</td>\n    </tr>\n  </tbody>\n</table>\n</div>"
     },
     "execution_count": 5,
     "metadata": {},
     "output_type": "execute_result"
    }
   ],
   "source": [
    "box_a5"
   ],
   "metadata": {
    "collapsed": false,
    "ExecuteTime": {
     "end_time": "2024-06-21T07:19:02.755627900Z",
     "start_time": "2024-06-21T07:19:02.710959500Z"
    }
   },
   "id": "a719aec76aafcf3c"
  },
  {
   "cell_type": "code",
   "execution_count": null,
   "outputs": [],
   "source": [
    "with open('data\\ScenDiscMORDM', 'rb') as file:\n",
    "    ref_scen = pickle.load(file)\n",
    "ref1 = ref_scen[0]\n",
    "ref2 = ref_scen[1]"
   ],
   "metadata": {
    "collapsed": false
   },
   "id": "f8e238ed5219e977"
  },
  {
   "cell_type": "code",
   "execution_count": null,
   "id": "initial_id",
   "metadata": {
    "collapsed": true
   },
   "outputs": [],
   "source": [
    "# Create a series with true values for each reference scenario\n",
    "array_1 = pd.Series([True] * len(outcomes))\n",
    "array_2 = pd.Series([True] * len(outcomes))\n",
    "\n",
    "# Update the boolean array for each uncertainty in the reference scenario\n",
    "for key, value in ref1.items():\n",
    "    # print(round(experiments[key]))\n",
    "    print(round(value) in round(experiments[key]))\n",
    "    array_1 &= ((round(experiments[key])) == round(value))\n",
    "# print(sum(array_1))\n",
    "    \n",
    "for key, value in ref2.items():\n",
    "    array_2 &= ((round(experiments[key])) == round(value))\n",
    "\n",
    "# Combine the arrays using OR\n",
    "combined_array = array_1 | array_2\n",
    "\n",
    "# Apply the combined array to the outcomes dataframe\n",
    "filtered_df = outcomes[combined_array]\n",
    "\n",
    "print(filtered_df)"
   ]
  },
  {
   "cell_type": "code",
   "execution_count": null,
   "outputs": [],
   "source": [],
   "metadata": {
    "collapsed": false
   },
   "id": "2306aa7601b17a4c"
  }
 ],
 "metadata": {
  "kernelspec": {
   "display_name": "Python 3",
   "language": "python",
   "name": "python3"
  },
  "language_info": {
   "codemirror_mode": {
    "name": "ipython",
    "version": 2
   },
   "file_extension": ".py",
   "mimetype": "text/x-python",
   "name": "python",
   "nbconvert_exporter": "python",
   "pygments_lexer": "ipython2",
   "version": "2.7.6"
  }
 },
 "nbformat": 4,
 "nbformat_minor": 5
}
