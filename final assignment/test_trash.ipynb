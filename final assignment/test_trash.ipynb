{
 "cells": [
  {
   "cell_type": "code",
   "execution_count": 1,
   "outputs": [],
   "source": [
    "import pandas as pd\n",
    "import pickle"
   ],
   "metadata": {
    "collapsed": false,
    "ExecuteTime": {
     "end_time": "2024-06-20T19:16:22.354110400Z",
     "start_time": "2024-06-20T19:16:22.324668400Z"
    }
   },
   "id": "80e3ecc4b6e3b06c"
  },
  {
   "cell_type": "code",
   "execution_count": 2,
   "outputs": [],
   "source": [
    "experiments = pd.read_csv('data/trash_exp.csv')\n",
    "outcomes = pd.read_csv('data/trash_out.csv')"
   ],
   "metadata": {
    "collapsed": false,
    "ExecuteTime": {
     "end_time": "2024-06-20T19:16:22.360484Z",
     "start_time": "2024-06-20T19:16:22.329524700Z"
    }
   },
   "id": "2f8e2ed9986ba42c"
  },
  {
   "cell_type": "code",
   "execution_count": 3,
   "outputs": [],
   "source": [
    "with open('data\\ScenDiscMORDM', 'rb') as file:\n",
    "    ref_scen = pickle.load(file)\n",
    "ref1 = ref_scen[0]\n",
    "ref2 = ref_scen[1]"
   ],
   "metadata": {
    "collapsed": false,
    "ExecuteTime": {
     "end_time": "2024-06-20T19:16:23.968088700Z",
     "start_time": "2024-06-20T19:16:22.362485800Z"
    }
   },
   "id": "f8e238ed5219e977"
  },
  {
   "cell_type": "code",
   "execution_count": 32,
   "id": "initial_id",
   "metadata": {
    "collapsed": true,
    "ExecuteTime": {
     "end_time": "2024-06-20T19:35:03.796180900Z",
     "start_time": "2024-06-20T19:35:03.780283600Z"
    }
   },
   "outputs": [
    {
     "name": "stdout",
     "output_type": "stream",
     "text": [
      "True\n",
      "True\n",
      "True\n",
      "True\n",
      "True\n",
      "True\n",
      "True\n",
      "True\n",
      "True\n",
      "True\n",
      "True\n",
      "True\n",
      "True\n",
      "True\n",
      "True\n",
      "True\n",
      "True\n",
      "True\n",
      "True\n",
      "Empty DataFrame\n",
      "Columns: [Unnamed: 0, A.4_Expected Number of Deaths, A.4_Expected Annual Damage, A.5_Expected Number of Deaths, A.5_Expected Annual Damage, Expected Evacuation Costs, Expected Annual Damage, Total Investment Costs, Expected Number of Deaths]\n",
      "Index: []\n"
     ]
    }
   ],
   "source": [
    "# Create a series with true values for each reference scenario\n",
    "array_1 = pd.Series([True] * len(outcomes))\n",
    "array_2 = pd.Series([True] * len(outcomes))\n",
    "\n",
    "# Update the boolean array for each uncertainty in the reference scenario\n",
    "for key, value in ref1.items():\n",
    "    # print(round(experiments[key]))\n",
    "    print(round(value) in round(experiments[key]))\n",
    "    array_1 &= ((round(experiments[key])) == round(value))\n",
    "# print(sum(array_1))\n",
    "    \n",
    "for key, value in ref2.items():\n",
    "    array_2 &= ((round(experiments[key])) == round(value))\n",
    "\n",
    "# Combine the arrays using OR\n",
    "combined_array = array_1 | array_2\n",
    "\n",
    "# Apply the combined array to the outcomes dataframe\n",
    "filtered_df = outcomes[combined_array]\n",
    "\n",
    "print(filtered_df)"
   ]
  },
  {
   "cell_type": "code",
   "execution_count": null,
   "outputs": [],
   "source": [],
   "metadata": {
    "collapsed": false
   },
   "id": "2306aa7601b17a4c"
  }
 ],
 "metadata": {
  "kernelspec": {
   "display_name": "Python 3",
   "language": "python",
   "name": "python3"
  },
  "language_info": {
   "codemirror_mode": {
    "name": "ipython",
    "version": 2
   },
   "file_extension": ".py",
   "mimetype": "text/x-python",
   "name": "python",
   "nbconvert_exporter": "python",
   "pygments_lexer": "ipython2",
   "version": "2.7.6"
  }
 },
 "nbformat": 4,
 "nbformat_minor": 5
}
