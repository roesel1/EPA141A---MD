{
 "cells": [
  {
   "cell_type": "markdown",
   "source": [
    "## Used packages"
   ],
   "metadata": {
    "collapsed": false
   },
   "id": "a64a95d8543fa391"
  },
  {
   "cell_type": "code",
   "source": [
    "import numpy as np\n",
    "import pandas as pd\n",
    "import pickle\n",
    "import matplotlib.pyplot as plt\n",
    "import seaborn as sns\n",
    "from SALib.analyze import sobol\n",
    "from ema_workbench.analysis import feature_scoring, RuleInductionType\n",
    "from ema_workbench.em_framework.salib_samplers import get_SALib_problem\n",
    "from ema_workbench import (\n",
    "    Model,\n",
    "    Policy,\n",
    "    ema_logging,\n",
    "    SequentialEvaluator,\n",
    "    MultiprocessingEvaluator,\n",
    "    perform_experiments,\n",
    "    Samplers,\n",
    "    SequentialEvaluator,\n",
    ")\n",
    "from problem_formulation import get_model_for_problem_formulation\n",
    "from ema_workbench.em_framework.parameters import Constant"
   ],
   "metadata": {
    "collapsed": false,
    "ExecuteTime": {
     "end_time": "2024-06-19T10:23:27.527124Z",
     "start_time": "2024-06-19T10:23:20.621079Z"
    }
   },
   "id": "bcb386eddf7046c8",
   "outputs": [],
   "execution_count": 2
  },
  {
   "cell_type": "markdown",
   "source": [
    "## Feature importance"
   ],
   "metadata": {
    "collapsed": false
   },
   "id": "20586af45aa9a85a"
  },
  {
   "cell_type": "code",
   "source": [
    "# Use get_model_for_problem_formulation function to get a workable version of the model for the EMA workbench\n",
    "dike_model, planning_steps = get_model_for_problem_formulation(6)"
   ],
   "metadata": {
    "collapsed": false,
    "ExecuteTime": {
     "end_time": "2024-06-19T10:23:42.855972Z",
     "start_time": "2024-06-19T10:23:41.740150Z"
    }
   },
   "id": "f239e34b818df7bf",
   "outputs": [
    {
     "name": "stdout",
     "output_type": "stream",
     "text": [
      "                  0       1      2       3       4\n",
      "project name                                      \n",
      "A.1            0.19    0.17    NaN     NaN     NaN\n",
      "A.2             NaN     NaN   0.05    0.02     NaN\n",
      "A.3             NaN     NaN   0.11    0.04    0.01\n",
      "A.4             NaN     NaN    NaN    0.06    0.05\n",
      "A.5             NaN     NaN    NaN    0.12     NaN\n",
      "costs_1e6     84.60  217.80  30.70  121.20  256.10\n"
     ]
    }
   ],
   "execution_count": 3
  },
  {
   "cell_type": "code",
   "source": [
    "\n",
    "# Create a dictionary with all the policy lever values 0\n",
    "zero_policy = {\"DaysToThreat\": 0}\n",
    "zero_policy.update({f\"DikeIncrease {n}\": 0 for n in planning_steps})\n",
    "zero_policy.update({f\"RfR {n}\": 0 for n in planning_steps})\n",
    "pol0 = {}\n",
    "\n",
    "# Create a policy class where all the policies are switched off (have value 0)\n",
    "for key in dike_model.levers:\n",
    "    s1, s2 = key.name.split(\"_\")\n",
    "    pol0.update({key.name: zero_policy[s2]})\n",
    "policy0 = Policy(\"Policy 0\", **pol0)"
   ],
   "metadata": {
    "collapsed": false,
    "ExecuteTime": {
     "end_time": "2024-06-19T12:03:12.319804Z",
     "start_time": "2024-06-19T12:03:12.311517Z"
    }
   },
   "id": "2082b5d7c31f475a",
   "outputs": [],
   "execution_count": 8
  },
  {
   "cell_type": "code",
   "source": [
    "# Runs the experiments with the no policies and 50000 configurations of the scenarios using LHS sampling\n",
    "with MultiprocessingEvaluator(dike_model) as evaluator:\n",
    "    results = evaluator.perform_experiments(scenarios=50000,policies=policy0,uncertainty_sampling=Samplers.LHS)\n",
    "\n",
    "experiments, outcomes = results\n",
    "\n",
    "#Saves the results of the experiments\n",
    "with open('./data/LHS_Scen_result.pkl', 'wb') as file:\n",
    "    pickle.dump(results, file)"
   ],
   "metadata": {
    "collapsed": false,
    "ExecuteTime": {
     "end_time": "2024-06-18T00:38:40.089773Z",
     "start_time": "2024-06-17T22:54:45.595370Z"
    }
   },
   "id": "cc0ef901211fa9bd",
   "outputs": [
    {
     "name": "stderr",
     "output_type": "stream",
     "text": [
      "100%|██████████████████████████████████| 50000/50000 [1:43:39<00:00,  8.04it/s]\n"
     ]
    }
   ],
   "execution_count": 4
  },
  {
   "cell_type": "code",
   "source": [
    "# Selects the columns that contain the uncertainties\n",
    "experiments_unc =experiments.iloc[:,0:19]\n",
    "\n",
    "# Change outcomes to df \n",
    "df = pd.DataFrame(outcomes) \n",
    "\n",
    "# Calculates and plots the feature scores\n",
    "x = experiments_unc\n",
    "y = df\n",
    "fig, ax = plt.subplots(figsize=(20,20))\n",
    "fs = feature_scoring.get_feature_scores_all(x, y,)\n",
    "sns.heatmap(fs, cmap=\"viridis\", annot=True,vmin=0.04)\n",
    "plt.show()"
   ],
   "metadata": {
    "collapsed": false,
    "ExecuteTime": {
     "end_time": "2024-06-18T00:38:40.099757Z",
     "start_time": "2024-06-18T00:38:40.090774Z"
    }
   },
   "id": "1f3c674b3db60ff6",
   "outputs": [],
   "execution_count": 5
  },
  {
   "cell_type": "markdown",
   "source": [],
   "metadata": {
    "collapsed": false
   },
   "id": "52f7d130af9174c3"
  },
  {
   "cell_type": "code",
   "source": [
    "# Selects the 20% percentage the worst outcomes for A5 specific outcomes \n",
    "y = ((df[\"A.5_Expected Number of Deaths\"] > list(np.sort(df[\"A.5_Expected Number of Deaths\"]))[np.int64(0.80* len(df[\"A.5_Expected Number of Deaths\"]))])|(df['A.5_Expected Annual Damage'] > list(np.sort(df['A.5_Expected Annual Damage']))[np.int64(0.8* len(df['A.5_Expected Annual Damage']))]))\n",
    "\n",
    "# Calculates and plots the feature scores for the worst outcomes for A5 specific outcomes \n",
    "fs, alg = feature_scoring.get_ex_feature_scores(x, y, mode=RuleInductionType.CLASSIFICATION)\n",
    "fs.sort_values(ascending=False, by=1)"
   ],
   "metadata": {
    "collapsed": false,
    "ExecuteTime": {
     "end_time": "2024-06-18T00:39:00.934198Z",
     "start_time": "2024-06-18T00:38:57.441763Z"
    }
   },
   "id": "c051e158dcad8913",
   "outputs": [
    {
     "data": {
      "text/plain": [
       "                                1\n",
       "0                                \n",
       "A.5_pfail                0.525045\n",
       "A.3_pfail                0.119422\n",
       "A.2_pfail                0.081836\n",
       "A.1_pfail                0.078015\n",
       "A.4_pfail                0.056990\n",
       "A.1_Bmax                 0.035610\n",
       "A.2_Bmax                 0.011984\n",
       "A.3_Bmax                 0.011402\n",
       "A.5_Brate                0.007859\n",
       "A.4_Brate                0.007699\n",
       "A.1_Brate                0.007683\n",
       "A.2_Brate                0.007632\n",
       "A.3_Brate                0.007605\n",
       "discount rate 2          0.007485\n",
       "discount rate 0          0.007481\n",
       "discount rate 1          0.007243\n",
       "A.0_ID flood wave shape  0.006437\n",
       "A.4_Bmax                 0.006424\n",
       "A.5_Bmax                 0.006145"
      ],
      "text/html": [
       "<div>\n",
       "<style scoped>\n",
       "    .dataframe tbody tr th:only-of-type {\n",
       "        vertical-align: middle;\n",
       "    }\n",
       "\n",
       "    .dataframe tbody tr th {\n",
       "        vertical-align: top;\n",
       "    }\n",
       "\n",
       "    .dataframe thead th {\n",
       "        text-align: right;\n",
       "    }\n",
       "</style>\n",
       "<table border=\"1\" class=\"dataframe\">\n",
       "  <thead>\n",
       "    <tr style=\"text-align: right;\">\n",
       "      <th></th>\n",
       "      <th>1</th>\n",
       "    </tr>\n",
       "    <tr>\n",
       "      <th>0</th>\n",
       "      <th></th>\n",
       "    </tr>\n",
       "  </thead>\n",
       "  <tbody>\n",
       "    <tr>\n",
       "      <th>A.5_pfail</th>\n",
       "      <td>0.525045</td>\n",
       "    </tr>\n",
       "    <tr>\n",
       "      <th>A.3_pfail</th>\n",
       "      <td>0.119422</td>\n",
       "    </tr>\n",
       "    <tr>\n",
       "      <th>A.2_pfail</th>\n",
       "      <td>0.081836</td>\n",
       "    </tr>\n",
       "    <tr>\n",
       "      <th>A.1_pfail</th>\n",
       "      <td>0.078015</td>\n",
       "    </tr>\n",
       "    <tr>\n",
       "      <th>A.4_pfail</th>\n",
       "      <td>0.056990</td>\n",
       "    </tr>\n",
       "    <tr>\n",
       "      <th>A.1_Bmax</th>\n",
       "      <td>0.035610</td>\n",
       "    </tr>\n",
       "    <tr>\n",
       "      <th>A.2_Bmax</th>\n",
       "      <td>0.011984</td>\n",
       "    </tr>\n",
       "    <tr>\n",
       "      <th>A.3_Bmax</th>\n",
       "      <td>0.011402</td>\n",
       "    </tr>\n",
       "    <tr>\n",
       "      <th>A.5_Brate</th>\n",
       "      <td>0.007859</td>\n",
       "    </tr>\n",
       "    <tr>\n",
       "      <th>A.4_Brate</th>\n",
       "      <td>0.007699</td>\n",
       "    </tr>\n",
       "    <tr>\n",
       "      <th>A.1_Brate</th>\n",
       "      <td>0.007683</td>\n",
       "    </tr>\n",
       "    <tr>\n",
       "      <th>A.2_Brate</th>\n",
       "      <td>0.007632</td>\n",
       "    </tr>\n",
       "    <tr>\n",
       "      <th>A.3_Brate</th>\n",
       "      <td>0.007605</td>\n",
       "    </tr>\n",
       "    <tr>\n",
       "      <th>discount rate 2</th>\n",
       "      <td>0.007485</td>\n",
       "    </tr>\n",
       "    <tr>\n",
       "      <th>discount rate 0</th>\n",
       "      <td>0.007481</td>\n",
       "    </tr>\n",
       "    <tr>\n",
       "      <th>discount rate 1</th>\n",
       "      <td>0.007243</td>\n",
       "    </tr>\n",
       "    <tr>\n",
       "      <th>A.0_ID flood wave shape</th>\n",
       "      <td>0.006437</td>\n",
       "    </tr>\n",
       "    <tr>\n",
       "      <th>A.4_Bmax</th>\n",
       "      <td>0.006424</td>\n",
       "    </tr>\n",
       "    <tr>\n",
       "      <th>A.5_Bmax</th>\n",
       "      <td>0.006145</td>\n",
       "    </tr>\n",
       "  </tbody>\n",
       "</table>\n",
       "</div>"
      ]
     },
     "execution_count": 9,
     "metadata": {},
     "output_type": "execute_result"
    }
   ],
   "execution_count": 9
  },
  {
   "cell_type": "code",
   "source": [
    "# Selects the 20% percentage the worst outcomes for the general situation\n",
    "y = ((df['Expected Number of Deaths'] > list(np.sort(df[\"Expected Number of Deaths\"]))[int(0.8* len(df['Expected Number of Deaths']))])|(df['Expected Annual Damage'] > list(np.sort(df[\"Expected Annual Damage\"]))[int(0.8* len(df['Expected Annual Damage']))]))\n",
    "\n",
    "# Calculates and plots the feature scores for the worst outcomes for the general situation\n",
    "fs, alg = feature_scoring.get_ex_feature_scores(x, y, mode=RuleInductionType.CLASSIFICATION)\n",
    "fs.sort_values(ascending=False, by=1)"
   ],
   "metadata": {
    "collapsed": false,
    "ExecuteTime": {
     "end_time": "2024-06-18T00:39:04.803195Z",
     "start_time": "2024-06-18T00:39:00.937194Z"
    }
   },
   "id": "f10a1213e8726ab3",
   "outputs": [
    {
     "data": {
      "text/plain": [
       "                                1\n",
       "0                                \n",
       "A.3_pfail                0.501724\n",
       "A.1_pfail                0.215233\n",
       "discount rate 2          0.058708\n",
       "discount rate 0          0.058580\n",
       "discount rate 1          0.057421\n",
       "A.1_Bmax                 0.019187\n",
       "A.2_pfail                0.011578\n",
       "A.5_pfail                0.007728\n",
       "A.3_Brate                0.007089\n",
       "A.5_Brate                0.007076\n",
       "A.1_Brate                0.006876\n",
       "A.2_Brate                0.006844\n",
       "A.4_Brate                0.006783\n",
       "A.2_Bmax                 0.005938\n",
       "A.5_Bmax                 0.005903\n",
       "A.0_ID flood wave shape  0.005892\n",
       "A.3_Bmax                 0.005862\n",
       "A.4_Bmax                 0.005825\n",
       "A.4_pfail                0.005754"
      ],
      "text/html": [
       "<div>\n",
       "<style scoped>\n",
       "    .dataframe tbody tr th:only-of-type {\n",
       "        vertical-align: middle;\n",
       "    }\n",
       "\n",
       "    .dataframe tbody tr th {\n",
       "        vertical-align: top;\n",
       "    }\n",
       "\n",
       "    .dataframe thead th {\n",
       "        text-align: right;\n",
       "    }\n",
       "</style>\n",
       "<table border=\"1\" class=\"dataframe\">\n",
       "  <thead>\n",
       "    <tr style=\"text-align: right;\">\n",
       "      <th></th>\n",
       "      <th>1</th>\n",
       "    </tr>\n",
       "    <tr>\n",
       "      <th>0</th>\n",
       "      <th></th>\n",
       "    </tr>\n",
       "  </thead>\n",
       "  <tbody>\n",
       "    <tr>\n",
       "      <th>A.3_pfail</th>\n",
       "      <td>0.501724</td>\n",
       "    </tr>\n",
       "    <tr>\n",
       "      <th>A.1_pfail</th>\n",
       "      <td>0.215233</td>\n",
       "    </tr>\n",
       "    <tr>\n",
       "      <th>discount rate 2</th>\n",
       "      <td>0.058708</td>\n",
       "    </tr>\n",
       "    <tr>\n",
       "      <th>discount rate 0</th>\n",
       "      <td>0.058580</td>\n",
       "    </tr>\n",
       "    <tr>\n",
       "      <th>discount rate 1</th>\n",
       "      <td>0.057421</td>\n",
       "    </tr>\n",
       "    <tr>\n",
       "      <th>A.1_Bmax</th>\n",
       "      <td>0.019187</td>\n",
       "    </tr>\n",
       "    <tr>\n",
       "      <th>A.2_pfail</th>\n",
       "      <td>0.011578</td>\n",
       "    </tr>\n",
       "    <tr>\n",
       "      <th>A.5_pfail</th>\n",
       "      <td>0.007728</td>\n",
       "    </tr>\n",
       "    <tr>\n",
       "      <th>A.3_Brate</th>\n",
       "      <td>0.007089</td>\n",
       "    </tr>\n",
       "    <tr>\n",
       "      <th>A.5_Brate</th>\n",
       "      <td>0.007076</td>\n",
       "    </tr>\n",
       "    <tr>\n",
       "      <th>A.1_Brate</th>\n",
       "      <td>0.006876</td>\n",
       "    </tr>\n",
       "    <tr>\n",
       "      <th>A.2_Brate</th>\n",
       "      <td>0.006844</td>\n",
       "    </tr>\n",
       "    <tr>\n",
       "      <th>A.4_Brate</th>\n",
       "      <td>0.006783</td>\n",
       "    </tr>\n",
       "    <tr>\n",
       "      <th>A.2_Bmax</th>\n",
       "      <td>0.005938</td>\n",
       "    </tr>\n",
       "    <tr>\n",
       "      <th>A.5_Bmax</th>\n",
       "      <td>0.005903</td>\n",
       "    </tr>\n",
       "    <tr>\n",
       "      <th>A.0_ID flood wave shape</th>\n",
       "      <td>0.005892</td>\n",
       "    </tr>\n",
       "    <tr>\n",
       "      <th>A.3_Bmax</th>\n",
       "      <td>0.005862</td>\n",
       "    </tr>\n",
       "    <tr>\n",
       "      <th>A.4_Bmax</th>\n",
       "      <td>0.005825</td>\n",
       "    </tr>\n",
       "    <tr>\n",
       "      <th>A.4_pfail</th>\n",
       "      <td>0.005754</td>\n",
       "    </tr>\n",
       "  </tbody>\n",
       "</table>\n",
       "</div>"
      ]
     },
     "execution_count": 10,
     "metadata": {},
     "output_type": "execute_result"
    }
   ],
   "execution_count": 10
  },
  {
   "cell_type": "markdown",
   "source": [
    "## Filter important uncertainties and create samples SOBOL "
   ],
   "metadata": {
    "collapsed": false
   },
   "id": "4ef0046101a772b2"
  },
  {
   "cell_type": "code",
   "source": [
    "# Use get_model_for_problem_formulation function to get a workable version of the model for the EMA workbench\n",
    "dike_model_1, planning_steps = get_model_for_problem_formulation(6)\n",
    "\n",
    "# Will contain uncertainties that need to be made constant\n",
    "dele = []\n",
    "# Cycle over levers and add levers to dele if they need to be constant\n",
    "for x in dike_model_1.uncertainties:\n",
    "    if x.name not in [\"A.1_pfail\",\"A.2_pfail\",\"A.3_pfail\",\"A.4_pfail\",\"A.5_pfail\", \"discount rate 0\",\"discount rate 1\",\"discount rate 2\"]:\n",
    "        dele.append(x.name)\n",
    "        \n",
    "# Remove uncertainties that are in dele\n",
    "for i in dele:\n",
    "    dike_model_1.uncertainties.__delitem__(i)\n",
    "\n",
    "# Create Constants of the policies\n",
    "constant_entries = [\n",
    "    Constant('A.0_ID flood wave shape', 17),\n",
    "    Constant('A.1_Bmax', 190), Constant('A.1_Brate', 1.5),\n",
    "    Constant('A.2_Bmax', 190), Constant('A.2_Brate', 1.5),\n",
    "    Constant('A.3_Bmax', 190), Constant('A.3_Brate', 1.5),\n",
    "    Constant('A.4_Bmax', 190), Constant('A.4_Brate', 1.5),\n",
    "    Constant('A.5_Bmax', 190), Constant('A.5_Brate', 1.5)\n",
    "]\n",
    "# Add the policies as constants\n",
    "for var in constant_entries:\n",
    "    dike_model_1.constants.extend(var)\n",
    "\n"
   ],
   "metadata": {
    "collapsed": false,
    "ExecuteTime": {
     "end_time": "2024-06-19T12:01:10.042096Z",
     "start_time": "2024-06-19T12:01:09.727790Z"
    }
   },
   "id": "5f8ac32f906f65d6",
   "outputs": [
    {
     "name": "stdout",
     "output_type": "stream",
     "text": [
      "                  0       1      2       3       4\n",
      "project name                                      \n",
      "A.1            0.19    0.17    NaN     NaN     NaN\n",
      "A.2             NaN     NaN   0.05    0.02     NaN\n",
      "A.3             NaN     NaN   0.11    0.04    0.01\n",
      "A.4             NaN     NaN    NaN    0.06    0.05\n",
      "A.5             NaN     NaN    NaN    0.12     NaN\n",
      "costs_1e6     84.60  217.80  30.70  121.20  256.10\n"
     ]
    }
   ],
   "execution_count": 6
  },
  {
   "cell_type": "code",
   "source": [
    "# Runs the experiments with fewer uncertainties and SOBOL sampling, which results in 151200 experiments, because there are 8 uncertainties\n",
    "with MultiprocessingEvaluator(dike_model_1) as evaluator:\n",
    "    results3 = evaluator.perform_experiments(scenarios=8400,policies=policy0,uncertainty_sampling=Samplers.SOBOL)\n",
    "\n",
    "experiments3, outcomes3 = results3"
   ],
   "metadata": {
    "collapsed": false,
    "ExecuteTime": {
     "start_time": "2024-06-19T12:03:18.362016Z"
    }
   },
   "id": "48c345916df1f953",
   "outputs": [
    {
     "name": "stderr",
     "output_type": "stream",
     "text": [
      "C:\\Users\\roelo\\anaconda3\\envs\\MD\\Lib\\site-packages\\scipy\\stats\\_qmc.py:958: UserWarning: The balance properties of Sobol' points require n to be a power of 2.\n",
      "  sample = self._random(n, workers=workers)\n",
      "  0%|                                   | 217/151200 [00:30<4:09:58, 10.07it/s]"
     ]
    }
   ],
   "execution_count": null
  },
  {
   "metadata": {
    "ExecuteTime": {
     "end_time": "2024-06-18T06:46:01.679801Z",
     "start_time": "2024-06-18T06:46:01.634740Z"
    }
   },
   "cell_type": "code",
   "source": [
    "# Loads the reference scenarios used in the experiments\n",
    "with open('./data/SOBOL_Scen_result.pkl', 'wb') as file:\n",
    "    pickle.dump(results3, file)\n",
    "\n",
    "# Selects the columns that contain the levers\n",
    "experiments_unc = experiments3.iloc[:, 0:5]\n",
    "\n",
    "# Change outcomes to df \n",
    "df = pd.DataFrame(outcomes3)"
   ],
   "id": "a75a3464c33b740a",
   "outputs": [],
   "execution_count": 31
  },
  {
   "cell_type": "code",
   "source": [
    "df_feature_importance_out.to_csv('data\\OpenScenRes.csv')"
   ],
   "metadata": {
    "collapsed": false,
    "ExecuteTime": {
     "end_time": "2024-06-18T06:25:57.420830Z",
     "start_time": "2024-06-18T06:25:57.062904Z"
    }
   },
   "id": "7ccbab8ab88992b7",
   "outputs": [
    {
     "ename": "NameError",
     "evalue": "name 'df_feature_importance_out' is not defined",
     "output_type": "error",
     "traceback": [
      "\u001B[1;31m---------------------------------------------------------------------------\u001B[0m",
      "\u001B[1;31mNameError\u001B[0m                                 Traceback (most recent call last)",
      "Cell \u001B[1;32mIn[20], line 1\u001B[0m\n\u001B[1;32m----> 1\u001B[0m \u001B[43mdf_feature_importance_out\u001B[49m\u001B[38;5;241m.\u001B[39mto_csv(\u001B[38;5;124m'\u001B[39m\u001B[38;5;124mdata\u001B[39m\u001B[38;5;124m\\\u001B[39m\u001B[38;5;124mOpenScenRes.csv\u001B[39m\u001B[38;5;124m'\u001B[39m)\n",
      "\u001B[1;31mNameError\u001B[0m: name 'df_feature_importance_out' is not defined"
     ]
    }
   ],
   "execution_count": 20
  },
  {
   "cell_type": "markdown",
   "source": [
    "## SOBOL analysis "
   ],
   "metadata": {
    "collapsed": false
   },
   "id": "62e80744792815d2"
  },
  {
   "cell_type": "code",
   "source": [
    "# Gets a problem formulations which is usable for the Salib module\n",
    "problem = get_SALib_problem(dike_model_1.uncertainties)"
   ],
   "metadata": {
    "collapsed": false,
    "ExecuteTime": {
     "end_time": "2024-06-18T06:46:15.213304Z",
     "start_time": "2024-06-18T06:46:15.209661Z"
    }
   },
   "id": "166f34ac8db26b66",
   "outputs": [],
   "execution_count": 32
  },
  {
   "cell_type": "code",
   "outputs": [],
   "source": [
    "# Remove columns which are not usefull for the scenario sensitivity\n",
    "df.drop(columns=[\"Expected Evacuation Costs\",\"Total Investments Cost\"],inplace=True)"
   ],
   "metadata": {
    "collapsed": false
   },
   "id": "6918e71c1a1f2e14"
  },
  {
   "cell_type": "code",
   "source": [
    "sns.set_style('white')\n",
    "fig, ax = plt.subplots(2,2,figsize=(10,10))\n",
    "ax = ax.flatten()\n",
    "# loops over outcomes\n",
    "for index,kpi in enumerate(df.columns):\n",
    "    #Calculates sobol scores\n",
    "    Si = sobol.analyze(problem,np.array(outcomes3[kpi]), calc_second_order=True, print_to_console=False)\n",
    "    Si_filter = {k:Si[k] for k in ['ST','ST_conf','S1','S1_conf']}\n",
    "    Si_df = pd.DataFrame(Si_filter, index=problem['names'])\n",
    "    \n",
    "    \n",
    "    \n",
    "    indices = Si_df[['S1','ST']]\n",
    "    err = Si_df[['S1_conf','ST_conf']]\n",
    "    ax[index].title.set_text(kpi) \n",
    "    indices.plot.bar(yerr=err.values.T,ax=ax[index])\n",
    "    # fig.set_size_inches(8,6)\n",
    "    # fig.subplots_adjust(bottom=0.3)\n",
    "plt.tight_layout()\n",
    "plt.show()"
   ],
   "metadata": {
    "collapsed": false,
    "ExecuteTime": {
     "end_time": "2024-06-18T06:46:37.625675Z",
     "start_time": "2024-06-18T06:46:16.060335Z"
    }
   },
   "id": "9d2c5e5b1c80ceb2",
   "outputs": [
    {
     "data": {
      "text/plain": [
       "<Figure size 1000x1000 with 6 Axes>"
      ],
      "image/png": "[encoded data removed]"
     },
     "metadata": {},
     "output_type": "display_data"
    }
   ],
   "execution_count": 33
  }
 ],
 "metadata": {
  "kernelspec": {
   "display_name": "Python 3",
   "language": "python",
   "name": "python3"
  },
  "language_info": {
   "codemirror_mode": {
    "name": "ipython",
    "version": 2
   },
   "file_extension": ".py",
   "mimetype": "text/x-python",
   "name": "python",
   "nbconvert_exporter": "python",
   "pygments_lexer": "ipython2",
   "version": "2.7.6"
  }
 },
 "nbformat": 4,
 "nbformat_minor": 5
}
