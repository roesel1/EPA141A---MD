{
 "cells": [
  {
   "cell_type": "markdown",
   "source": [
    "## Used packages"
   ],
   "metadata": {
    "collapsed": false
   },
   "id": "a64a95d8543fa391"
  },
  {
   "cell_type": "code",
   "source": [
    "import numpy as np\n",
    "import scipy as sp\n",
    "import pandas as pd\n",
    "import matplotlib.pyplot as plt\n",
    "import seaborn as sns\n",
    "import networkx as nx\n",
    "from SALib.analyze import sobol\n",
    "import warnings\n",
    "from ema_workbench.analysis import feature_scoring\n",
    "from ema_workbench.em_framework.salib_samplers import get_SALib_problem\n",
    "from ema_workbench import (\n",
    "    Model,\n",
    "    Policy,\n",
    "    ema_logging,\n",
    "    SequentialEvaluator,\n",
    "    MultiprocessingEvaluator,\n",
    "    perform_experiments,\n",
    "    Samplers,\n",
    "    SequentialEvaluator,\n",
    ")\n",
    "from dike_model_function import DikeNetwork \n",
    "from problem_formulation import get_model_for_problem_formulation, sum_over, sum_over_time\n",
    "from ema_workbench.analysis import prim\n",
    "from ema_workbench.em_framework.parameters import Constant\n",
    "import pickle\n",
    "warnings.filterwarnings(\"ignore\")"
   ],
   "metadata": {
    "collapsed": false,
    "ExecuteTime": {
     "end_time": "2024-06-20T21:12:40.060715Z",
     "start_time": "2024-06-20T21:12:40.054827Z"
    }
   },
   "id": "bcb386eddf7046c8",
   "outputs": [],
   "execution_count": 7
  },
  {
   "cell_type": "markdown",
   "source": [
    "## Creating samples LHC "
   ],
   "metadata": {
    "collapsed": false
   },
   "id": "2b1f1ac8dc9fdaee"
  },
  {
   "cell_type": "code",
   "source": [
    "# Create an instance of the model which is usable with the EMA workbench\n",
    "dike_model, planning_steps = get_model_for_problem_formulation(6)"
   ],
   "metadata": {
    "collapsed": false,
    "ExecuteTime": {
     "end_time": "2024-06-17T22:54:45.585647Z",
     "start_time": "2024-06-17T22:54:44.961427Z"
    }
   },
   "id": "f239e34b818df7bf",
   "outputs": [],
   "execution_count": 2
  },
  {
   "cell_type": "code",
   "source": [
    "zero_policy = {\"DaysToThreat\": 0}\n",
    "zero_policy.update({f\"DikeIncrease {n}\": 0 for n in planning_steps})\n",
    "zero_policy.update({f\"RfR {n}\": 0 for n in planning_steps})\n",
    "\n",
    "pol0 = {}\n",
    "\n",
    "for key in dike_model.levers:\n",
    "    s1, s2 = key.name.split(\"_\")\n",
    "    pol0.update({key.name: zero_policy[s2]})\n",
    "\n",
    "policy0 = Policy(\"Policy 0\", **pol0)"
   ],
   "metadata": {
    "collapsed": false,
    "ExecuteTime": {
     "end_time": "2024-06-17T22:54:45.593371Z",
     "start_time": "2024-06-17T22:54:45.586678Z"
    }
   },
   "id": "2082b5d7c31f475a",
   "outputs": [],
   "execution_count": 3
  },
  {
   "cell_type": "code",
   "source": [
    "with MultiprocessingEvaluator(dike_model) as evaluator:\n",
    "    results = evaluator.perform_experiments(scenarios=50000,policies=policy0,uncertainty_sampling=Samplers.LHS)\n",
    "#n_processes=-1\n",
    "experiments, outcomes = results"
   ],
   "metadata": {
    "collapsed": false,
    "ExecuteTime": {
     "end_time": "2024-06-18T00:38:40.089773Z",
     "start_time": "2024-06-17T22:54:45.595370Z"
    }
   },
   "id": "cc0ef901211fa9bd",
   "outputs": [
    {
     "name": "stderr",
     "output_type": "stream",
     "text": [
      "100%|██████████████████████████████████| 50000/50000 [1:43:39<00:00,  8.04it/s]\n"
     ]
    }
   ],
   "execution_count": 4
  },
  {
   "metadata": {
    "ExecuteTime": {
     "end_time": "2024-06-18T06:42:43.935841Z",
     "start_time": "2024-06-18T06:42:43.895414Z"
    }
   },
   "cell_type": "code",
   "source": [
    "results"
   ],
   "id": "a7998126c64d8834",
   "outputs": [
    {
     "data": {
      "text/plain": [
       "       A.0_ID flood wave shape    A.1_Bmax A.1_Brate  A.1_pfail    A.2_Bmax  \\\n",
       "0                           78  312.174908       1.5   0.486568   86.747959   \n",
       "1                           89  167.883514       1.5   0.359277   74.537730   \n",
       "2                           95  204.758644      10.0   0.503197  229.403999   \n",
       "3                           76  325.471215       1.0   0.956458  211.703095   \n",
       "4                            2  221.275394      10.0   0.826003   61.289278   \n",
       "...                        ...         ...       ...        ...         ...   \n",
       "49995                      107   66.818467      10.0   0.853657  338.100705   \n",
       "49996                      108  257.796133       1.5   0.234235   94.197761   \n",
       "49997                       37  115.420015       1.0   0.958291  239.158575   \n",
       "49998                       30  209.590833       1.5   0.863319  321.893039   \n",
       "49999                      116  271.077262      10.0   0.937964  343.793046   \n",
       "\n",
       "      A.2_Brate  A.2_pfail    A.3_Bmax A.3_Brate  A.3_pfail  ...  \\\n",
       "0           1.0   0.104007  172.571581      10.0   0.499883  ...   \n",
       "1           1.5   0.541884  269.683483      10.0   0.136011  ...   \n",
       "2          10.0   0.174505  140.676272      10.0   0.942274  ...   \n",
       "3           1.5   0.997940   65.024443      10.0   0.098180  ...   \n",
       "4           1.0   0.282772   90.492187       1.0   0.352420  ...   \n",
       "...         ...        ...         ...       ...        ...  ...   \n",
       "49995       1.0   0.088704   90.954800      10.0   0.465786  ...   \n",
       "49996       1.5   0.983524  148.586177      10.0   0.080657  ...   \n",
       "49997       1.0   0.089588   42.183402      10.0   0.753732  ...   \n",
       "49998       1.0   0.934903  115.567330       1.5   0.024837  ...   \n",
       "49999       1.5   0.294746  206.842051      10.0   0.429812  ...   \n",
       "\n",
       "       A.3_DikeIncrease 2 A.4_DikeIncrease 0  A.4_DikeIncrease 1  \\\n",
       "0                       0                  0                   0   \n",
       "1                       0                  0                   0   \n",
       "2                       0                  0                   0   \n",
       "3                       0                  0                   0   \n",
       "4                       0                  0                   0   \n",
       "...                   ...                ...                 ...   \n",
       "49995                   0                  0                   0   \n",
       "49996                   0                  0                   0   \n",
       "49997                   0                  0                   0   \n",
       "49998                   0                  0                   0   \n",
       "49999                   0                  0                   0   \n",
       "\n",
       "       A.4_DikeIncrease 2 A.5_DikeIncrease 0  A.5_DikeIncrease 1  \\\n",
       "0                       0                  0                   0   \n",
       "1                       0                  0                   0   \n",
       "2                       0                  0                   0   \n",
       "3                       0                  0                   0   \n",
       "4                       0                  0                   0   \n",
       "...                   ...                ...                 ...   \n",
       "49995                   0                  0                   0   \n",
       "49996                   0                  0                   0   \n",
       "49997                   0                  0                   0   \n",
       "49998                   0                  0                   0   \n",
       "49999                   0                  0                   0   \n",
       "\n",
       "      A.5_DikeIncrease 2 scenario    policy     model  \n",
       "0                      0        0  Policy 0  dikesnet  \n",
       "1                      0        1  Policy 0  dikesnet  \n",
       "2                      0        2  Policy 0  dikesnet  \n",
       "3                      0        3  Policy 0  dikesnet  \n",
       "4                      0        4  Policy 0  dikesnet  \n",
       "...                  ...      ...       ...       ...  \n",
       "49995                  0    49995  Policy 0  dikesnet  \n",
       "49996                  0    49996  Policy 0  dikesnet  \n",
       "49997                  0    49997  Policy 0  dikesnet  \n",
       "49998                  0    49998  Policy 0  dikesnet  \n",
       "49999                  0    49999  Policy 0  dikesnet  \n",
       "\n",
       "[50000 rows x 53 columns]"
      ],
      "text/html": [
       "<div>\n",
       "<style scoped>\n",
       "    .dataframe tbody tr th:only-of-type {\n",
       "        vertical-align: middle;\n",
       "    }\n",
       "\n",
       "    .dataframe tbody tr th {\n",
       "        vertical-align: top;\n",
       "    }\n",
       "\n",
       "    .dataframe thead th {\n",
       "        text-align: right;\n",
       "    }\n",
       "</style>\n",
       "<table border=\"1\" class=\"dataframe\">\n",
       "  <thead>\n",
       "    <tr style=\"text-align: right;\">\n",
       "      <th></th>\n",
       "      <th>A.0_ID flood wave shape</th>\n",
       "      <th>A.1_Bmax</th>\n",
       "      <th>A.1_Brate</th>\n",
       "      <th>A.1_pfail</th>\n",
       "      <th>A.2_Bmax</th>\n",
       "      <th>A.2_Brate</th>\n",
       "      <th>A.2_pfail</th>\n",
       "      <th>A.3_Bmax</th>\n",
       "      <th>A.3_Brate</th>\n",
       "      <th>A.3_pfail</th>\n",
       "      <th>...</th>\n",
       "      <th>A.3_DikeIncrease 2</th>\n",
       "      <th>A.4_DikeIncrease 0</th>\n",
       "      <th>A.4_DikeIncrease 1</th>\n",
       "      <th>A.4_DikeIncrease 2</th>\n",
       "      <th>A.5_DikeIncrease 0</th>\n",
       "      <th>A.5_DikeIncrease 1</th>\n",
       "      <th>A.5_DikeIncrease 2</th>\n",
       "      <th>scenario</th>\n",
       "      <th>policy</th>\n",
       "      <th>model</th>\n",
       "    </tr>\n",
       "  </thead>\n",
       "  <tbody>\n",
       "    <tr>\n",
       "      <th>0</th>\n",
       "      <td>78</td>\n",
       "      <td>312.174908</td>\n",
       "      <td>1.5</td>\n",
       "      <td>0.486568</td>\n",
       "      <td>86.747959</td>\n",
       "      <td>1.0</td>\n",
       "      <td>0.104007</td>\n",
       "      <td>172.571581</td>\n",
       "      <td>10.0</td>\n",
       "      <td>0.499883</td>\n",
       "      <td>...</td>\n",
       "      <td>0</td>\n",
       "      <td>0</td>\n",
       "      <td>0</td>\n",
       "      <td>0</td>\n",
       "      <td>0</td>\n",
       "      <td>0</td>\n",
       "      <td>0</td>\n",
       "      <td>0</td>\n",
       "      <td>Policy 0</td>\n",
       "      <td>dikesnet</td>\n",
       "    </tr>\n",
       "    <tr>\n",
       "      <th>1</th>\n",
       "      <td>89</td>\n",
       "      <td>167.883514</td>\n",
       "      <td>1.5</td>\n",
       "      <td>0.359277</td>\n",
       "      <td>74.537730</td>\n",
       "      <td>1.5</td>\n",
       "      <td>0.541884</td>\n",
       "      <td>269.683483</td>\n",
       "      <td>10.0</td>\n",
       "      <td>0.136011</td>\n",
       "      <td>...</td>\n",
       "      <td>0</td>\n",
       "      <td>0</td>\n",
       "      <td>0</td>\n",
       "      <td>0</td>\n",
       "      <td>0</td>\n",
       "      <td>0</td>\n",
       "      <td>0</td>\n",
       "      <td>1</td>\n",
       "      <td>Policy 0</td>\n",
       "      <td>dikesnet</td>\n",
       "    </tr>\n",
       "    <tr>\n",
       "      <th>2</th>\n",
       "      <td>95</td>\n",
       "      <td>204.758644</td>\n",
       "      <td>10.0</td>\n",
       "      <td>0.503197</td>\n",
       "      <td>229.403999</td>\n",
       "      <td>10.0</td>\n",
       "      <td>0.174505</td>\n",
       "      <td>140.676272</td>\n",
       "      <td>10.0</td>\n",
       "      <td>0.942274</td>\n",
       "      <td>...</td>\n",
       "      <td>0</td>\n",
       "      <td>0</td>\n",
       "      <td>0</td>\n",
       "      <td>0</td>\n",
       "      <td>0</td>\n",
       "      <td>0</td>\n",
       "      <td>0</td>\n",
       "      <td>2</td>\n",
       "      <td>Policy 0</td>\n",
       "      <td>dikesnet</td>\n",
       "    </tr>\n",
       "    <tr>\n",
       "      <th>3</th>\n",
       "      <td>76</td>\n",
       "      <td>325.471215</td>\n",
       "      <td>1.0</td>\n",
       "      <td>0.956458</td>\n",
       "      <td>211.703095</td>\n",
       "      <td>1.5</td>\n",
       "      <td>0.997940</td>\n",
       "      <td>65.024443</td>\n",
       "      <td>10.0</td>\n",
       "      <td>0.098180</td>\n",
       "      <td>...</td>\n",
       "      <td>0</td>\n",
       "      <td>0</td>\n",
       "      <td>0</td>\n",
       "      <td>0</td>\n",
       "      <td>0</td>\n",
       "      <td>0</td>\n",
       "      <td>0</td>\n",
       "      <td>3</td>\n",
       "      <td>Policy 0</td>\n",
       "      <td>dikesnet</td>\n",
       "    </tr>\n",
       "    <tr>\n",
       "      <th>4</th>\n",
       "      <td>2</td>\n",
       "      <td>221.275394</td>\n",
       "      <td>10.0</td>\n",
       "      <td>0.826003</td>\n",
       "      <td>61.289278</td>\n",
       "      <td>1.0</td>\n",
       "      <td>0.282772</td>\n",
       "      <td>90.492187</td>\n",
       "      <td>1.0</td>\n",
       "      <td>0.352420</td>\n",
       "      <td>...</td>\n",
       "      <td>0</td>\n",
       "      <td>0</td>\n",
       "      <td>0</td>\n",
       "      <td>0</td>\n",
       "      <td>0</td>\n",
       "      <td>0</td>\n",
       "      <td>0</td>\n",
       "      <td>4</td>\n",
       "      <td>Policy 0</td>\n",
       "      <td>dikesnet</td>\n",
       "    </tr>\n",
       "    <tr>\n",
       "      <th>...</th>\n",
       "      <td>...</td>\n",
       "      <td>...</td>\n",
       "      <td>...</td>\n",
       "      <td>...</td>\n",
       "      <td>...</td>\n",
       "      <td>...</td>\n",
       "      <td>...</td>\n",
       "      <td>...</td>\n",
       "      <td>...</td>\n",
       "      <td>...</td>\n",
       "      <td>...</td>\n",
       "      <td>...</td>\n",
       "      <td>...</td>\n",
       "      <td>...</td>\n",
       "      <td>...</td>\n",
       "      <td>...</td>\n",
       "      <td>...</td>\n",
       "      <td>...</td>\n",
       "      <td>...</td>\n",
       "      <td>...</td>\n",
       "      <td>...</td>\n",
       "    </tr>\n",
       "    <tr>\n",
       "      <th>49995</th>\n",
       "      <td>107</td>\n",
       "      <td>66.818467</td>\n",
       "      <td>10.0</td>\n",
       "      <td>0.853657</td>\n",
       "      <td>338.100705</td>\n",
       "      <td>1.0</td>\n",
       "      <td>0.088704</td>\n",
       "      <td>90.954800</td>\n",
       "      <td>10.0</td>\n",
       "      <td>0.465786</td>\n",
       "      <td>...</td>\n",
       "      <td>0</td>\n",
       "      <td>0</td>\n",
       "      <td>0</td>\n",
       "      <td>0</td>\n",
       "      <td>0</td>\n",
       "      <td>0</td>\n",
       "      <td>0</td>\n",
       "      <td>49995</td>\n",
       "      <td>Policy 0</td>\n",
       "      <td>dikesnet</td>\n",
       "    </tr>\n",
       "    <tr>\n",
       "      <th>49996</th>\n",
       "      <td>108</td>\n",
       "      <td>257.796133</td>\n",
       "      <td>1.5</td>\n",
       "      <td>0.234235</td>\n",
       "      <td>94.197761</td>\n",
       "      <td>1.5</td>\n",
       "      <td>0.983524</td>\n",
       "      <td>148.586177</td>\n",
       "      <td>10.0</td>\n",
       "      <td>0.080657</td>\n",
       "      <td>...</td>\n",
       "      <td>0</td>\n",
       "      <td>0</td>\n",
       "      <td>0</td>\n",
       "      <td>0</td>\n",
       "      <td>0</td>\n",
       "      <td>0</td>\n",
       "      <td>0</td>\n",
       "      <td>49996</td>\n",
       "      <td>Policy 0</td>\n",
       "      <td>dikesnet</td>\n",
       "    </tr>\n",
       "    <tr>\n",
       "      <th>49997</th>\n",
       "      <td>37</td>\n",
       "      <td>115.420015</td>\n",
       "      <td>1.0</td>\n",
       "      <td>0.958291</td>\n",
       "      <td>239.158575</td>\n",
       "      <td>1.0</td>\n",
       "      <td>0.089588</td>\n",
       "      <td>42.183402</td>\n",
       "      <td>10.0</td>\n",
       "      <td>0.753732</td>\n",
       "      <td>...</td>\n",
       "      <td>0</td>\n",
       "      <td>0</td>\n",
       "      <td>0</td>\n",
       "      <td>0</td>\n",
       "      <td>0</td>\n",
       "      <td>0</td>\n",
       "      <td>0</td>\n",
       "      <td>49997</td>\n",
       "      <td>Policy 0</td>\n",
       "      <td>dikesnet</td>\n",
       "    </tr>\n",
       "    <tr>\n",
       "      <th>49998</th>\n",
       "      <td>30</td>\n",
       "      <td>209.590833</td>\n",
       "      <td>1.5</td>\n",
       "      <td>0.863319</td>\n",
       "      <td>321.893039</td>\n",
       "      <td>1.0</td>\n",
       "      <td>0.934903</td>\n",
       "      <td>115.567330</td>\n",
       "      <td>1.5</td>\n",
       "      <td>0.024837</td>\n",
       "      <td>...</td>\n",
       "      <td>0</td>\n",
       "      <td>0</td>\n",
       "      <td>0</td>\n",
       "      <td>0</td>\n",
       "      <td>0</td>\n",
       "      <td>0</td>\n",
       "      <td>0</td>\n",
       "      <td>49998</td>\n",
       "      <td>Policy 0</td>\n",
       "      <td>dikesnet</td>\n",
       "    </tr>\n",
       "    <tr>\n",
       "      <th>49999</th>\n",
       "      <td>116</td>\n",
       "      <td>271.077262</td>\n",
       "      <td>10.0</td>\n",
       "      <td>0.937964</td>\n",
       "      <td>343.793046</td>\n",
       "      <td>1.5</td>\n",
       "      <td>0.294746</td>\n",
       "      <td>206.842051</td>\n",
       "      <td>10.0</td>\n",
       "      <td>0.429812</td>\n",
       "      <td>...</td>\n",
       "      <td>0</td>\n",
       "      <td>0</td>\n",
       "      <td>0</td>\n",
       "      <td>0</td>\n",
       "      <td>0</td>\n",
       "      <td>0</td>\n",
       "      <td>0</td>\n",
       "      <td>49999</td>\n",
       "      <td>Policy 0</td>\n",
       "      <td>dikesnet</td>\n",
       "    </tr>\n",
       "  </tbody>\n",
       "</table>\n",
       "<p>50000 rows × 53 columns</p>\n",
       "</div>"
      ]
     },
     "execution_count": 22,
     "metadata": {},
     "output_type": "execute_result"
    }
   ],
   "execution_count": 22
  },
  {
   "metadata": {
    "ExecuteTime": {
     "end_time": "2024-06-18T06:44:09.534575Z",
     "start_time": "2024-06-18T06:44:09.530653Z"
    }
   },
   "cell_type": "code",
   "source": [
    "import pickle"
   ],
   "id": "547b493a75cb8931",
   "outputs": [],
   "execution_count": 24
  },
  {
   "metadata": {
    "ExecuteTime": {
     "end_time": "2024-06-18T06:44:12.017216Z",
     "start_time": "2024-06-18T06:44:11.995968Z"
    }
   },
   "cell_type": "code",
   "source": [
    "# Serialize the object to a binary format\n",
    "with open('./data/LHS_Scen_result.pkl', 'wb') as file:\n",
    "    pickle.dump(results, file)"
   ],
   "id": "22e838649696fa39",
   "outputs": [],
   "execution_count": 25
  },
  {
   "metadata": {
    "ExecuteTime": {
     "end_time": "2024-06-18T06:45:32.980042Z",
     "start_time": "2024-06-18T06:45:32.954696Z"
    }
   },
   "cell_type": "code",
   "source": [
    "with open('./data/LHS_Scen_result.pkl', 'rb') as file:\n",
    "    loaded_data = pickle.load(file)\n",
    "\n",
    "display(pd.DataFrame(loaded_data[1]))"
   ],
   "id": "f2f522c279cc01d5",
   "outputs": [
    {
     "data": {
      "text/plain": [
       "       A.5_Expected Number of Deaths  A.5_Expected Annual Damage  \\\n",
       "0                           0.000000                0.000000e+00   \n",
       "1                           0.000000                0.000000e+00   \n",
       "2                           0.000000                0.000000e+00   \n",
       "3                           0.019086                1.914485e+07   \n",
       "4                           0.000000                0.000000e+00   \n",
       "...                              ...                         ...   \n",
       "49995                       0.000000                0.000000e+00   \n",
       "49996                       0.000000                0.000000e+00   \n",
       "49997                       0.000000                0.000000e+00   \n",
       "49998                       0.000000                0.000000e+00   \n",
       "49999                       0.087287                1.050062e+08   \n",
       "\n",
       "       Expected Evacuation Costs  Expected Annual Damage  \\\n",
       "0                            0.0            1.087670e+09   \n",
       "1                            0.0            4.126485e+09   \n",
       "2                            0.0            5.951185e+08   \n",
       "3                            0.0            1.927123e+09   \n",
       "4                            0.0            8.977676e+08   \n",
       "...                          ...                     ...   \n",
       "49995                        0.0            7.873950e+08   \n",
       "49996                        0.0            3.195704e+09   \n",
       "49997                        0.0            7.437879e+08   \n",
       "49998                        0.0            1.551976e+09   \n",
       "49999                        0.0            4.445995e+08   \n",
       "\n",
       "       Total Investment Costs  Expected Number of Deaths  \n",
       "0                         0.0                   0.827143  \n",
       "1                         0.0                   4.709964  \n",
       "2                         0.0                   0.556084  \n",
       "3                         0.0                   3.588983  \n",
       "4                         0.0                   1.164733  \n",
       "...                       ...                        ...  \n",
       "49995                     0.0                   0.683016  \n",
       "49996                     0.0                   2.934914  \n",
       "49997                     0.0                   0.768604  \n",
       "49998                     0.0                   3.590867  \n",
       "49999                     0.0                   0.507448  \n",
       "\n",
       "[50000 rows x 6 columns]"
      ],
      "text/html": [
       "<div>\n",
       "<style scoped>\n",
       "    .dataframe tbody tr th:only-of-type {\n",
       "        vertical-align: middle;\n",
       "    }\n",
       "\n",
       "    .dataframe tbody tr th {\n",
       "        vertical-align: top;\n",
       "    }\n",
       "\n",
       "    .dataframe thead th {\n",
       "        text-align: right;\n",
       "    }\n",
       "</style>\n",
       "<table border=\"1\" class=\"dataframe\">\n",
       "  <thead>\n",
       "    <tr style=\"text-align: right;\">\n",
       "      <th></th>\n",
       "      <th>A.5_Expected Number of Deaths</th>\n",
       "      <th>A.5_Expected Annual Damage</th>\n",
       "      <th>Expected Evacuation Costs</th>\n",
       "      <th>Expected Annual Damage</th>\n",
       "      <th>Total Investment Costs</th>\n",
       "      <th>Expected Number of Deaths</th>\n",
       "    </tr>\n",
       "  </thead>\n",
       "  <tbody>\n",
       "    <tr>\n",
       "      <th>0</th>\n",
       "      <td>0.000000</td>\n",
       "      <td>0.000000e+00</td>\n",
       "      <td>0.0</td>\n",
       "      <td>1.087670e+09</td>\n",
       "      <td>0.0</td>\n",
       "      <td>0.827143</td>\n",
       "    </tr>\n",
       "    <tr>\n",
       "      <th>1</th>\n",
       "      <td>0.000000</td>\n",
       "      <td>0.000000e+00</td>\n",
       "      <td>0.0</td>\n",
       "      <td>4.126485e+09</td>\n",
       "      <td>0.0</td>\n",
       "      <td>4.709964</td>\n",
       "    </tr>\n",
       "    <tr>\n",
       "      <th>2</th>\n",
       "      <td>0.000000</td>\n",
       "      <td>0.000000e+00</td>\n",
       "      <td>0.0</td>\n",
       "      <td>5.951185e+08</td>\n",
       "      <td>0.0</td>\n",
       "      <td>0.556084</td>\n",
       "    </tr>\n",
       "    <tr>\n",
       "      <th>3</th>\n",
       "      <td>0.019086</td>\n",
       "      <td>1.914485e+07</td>\n",
       "      <td>0.0</td>\n",
       "      <td>1.927123e+09</td>\n",
       "      <td>0.0</td>\n",
       "      <td>3.588983</td>\n",
       "    </tr>\n",
       "    <tr>\n",
       "      <th>4</th>\n",
       "      <td>0.000000</td>\n",
       "      <td>0.000000e+00</td>\n",
       "      <td>0.0</td>\n",
       "      <td>8.977676e+08</td>\n",
       "      <td>0.0</td>\n",
       "      <td>1.164733</td>\n",
       "    </tr>\n",
       "    <tr>\n",
       "      <th>...</th>\n",
       "      <td>...</td>\n",
       "      <td>...</td>\n",
       "      <td>...</td>\n",
       "      <td>...</td>\n",
       "      <td>...</td>\n",
       "      <td>...</td>\n",
       "    </tr>\n",
       "    <tr>\n",
       "      <th>49995</th>\n",
       "      <td>0.000000</td>\n",
       "      <td>0.000000e+00</td>\n",
       "      <td>0.0</td>\n",
       "      <td>7.873950e+08</td>\n",
       "      <td>0.0</td>\n",
       "      <td>0.683016</td>\n",
       "    </tr>\n",
       "    <tr>\n",
       "      <th>49996</th>\n",
       "      <td>0.000000</td>\n",
       "      <td>0.000000e+00</td>\n",
       "      <td>0.0</td>\n",
       "      <td>3.195704e+09</td>\n",
       "      <td>0.0</td>\n",
       "      <td>2.934914</td>\n",
       "    </tr>\n",
       "    <tr>\n",
       "      <th>49997</th>\n",
       "      <td>0.000000</td>\n",
       "      <td>0.000000e+00</td>\n",
       "      <td>0.0</td>\n",
       "      <td>7.437879e+08</td>\n",
       "      <td>0.0</td>\n",
       "      <td>0.768604</td>\n",
       "    </tr>\n",
       "    <tr>\n",
       "      <th>49998</th>\n",
       "      <td>0.000000</td>\n",
       "      <td>0.000000e+00</td>\n",
       "      <td>0.0</td>\n",
       "      <td>1.551976e+09</td>\n",
       "      <td>0.0</td>\n",
       "      <td>3.590867</td>\n",
       "    </tr>\n",
       "    <tr>\n",
       "      <th>49999</th>\n",
       "      <td>0.087287</td>\n",
       "      <td>1.050062e+08</td>\n",
       "      <td>0.0</td>\n",
       "      <td>4.445995e+08</td>\n",
       "      <td>0.0</td>\n",
       "      <td>0.507448</td>\n",
       "    </tr>\n",
       "  </tbody>\n",
       "</table>\n",
       "<p>50000 rows × 6 columns</p>\n",
       "</div>"
      ]
     },
     "metadata": {},
     "output_type": "display_data"
    }
   ],
   "execution_count": 30
  },
  {
   "cell_type": "markdown",
   "source": [
    "## Preprocess data samples LHC "
   ],
   "metadata": {
    "collapsed": false
   },
   "id": "83fb7b89d65eb00f"
  },
  {
   "cell_type": "code",
   "source": [
    "experiments_unc =experiments.iloc[:,0:19]\n",
    "df = pd.DataFrame(outcomes) "
   ],
   "metadata": {
    "collapsed": false,
    "ExecuteTime": {
     "end_time": "2024-06-18T00:38:40.099757Z",
     "start_time": "2024-06-18T00:38:40.090774Z"
    }
   },
   "id": "1f3c674b3db60ff6",
   "outputs": [],
   "execution_count": 5
  },
  {
   "cell_type": "code",
   "source": [
    "# df[\"Expected Annual Damage\"] = df[\"A.1_Expected Annual Damage\"] + df[\"A.2_Expected Annual Damage\"] + df[\"A.3_Expected Annual Damage\"] + df[\"A.4_Expected Annual Damage\"] + df[\"A.5_Expected Annual Damage\"]\n",
    "# df[\"Expected Number of Deaths\"] = df[\"A.1_Expected Number of Deaths\"] + df[\"A.2_Expected Number of Deaths\"] + df[\"A.3_Expected Number of Deaths\"] + df[\"A.4_Expected Number of Deaths\"] + df[\"A.5_Expected Number of Deaths\"]"
   ],
   "metadata": {
    "collapsed": false,
    "ExecuteTime": {
     "end_time": "2024-06-18T00:38:40.107135Z",
     "start_time": "2024-06-18T00:38:40.101756Z"
    }
   },
   "id": "aadf6afe9a4a5a76",
   "outputs": [],
   "execution_count": 6
  },
  {
   "cell_type": "code",
   "source": [
    "# df_feature_importance_out = df[[\"Expected Evacuation Costs\",\"Expected Annual Damage\", \"Expected Number of Deaths\",\"A.5_Expected Number of Deaths\",\"A.5_Expected Annual Damage\",\"Expected Evacuation Costs\"]]"
   ],
   "metadata": {
    "collapsed": false,
    "ExecuteTime": {
     "end_time": "2024-06-18T00:38:40.113567Z",
     "start_time": "2024-06-18T00:38:40.108135Z"
    }
   },
   "id": "c4725ebacba5d9a7",
   "outputs": [],
   "execution_count": 7
  },
  {
   "cell_type": "markdown",
   "source": [
    "## Feature importance"
   ],
   "metadata": {
    "collapsed": false
   },
   "id": "ac508848b051bc74"
  },
  {
   "cell_type": "markdown",
   "source": [],
   "metadata": {
    "collapsed": false
   },
   "id": "52f7d130af9174c3"
  },
  {
   "cell_type": "code",
   "source": [
    "x = experiments_unc\n",
    "y = df\n",
    "\n",
    "fs = feature_scoring.get_feature_scores_all(x, y,)\n",
    "sns.heatmap(fs, cmap=\"viridis\", annot=True,vmin=0.04)\n",
    "plt.show()"
   ],
   "metadata": {
    "collapsed": false,
    "ExecuteTime": {
     "end_time": "2024-06-18T00:38:57.440762Z",
     "start_time": "2024-06-18T00:38:40.114569Z"
    }
   },
   "id": "e8415fad6b3d9dfa",
   "outputs": [
    {
     "data": {
      "text/plain": [
       "<Figure size 640x480 with 2 Axes>"
      ],
      "image/png": "[encoded data removed]"
     },
     "metadata": {},
     "output_type": "display_data"
    }
   ],
   "execution_count": 8
  },
  {
   "cell_type": "code",
   "source": [
    "from ema_workbench.analysis import RuleInductionType\n",
    "\n",
    "\n",
    "y = (\n",
    "    (df[\"A.5_Expected Number of Deaths\"] > list(np.sort(df[\"A.5_Expected Number of Deaths\"]))[np.int64(0.80* len(df[\"A.5_Expected Number of Deaths\"]))])\n",
    "    |\n",
    "    (df['A.5_Expected Annual Damage'] > list(np.sort(df['A.5_Expected Annual Damage']))[np.int64(0.8* len(df['A.5_Expected Annual Damage']))])\n",
    "     )\n",
    "\n",
    "fs, alg = feature_scoring.get_ex_feature_scores(x, y, mode=RuleInductionType.CLASSIFICATION)\n",
    "fs.sort_values(ascending=False, by=1)"
   ],
   "metadata": {
    "collapsed": false,
    "ExecuteTime": {
     "end_time": "2024-06-18T00:39:00.934198Z",
     "start_time": "2024-06-18T00:38:57.441763Z"
    }
   },
   "id": "c051e158dcad8913",
   "outputs": [
    {
     "data": {
      "text/plain": [
       "                                1\n",
       "0                                \n",
       "A.5_pfail                0.525045\n",
       "A.3_pfail                0.119422\n",
       "A.2_pfail                0.081836\n",
       "A.1_pfail                0.078015\n",
       "A.4_pfail                0.056990\n",
       "A.1_Bmax                 0.035610\n",
       "A.2_Bmax                 0.011984\n",
       "A.3_Bmax                 0.011402\n",
       "A.5_Brate                0.007859\n",
       "A.4_Brate                0.007699\n",
       "A.1_Brate                0.007683\n",
       "A.2_Brate                0.007632\n",
       "A.3_Brate                0.007605\n",
       "discount rate 2          0.007485\n",
       "discount rate 0          0.007481\n",
       "discount rate 1          0.007243\n",
       "A.0_ID flood wave shape  0.006437\n",
       "A.4_Bmax                 0.006424\n",
       "A.5_Bmax                 0.006145"
      ],
      "text/html": [
       "<div>\n",
       "<style scoped>\n",
       "    .dataframe tbody tr th:only-of-type {\n",
       "        vertical-align: middle;\n",
       "    }\n",
       "\n",
       "    .dataframe tbody tr th {\n",
       "        vertical-align: top;\n",
       "    }\n",
       "\n",
       "    .dataframe thead th {\n",
       "        text-align: right;\n",
       "    }\n",
       "</style>\n",
       "<table border=\"1\" class=\"dataframe\">\n",
       "  <thead>\n",
       "    <tr style=\"text-align: right;\">\n",
       "      <th></th>\n",
       "      <th>1</th>\n",
       "    </tr>\n",
       "    <tr>\n",
       "      <th>0</th>\n",
       "      <th></th>\n",
       "    </tr>\n",
       "  </thead>\n",
       "  <tbody>\n",
       "    <tr>\n",
       "      <th>A.5_pfail</th>\n",
       "      <td>0.525045</td>\n",
       "    </tr>\n",
       "    <tr>\n",
       "      <th>A.3_pfail</th>\n",
       "      <td>0.119422</td>\n",
       "    </tr>\n",
       "    <tr>\n",
       "      <th>A.2_pfail</th>\n",
       "      <td>0.081836</td>\n",
       "    </tr>\n",
       "    <tr>\n",
       "      <th>A.1_pfail</th>\n",
       "      <td>0.078015</td>\n",
       "    </tr>\n",
       "    <tr>\n",
       "      <th>A.4_pfail</th>\n",
       "      <td>0.056990</td>\n",
       "    </tr>\n",
       "    <tr>\n",
       "      <th>A.1_Bmax</th>\n",
       "      <td>0.035610</td>\n",
       "    </tr>\n",
       "    <tr>\n",
       "      <th>A.2_Bmax</th>\n",
       "      <td>0.011984</td>\n",
       "    </tr>\n",
       "    <tr>\n",
       "      <th>A.3_Bmax</th>\n",
       "      <td>0.011402</td>\n",
       "    </tr>\n",
       "    <tr>\n",
       "      <th>A.5_Brate</th>\n",
       "      <td>0.007859</td>\n",
       "    </tr>\n",
       "    <tr>\n",
       "      <th>A.4_Brate</th>\n",
       "      <td>0.007699</td>\n",
       "    </tr>\n",
       "    <tr>\n",
       "      <th>A.1_Brate</th>\n",
       "      <td>0.007683</td>\n",
       "    </tr>\n",
       "    <tr>\n",
       "      <th>A.2_Brate</th>\n",
       "      <td>0.007632</td>\n",
       "    </tr>\n",
       "    <tr>\n",
       "      <th>A.3_Brate</th>\n",
       "      <td>0.007605</td>\n",
       "    </tr>\n",
       "    <tr>\n",
       "      <th>discount rate 2</th>\n",
       "      <td>0.007485</td>\n",
       "    </tr>\n",
       "    <tr>\n",
       "      <th>discount rate 0</th>\n",
       "      <td>0.007481</td>\n",
       "    </tr>\n",
       "    <tr>\n",
       "      <th>discount rate 1</th>\n",
       "      <td>0.007243</td>\n",
       "    </tr>\n",
       "    <tr>\n",
       "      <th>A.0_ID flood wave shape</th>\n",
       "      <td>0.006437</td>\n",
       "    </tr>\n",
       "    <tr>\n",
       "      <th>A.4_Bmax</th>\n",
       "      <td>0.006424</td>\n",
       "    </tr>\n",
       "    <tr>\n",
       "      <th>A.5_Bmax</th>\n",
       "      <td>0.006145</td>\n",
       "    </tr>\n",
       "  </tbody>\n",
       "</table>\n",
       "</div>"
      ]
     },
     "execution_count": 9,
     "metadata": {},
     "output_type": "execute_result"
    }
   ],
   "execution_count": 9
  },
  {
   "cell_type": "code",
   "source": [
    "from ema_workbench.analysis import RuleInductionType\n",
    "\n",
    "\n",
    "y = (\n",
    "    (df['Expected Number of Deaths'] > list(np.sort(df[\"Expected Number of Deaths\"]))[int(0.8* len(df['Expected Number of Deaths']))])\n",
    "    |(df['Expected Annual Damage'] > list(np.sort(df[\"Expected Annual Damage\"]))[int(0.8* len(df['Expected Annual Damage']))])\n",
    "     )\n",
    "\n",
    "fs, alg = feature_scoring.get_ex_feature_scores(x, y, mode=RuleInductionType.CLASSIFICATION)\n",
    "fs.sort_values(ascending=False, by=1)"
   ],
   "metadata": {
    "collapsed": false,
    "ExecuteTime": {
     "end_time": "2024-06-18T00:39:04.803195Z",
     "start_time": "2024-06-18T00:39:00.937194Z"
    }
   },
   "id": "f10a1213e8726ab3",
   "outputs": [
    {
     "data": {
      "text/plain": [
       "                                1\n",
       "0                                \n",
       "A.3_pfail                0.501724\n",
       "A.1_pfail                0.215233\n",
       "discount rate 2          0.058708\n",
       "discount rate 0          0.058580\n",
       "discount rate 1          0.057421\n",
       "A.1_Bmax                 0.019187\n",
       "A.2_pfail                0.011578\n",
       "A.5_pfail                0.007728\n",
       "A.3_Brate                0.007089\n",
       "A.5_Brate                0.007076\n",
       "A.1_Brate                0.006876\n",
       "A.2_Brate                0.006844\n",
       "A.4_Brate                0.006783\n",
       "A.2_Bmax                 0.005938\n",
       "A.5_Bmax                 0.005903\n",
       "A.0_ID flood wave shape  0.005892\n",
       "A.3_Bmax                 0.005862\n",
       "A.4_Bmax                 0.005825\n",
       "A.4_pfail                0.005754"
      ],
      "text/html": [
       "<div>\n",
       "<style scoped>\n",
       "    .dataframe tbody tr th:only-of-type {\n",
       "        vertical-align: middle;\n",
       "    }\n",
       "\n",
       "    .dataframe tbody tr th {\n",
       "        vertical-align: top;\n",
       "    }\n",
       "\n",
       "    .dataframe thead th {\n",
       "        text-align: right;\n",
       "    }\n",
       "</style>\n",
       "<table border=\"1\" class=\"dataframe\">\n",
       "  <thead>\n",
       "    <tr style=\"text-align: right;\">\n",
       "      <th></th>\n",
       "      <th>1</th>\n",
       "    </tr>\n",
       "    <tr>\n",
       "      <th>0</th>\n",
       "      <th></th>\n",
       "    </tr>\n",
       "  </thead>\n",
       "  <tbody>\n",
       "    <tr>\n",
       "      <th>A.3_pfail</th>\n",
       "      <td>0.501724</td>\n",
       "    </tr>\n",
       "    <tr>\n",
       "      <th>A.1_pfail</th>\n",
       "      <td>0.215233</td>\n",
       "    </tr>\n",
       "    <tr>\n",
       "      <th>discount rate 2</th>\n",
       "      <td>0.058708</td>\n",
       "    </tr>\n",
       "    <tr>\n",
       "      <th>discount rate 0</th>\n",
       "      <td>0.058580</td>\n",
       "    </tr>\n",
       "    <tr>\n",
       "      <th>discount rate 1</th>\n",
       "      <td>0.057421</td>\n",
       "    </tr>\n",
       "    <tr>\n",
       "      <th>A.1_Bmax</th>\n",
       "      <td>0.019187</td>\n",
       "    </tr>\n",
       "    <tr>\n",
       "      <th>A.2_pfail</th>\n",
       "      <td>0.011578</td>\n",
       "    </tr>\n",
       "    <tr>\n",
       "      <th>A.5_pfail</th>\n",
       "      <td>0.007728</td>\n",
       "    </tr>\n",
       "    <tr>\n",
       "      <th>A.3_Brate</th>\n",
       "      <td>0.007089</td>\n",
       "    </tr>\n",
       "    <tr>\n",
       "      <th>A.5_Brate</th>\n",
       "      <td>0.007076</td>\n",
       "    </tr>\n",
       "    <tr>\n",
       "      <th>A.1_Brate</th>\n",
       "      <td>0.006876</td>\n",
       "    </tr>\n",
       "    <tr>\n",
       "      <th>A.2_Brate</th>\n",
       "      <td>0.006844</td>\n",
       "    </tr>\n",
       "    <tr>\n",
       "      <th>A.4_Brate</th>\n",
       "      <td>0.006783</td>\n",
       "    </tr>\n",
       "    <tr>\n",
       "      <th>A.2_Bmax</th>\n",
       "      <td>0.005938</td>\n",
       "    </tr>\n",
       "    <tr>\n",
       "      <th>A.5_Bmax</th>\n",
       "      <td>0.005903</td>\n",
       "    </tr>\n",
       "    <tr>\n",
       "      <th>A.0_ID flood wave shape</th>\n",
       "      <td>0.005892</td>\n",
       "    </tr>\n",
       "    <tr>\n",
       "      <th>A.3_Bmax</th>\n",
       "      <td>0.005862</td>\n",
       "    </tr>\n",
       "    <tr>\n",
       "      <th>A.4_Bmax</th>\n",
       "      <td>0.005825</td>\n",
       "    </tr>\n",
       "    <tr>\n",
       "      <th>A.4_pfail</th>\n",
       "      <td>0.005754</td>\n",
       "    </tr>\n",
       "  </tbody>\n",
       "</table>\n",
       "</div>"
      ]
     },
     "execution_count": 10,
     "metadata": {},
     "output_type": "execute_result"
    }
   ],
   "execution_count": 10
  },
  {
   "cell_type": "code",
   "source": [
    "from ema_workbench.analysis import RuleInductionType\n",
    "\n",
    "\n",
    "y = (\n",
    "    (df[\"Expected Evacuation Costs\"] > list(np.sort(df[\"Expected Evacuation Costs\"]))[np.int64(0.80* len(df[\"Expected Evacuation Costs\"]))])\n",
    "     )\n",
    "\n",
    "fs, alg = feature_scoring.get_ex_feature_scores(x, y, mode=RuleInductionType.CLASSIFICATION)\n",
    "fs.sort_values(ascending=False, by=1)"
   ],
   "metadata": {
    "collapsed": false,
    "ExecuteTime": {
     "end_time": "2024-06-18T00:39:05.900461Z",
     "start_time": "2024-06-18T00:39:04.804194Z"
    }
   },
   "id": "5b1e5bbe02f7f0ef",
   "outputs": [
    {
     "data": {
      "text/plain": [
       "                           1\n",
       "0                           \n",
       "A.0_ID flood wave shape  0.0\n",
       "A.4_Bmax                 0.0\n",
       "discount rate 1          0.0\n",
       "discount rate 0          0.0\n",
       "A.5_pfail                0.0\n",
       "A.5_Brate                0.0\n",
       "A.5_Bmax                 0.0\n",
       "A.4_pfail                0.0\n",
       "A.4_Brate                0.0\n",
       "A.3_pfail                0.0\n",
       "A.1_Bmax                 0.0\n",
       "A.3_Brate                0.0\n",
       "A.3_Bmax                 0.0\n",
       "A.2_pfail                0.0\n",
       "A.2_Brate                0.0\n",
       "A.2_Bmax                 0.0\n",
       "A.1_pfail                0.0\n",
       "A.1_Brate                0.0\n",
       "discount rate 2          0.0"
      ],
      "text/html": [
       "<div>\n",
       "<style scoped>\n",
       "    .dataframe tbody tr th:only-of-type {\n",
       "        vertical-align: middle;\n",
       "    }\n",
       "\n",
       "    .dataframe tbody tr th {\n",
       "        vertical-align: top;\n",
       "    }\n",
       "\n",
       "    .dataframe thead th {\n",
       "        text-align: right;\n",
       "    }\n",
       "</style>\n",
       "<table border=\"1\" class=\"dataframe\">\n",
       "  <thead>\n",
       "    <tr style=\"text-align: right;\">\n",
       "      <th></th>\n",
       "      <th>1</th>\n",
       "    </tr>\n",
       "    <tr>\n",
       "      <th>0</th>\n",
       "      <th></th>\n",
       "    </tr>\n",
       "  </thead>\n",
       "  <tbody>\n",
       "    <tr>\n",
       "      <th>A.0_ID flood wave shape</th>\n",
       "      <td>0.0</td>\n",
       "    </tr>\n",
       "    <tr>\n",
       "      <th>A.4_Bmax</th>\n",
       "      <td>0.0</td>\n",
       "    </tr>\n",
       "    <tr>\n",
       "      <th>discount rate 1</th>\n",
       "      <td>0.0</td>\n",
       "    </tr>\n",
       "    <tr>\n",
       "      <th>discount rate 0</th>\n",
       "      <td>0.0</td>\n",
       "    </tr>\n",
       "    <tr>\n",
       "      <th>A.5_pfail</th>\n",
       "      <td>0.0</td>\n",
       "    </tr>\n",
       "    <tr>\n",
       "      <th>A.5_Brate</th>\n",
       "      <td>0.0</td>\n",
       "    </tr>\n",
       "    <tr>\n",
       "      <th>A.5_Bmax</th>\n",
       "      <td>0.0</td>\n",
       "    </tr>\n",
       "    <tr>\n",
       "      <th>A.4_pfail</th>\n",
       "      <td>0.0</td>\n",
       "    </tr>\n",
       "    <tr>\n",
       "      <th>A.4_Brate</th>\n",
       "      <td>0.0</td>\n",
       "    </tr>\n",
       "    <tr>\n",
       "      <th>A.3_pfail</th>\n",
       "      <td>0.0</td>\n",
       "    </tr>\n",
       "    <tr>\n",
       "      <th>A.1_Bmax</th>\n",
       "      <td>0.0</td>\n",
       "    </tr>\n",
       "    <tr>\n",
       "      <th>A.3_Brate</th>\n",
       "      <td>0.0</td>\n",
       "    </tr>\n",
       "    <tr>\n",
       "      <th>A.3_Bmax</th>\n",
       "      <td>0.0</td>\n",
       "    </tr>\n",
       "    <tr>\n",
       "      <th>A.2_pfail</th>\n",
       "      <td>0.0</td>\n",
       "    </tr>\n",
       "    <tr>\n",
       "      <th>A.2_Brate</th>\n",
       "      <td>0.0</td>\n",
       "    </tr>\n",
       "    <tr>\n",
       "      <th>A.2_Bmax</th>\n",
       "      <td>0.0</td>\n",
       "    </tr>\n",
       "    <tr>\n",
       "      <th>A.1_pfail</th>\n",
       "      <td>0.0</td>\n",
       "    </tr>\n",
       "    <tr>\n",
       "      <th>A.1_Brate</th>\n",
       "      <td>0.0</td>\n",
       "    </tr>\n",
       "    <tr>\n",
       "      <th>discount rate 2</th>\n",
       "      <td>0.0</td>\n",
       "    </tr>\n",
       "  </tbody>\n",
       "</table>\n",
       "</div>"
      ]
     },
     "execution_count": 11,
     "metadata": {},
     "output_type": "execute_result"
    }
   ],
   "execution_count": 11
  },
  {
   "cell_type": "markdown",
   "source": [
    "## Filter important uncertainties and create samples SOBOL "
   ],
   "metadata": {
    "collapsed": false
   },
   "id": "4ef0046101a772b2"
  },
  {
   "cell_type": "code",
   "source": [
    "dike_model_1, planning_steps = get_model_for_problem_formulation(6)"
   ],
   "metadata": {
    "collapsed": false,
    "ExecuteTime": {
     "end_time": "2024-06-20T21:23:03.168733Z",
     "start_time": "2024-06-20T21:23:02.972171Z"
    }
   },
   "id": "d2b12af0085ff773",
   "outputs": [],
   "execution_count": 23
  },
  {
   "cell_type": "code",
   "source": [
    "dele = []\n",
    "for x in dike_model_1.uncertainties:\n",
    "    if x.name not in [\"A.1_pfail\",\"A.2_pfail\",\"A.3_pfail\",\"A.4_pfail\",\"A.5_pfail\", \"discount rate 0\",\"discount rate 1\",\"discount rate 2\"]:\n",
    "        dele.append(x.name)\n",
    "for i in dele:\n",
    "    dike_model_1.uncertainties.__delitem__(i)\n",
    "\n",
    "\n",
    "# dike_model_1.constants.extend(Constant(\"discount rate 0\",2.5))\n",
    "# dike_model_1.constants.extend(Constant(\"discount rate 1\",2.5))\n",
    "# dike_model_1.constants.extend(Constant(\"discount rate 2\",2.5))\n",
    "\n",
    "dike_model_1.constants.extend(Constant('A.0_ID flood wave shape',17))\n",
    "\n",
    "dike_model_1.constants.extend(Constant('A.1_Bmax',190))\n",
    "dike_model_1.constants.extend(Constant('A.1_Brate',1.5))\n",
    "\n",
    "dike_model_1.constants.extend(Constant('A.2_Bmax',190))\n",
    "dike_model_1.constants.extend(Constant('A.2_Brate',1.5))\n",
    "\n",
    "dike_model_1.constants.extend(Constant('A.3_Bmax',190))\n",
    "dike_model_1.constants.extend(Constant('A.3_Brate',1.5))\n",
    "\n",
    "dike_model_1.constants.extend(Constant('A.4_Bmax',190))\n",
    "dike_model_1.constants.extend(Constant('A.4_Brate',1.5))\n",
    "\n",
    "dike_model_1.constants.extend(Constant('A.5_Bmax',190))\n",
    "dike_model_1.constants.extend(Constant('A.5_Brate',1.5))\n"
   ],
   "metadata": {
    "collapsed": false,
    "ExecuteTime": {
     "end_time": "2024-06-20T21:23:05.359027Z",
     "start_time": "2024-06-20T21:23:05.351846Z"
    }
   },
   "id": "5f8ac32f906f65d6",
   "outputs": [],
   "execution_count": 24
  },
  {
   "metadata": {
    "ExecuteTime": {
     "end_time": "2024-06-18T00:39:06.138165Z",
     "start_time": "2024-06-18T00:39:06.129078Z"
    }
   },
   "cell_type": "code",
   "source": [
    "list(dike_model_1.uncertainties)"
   ],
   "id": "f7caa780427b98da",
   "outputs": [
    {
     "data": {
      "text/plain": [
       "[CategoricalParameter('discount rate 0', [0, 1, 2, 3]),\n",
       " CategoricalParameter('discount rate 1', [0, 1, 2, 3]),\n",
       " CategoricalParameter('discount rate 2', [0, 1, 2, 3]),\n",
       " RealParameter('A.1_pfail', 0, 1, resolution=None, default=None, variable_name=['A.1_pfail'], pff=False),\n",
       " RealParameter('A.2_pfail', 0, 1, resolution=None, default=None, variable_name=['A.2_pfail'], pff=False),\n",
       " RealParameter('A.3_pfail', 0, 1, resolution=None, default=None, variable_name=['A.3_pfail'], pff=False),\n",
       " RealParameter('A.4_pfail', 0, 1, resolution=None, default=None, variable_name=['A.4_pfail'], pff=False),\n",
       " RealParameter('A.5_pfail', 0, 1, resolution=None, default=None, variable_name=['A.5_pfail'], pff=False)]"
      ]
     },
     "execution_count": 14,
     "metadata": {},
     "output_type": "execute_result"
    }
   ],
   "execution_count": 14
  },
  {
   "cell_type": "code",
   "source": [
    "with MultiprocessingEvaluator(dike_model_1) as evaluator:\n",
    "    results3 = evaluator.perform_experiments(scenarios=8400,policies=policy0,uncertainty_sampling=Samplers.SOBOL)\n",
    "n_processes=-1\n",
    "experiments3, outcomes3 = results3"
   ],
   "metadata": {
    "collapsed": false,
    "ExecuteTime": {
     "end_time": "2024-06-18T06:25:32.108715Z",
     "start_time": "2024-06-18T00:39:06.139166Z"
    }
   },
   "id": "48c345916df1f953",
   "outputs": [
    {
     "name": "stderr",
     "output_type": "stream",
     "text": [
      "100%|████████████████████████████████| 151200/151200 [5:46:10<00:00,  7.28it/s]\n"
     ]
    }
   ],
   "execution_count": 15
  },
  {
   "metadata": {
    "ExecuteTime": {
     "end_time": "2024-06-18T06:46:01.679801Z",
     "start_time": "2024-06-18T06:46:01.634740Z"
    }
   },
   "cell_type": "code",
   "source": [
    "with open('./data/SOBOL_Scen_result.pkl', 'wb') as file:\n",
    "    pickle.dump(results3, file)"
   ],
   "id": "a75a3464c33b740a",
   "outputs": [],
   "execution_count": 31
  },
  {
   "cell_type": "markdown",
   "source": [
    "## Preprocess data samples SOBOL"
   ],
   "metadata": {
    "collapsed": false
   },
   "id": "dc32191549134167"
  },
  {
   "cell_type": "code",
   "source": [
    "experiments_unc =experiments3.iloc[:,0:5]"
   ],
   "metadata": {
    "collapsed": false,
    "ExecuteTime": {
     "end_time": "2024-06-18T06:25:32.117476Z",
     "start_time": "2024-06-18T06:25:32.109716Z"
    }
   },
   "id": "db54fd6bf5520002",
   "outputs": [],
   "execution_count": 16
  },
  {
   "cell_type": "code",
   "source": [
    "df =pd.DataFrame(outcomes3)"
   ],
   "metadata": {
    "collapsed": false,
    "ExecuteTime": {
     "end_time": "2024-06-18T06:25:32.126380Z",
     "start_time": "2024-06-18T06:25:32.118476Z"
    }
   },
   "id": "b707c83a86feb20f",
   "outputs": [],
   "execution_count": 17
  },
  {
   "cell_type": "code",
   "source": [
    "# df[\"Expected Number of Deaths\"] = df[\"A.1_Expected Number of Deaths\"] + df[\"A.2_Expected Number of Deaths\"] + df[\n",
    "#     \"A.3_Expected Number of Deaths\"] + df[\"A.4_Expected Number of Deaths\"] + df[\"A.5_Expected Number of Deaths\"]\n",
    "# df[\"Expected Annual Damage\"] = df[\"A.1_Expected Annual Damage\"] + df[\"A.2_Expected Annual Damage\"] + df[\"A.3_Expected Annual Damage\"] + df[\"A.4_Expected Annual Damage\"] + df[\"A.5_Expected Annual Damage\"]\n",
    "# \n",
    "# outcomes[\"Expected Number of Deaths\"] = df[\"Expected Number of Deaths\"]\n",
    "# outcomes[\"Expected Annual Damage\"] = df[\"Expected Annual Damage\"]"
   ],
   "metadata": {
    "collapsed": false,
    "ExecuteTime": {
     "end_time": "2024-06-18T06:25:32.131475Z",
     "start_time": "2024-06-18T06:25:32.127380Z"
    }
   },
   "id": "ff4f4e899b6b2c64",
   "outputs": [],
   "execution_count": 18
  },
  {
   "cell_type": "markdown",
   "source": [
    "## Feature importance (not required but nice to know)"
   ],
   "metadata": {
    "collapsed": false
   },
   "id": "9a0a9a9f26df4714"
  },
  {
   "cell_type": "code",
   "source": [
    "\n",
    "\n",
    "x = experiments_unc\n",
    "y = df\n",
    "\n",
    "fs = feature_scoring.get_feature_scores_all(x, y)\n",
    "sns.heatmap(fs, cmap=\"viridis\", annot=True, vmax=0.2)\n",
    "plt.show()"
   ],
   "metadata": {
    "collapsed": false,
    "ExecuteTime": {
     "end_time": "2024-06-18T06:25:57.061048Z",
     "start_time": "2024-06-18T06:25:32.132476Z"
    }
   },
   "id": "6a3525fd1757d6df",
   "outputs": [
    {
     "data": {
      "text/plain": [
       "<Figure size 640x480 with 2 Axes>"
      ],
      "image/png": "[encoded data removed]"
     },
     "metadata": {},
     "output_type": "display_data"
    }
   ],
   "execution_count": 19
  },
  {
   "cell_type": "code",
   "source": "df_feature_importance_out.to_csv('./data/SOBOL_Scen_result.pkl', 'wb')",
   "metadata": {
    "collapsed": false,
    "ExecuteTime": {
     "end_time": "2024-06-18T06:25:57.420830Z",
     "start_time": "2024-06-18T06:25:57.062904Z"
    }
   },
   "id": "7ccbab8ab88992b7",
   "outputs": [
    {
     "ename": "NameError",
     "evalue": "name 'df_feature_importance_out' is not defined",
     "output_type": "error",
     "traceback": [
      "\u001B[1;31m---------------------------------------------------------------------------\u001B[0m",
      "\u001B[1;31mNameError\u001B[0m                                 Traceback (most recent call last)",
      "Cell \u001B[1;32mIn[20], line 1\u001B[0m\n\u001B[1;32m----> 1\u001B[0m \u001B[43mdf_feature_importance_out\u001B[49m\u001B[38;5;241m.\u001B[39mto_csv(\u001B[38;5;124m'\u001B[39m\u001B[38;5;124mdata\u001B[39m\u001B[38;5;124m\\\u001B[39m\u001B[38;5;124mOpenScenRes.csv\u001B[39m\u001B[38;5;124m'\u001B[39m)\n",
      "\u001B[1;31mNameError\u001B[0m: name 'df_feature_importance_out' is not defined"
     ]
    }
   ],
   "execution_count": 20
  },
  {
   "cell_type": "markdown",
   "source": [
    "## SOBOL analysis "
   ],
   "metadata": {
    "collapsed": false
   },
   "id": "62e80744792815d2"
  },
  {
   "metadata": {},
   "cell_type": "markdown",
   "source": "",
   "id": "63b146996ab49184"
  },
  {
   "metadata": {
    "ExecuteTime": {
     "end_time": "2024-06-20T21:27:28.435843Z",
     "start_time": "2024-06-20T21:27:14.546533Z"
    }
   },
   "cell_type": "code",
   "source": [
    "with open('./data/SOBOL_Scen_result.pkl', 'rb') as fp:\n",
    "\tresults  = pickle.load(fp)\n",
    "    \n",
    "experiments3, outcomes3 = results\n",
    "df = pd.DataFrame(outcomes3)\n",
    "df.drop(columns=[\"Total Investment Costs\",\"Expected Evacuation Costs\"],inplace=True)\n",
    "\n",
    "fig, ax = plt.subplots(2,2)\n",
    "ax = ax.flatten()\n",
    "for index,kpi in enumerate(df.columns):\n",
    "    axes = ax[index]\n",
    "    problem = get_SALib_problem(dike_model_1.uncertainties)\n",
    "    Si = sobol.analyze(problem, outcomes3[kpi], calc_second_order=True, print_to_console=False)\n",
    "    \n",
    "    scores_filtered = {k: Si[k] for k in [\"ST\", \"ST_conf\", \"S1\", \"S1_conf\"]}\n",
    "    Si_df = pd.DataFrame(scores_filtered, index=problem[\"names\"])\n",
    "    \n",
    "    sns.set_style(\"white\")\n",
    "    \n",
    "    \n",
    "    indices = Si_df[[\"S1\", \"ST\"]]\n",
    "    err = Si_df[[\"S1_conf\", \"ST_conf\"]]\n",
    "    \n",
    "    indices.plot.bar(yerr=err.values.T, ax=axes)\n",
    "    fig.set_size_inches(8, 6)\n",
    "    # fig.subplots_adjust(bottom=0.3)\n",
    "plt.show()"
   ],
   "id": "de98f2c4ef3ff5eb",
   "outputs": [
    {
     "data": {
      "text/plain": [
       "<Figure size 800x600 with 4 Axes>"
      ],
      "image/png": "[encoded data removed]"
     },
     "metadata": {},
     "output_type": "display_data"
    }
   ],
   "execution_count": 32
  }
 ],
 "metadata": {
  "kernelspec": {
   "display_name": "Python 3",
   "language": "python",
   "name": "python3"
  },
  "language_info": {
   "codemirror_mode": {
    "name": "ipython",
    "version": 2
   },
   "file_extension": ".py",
   "mimetype": "text/x-python",
   "name": "python",
   "nbconvert_exporter": "python",
   "pygments_lexer": "ipython2",
   "version": "2.7.6"
  }
 },
 "nbformat": 4,
 "nbformat_minor": 5
}
