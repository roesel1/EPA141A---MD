{
 "cells": [
  {
   "cell_type": "code",
   "outputs": [],
   "source": [
    "import numpy as np\n",
    "import scipy as sp\n",
    "import pandas as pd\n",
    "import matplotlib.pyplot as plt\n",
    "import seaborn as sns\n",
    "import networkx as nx\n",
    "from SALib.analyze import sobol\n",
    "from ema_workbench.analysis import feature_scoring\n",
    "from Convience_fun import create_scenario\n",
    "import warnings\n",
    "warnings.filterwarnings(\"ignore\")"
   ],
   "metadata": {
    "collapsed": false,
    "ExecuteTime": {
     "end_time": "2024-06-11T19:04:33.616154Z",
     "start_time": "2024-06-11T19:04:33.610284Z"
    }
   },
   "id": "43ff4f9d5c2e824d",
   "execution_count": 15
  },
  {
   "cell_type": "code",
   "outputs": [],
   "source": [
    "from ema_workbench.em_framework.salib_samplers import get_SALib_problem\n",
    "from ema_workbench import (\n",
    "    Model,\n",
    "    Policy,\n",
    "    ema_logging,\n",
    "    SequentialEvaluator,\n",
    "    MultiprocessingEvaluator,\n",
    "    Scenario\n",
    "\n",
    ")\n",
    "from dike_model_function import DikeNetwork  # @UnresolvedImport\n",
    "from problem_formulation import get_model_for_problem_formulation, sum_over, sum_over_time\n",
    "from ema_workbench.analysis import prim\n",
    "from ema_workbench import perform_experiments\n",
    "from ema_workbench import Samplers\n",
    "from ema_workbench import SequentialEvaluator\n",
    "from ema_workbench.em_framework.parameters import Constant\n",
    "\n",
    "import itertools"
   ],
   "metadata": {
    "collapsed": false,
    "ExecuteTime": {
     "end_time": "2024-06-11T19:04:34.198347Z",
     "start_time": "2024-06-11T19:04:34.193700Z"
    }
   },
   "id": "f8934c1a5c5edff2",
   "execution_count": 16
  },
  {
   "cell_type": "code",
   "outputs": [],
   "source": [],
   "metadata": {
    "collapsed": false,
    "ExecuteTime": {
     "end_time": "2024-06-11T19:04:35.064808Z",
     "start_time": "2024-06-11T19:04:34.898820Z"
    }
   },
   "id": "8868d6a93579122f",
   "execution_count": 17
  },
  {
   "cell_type": "code",
   "outputs": [],
   "source": [
    "import multirange as mr\n",
    "\n",
    "df_param_space_A5 = pd.read_csv('data/para_space_A5.csv').drop(0).rename(columns={\"Unnamed: 0\": \"Variable\"})\n",
    "df_param_space_all = pd.read_csv('data/para_space_all.csv') .drop(0).rename(columns={\"Unnamed: 0\": \"Variable\"})\n",
    "\n",
    "dike_model, planning_steps = get_model_for_problem_formulation(3)\n",
    "\n",
    "def create_scenario_from_box(all, a5 ):\n",
    "    para_list = []\n",
    "    for uncertainty in dike_model.uncertainties:\n",
    "        # print((variable in df_param_space_A5.Variable))\n",
    "        variable = uncertainty.name\n",
    "        # print(variable)\n",
    "        if (variable in list(df_param_space_A5.Variable)) & (variable in list(df_param_space_all.Variable)) & (all + a5 ==2) :  \n",
    "            min_1 = float(df_param_space_A5[df_param_space_A5['Variable'] ==variable][df_param_space_A5.columns[1]].values[0])*10000\n",
    "            max_1 =float(df_param_space_A5[df_param_space_A5['Variable'] ==variable][df_param_space_A5.columns[2]].values[0])*10000\n",
    "            \n",
    "            min_2 = float(df_param_space_all[df_param_space_all['Variable'] ==variable][df_param_space_all.columns[1]].values[0]) *10000\n",
    "            max_2 =float(df_param_space_all[df_param_space_all['Variable'] ==variable][df_param_space_all.columns[2]].values[0]) *10000\n",
    "            \n",
    "            boundaries = mr.overlap(range(int(min_1),int(max_1)),range(int(min_2),int(max_2)))\n",
    "            para_list.append((boundaries.start + (boundaries.stop - boundaries.start)/2)/10000)  \n",
    "            print((boundaries.start + (boundaries.stop - boundaries.start)/2)/10000)\n",
    "        elif (variable in list(df_param_space_A5.Variable)) & (a5 == True):\n",
    "            min_1 = float(df_param_space_A5[df_param_space_A5['Variable'] ==variable][df_param_space_A5.columns[1]].values[0])\n",
    "            max_1 =float(df_param_space_A5[df_param_space_A5['Variable'] ==variable][df_param_space_A5.columns[2]].values[0]) \n",
    "            \n",
    "            para_list.append((min_1 + (max_1 - min_1)/2))   \n",
    "        elif (variable in list(df_param_space_all.Variable)) & (all == True):\n",
    "            min_2 = float(df_param_space_all[df_param_space_all['Variable'] ==variable][df_param_space_all.columns[1]].values[0])\n",
    "            max_2 =float(df_param_space_all[df_param_space_all['Variable'] ==variable][df_param_space_all.columns[2]].values[0])\n",
    "            \n",
    "            para_list.append((min_2 + (max_2 - min_2)/2))      \n",
    "        elif variable.startswith(\"d\"):\n",
    "            para_list.append(3.5)\n",
    "        elif variable == \"A.0_ID flood wave shape\":\n",
    "            para_list.append(17)\n",
    "        elif variable.endswith(\"Brate\"):\n",
    "            para_list.append(1.5)\n",
    "        else:\n",
    "            para_list.append((uncertainty.lower_bound + (uncertainty.upper_bound - uncertainty.lower_bound)/2))\n",
    "    \n",
    "    return create_scenario(para_list)    \n",
    "\n",
    "\n",
    "Scenarios_MOEA = [create_scenario_from_box(all=True,a5=True),create_scenario_from_box(all=True,a5=False),create_scenario_from_box(all=False,a5=True)]"
   ],
   "metadata": {
    "collapsed": false,
    "ExecuteTime": {
     "end_time": "2024-06-11T19:04:36.916522Z",
     "start_time": "2024-06-11T19:04:36.903859Z"
    }
   },
   "id": "344b0f6e8439e0d0",
   "execution_count": 21
  },
  {
   "cell_type": "code",
   "outputs": [],
   "source": [
    "with SequentialEvaluator(dike_model) as evaluator:\n",
    "    results = evaluator.perform_experiments(uncertainties,100)"
   ],
   "metadata": {
    "collapsed": false
   },
   "id": "c4de8fe85544e8ef",
   "execution_count": null
  },
  {
   "cell_type": "code",
   "outputs": [],
   "source": [
    "experiments, outcomes = results"
   ],
   "metadata": {
    "collapsed": false
   },
   "id": "48cf274707460c55",
   "execution_count": null
  },
  {
   "cell_type": "code",
   "outputs": [],
   "source": [
    "experiments"
   ],
   "metadata": {
    "collapsed": false
   },
   "id": "b64f56e115bb3b85",
   "execution_count": null
  },
  {
   "cell_type": "code",
   "outputs": [],
   "source": [
    "experiments_unc = experiments.iloc[:, 19:]\n",
    "outcomes.keys()\n",
    "df = pd.DataFrame(outcomes)\n",
    "df[\"Total Costs\"] = df[\"A.1 Total Costs\"] + df[\"A.2 Total Costs\"] + df[\"A.3 Total Costs\"] + df[\"A.4 Total Costs\"] + df[\n",
    "    \"A.5 Total Costs\"]\n",
    "df[\"Expected Number of Deaths\"] = df[\"A.1_Expected Number of Deaths\"] + df[\"A.2_Expected Number of Deaths\"] + df[\n",
    "    \"A.3_Expected Number of Deaths\"] + df[\"A.4_Expected Number of Deaths\"] + df[\"A.5_Expected Number of Deaths\"]\n",
    "outcomes_feaimp = outcomes\n",
    "df_feature_importance_out = df[\n",
    "    [\"Total Costs\", \"Expected Number of Deaths\", \"A.5_Expected Number of Deaths\", \"A.5 Total Costs\"]]\n",
    "## Feature importance\n",
    "\n",
    "x = experiments_unc\n",
    "y = df_feature_importance_out\n",
    "fig, ax = plt.subplots(figsize=(20,20))\n",
    "fs = feature_scoring.get_feature_scores_all(x, y)\n",
    "sns.heatmap(fs, cmap=\"viridis\", annot=True,ax=ax)\n",
    "plt.show()"
   ],
   "metadata": {
    "collapsed": false
   },
   "id": "e30b62561fcdad7f",
   "execution_count": null
  },
  {
   "cell_type": "markdown",
   "source": [
    "### SOBOL"
   ],
   "metadata": {
    "collapsed": false
   },
   "id": "b7cb05b1062ed516"
  },
  {
   "cell_type": "code",
   "outputs": [],
   "source": [
    "dike_model, planning_steps = get_model_for_problem_formulation(3)"
   ],
   "metadata": {
    "collapsed": false
   },
   "id": "fad4125fb27b6571",
   "execution_count": null
  },
  {
   "cell_type": "code",
   "outputs": [],
   "source": [
    "def get_do_nothing_dict():\n",
    "    return {l.name: 0 for l in dike_model.uncertain}\n",
    "\n",
    "\n",
    "uncertainties = Scenario(\"SCEN1\",**{'discount rate 0': 0,\n",
    "    'discount rate 1': 0,\n",
    "    'discount rate 2': 0,\n",
    "    'A.0_ID flood wave shape': 0,\n",
    "    'A.1_Bmax': 200,\n",
    "    'A.1_pfail': 0.9833438536152244,\n",
    "    'A.1_Brate': 1 ,\n",
    "    'A.2_Bmax': 200,\n",
    "    'A.2_pfail': 0.9601872768253088,\n",
    "    'A.2_Brate': 1,\n",
    "    'A.3_Bmax': 200,\n",
    "    'A.3_pfail': 0.951145688071847,\n",
    "    'A.3_Brate': 1,\n",
    "    'A.4_Bmax': 200,\n",
    "    'A.4_pfail': 1,\n",
    "    'A.4_Brate': 1,\n",
    "    'A.5_Bmax': 200,\n",
    "    'A.5_pfail': 0.29973752703517675,\n",
    "    'A.5_Brate': 1})\n"
   ],
   "metadata": {
    "collapsed": false
   },
   "id": "dbaa517b047d3102",
   "execution_count": null
  },
  {
   "cell_type": "code",
   "outputs": [],
   "source": [
    "# with MultiprocessingEvaluator(dike_model_1) as evaluator:\n",
    "#     results = evaluator.perform_experiments(scenarios=20,policies=policy0,uncertainty_sampling=Samplers.SOBOL)"
   ],
   "metadata": {
    "collapsed": false
   },
   "id": "7e8a9b0cc3bfddc4",
   "execution_count": null
  },
  {
   "cell_type": "code",
   "outputs": [],
   "source": [
    "with SequentialEvaluator(dike_model) as evaluator:\n",
    "    results = evaluator.perform_experiments(uncertainties,10,lever_sampling=Samplers.SOBOL)"
   ],
   "metadata": {
    "collapsed": false
   },
   "id": "113955e2d27ba296",
   "execution_count": null
  },
  {
   "cell_type": "code",
   "outputs": [],
   "source": [
    "experiments_unc = experiments.iloc[:, 19:]\n",
    "outcomes.keys()\n",
    "df = pd.DataFrame(outcomes)\n",
    "df[\"Total Costs\"] = df[\"A.1 Total Costs\"] + df[\"A.2 Total Costs\"] + df[\"A.3 Total Costs\"] + df[\"A.4 Total Costs\"] + df[\n",
    "    \"A.5 Total Costs\"]\n",
    "df[\"Expected Number of Deaths\"] = df[\"A.1_Expected Number of Deaths\"] + df[\"A.2_Expected Number of Deaths\"] + df[\n",
    "    \"A.3_Expected Number of Deaths\"] + df[\"A.4_Expected Number of Deaths\"] + df[\"A.5_Expected Number of Deaths\"]\n",
    "\n",
    "df[\"Expected Annual Damage\"] = df[\"A.1_Expected Annual Damage\"] + df[\"A.2_Expected Annual Damage\"] + df[\"A.3_Expected Annual Damage\"] + df[\"A.4_Expected Annual Damage\"] + df[\"A.5_Expected Annual Damage\"]\n",
    "\n",
    "df_feature_importance_out = df[\n",
    "    [\"Expected Annual Damage\",\"Total Costs\", \"Expected Number of Deaths\",\"A.5_Expected Annual Damage\", \"A.5_Expected Number of Deaths\", \"A.5 Total Costs\"]]\n",
    "## Feature importance\n"
   ],
   "metadata": {
    "collapsed": false
   },
   "id": "621fbf4ad930fa4a",
   "execution_count": null
  },
  {
   "cell_type": "code",
   "outputs": [],
   "source": [
    "outcomes[\"Total Costs\"] = df[\"Total Costs\"]\n",
    "outcomes[\"Expected Number of Deaths\"] = df[\"Expected Number of Deaths\"]\n",
    "outcomes[\"Expected Annual Damage\"] = df[\"Expected Annual Damage\"]"
   ],
   "metadata": {
    "collapsed": false
   },
   "id": "150f2913245c92e4",
   "execution_count": null
  },
  {
   "cell_type": "code",
   "outputs": [],
   "source": [
    "problem = get_SALib_problem(dike_model.uncertainties)\n",
    "\n",
    "sns.set_style('white')\n",
    "fig, ax = plt.subplots(3, 2, figsize=(10, 10))\n",
    "ax = ax.flatten()\n",
    "\n",
    "for index, kpi in enumerate(df_feature_importance_out.columns):\n",
    "    Si = sobol.analyze(problem, np.array(outcomes[kpi]), calc_second_order=True, print_to_console=False)\n",
    "    Si_filter = {k: Si[k] for k in ['ST', 'ST_conf', 'S1', 'S1_conf']}\n",
    "    Si_df = pd.DataFrame(Si_filter, index=problem['names'])\n",
    "\n",
    "    indices = Si_df[['S1', 'ST']]\n",
    "    err = Si_df[['S1_conf', 'ST_conf']]\n",
    "    ax[index].title.set_text(kpi)\n",
    "    indices.plot.bar(yerr=err.values.T, ax=ax[index])\n",
    "    # fig.set_size_inches(8,6)\n",
    "    # fig.subplots_adjust(bottom=0.3)\n",
    "plt.tight_layout()\n",
    "plt.show()"
   ],
   "metadata": {
    "collapsed": false
   },
   "id": "c45b691a460bb02e",
   "execution_count": null
  }
 ],
 "metadata": {
  "kernelspec": {
   "display_name": "Python 3",
   "language": "python",
   "name": "python3"
  },
  "language_info": {
   "codemirror_mode": {
    "name": "ipython",
    "version": 2
   },
   "file_extension": ".py",
   "mimetype": "text/x-python",
   "name": "python",
   "nbconvert_exporter": "python",
   "pygments_lexer": "ipython2",
   "version": "2.7.6"
  }
 },
 "nbformat": 4,
 "nbformat_minor": 5
}
