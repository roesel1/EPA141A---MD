{
 "cells": [
  {
   "cell_type": "markdown",
   "source": [
    "## Used packages"
   ],
   "metadata": {
    "collapsed": false
   },
   "id": "a64a95d8543fa391"
  },
  {
   "cell_type": "code",
   "outputs": [],
   "source": [
    "import numpy as np\n",
    "import scipy as sp\n",
    "import pandas as pd\n",
    "import matplotlib.pyplot as plt\n",
    "import seaborn as sns\n",
    "import networkx as nx\n",
    "from SALib.analyze import sobol\n",
    "from ema_workbench.analysis import feature_scoring\n",
    "\n",
    "import warnings\n",
    "warnings.filterwarnings(\"ignore\")"
   ],
   "metadata": {
    "collapsed": false,
    "ExecuteTime": {
     "end_time": "2024-06-10T09:00:09.251755Z",
     "start_time": "2024-06-10T09:00:09.247083Z"
    }
   },
   "id": "bcb386eddf7046c8",
   "execution_count": 11
  },
  {
   "cell_type": "code",
   "outputs": [],
   "source": [
    "from ema_workbench.em_framework.salib_samplers import get_SALib_problem\n",
    "from ema_workbench import (\n",
    "    Model,\n",
    "    Policy,\n",
    "    ema_logging,\n",
    "    SequentialEvaluator,\n",
    "    MultiprocessingEvaluator,\n",
    "\n",
    ")\n",
    "from dike_model_function import DikeNetwork  # @UnresolvedImport\n",
    "from problem_formulation import get_model_for_problem_formulation, sum_over, sum_over_time\n",
    "from ema_workbench.analysis import prim\n",
    "from ema_workbench import perform_experiments\n",
    "from ema_workbench import Samplers\n",
    "from ema_workbench import SequentialEvaluator\n",
    "from ema_workbench.em_framework.parameters import Constant"
   ],
   "metadata": {
    "collapsed": false,
    "ExecuteTime": {
     "end_time": "2024-06-10T09:00:09.439996Z",
     "start_time": "2024-06-10T09:00:09.433876Z"
    }
   },
   "id": "fb3c909fdc41b952",
   "execution_count": 12
  },
  {
   "cell_type": "markdown",
   "source": [
    "## Creating samples LHC "
   ],
   "metadata": {
    "collapsed": false
   },
   "id": "2b1f1ac8dc9fdaee"
  },
  {
   "cell_type": "code",
   "outputs": [],
   "source": [
    "# Create an instance of the model which is usable with the EMA workbench\n",
    "dike_model, planning_steps = get_model_for_problem_formulation(3)"
   ],
   "metadata": {
    "collapsed": false,
    "ExecuteTime": {
     "end_time": "2024-06-10T09:00:09.656797Z",
     "start_time": "2024-06-10T09:00:09.459773Z"
    }
   },
   "id": "f239e34b818df7bf",
   "execution_count": 13
  },
  {
   "cell_type": "markdown",
   "source": [
    "to only focus on the scenarios no policies should be taken into account. Code below set all the "
   ],
   "metadata": {
    "collapsed": false
   },
   "id": "acda2dffd25d8d02"
  },
  {
   "cell_type": "code",
   "outputs": [],
   "source": [
    "zero_policy = {\"DaysToThreat\": 0}\n",
    "zero_policy.update({f\"DikeIncrease {n}\": 0 for n in planning_steps})\n",
    "zero_policy.update({f\"RfR {n}\": 0 for n in planning_steps})\n",
    "\n",
    "pol0 = {}\n",
    "\n",
    "for key in dike_model.levers:\n",
    "    s1, s2 = key.name.split(\"_\")\n",
    "    pol0.update({key.name: zero_policy[s2]})\n",
    "\n",
    "policy0 = Policy(\"Policy 0\", **pol0)"
   ],
   "metadata": {
    "collapsed": false,
    "ExecuteTime": {
     "end_time": "2024-06-10T09:00:09.665859Z",
     "start_time": "2024-06-10T09:00:09.659005Z"
    }
   },
   "id": "2082b5d7c31f475a",
   "execution_count": 14
  },
  {
   "cell_type": "code",
   "outputs": [
    {
     "name": "stderr",
     "output_type": "stream",
     "text": [
      "100%|████████████████████████████████████████| 100/100 [00:39<00:00,  2.56it/s]\n"
     ]
    }
   ],
   "source": [
    "with SequentialEvaluator(dike_model) as evaluator:\n",
    "    results = evaluator.perform_experiments(scenarios=100,policies=policy0,uncertainty_sampling=Samplers.LHS)\n",
    "\n",
    "experiments, outcomes = results"
   ],
   "metadata": {
    "collapsed": false,
    "ExecuteTime": {
     "end_time": "2024-06-10T09:00:48.823112Z",
     "start_time": "2024-06-10T09:00:09.666934Z"
    }
   },
   "id": "cc0ef901211fa9bd",
   "execution_count": 15
  },
  {
   "cell_type": "code",
   "outputs": [
    {
     "data": {
      "text/plain": "[CategoricalParameter('discount rate 0', [0, 1, 2, 3]),\n CategoricalParameter('discount rate 1', [0, 1, 2, 3]),\n CategoricalParameter('discount rate 2', [0, 1, 2, 3]),\n IntegerParameter('A.0_ID flood wave shape', 0, 132, resolution=None, default=None, variable_name=['A.0_ID flood wave shape'], pff=False),\n RealParameter('A.1_Bmax', 30, 350, resolution=None, default=None, variable_name=['A.1_Bmax'], pff=False),\n RealParameter('A.1_pfail', 0, 1, resolution=None, default=None, variable_name=['A.1_pfail'], pff=False),\n CategoricalParameter('A.1_Brate', [0, 1, 2]),\n RealParameter('A.2_Bmax', 30, 350, resolution=None, default=None, variable_name=['A.2_Bmax'], pff=False),\n RealParameter('A.2_pfail', 0, 1, resolution=None, default=None, variable_name=['A.2_pfail'], pff=False),\n CategoricalParameter('A.2_Brate', [0, 1, 2]),\n RealParameter('A.3_Bmax', 30, 350, resolution=None, default=None, variable_name=['A.3_Bmax'], pff=False),\n RealParameter('A.3_pfail', 0, 1, resolution=None, default=None, variable_name=['A.3_pfail'], pff=False),\n CategoricalParameter('A.3_Brate', [0, 1, 2]),\n RealParameter('A.4_Bmax', 30, 350, resolution=None, default=None, variable_name=['A.4_Bmax'], pff=False),\n RealParameter('A.4_pfail', 0, 1, resolution=None, default=None, variable_name=['A.4_pfail'], pff=False),\n CategoricalParameter('A.4_Brate', [0, 1, 2]),\n RealParameter('A.5_Bmax', 30, 350, resolution=None, default=None, variable_name=['A.5_Bmax'], pff=False),\n RealParameter('A.5_pfail', 0, 1, resolution=None, default=None, variable_name=['A.5_pfail'], pff=False),\n CategoricalParameter('A.5_Brate', [0, 1, 2])]"
     },
     "execution_count": 16,
     "metadata": {},
     "output_type": "execute_result"
    }
   ],
   "source": [
    "list(dike_model.uncertainties)"
   ],
   "metadata": {
    "collapsed": false,
    "ExecuteTime": {
     "end_time": "2024-06-10T09:00:48.830547Z",
     "start_time": "2024-06-10T09:00:48.824111Z"
    }
   },
   "id": "2da241c495879f1",
   "execution_count": 16
  },
  {
   "cell_type": "markdown",
   "source": [
    "## Preprocess data samples LHC "
   ],
   "metadata": {
    "collapsed": false
   },
   "id": "83fb7b89d65eb00f"
  },
  {
   "cell_type": "code",
   "outputs": [],
   "source": [
    "experiments_unc =experiments.iloc[:,0:19]"
   ],
   "metadata": {
    "collapsed": false,
    "ExecuteTime": {
     "end_time": "2024-06-10T09:00:48.838676Z",
     "start_time": "2024-06-10T09:00:48.831716Z"
    }
   },
   "id": "1f3c674b3db60ff6",
   "execution_count": 17
  },
  {
   "cell_type": "code",
   "outputs": [
    {
     "data": {
      "text/plain": "dict_keys(['A.1 Total Costs', 'A.1_Expected Number of Deaths', 'A.2 Total Costs', 'A.2_Expected Number of Deaths', 'A.3 Total Costs', 'A.3_Expected Number of Deaths', 'A.4 Total Costs', 'A.4_Expected Number of Deaths', 'A.5 Total Costs', 'A.5_Expected Number of Deaths', 'RfR Total Costs', 'Expected Evacuation Costs'])"
     },
     "execution_count": 18,
     "metadata": {},
     "output_type": "execute_result"
    }
   ],
   "source": [
    "outcomes.keys()"
   ],
   "metadata": {
    "collapsed": false,
    "ExecuteTime": {
     "end_time": "2024-06-10T09:00:48.844659Z",
     "start_time": "2024-06-10T09:00:48.839792Z"
    }
   },
   "id": "2f5560d3d09b7632",
   "execution_count": 18
  },
  {
   "cell_type": "code",
   "outputs": [],
   "source": [],
   "metadata": {
    "collapsed": false,
    "ExecuteTime": {
     "end_time": "2024-06-10T09:00:48.848418Z",
     "start_time": "2024-06-10T09:00:48.845740Z"
    }
   },
   "id": "6be735419028a930",
   "execution_count": 18
  },
  {
   "cell_type": "code",
   "outputs": [
    {
     "ename": "KeyError",
     "evalue": "'Dike Investment Costs'",
     "output_type": "error",
     "traceback": [
      "\u001B[1;31m---------------------------------------------------------------------------\u001B[0m",
      "\u001B[1;31mKeyError\u001B[0m                                  Traceback (most recent call last)",
      "Cell \u001B[1;32mIn[19], line 1\u001B[0m\n\u001B[1;32m----> 1\u001B[0m \u001B[43moutcomes\u001B[49m\u001B[43m[\u001B[49m\u001B[38;5;124;43m'\u001B[39;49m\u001B[38;5;124;43mDike Investment Costs\u001B[39;49m\u001B[38;5;124;43m'\u001B[39;49m\u001B[43m]\u001B[49m\n",
      "\u001B[1;31mKeyError\u001B[0m: 'Dike Investment Costs'"
     ]
    }
   ],
   "source": [
    "outcomes['Dike Investment Costs']"
   ],
   "metadata": {
    "collapsed": false,
    "ExecuteTime": {
     "end_time": "2024-06-10T09:00:48.884263Z",
     "start_time": "2024-06-10T09:00:48.849672Z"
    }
   },
   "id": "8d08114e3747d9ee",
   "execution_count": 19
  },
  {
   "cell_type": "code",
   "outputs": [],
   "source": [
    "df = pd.DataFrame(outcomes) \n",
    "df[\"Total Costs\"] = df[\"A.1 Total Costs\"] + df[\"A.2 Total Costs\"] + df[\"A.3 Total Costs\"] + df[\"A.4 Total Costs\"] + df[\"A.5 Total Costs\"]"
   ],
   "metadata": {
    "collapsed": false,
    "ExecuteTime": {
     "start_time": "2024-06-10T09:00:48.885261Z"
    }
   },
   "id": "d0240e4529f61211",
   "execution_count": null
  },
  {
   "cell_type": "code",
   "outputs": [],
   "source": [
    "df[\"Expected Number of Deaths\"] = df[\"A.1_Expected Number of Deaths\"] + df[\"A.2_Expected Number of Deaths\"] + df[\"A.3_Expected Number of Deaths\"] + df[\"A.4_Expected Number of Deaths\"] + df[\"A.5_Expected Number of Deaths\"]"
   ],
   "metadata": {
    "collapsed": false,
    "ExecuteTime": {
     "start_time": "2024-06-10T09:00:48.886834Z"
    }
   },
   "id": "615a59d11c1407ba",
   "execution_count": null
  },
  {
   "cell_type": "code",
   "outputs": [],
   "source": [
    "outcomes_feaimp = outcomes"
   ],
   "metadata": {
    "collapsed": false,
    "ExecuteTime": {
     "start_time": "2024-06-10T09:00:48.887932Z"
    }
   },
   "id": "cb3448611d8e1245",
   "execution_count": null
  },
  {
   "cell_type": "code",
   "outputs": [],
   "source": [
    "df_feature_importance_out = df[[\"Total Costs\", \"Expected Number of Deaths\",\"A.5_Expected Number of Deaths\", \"A.5 Total Costs\"]]"
   ],
   "metadata": {
    "collapsed": false
   },
   "id": "c4725ebacba5d9a7",
   "execution_count": null
  },
  {
   "cell_type": "markdown",
   "source": [
    "## Feature importance"
   ],
   "metadata": {
    "collapsed": false
   },
   "id": "ac508848b051bc74"
  },
  {
   "cell_type": "markdown",
   "source": [],
   "metadata": {
    "collapsed": false
   },
   "id": "52f7d130af9174c3"
  },
  {
   "cell_type": "code",
   "outputs": [],
   "source": [
    "x = experiments_unc\n",
    "y = df_feature_importance_out\n",
    "\n",
    "fs = feature_scoring.get_feature_scores_all(x, y)\n",
    "sns.heatmap(fs, cmap=\"viridis\", annot=True,vmax=0.2)\n",
    "plt.show()"
   ],
   "metadata": {
    "collapsed": false,
    "ExecuteTime": {
     "start_time": "2024-06-10T09:00:48.888964Z"
    }
   },
   "id": "e8415fad6b3d9dfa",
   "execution_count": null
  },
  {
   "cell_type": "markdown",
   "source": [
    "## Filter important uncertainties and create samples SOBOL "
   ],
   "metadata": {
    "collapsed": false
   },
   "id": "4ef0046101a772b2"
  },
  {
   "cell_type": "code",
   "outputs": [],
   "source": [
    "dike_model_1, planning_steps = get_model_for_problem_formulation(3)\n",
    "\n",
    "zero_policy = {\"DaysToThreat\": 0}\n",
    "zero_policy.update({f\"DikeIncrease {n}\": 0 for n in planning_steps})\n",
    "zero_policy.update({f\"RfR {n}\": 0 for n in planning_steps})\n",
    "\n",
    "pol0 = {}\n",
    "\n",
    "for key in dike_model_1.levers:\n",
    "    s1, s2 = key.name.split(\"_\")\n",
    "    pol0.update({key.name: zero_policy[s2]})\n",
    "\n",
    "policy0 = Policy(\"Policy 0\", **pol0)\n",
    "print()"
   ],
   "metadata": {
    "collapsed": false,
    "ExecuteTime": {
     "start_time": "2024-06-10T09:00:48.890062Z"
    }
   },
   "id": "d2b12af0085ff773",
   "execution_count": null
  },
  {
   "cell_type": "markdown",
   "source": [],
   "metadata": {
    "collapsed": false
   },
   "id": "d037333707a93a0b"
  },
  {
   "cell_type": "code",
   "outputs": [],
   "source": [
    "dele = []\n",
    "for x in dike_model_1.uncertainties:\n",
    "    if x.name not in [\"A.1_pfail\",\"A.2_pfail\",\"A.3_pfail\",\"A.4_pfail\",\"A.5_pfail\"]:\n",
    "        dele.append(x.name)\n",
    "for i in dele:\n",
    "    dike_model_1.uncertainties.__delitem__(i)\n",
    "\n",
    "\n",
    "dike_model_1.constants.extend(Constant(\"discount rate 0\",1))\n",
    "dike_model_1.constants.extend(Constant(\"discount rate 1\",1))\n",
    "dike_model_1.constants.extend(Constant(\"discount rate 2\",1))\n",
    "\n",
    "dike_model_1.constants.extend(Constant('A.0_ID flood wave shape',1))\n",
    "\n",
    "dike_model_1.constants.extend(Constant('A.1_Bmax',190))\n",
    "dike_model_1.constants.extend(Constant('A.1_Brate',1.5))\n",
    "\n",
    "dike_model_1.constants.extend(Constant('A.2_Bmax',190))\n",
    "dike_model_1.constants.extend(Constant('A.2_Brate',1.5))\n",
    "\n",
    "dike_model_1.constants.extend(Constant('A.3_Bmax',190))\n",
    "dike_model_1.constants.extend(Constant('A.3_Brate',1.5))\n",
    "\n",
    "dike_model_1.constants.extend(Constant('A.4_Bmax',190))\n",
    "dike_model_1.constants.extend(Constant('A.4_Brate',1.5))\n",
    "\n",
    "dike_model_1.constants.extend(Constant('A.5_Bmax',190))\n",
    "dike_model_1.constants.extend(Constant('A.5_Brate',1.5))\n"
   ],
   "metadata": {
    "collapsed": false,
    "ExecuteTime": {
     "start_time": "2024-06-10T09:00:48.891186Z"
    }
   },
   "id": "5f8ac32f906f65d6",
   "execution_count": null
  },
  {
   "cell_type": "code",
   "outputs": [],
   "source": [
    "with MultiprocessingEvaluator(dike_model_1) as evaluator:\n",
    "    results = evaluator.perform_experiments(scenarios=20,policies=policy0,uncertainty_sampling=Samplers.SOBOL)\n",
    "\n",
    "experiments, outcomes = results"
   ],
   "metadata": {
    "collapsed": false
   },
   "id": "48c345916df1f953",
   "execution_count": null
  },
  {
   "cell_type": "markdown",
   "source": [
    "## Preprocess data samples LHC "
   ],
   "metadata": {
    "collapsed": false
   },
   "id": "dc32191549134167"
  },
  {
   "cell_type": "code",
   "outputs": [],
   "source": [
    "experiments_unc =experiments.iloc[:,0:5]"
   ],
   "metadata": {
    "collapsed": false,
    "ExecuteTime": {
     "start_time": "2024-06-10T09:00:48.892292Z"
    }
   },
   "id": "db54fd6bf5520002",
   "execution_count": null
  },
  {
   "cell_type": "code",
   "outputs": [],
   "source": [
    "df =pd.DataFrame(outcomes)"
   ],
   "metadata": {
    "collapsed": false,
    "ExecuteTime": {
     "start_time": "2024-06-10T09:00:48.893289Z"
    }
   },
   "id": "b707c83a86feb20f",
   "execution_count": null
  },
  {
   "cell_type": "code",
   "outputs": [],
   "source": [
    "\n",
    "df[\"Total Costs\"] = df[\"A.1 Total Costs\"] + df[\"A.2 Total Costs\"] + df[\"A.3 Total Costs\"] + df[\"A.4 Total Costs\"] + df[\n",
    "    \"A.5 Total Costs\"]\n",
    "df[\"Expected Number of Deaths\"] = df[\"A.1_Expected Number of Deaths\"] + df[\"A.2_Expected Number of Deaths\"] + df[\n",
    "    \"A.3_Expected Number of Deaths\"] + df[\"A.4_Expected Number of Deaths\"] + df[\"A.5_Expected Number of Deaths\"]\n"
   ],
   "metadata": {
    "collapsed": false,
    "ExecuteTime": {
     "start_time": "2024-06-10T09:00:48.893289Z"
    }
   },
   "id": "ff4f4e899b6b2c64",
   "execution_count": null
  },
  {
   "cell_type": "code",
   "outputs": [],
   "source": [
    "outcomes[\"Total Costs\"] = df[\"Total Costs\"]\n",
    "outcomes[\"Expected Number of Deaths\"] = df[\"Expected Number of Deaths\"]"
   ],
   "metadata": {
    "collapsed": false,
    "ExecuteTime": {
     "start_time": "2024-06-10T09:00:48.894364Z"
    }
   },
   "id": "12d6caf7f052b249",
   "execution_count": null
  },
  {
   "cell_type": "markdown",
   "source": [
    "## Feature importance (not required but nice to know)"
   ],
   "metadata": {
    "collapsed": false
   },
   "id": "9a0a9a9f26df4714"
  },
  {
   "cell_type": "code",
   "outputs": [],
   "source": [
    "df_feature_importance_out = df[\n",
    "    [\"Expected Number of Deaths\",\"Total Costs\",\"A.5_Expected Number of Deaths\", \"A.5 Total Costs\"]]\n",
    "\n",
    "x = experiments_unc\n",
    "y = df_feature_importance_out\n",
    "\n",
    "fs = feature_scoring.get_feature_scores_all(x, y)\n",
    "sns.heatmap(fs, cmap=\"viridis\", annot=True, vmax=0.2)\n",
    "plt.show()"
   ],
   "metadata": {
    "collapsed": false,
    "ExecuteTime": {
     "start_time": "2024-06-10T09:00:48.895362Z"
    }
   },
   "id": "6a3525fd1757d6df",
   "execution_count": null
  },
  {
   "cell_type": "markdown",
   "source": [
    "## SOBOL analysis "
   ],
   "metadata": {
    "collapsed": false
   },
   "id": "62e80744792815d2"
  },
  {
   "cell_type": "code",
   "outputs": [],
   "source": [
    "problem = get_SALib_problem(dike_model_1.uncertainties)\n"
   ],
   "metadata": {
    "collapsed": false,
    "ExecuteTime": {
     "start_time": "2024-06-10T09:00:48.895362Z"
    }
   },
   "id": "166f34ac8db26b66",
   "execution_count": null
  },
  {
   "cell_type": "code",
   "outputs": [],
   "source": [
    "sns.set_style('white')\n",
    "fig, ax = plt.subplots(2,2,figsize=(10,5))\n",
    "ax = ax.flatten()\n",
    "\n",
    "for index,kpi in enumerate(df_feature_importance_out.columns):\n",
    "    Si = sobol.analyze(problem,np.array(outcomes[kpi]), calc_second_order=True, print_to_console=False)\n",
    "    Si_filter = {k:Si[k] for k in ['ST','ST_conf','S1','S1_conf']}\n",
    "    Si_df = pd.DataFrame(Si_filter, index=problem['names'])\n",
    "    \n",
    "    \n",
    "    \n",
    "    indices = Si_df[['S1','ST']]\n",
    "    err = Si_df[['S1_conf','ST_conf']]\n",
    "    ax[index].title.set_text(kpi) \n",
    "    indices.plot.bar(yerr=err.values.T,ax=ax[index])\n",
    "    # fig.set_size_inches(8,6)\n",
    "    # fig.subplots_adjust(bottom=0.3)\n",
    "plt.tight_layout()\n",
    "plt.show()"
   ],
   "metadata": {
    "collapsed": false,
    "ExecuteTime": {
     "start_time": "2024-06-10T09:00:48.896942Z"
    }
   },
   "id": "9d2c5e5b1c80ceb2",
   "execution_count": null
  },
  {
   "cell_type": "markdown",
   "source": [
    "## PRIM is banger "
   ],
   "metadata": {
    "collapsed": false
   },
   "id": "8f8fa4f0ff0e2c0f"
  },
  {
   "cell_type": "code",
   "outputs": [],
   "source": [
    "df_feature_importance_out.columns"
   ],
   "metadata": {
    "collapsed": false,
    "ExecuteTime": {
     "start_time": "2024-06-10T09:00:48.897942Z"
    }
   },
   "id": "7d47cab6dd653b0c",
   "execution_count": null
  },
  {
   "cell_type": "markdown",
   "source": [
    "### PRIM for A5 "
   ],
   "metadata": {
    "collapsed": false
   },
   "id": "3582bb8f8a9ea087"
  },
  {
   "cell_type": "code",
   "outputs": [],
   "source": [
    "# y = ((df[\"A.5_Expected Number of Deaths\"] >= list(np.sort(df_feature_importance_out[\"A.5_Expected Number of Deaths\"]))[\n",
    "#     int(0.80 * len(df_feature_importance_out[\"A.5_Expected Number of Deaths\"]))]) & (\n",
    "#                  df_feature_importance_out['Total Expected Deaths'] >= list(np.sort(df_feature_importance_out['Total Expected Deaths']))[\n",
    "#              int(0.80 * len(df_feature_importance_out['Total Expected Deaths']))]))\n",
    "\n",
    "\n",
    "y = (df_feature_importance_out[\"A.5_Expected Number of Deaths\"] >= list(np.sort(df_feature_importance_out[\"A.5_Expected Number of Deaths\"]))[int(0.80* len(df_feature_importance_out[\"A.5_Expected Number of Deaths\"]))]) |(df_feature_importance_out['A.5 Total Costs'] >= list(np.sort(df_feature_importance_out[\"A.5 Total Costs\"]))[int(0.80* len(df_feature_importance_out['A.5 Total Costs']))])\n",
    "\n",
    "prim_alg = prim.Prim(x, y, threshold=0.8, peel_alpha=0.1)\n",
    "box1 = prim_alg.find_box()\n",
    "box1.show_tradeoff(annotated=True)\n",
    "plt.show()"
   ],
   "metadata": {
    "collapsed": false,
    "ExecuteTime": {
     "start_time": "2024-06-10T09:00:48.898937Z"
    }
   },
   "id": "8803ee57a57bf81b",
   "execution_count": null
  },
  {
   "cell_type": "code",
   "outputs": [],
   "source": [
    "box1.select(15)\n",
    "box1.show_pairs_scatter()\n",
    "fig = plt.gcf()\n",
    "fig.set_size_inches(12,12)\n",
    "plt.show()"
   ],
   "metadata": {
    "collapsed": false,
    "ExecuteTime": {
     "start_time": "2024-06-10T09:00:48.900035Z"
    }
   },
   "id": "cf1579a2ecd2ef9a",
   "execution_count": null
  },
  {
   "cell_type": "code",
   "outputs": [],
   "source": [
    "box1.inspect(15)\n",
    "box1.inspect(15, style=\"graph\")\n",
    "plt.show()"
   ],
   "metadata": {
    "collapsed": false,
    "ExecuteTime": {
     "start_time": "2024-06-10T09:00:48.901033Z"
    }
   },
   "id": "11e322931a5dd468",
   "execution_count": null
  },
  {
   "cell_type": "code",
   "outputs": [],
   "source": [
    "pd.DataFrame(box1.inspect(15, style='data')[0][1]).to_csv('data\\para_space_A5.csv')"
   ],
   "metadata": {
    "collapsed": false,
    "ExecuteTime": {
     "start_time": "2024-06-10T09:00:48.902111Z"
    }
   },
   "id": "5cfeec28715999dd",
   "execution_count": null
  },
  {
   "cell_type": "markdown",
   "source": [
    "### PRIM for all "
   ],
   "metadata": {
    "collapsed": false
   },
   "id": "197ad526c14efda6"
  },
  {
   "cell_type": "code",
   "outputs": [],
   "source": [
    "y = (df_feature_importance_out[\"Total Costs\"] >= list(np.sort(df_feature_importance_out[\"Total Costs\"]))[int(0.80* len(df_feature_importance_out[\"Total Costs\"]))]) |(df_feature_importance_out['Expected Number of Deaths'] >= list(np.sort(df_feature_importance_out[\"Expected Number of Deaths\"]))[int(0.80* len(df_feature_importance_out['Expected Number of Deaths']))])\n",
    "\n",
    "prim_alg = prim.Prim(x, y, threshold=0.8, peel_alpha=0.1)\n",
    "box2 = prim_alg.find_box()\n",
    "box2.show_tradeoff(annotated=True)\n",
    "plt.show()"
   ],
   "metadata": {
    "collapsed": false,
    "ExecuteTime": {
     "start_time": "2024-06-10T09:00:48.903109Z"
    }
   },
   "id": "3c2b12fefd152df3",
   "execution_count": null
  },
  {
   "cell_type": "code",
   "outputs": [],
   "source": [
    "box2.select(13)\n",
    "box2.show_pairs_scatter()\n",
    "fig = plt.gcf()\n",
    "fig.set_size_inches(12,12)\n",
    "plt.show()"
   ],
   "metadata": {
    "collapsed": false,
    "ExecuteTime": {
     "start_time": "2024-06-10T09:00:48.904165Z"
    }
   },
   "id": "4045b2ff64a0759",
   "execution_count": null
  },
  {
   "cell_type": "code",
   "outputs": [],
   "source": [
    "box2.inspect(13)\n",
    "box2.inspect(13, style=\"graph\")\n",
    "plt.show()"
   ],
   "metadata": {
    "collapsed": false,
    "ExecuteTime": {
     "start_time": "2024-06-10T09:00:48.905163Z"
    }
   },
   "id": "2aee767603e80b3b",
   "execution_count": null
  },
  {
   "cell_type": "code",
   "outputs": [],
   "source": [
    "pd.DataFrame(box2.inspect(13, style='data')[0][1]).to_csv('data\\para_space_all.csv')"
   ],
   "metadata": {
    "collapsed": false,
    "ExecuteTime": {
     "start_time": "2024-06-10T09:00:48.905163Z"
    }
   },
   "id": "c50106bc236bdb38",
   "execution_count": null
  }
 ],
 "metadata": {
  "kernelspec": {
   "display_name": "Python 3",
   "language": "python",
   "name": "python3"
  },
  "language_info": {
   "codemirror_mode": {
    "name": "ipython",
    "version": 2
   },
   "file_extension": ".py",
   "mimetype": "text/x-python",
   "name": "python",
   "nbconvert_exporter": "python",
   "pygments_lexer": "ipython2",
   "version": "2.7.6"
  }
 },
 "nbformat": 4,
 "nbformat_minor": 5
}
