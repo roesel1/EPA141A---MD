{
 "cells": [
  {
   "cell_type": "code",
   "outputs": [],
   "source": [
    "import numpy as np\n",
    "import scipy as sp\n",
    "import pandas as pd\n",
    "import matplotlib.pyplot as plt\n",
    "import seaborn as sns\n",
    "import networkx as nx\n",
    "from SALib.analyze import sobol\n",
    "import warnings\n",
    "from ema_workbench.analysis import feature_scoring\n",
    "from ema_workbench.em_framework.salib_samplers import get_SALib_problem\n",
    "from ema_workbench import (\n",
    "    Model,\n",
    "    Policy,\n",
    "    ema_logging,\n",
    "    SequentialEvaluator,\n",
    "    MultiprocessingEvaluator,\n",
    "    perform_experiments,\n",
    "    Samplers,\n",
    "    SequentialEvaluator,\n",
    ")\n",
    "from dike_model_function import DikeNetwork\n",
    "from problem_formulation import get_model_for_problem_formulation, sum_over, sum_over_time\n",
    "from ema_workbench.analysis import prim\n",
    "from ema_workbench.em_framework.parameters import Constant\n",
    "import pickle\n",
    "warnings.filterwarnings(\"ignore\")"
   ],
   "metadata": {
    "collapsed": false,
    "ExecuteTime": {
     "end_time": "2024-06-14T08:21:40.457047Z",
     "start_time": "2024-06-14T08:21:37.762292Z"
    }
   },
   "id": "bce20fe59c701204",
   "execution_count": 1
  },
  {
   "cell_type": "code",
   "outputs": [],
   "source": [
    "dike_model, planning_steps = get_model_for_problem_formulation(3)"
   ],
   "metadata": {
    "collapsed": false,
    "ExecuteTime": {
     "end_time": "2024-06-14T08:21:40.943207Z",
     "start_time": "2024-06-14T08:21:40.458101Z"
    }
   },
   "id": "454f793f9e319534",
   "execution_count": 2
  },
  {
   "cell_type": "code",
   "outputs": [],
   "source": [
    "ScenResul = pd.read_csv('data\\OpenScenRes.csv').drop(columns=\"Unnamed: 0\")"
   ],
   "metadata": {
    "collapsed": false,
    "ExecuteTime": {
     "end_time": "2024-06-14T08:32:40.578462Z",
     "start_time": "2024-06-14T08:32:40.565430Z"
    }
   },
   "id": "2b7581e3c6eb1e28",
   "execution_count": 10
  },
  {
   "cell_type": "code",
   "outputs": [],
   "source": [
    "ScenResul_mean =ScenResul.mean()"
   ],
   "metadata": {
    "collapsed": false,
    "ExecuteTime": {
     "end_time": "2024-06-14T08:34:53.727136Z",
     "start_time": "2024-06-14T08:34:53.721707Z"
    }
   },
   "id": "81b507c1372eb861",
   "execution_count": 17
  },
  {
   "cell_type": "code",
   "outputs": [],
   "source": [
    "epsilon = []"
   ],
   "metadata": {
    "collapsed": false
   },
   "id": "b232a600be34cb9b"
  },
  {
   "cell_type": "code",
   "outputs": [],
   "source": [
    "#load it\n",
    "with open(\"data\\ScenariosOpenExplo\", 'rb') as file2:\n",
    "    Scenarios = pickle.load(file2)"
   ],
   "metadata": {
    "collapsed": false,
    "ExecuteTime": {
     "end_time": "2024-06-13T21:32:59.734230Z",
     "start_time": "2024-06-13T21:32:59.727872Z"
    }
   },
   "id": "e26d9e1b2d7e129",
   "execution_count": 22
  },
  {
   "cell_type": "code",
   "outputs": [
    {
     "name": "stderr",
     "output_type": "stream",
     "text": [
      "  0%|                                                   | 0/10 [00:00<?, ?it/s]"
     ]
    }
   ],
   "source": [
    "from ema_workbench.em_framework.optimization import ArchiveLogger, EpsilonProgress\n",
    "\n",
    "# we need to store our results for each seed\n",
    "results = []\n",
    "convergences = []\n",
    "\n",
    "with SequentialEvaluator(dike_model) as evaluator:\n",
    "    # we run again for 5 seeds\n",
    "    for i in range(2):\n",
    "        # we create 2 covergence tracker metrics\n",
    "        # the archive logger writes the archive to disk for every x nfe\n",
    "        # the epsilon progress tracks during runtime\n",
    "        convergence_metrics = [\n",
    "            ArchiveLogger(\n",
    "                r\"C:\\Users\\roelo\\Videos\\archive\",\n",
    "                [l.name for l in dike_model.levers],\n",
    "                [o.name for o in dike_model.outcomes],\n",
    "                base_filename=f\"{i}.tar.gz\",\n",
    "            ),\n",
    "            \n",
    "            EpsilonProgress(),\n",
    "        ]\n",
    "\n",
    "        result, convergence = evaluator.optimize(\n",
    "            nfe=10,\n",
    "            searchover=\"levers\",\n",
    "            epsilons=[0.1] * len(dike_model.outcomes),\n",
    "            convergence=convergence_metrics,\n",
    "            reference = Scenarios[0]\n",
    "        )\n",
    "\n",
    "        results.append(result)\n",
    "        convergences.append(convergence)"
   ],
   "metadata": {
    "collapsed": false,
    "is_executing": true,
    "ExecuteTime": {
     "start_time": "2024-06-13T21:32:59.736431Z"
    }
   },
   "id": "aadf8664ca2dd9b4",
   "execution_count": null
  },
  {
   "cell_type": "code",
   "outputs": [],
   "source": [
    "results[0].drop(columns=[\"A.1_Expected Number of Deaths\",\"A.1_Expected Annual Damage\"],inplace=True)"
   ],
   "metadata": {
    "collapsed": false,
    "is_executing": true
   },
   "id": "3f7aa659b60cc5ad",
   "execution_count": null
  },
  {
   "cell_type": "code",
   "outputs": [],
   "source": [
    "results[1].drop(columns=[\"A.1_Expected Number of Deaths\",\"A.1_Expected Annual Damage\"],inplace=True)"
   ],
   "metadata": {
    "collapsed": false,
    "is_executing": true
   },
   "id": "f934c57171b0bae0",
   "execution_count": null
  },
  {
   "cell_type": "code",
   "outputs": [],
   "source": [
    "l=result.describe()"
   ],
   "metadata": {
    "collapsed": false,
    "is_executing": true
   },
   "id": "e024c5d41773edc7",
   "execution_count": null
  },
  {
   "cell_type": "code",
   "outputs": [],
   "source": [
    "l.loc[l.index.isin([\"min\",\"max\"])]"
   ],
   "metadata": {
    "collapsed": false,
    "is_executing": true
   },
   "id": "1582ff14d462c6d8",
   "execution_count": null
  },
  {
   "cell_type": "code",
   "outputs": [],
   "source": [
    "from optimization_tuned import epsilon_nondominated,HypervolumeMetric, Hypervolume"
   ],
   "metadata": {
    "collapsed": false,
    "is_executing": true
   },
   "id": "1552354ceb5b82ae",
   "execution_count": null
  },
  {
   "cell_type": "code",
   "outputs": [],
   "source": [
    "# from ema_workbench.em_framework.optimization import to_problem\n",
    "# \n",
    "# problem = to_problem(dike_model, searchover=\"levers\")\n",
    "# \n",
    "# reference_set = epsilon_nondominated(results, [0.05] * len(dike_model.outcomes), problem)\n",
    "\n"
   ],
   "metadata": {
    "collapsed": false,
    "is_executing": true
   },
   "id": "52f812d6c9b87318",
   "execution_count": null
  },
  {
   "cell_type": "code",
   "outputs": [],
   "source": [
    "k = r\"C:\\Users\\roelo\\Videos\\archive\"\n"
   ],
   "metadata": {
    "collapsed": false,
    "is_executing": true
   },
   "id": "544acd0a2aab6649",
   "execution_count": null
  },
  {
   "cell_type": "code",
   "outputs": [],
   "source": [
    "all_archives = []\n",
    "\n",
    "for i in range(2):\n",
    "    archives = ArchiveLogger.load_archives(k+ \"\\\\\" + f\"{i}.tar.gz\")\n",
    "    del archives[0][\"Unnamed: 0\"]\n",
    "    del archives[100][\"Unnamed: 0\"]\n",
    "    \n",
    "    del archives[0][\"A.1_Expected Number of Deaths\"]\n",
    "    del archives[100][\"A.1_Expected Number of Deaths\"]\n",
    "    \n",
    "    del archives[0][\"A.1_Expected Annual Damage\"]\n",
    "    del archives[100][\"A.1_Expected Annual Damage\"]\n",
    "    all_archives.append(archives)"
   ],
   "metadata": {
    "collapsed": false,
    "is_executing": true
   },
   "id": "7c69cae0bcbded45",
   "execution_count": null
  },
  {
   "cell_type": "code",
   "outputs": [],
   "source": [
    "all_archives"
   ],
   "metadata": {
    "collapsed": false,
    "is_executing": true
   },
   "id": "291c2388ed37366",
   "execution_count": null
  },
  {
   "cell_type": "code",
   "outputs": [],
   "source": [
    "dike_model_problem =dike_model\n",
    "dike_model_problem.outcomes.__delitem__(\"A.1_Expected Number of Deaths\")\n",
    "dike_model_problem.outcomes.__delitem__(\"A.1_Expected Annual Damage\")"
   ],
   "metadata": {
    "collapsed": false,
    "is_executing": true
   },
   "id": "20bb1c4be9a2ad3f",
   "execution_count": null
  },
  {
   "cell_type": "code",
   "outputs": [],
   "source": [
    "all_archives"
   ],
   "metadata": {
    "collapsed": false,
    "is_executing": true
   },
   "id": "3bea8a34865e2d45",
   "execution_count": null
  },
  {
   "cell_type": "code",
   "outputs": [],
   "source": [
    "dike_model_problem"
   ],
   "metadata": {
    "collapsed": false,
    "is_executing": true
   },
   "id": "6aa7c23d93620608",
   "execution_count": null
  },
  {
   "cell_type": "code",
   "outputs": [],
   "source": [
    "from optimization_tuned import (\n",
    "    HypervolumeMetric,\n",
    "    GenerationalDistanceMetric,\n",
    "    EpsilonIndicatorMetric,\n",
    "    InvertedGenerationalDistanceMetric,\n",
    "    SpacingMetric,\n",
    ")\n",
    "from ema_workbench.em_framework.optimization import to_problem\n",
    "\n",
    "problem = to_problem(dike_model_problem, searchover=\"levers\")\n",
    "\n",
    "reference_set = epsilon_nondominated(results, [0.1] * (len(dike_model.outcomes)-2), problem)\n",
    "\n",
    "hv = HypervolumeMetric(reference_set, problem)\n",
    "print(1)\n",
    "gd = GenerationalDistanceMetric(reference_set, problem, d=1)\n",
    "print(2)\n",
    "ei = EpsilonIndicatorMetric(reference_set, problem)\n",
    "print(3)\n",
    "ig = InvertedGenerationalDistanceMetric(reference_set, problem, d=1)\n",
    "print(4)\n",
    "sm = SpacingMetric(problem)\n",
    "print(5)\n",
    "\n",
    "\n",
    "metrics_by_seed = []\n",
    "for archives in all_archives:\n",
    "    metrics = []\n",
    "    for nfe, archive in archives.items():\n",
    "        print(nfe)\n",
    "        scores = {\n",
    "            # \"generational_distance\": gd.calculate(archive),\n",
    "            # \"epsilon_indicator\": ei.calculate(archive),\n",
    "            # \"inverted_gd\": ig.calculate(archive),\n",
    "            # \"spacing\": sm.calculate(archive),\n",
    "            \"nfe\": int(nfe),\n",
    "        }\n",
    "        metrics.append(scores)\n",
    "    metrics = pd.DataFrame.from_dict(metrics)\n",
    "\n",
    "    # sort metrics by number of function evaluations\n",
    "    metrics.sort_values(by=\"nfe\", inplace=True)\n",
    "    metrics_by_seed.append(metrics)"
   ],
   "metadata": {
    "collapsed": false,
    "is_executing": true
   },
   "id": "70d682951fedece2",
   "execution_count": null
  },
  {
   "cell_type": "code",
   "outputs": [],
   "source": [
    "metrics_by_seed"
   ],
   "metadata": {
    "collapsed": false,
    "is_executing": true
   },
   "id": "23a7e3d0166a6906",
   "execution_count": null
  },
  {
   "cell_type": "code",
   "outputs": [],
   "source": [
    "metrics.sort_values(by=\"nfe\", inplace=True)\n",
    "    metrics_by_seed.append(metrics)"
   ],
   "metadata": {
    "collapsed": false,
    "is_executing": true
   },
   "id": "6942b35f717b00da"
  },
  {
   "cell_type": "code",
   "outputs": [],
   "source": [
    "metrics_by_seed"
   ],
   "metadata": {
    "collapsed": false,
    "is_executing": true
   },
   "id": "c03117ce9b6f81b5",
   "execution_count": null
  },
  {
   "cell_type": "code",
   "outputs": [],
   "source": [
    "sns.set_style(\"white\")\n",
    "fig, axes = plt.subplots(nrows=6, figsize=(8, 12), sharex=True)\n",
    "\n",
    "ax1, ax2, ax3, ax4, ax5, ax6 = axes\n",
    "\n",
    "for metrics, convergence in zip(metrics_by_seed, convergences):\n",
    "    ax1.plot(metrics.nfe, metrics.hypervolume)\n",
    "    ax1.set_ylabel(\"hypervolume\")\n",
    "\n",
    "    ax2.plot(convergence.nfe, convergence.epsilon_progress)\n",
    "    ax2.set_ylabel(\"$\\epsilon$ progress\")\n",
    "\n",
    "    ax3.plot(metrics.nfe, metrics.generational_distance)\n",
    "    ax3.set_ylabel(\"generational distance\")\n",
    "\n",
    "    ax4.plot(metrics.nfe, metrics.epsilon_indicator)\n",
    "    ax4.set_ylabel(\"epsilon indicator\")\n",
    "\n",
    "    ax5.plot(metrics.nfe, metrics.inverted_gd)\n",
    "    ax5.set_ylabel(\"inverted generational\\ndistance\")\n",
    "\n",
    "    ax6.plot(metrics.nfe, metrics.spacing)\n",
    "    ax6.set_ylabel(\"spacing\")\n",
    "\n",
    "ax6.set_xlabel(\"nfe\")\n",
    "\n",
    "\n",
    "sns.despine(fig)\n",
    "\n",
    "plt.show()"
   ],
   "metadata": {
    "collapsed": false,
    "is_executing": true
   },
   "id": "8c88e6db2d727f13",
   "execution_count": null
  }
 ],
 "metadata": {
  "kernelspec": {
   "display_name": "Python 3",
   "language": "python",
   "name": "python3"
  },
  "language_info": {
   "codemirror_mode": {
    "name": "ipython",
    "version": 2
   },
   "file_extension": ".py",
   "mimetype": "text/x-python",
   "name": "python",
   "nbconvert_exporter": "python",
   "pygments_lexer": "ipython2",
   "version": "2.7.6"
  }
 },
 "nbformat": 4,
 "nbformat_minor": 5
}
