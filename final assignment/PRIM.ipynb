{
 "cells": [
  {
   "cell_type": "code",
   "execution_count": 1,
   "id": "initial_id",
   "metadata": {
    "collapsed": true,
    "ExecuteTime": {
     "end_time": "2024-06-05T10:31:13.844818Z",
     "start_time": "2024-06-05T10:31:10.134509Z"
    }
   },
   "outputs": [],
   "source": [
    "from ema_workbench import (\n",
    "    Model,\n",
    "    Policy,\n",
    "    ema_logging,\n",
    "    SequentialEvaluator,\n",
    "    MultiprocessingEvaluator\n",
    ")\n",
    "from dike_model_function import DikeNetwork  # @UnresolvedImport\n",
    "from problem_formulation import get_model_for_problem_formulation, sum_over, sum_over_time\n",
    "\n",
    "from ema_workbench import perform_experiments\n",
    "from ema_workbench import Samplers\n",
    "from ema_workbench.analysis import prim\n",
    "from ema_workbench import ema_logging\n",
    "ema_logging.log_to_stderr(ema_logging.INFO)\n",
    "import matplotlib.pyplot as plt\n",
    "import pandas as pd\n",
    "import numpy as np"
   ]
  },
  {
   "cell_type": "code",
   "execution_count": 2,
   "outputs": [],
   "source": [
    "# Create an instance of the model which is usable with the EMA workbench\n",
    "dike_model, planning_steps = get_model_for_problem_formulation(3)"
   ],
   "metadata": {
    "collapsed": false,
    "ExecuteTime": {
     "end_time": "2024-06-05T10:31:14.406941Z",
     "start_time": "2024-06-05T10:31:13.845899Z"
    }
   },
   "id": "eb152b4c1d1c1132"
  },
  {
   "cell_type": "code",
   "execution_count": 3,
   "outputs": [],
   "source": [
    "zero_policy = {\"DaysToThreat\": 0}\n",
    "zero_policy.update({f\"DikeIncrease {n}\": 0 for n in planning_steps})\n",
    "zero_policy.update({f\"RfR {n}\": 0 for n in planning_steps})\n",
    "\n",
    "pol0 = {}\n",
    "\n",
    "for key in dike_model.levers:\n",
    "    s1, s2 = key.name.split(\"_\")\n",
    "    pol0.update({key.name: zero_policy[s2]})\n",
    "\n",
    "policy0 = Policy(\"Policy 0\", **pol0)"
   ],
   "metadata": {
    "collapsed": false,
    "ExecuteTime": {
     "end_time": "2024-06-05T10:31:14.415149Z",
     "start_time": "2024-06-05T10:31:14.408073Z"
    }
   },
   "id": "5985d84df2e7801b"
  },
  {
   "cell_type": "code",
   "execution_count": 4,
   "outputs": [
    {
     "name": "stderr",
     "output_type": "stream",
     "text": [
      "[MainProcess/INFO] performing 40 scenarios * 1 policies * 1 model(s) = 40 experiments\n",
      "  0%|                                                   | 0/40 [00:00<?, ?it/s][MainProcess/INFO] performing experiments sequentially\n",
      "100%|██████████████████████████████████████████| 40/40 [00:20<00:00,  1.94it/s]\n",
      "[MainProcess/INFO] experiments finished\n"
     ]
    }
   ],
   "source": [
    "with SequentialEvaluator(dike_model) as evaluator:\n",
    "    results = evaluator.perform_experiments(scenarios=40,policies=policy0,uncertainty_sampling=Samplers.LHS)\n",
    "\n",
    "experiments, outcomes = results"
   ],
   "metadata": {
    "collapsed": false,
    "ExecuteTime": {
     "end_time": "2024-06-05T10:31:35.138497Z",
     "start_time": "2024-06-05T10:31:14.416658Z"
    }
   },
   "id": "e2f085ed339655d2"
  },
  {
   "cell_type": "code",
   "execution_count": 5,
   "outputs": [],
   "source": [
    "x = experiments.iloc[:, :19]\n",
    "outcomes_array = outcomes['A.5_Expected Number of Deaths']\n",
    "y = outcomes_array < np.percentile(outcomes_array, 10)"
   ],
   "metadata": {
    "collapsed": false,
    "ExecuteTime": {
     "end_time": "2024-06-05T10:31:35.147024Z",
     "start_time": "2024-06-05T10:31:35.139645Z"
    }
   },
   "id": "4ed9361a49c23ef4"
  },
  {
   "cell_type": "code",
   "outputs": [],
   "source": [],
   "metadata": {
    "collapsed": false
   },
   "id": "7bf9594f951b316e"
  },
  {
   "cell_type": "code",
   "outputs": [],
   "source": [
    "y = outcomes[\"A.5_Expected Number of Deaths\"] <= list(np.sort(outcomes[\"A.5_Expected Number of Deaths\"]))[int(0.20* len(outcomes[\"A.5_Expected Number of Deaths\"]))]"
   ],
   "metadata": {
    "collapsed": false,
    "ExecuteTime": {
     "end_time": "2024-06-05T10:32:36.357502Z",
     "start_time": "2024-06-05T10:32:36.350730Z"
    }
   },
   "id": "4a17df5dca1b8809",
   "execution_count": 9
  },
  {
   "cell_type": "code",
   "outputs": [
    {
     "data": {
      "text/plain": "0.0"
     },
     "execution_count": 11,
     "metadata": {},
     "output_type": "execute_result"
    }
   ],
   "source": [
    "k"
   ],
   "metadata": {
    "collapsed": false,
    "ExecuteTime": {
     "end_time": "2024-06-05T10:33:36.399209Z",
     "start_time": "2024-06-05T10:33:36.392027Z"
    }
   },
   "id": "4bc3c295ff0567ce",
   "execution_count": 11
  },
  {
   "cell_type": "code",
   "execution_count": 10,
   "outputs": [
    {
     "name": "stderr",
     "output_type": "stream",
     "text": [
      "[MainProcess/INFO] 40 points remaining, containing 31 cases of interest\n",
      "[MainProcess/INFO] mean: 1.0, mass: 0.7, coverage: 0.9032258064516129, density: 1.0 restricted_dimensions: 2\n"
     ]
    },
    {
     "data": {
      "text/plain": "<Figure size 640x480 with 2 Axes>",
      "image/png": "[encoded data removed]"
     },
     "metadata": {},
     "output_type": "display_data"
    }
   ],
   "source": [
    "prim_alg = prim.Prim(x, y, threshold=0.8, peel_alpha=0.1)\n",
    "box1 = prim_alg.find_box()\n",
    "box1.show_tradeoff(annotated=True)\n",
    "plt.show()"
   ],
   "metadata": {
    "collapsed": false,
    "ExecuteTime": {
     "end_time": "2024-06-05T10:32:38.025862Z",
     "start_time": "2024-06-05T10:32:37.587772Z"
    }
   },
   "id": "7808c1f8a6a7e4d7"
  },
  {
   "cell_type": "code",
   "execution_count": null,
   "outputs": [],
   "source": [],
   "metadata": {
    "collapsed": false,
    "ExecuteTime": {
     "start_time": "2024-06-05T10:31:35.684895Z"
    }
   },
   "id": "f1208cf2ed58c6ac"
  }
 ],
 "metadata": {
  "kernelspec": {
   "display_name": "Python 3",
   "language": "python",
   "name": "python3"
  },
  "language_info": {
   "codemirror_mode": {
    "name": "ipython",
    "version": 2
   },
   "file_extension": ".py",
   "mimetype": "text/x-python",
   "name": "python",
   "nbconvert_exporter": "python",
   "pygments_lexer": "ipython2",
   "version": "2.7.6"
  }
 },
 "nbformat": 4,
 "nbformat_minor": 5
}
