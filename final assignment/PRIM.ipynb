{
 "cells": [
  {
   "cell_type": "code",
   "execution_count": 1,
   "id": "initial_id",
   "metadata": {
    "collapsed": true,
    "ExecuteTime": {
     "end_time": "2024-06-05T12:35:49.562392400Z",
     "start_time": "2024-06-05T12:35:46.597602400Z"
    }
   },
   "outputs": [],
   "source": [
    "from ema_workbench import (\n",
    "    Model,\n",
    "    Policy,\n",
    "    ema_logging,\n",
    "    SequentialEvaluator,\n",
    "    MultiprocessingEvaluator\n",
    ")\n",
    "from dike_model_function import DikeNetwork  # @UnresolvedImport\n",
    "from problem_formulation import get_model_for_problem_formulation, sum_over, sum_over_time\n",
    "\n",
    "from ema_workbench import perform_experiments\n",
    "from ema_workbench import Samplers\n",
    "from ema_workbench.analysis import prim\n",
    "from ema_workbench import ema_logging\n",
    "ema_logging.log_to_stderr(ema_logging.INFO)\n",
    "import matplotlib.pyplot as plt\n",
    "import pandas as pd\n",
    "import numpy as np"
   ]
  },
  {
   "cell_type": "code",
   "execution_count": 2,
   "outputs": [],
   "source": [
    "# Create an instance of the model which is usable with the EMA workbench\n",
    "dike_model, planning_steps = get_model_for_problem_formulation(3)"
   ],
   "metadata": {
    "collapsed": false,
    "ExecuteTime": {
     "end_time": "2024-06-05T12:35:50.064334700Z",
     "start_time": "2024-06-05T12:35:49.568237700Z"
    }
   },
   "id": "eb152b4c1d1c1132"
  },
  {
   "cell_type": "code",
   "execution_count": 3,
   "outputs": [],
   "source": [
    "zero_policy = {\"DaysToThreat\": 0}\n",
    "zero_policy.update({f\"DikeIncrease {n}\": 0 for n in planning_steps})\n",
    "zero_policy.update({f\"RfR {n}\": 0 for n in planning_steps})\n",
    "\n",
    "pol0 = {}\n",
    "\n",
    "for key in dike_model.levers:\n",
    "    s1, s2 = key.name.split(\"_\")\n",
    "    pol0.update({key.name: zero_policy[s2]})\n",
    "\n",
    "policy0 = Policy(\"Policy 0\", **pol0)"
   ],
   "metadata": {
    "collapsed": false,
    "ExecuteTime": {
     "end_time": "2024-06-05T12:35:50.075975Z",
     "start_time": "2024-06-05T12:35:50.070621700Z"
    }
   },
   "id": "5985d84df2e7801b"
  },
  {
   "cell_type": "code",
   "execution_count": 4,
   "outputs": [
    {
     "name": "stderr",
     "output_type": "stream",
     "text": [
      "[MainProcess/INFO] pool started with 12 workers\n",
      "[MainProcess/INFO] performing 2000 scenarios * 1 policies * 1 model(s) = 2000 experiments\n",
      "100%|██████████████████████████████████████| 2000/2000 [03:26<00:00,  9.71it/s]\n",
      "[MainProcess/INFO] experiments finished\n",
      "[MainProcess/INFO] terminating pool\n"
     ]
    }
   ],
   "source": [
    "with MultiprocessingEvaluator(dike_model) as evaluator:\n",
    "    results = evaluator.perform_experiments(scenarios=2000,policies=policy0,uncertainty_sampling=Samplers.LHS)\n",
    "\n",
    "experiments, outcomes = results"
   ],
   "metadata": {
    "collapsed": false,
    "ExecuteTime": {
     "end_time": "2024-06-05T12:39:57.716714800Z",
     "start_time": "2024-06-05T12:35:50.074863200Z"
    }
   },
   "id": "e2f085ed339655d2"
  },
  {
   "cell_type": "code",
   "execution_count": 5,
   "outputs": [],
   "source": [
    "df_outcomes = pd.DataFrame(outcomes)\n",
    "df_outcomes[\"Expected Number of Deaths\"] = df_outcomes[\"A.1_Expected Number of Deaths\"] + df_outcomes[\"A.2_Expected Number of Deaths\"] + df_outcomes[\"A.3_Expected Number of Deaths\"] + df_outcomes[\"A.4_Expected Number of Deaths\"] + df_outcomes[\"A.5_Expected Number of Deaths\"]\n",
    "df_outcomes.to_csv(r'C:\\Users\\simon\\PycharmProjects\\EPA141A---MD\\final assignment\\Results\\Outcomes_PRIM.csv')\n",
    "df_experiments = pd.DataFrame(experiments)\n",
    "df_experiments.to_csv(r'C:\\Users\\simon\\PycharmProjects\\EPA141A---MD\\final assignment\\Results\\Experiments_PRIM.csv')"
   ],
   "metadata": {
    "collapsed": false,
    "ExecuteTime": {
     "end_time": "2024-06-05T12:39:57.823293900Z",
     "start_time": "2024-06-05T12:39:57.722717600Z"
    }
   },
   "id": "c09bbf86b9c41102"
  },
  {
   "cell_type": "code",
   "outputs": [],
   "source": [
    "x = experiments.iloc[:, :19]\n",
    "y = ((df_outcomes[\"A.5_Expected Number of Deaths\"] >= list(np.sort(df_outcomes[\"A.5_Expected Number of Deaths\"]))[int(0.80* len(df_outcomes[\"A.5_Expected Number of Deaths\"]))]) & (df_outcomes[\"Expected Number of Deaths\"] >= list(np.sort(df_outcomes[\"Expected Number of Deaths\"]))[int(0.80* len(df_outcomes[\"Expected Number of Deaths\"]))]))"
   ],
   "metadata": {
    "collapsed": false,
    "ExecuteTime": {
     "end_time": "2024-06-05T12:39:57.838621700Z",
     "start_time": "2024-06-05T12:39:57.823293900Z"
    }
   },
   "id": "4a17df5dca1b8809",
   "execution_count": 6
  },
  {
   "cell_type": "code",
   "execution_count": 7,
   "outputs": [
    {
     "name": "stderr",
     "output_type": "stream",
     "text": [
      "[MainProcess/INFO] 2000 points remaining, containing 34 cases of interest\n"
     ]
    },
    {
     "ename": "AttributeError",
     "evalue": "module 'numpy' has no attribute 'int'.\n`np.int` was a deprecated alias for the builtin `int`. To avoid this error in existing code, use `int` by itself. Doing this will not modify any behavior and is safe. When replacing `np.int`, you may wish to use e.g. `np.int64` or `np.int32` to specify the precision. If you wish to review your current use, check the release note link for additional information.\nThe aliases was originally deprecated in NumPy 1.20; for more details and guidance see the original release note at:\n    https://numpy.org/devdocs/release/1.20.0-notes.html#deprecations",
     "output_type": "error",
     "traceback": [
      "\u001B[1;31m---------------------------------------------------------------------------\u001B[0m",
      "\u001B[1;31mAttributeError\u001B[0m                            Traceback (most recent call last)",
      "Cell \u001B[1;32mIn[7], line 2\u001B[0m\n\u001B[0;32m      1\u001B[0m prim_alg \u001B[38;5;241m=\u001B[39m prim\u001B[38;5;241m.\u001B[39mPrim(x, y, threshold\u001B[38;5;241m=\u001B[39m\u001B[38;5;241m0.8\u001B[39m, peel_alpha\u001B[38;5;241m=\u001B[39m\u001B[38;5;241m0.1\u001B[39m)\n\u001B[1;32m----> 2\u001B[0m box1 \u001B[38;5;241m=\u001B[39m \u001B[43mprim_alg\u001B[49m\u001B[38;5;241;43m.\u001B[39;49m\u001B[43mfind_box\u001B[49m\u001B[43m(\u001B[49m\u001B[43m)\u001B[49m\n\u001B[0;32m      3\u001B[0m box1\u001B[38;5;241m.\u001B[39mshow_tradeoff(annotated\u001B[38;5;241m=\u001B[39m\u001B[38;5;28;01mTrue\u001B[39;00m)\n\u001B[0;32m      4\u001B[0m plt\u001B[38;5;241m.\u001B[39mshow()\n",
      "File \u001B[1;32m~\\venv\\Lib\\site-packages\\ema_workbench\\analysis\\prim.py:1155\u001B[0m, in \u001B[0;36mPrim.find_box\u001B[1;34m(self)\u001B[0m\n\u001B[0;32m   1152\u001B[0m _logger\u001B[38;5;241m.\u001B[39mdebug(\u001B[38;5;124m\"\u001B[39m\u001B[38;5;124mpeeling completed\u001B[39m\u001B[38;5;124m\"\u001B[39m)\n\u001B[0;32m   1154\u001B[0m \u001B[38;5;66;03m# perform pasting phase\u001B[39;00m\n\u001B[1;32m-> 1155\u001B[0m box \u001B[38;5;241m=\u001B[39m \u001B[38;5;28;43mself\u001B[39;49m\u001B[38;5;241;43m.\u001B[39;49m\u001B[43m_paste\u001B[49m\u001B[43m(\u001B[49m\u001B[43mbox\u001B[49m\u001B[43m)\u001B[49m\n\u001B[0;32m   1156\u001B[0m _logger\u001B[38;5;241m.\u001B[39mdebug(\u001B[38;5;124m\"\u001B[39m\u001B[38;5;124mpasting completed\u001B[39m\u001B[38;5;124m\"\u001B[39m)\n\u001B[0;32m   1158\u001B[0m message \u001B[38;5;241m=\u001B[39m \u001B[38;5;124m\"\u001B[39m\u001B[38;5;124mmean: \u001B[39m\u001B[38;5;132;01m{0}\u001B[39;00m\u001B[38;5;124m, mass: \u001B[39m\u001B[38;5;132;01m{1}\u001B[39;00m\u001B[38;5;124m, coverage: \u001B[39m\u001B[38;5;132;01m{2}\u001B[39;00m\u001B[38;5;124m, density: \u001B[39m\u001B[38;5;132;01m{3}\u001B[39;00m\u001B[38;5;124m restricted_dimensions: \u001B[39m\u001B[38;5;132;01m{4}\u001B[39;00m\u001B[38;5;124m\"\u001B[39m\n",
      "File \u001B[1;32m~\\venv\\Lib\\site-packages\\ema_workbench\\analysis\\prim.py:1480\u001B[0m, in \u001B[0;36mPrim._paste\u001B[1;34m(self, box)\u001B[0m\n\u001B[0;32m   1478\u001B[0m         \u001B[38;5;28;01mcontinue\u001B[39;00m\n\u001B[0;32m   1479\u001B[0m     _logger\u001B[38;5;241m.\u001B[39mdebug(\u001B[38;5;124mf\u001B[39m\u001B[38;5;124m\"\u001B[39m\u001B[38;5;124mpasting \u001B[39m\u001B[38;5;132;01m{\u001B[39;00mu\u001B[38;5;132;01m}\u001B[39;00m\u001B[38;5;124m\"\u001B[39m)\n\u001B[1;32m-> 1480\u001B[0m     pastes \u001B[38;5;241m=\u001B[39m \u001B[38;5;28;43mself\u001B[39;49m\u001B[38;5;241;43m.\u001B[39;49m\u001B[43m_pastes\u001B[49m\u001B[43m[\u001B[49m\u001B[43mdtype\u001B[49m\u001B[43m]\u001B[49m\u001B[43m(\u001B[49m\u001B[38;5;28;43mself\u001B[39;49m\u001B[43m,\u001B[49m\u001B[43m \u001B[49m\u001B[43mbox\u001B[49m\u001B[43m,\u001B[49m\u001B[43m \u001B[49m\u001B[43mu\u001B[49m\u001B[43m,\u001B[49m\u001B[43m \u001B[49m\u001B[43mx\u001B[49m\u001B[43m,\u001B[49m\u001B[43m \u001B[49m\u001B[43mrestricted_dims\u001B[49m\u001B[43m)\u001B[49m\n\u001B[0;32m   1481\u001B[0m     [possible_pastes\u001B[38;5;241m.\u001B[39mappend(entry) \u001B[38;5;28;01mfor\u001B[39;00m entry \u001B[38;5;129;01min\u001B[39;00m pastes]\n\u001B[0;32m   1482\u001B[0m \u001B[38;5;28;01mif\u001B[39;00m \u001B[38;5;129;01mnot\u001B[39;00m possible_pastes:\n\u001B[0;32m   1483\u001B[0m     \u001B[38;5;66;03m# there is no peel identified, so return box\u001B[39;00m\n",
      "File \u001B[1;32m~\\venv\\Lib\\site-packages\\ema_workbench\\analysis\\prim.py:1567\u001B[0m, in \u001B[0;36mPrim._real_paste\u001B[1;34m(self, box, u, x, resdim)\u001B[0m\n\u001B[0;32m   1565\u001B[0m dtype \u001B[38;5;241m=\u001B[39m box_paste[u]\u001B[38;5;241m.\u001B[39mdtype\n\u001B[0;32m   1566\u001B[0m \u001B[38;5;28;01mif\u001B[39;00m dtype \u001B[38;5;241m==\u001B[39m np\u001B[38;5;241m.\u001B[39mint32:\n\u001B[1;32m-> 1567\u001B[0m     paste_value \u001B[38;5;241m=\u001B[39m \u001B[43mnp\u001B[49m\u001B[38;5;241;43m.\u001B[39;49m\u001B[43mint\u001B[49m(paste_value)\n\u001B[0;32m   1569\u001B[0m box_paste\u001B[38;5;241m.\u001B[39mloc[i, u] \u001B[38;5;241m=\u001B[39m paste_value\n\u001B[0;32m   1570\u001B[0m logical \u001B[38;5;241m=\u001B[39m sdutil\u001B[38;5;241m.\u001B[39m_in_box(x[resdim], box_paste[resdim])\n",
      "File \u001B[1;32m~\\venv\\Lib\\site-packages\\numpy\\__init__.py:338\u001B[0m, in \u001B[0;36m__getattr__\u001B[1;34m(attr)\u001B[0m\n\u001B[0;32m    333\u001B[0m     warnings\u001B[38;5;241m.\u001B[39mwarn(\n\u001B[0;32m    334\u001B[0m         \u001B[38;5;124mf\u001B[39m\u001B[38;5;124m\"\u001B[39m\u001B[38;5;124mIn the future `np.\u001B[39m\u001B[38;5;132;01m{\u001B[39;00mattr\u001B[38;5;132;01m}\u001B[39;00m\u001B[38;5;124m` will be defined as the \u001B[39m\u001B[38;5;124m\"\u001B[39m\n\u001B[0;32m    335\u001B[0m         \u001B[38;5;124m\"\u001B[39m\u001B[38;5;124mcorresponding NumPy scalar.\u001B[39m\u001B[38;5;124m\"\u001B[39m, \u001B[38;5;167;01mFutureWarning\u001B[39;00m, stacklevel\u001B[38;5;241m=\u001B[39m\u001B[38;5;241m2\u001B[39m)\n\u001B[0;32m    337\u001B[0m \u001B[38;5;28;01mif\u001B[39;00m attr \u001B[38;5;129;01min\u001B[39;00m __former_attrs__:\n\u001B[1;32m--> 338\u001B[0m     \u001B[38;5;28;01mraise\u001B[39;00m \u001B[38;5;167;01mAttributeError\u001B[39;00m(__former_attrs__[attr])\n\u001B[0;32m    340\u001B[0m \u001B[38;5;28;01mif\u001B[39;00m attr \u001B[38;5;241m==\u001B[39m \u001B[38;5;124m'\u001B[39m\u001B[38;5;124mtesting\u001B[39m\u001B[38;5;124m'\u001B[39m:\n\u001B[0;32m    341\u001B[0m     \u001B[38;5;28;01mimport\u001B[39;00m \u001B[38;5;21;01mnumpy\u001B[39;00m\u001B[38;5;21;01m.\u001B[39;00m\u001B[38;5;21;01mtesting\u001B[39;00m \u001B[38;5;28;01mas\u001B[39;00m \u001B[38;5;21;01mtesting\u001B[39;00m\n",
      "\u001B[1;31mAttributeError\u001B[0m: module 'numpy' has no attribute 'int'.\n`np.int` was a deprecated alias for the builtin `int`. To avoid this error in existing code, use `int` by itself. Doing this will not modify any behavior and is safe. When replacing `np.int`, you may wish to use e.g. `np.int64` or `np.int32` to specify the precision. If you wish to review your current use, check the release note link for additional information.\nThe aliases was originally deprecated in NumPy 1.20; for more details and guidance see the original release note at:\n    https://numpy.org/devdocs/release/1.20.0-notes.html#deprecations"
     ]
    }
   ],
   "source": [
    "prim_alg = prim.Prim(x, y, threshold=0.8, peel_alpha=0.1)\n",
    "box1 = prim_alg.find_box()\n",
    "box1.show_tradeoff(annotated=True)\n",
    "plt.show()"
   ],
   "metadata": {
    "collapsed": false,
    "ExecuteTime": {
     "end_time": "2024-06-05T12:39:59.963694900Z",
     "start_time": "2024-06-05T12:39:57.840214Z"
    }
   },
   "id": "7808c1f8a6a7e4d7"
  },
  {
   "cell_type": "code",
   "execution_count": null,
   "outputs": [],
   "source": [
    "box1.select(0)\n",
    "box1.show_pairs_scatter()\n",
    "fig = plt.gcf()\n",
    "fig.set_size_inches(12,12)\n",
    "plt.show()"
   ],
   "metadata": {
    "collapsed": false,
    "ExecuteTime": {
     "start_time": "2024-06-05T12:39:59.960654Z"
    }
   },
   "id": "f1208cf2ed58c6ac"
  },
  {
   "cell_type": "code",
   "execution_count": null,
   "outputs": [],
   "source": [],
   "metadata": {
    "collapsed": false,
    "ExecuteTime": {
     "start_time": "2024-06-05T12:39:59.963694900Z"
    }
   },
   "id": "c10462a5fe221f91"
  }
 ],
 "metadata": {
  "kernelspec": {
   "display_name": "Python 3",
   "language": "python",
   "name": "python3"
  },
  "language_info": {
   "codemirror_mode": {
    "name": "ipython",
    "version": 2
   },
   "file_extension": ".py",
   "mimetype": "text/x-python",
   "name": "python",
   "nbconvert_exporter": "python",
   "pygments_lexer": "ipython2",
   "version": "2.7.6"
  }
 },
 "nbformat": 4,
 "nbformat_minor": 5
}
