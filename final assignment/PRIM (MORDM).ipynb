{
 "cells": [
  {
   "cell_type": "code",
   "execution_count": null,
   "id": "initial_id",
   "metadata": {
    "collapsed": true
   },
   "outputs": [],
   "source": [
    "import pandas as pd\n",
    "import numpy as np\n",
    "import scipy as sp\n",
    "import pandas as pd\n",
    "import matplotlib.pyplot as plt\n",
    "import seaborn as sns\n",
    "import networkx as nx\n",
    "from SALib.analyze import sobol\n",
    "import warnings\n",
    "from ema_workbench.analysis import feature_scoring\n",
    "from ema_workbench.em_framework.salib_samplers import get_SALib_problem\n",
    "from ema_workbench import (\n",
    "    Model,\n",
    "    Policy,\n",
    "    ema_logging,\n",
    "    SequentialEvaluator,\n",
    "    MultiprocessingEvaluator,\n",
    "    perform_experiments,\n",
    "    Samplers,\n",
    "    SequentialEvaluator,\n",
    ")\n",
    "# from dike_model_function import DikeNetwork \n",
    "from problem_formulation import get_model_for_problem_formulation, sum_over, sum_over_time\n",
    "from ema_workbench.analysis import prim\n",
    "from ema_workbench.em_framework.parameters import Constant\n",
    "\n",
    "warnings.filterwarnings(\"ignore\")"
   ]
  },
  {
   "cell_type": "code",
   "execution_count": 1,
   "outputs": [
    {
     "ename": "IndentationError",
     "evalue": "expected an indented block after 'for' statement on line 8 (3133590997.py, line 12)",
     "output_type": "error",
     "traceback": [
      "\u001B[1;36m  Cell \u001B[1;32mIn[1], line 12\u001B[1;36m\u001B[0m\n\u001B[1;33m    zero_policy = {\"DaysToThreat\": 0}\u001B[0m\n\u001B[1;37m    ^\u001B[0m\n\u001B[1;31mIndentationError\u001B[0m\u001B[1;31m:\u001B[0m expected an indented block after 'for' statement on line 8\n"
     ]
    }
   ],
   "source": [
    "dike_model, planning_steps = get_model_for_problem_formulation(6)\n",
    "\n",
    "# Select the policy levers from the results\n",
    "policy_levers = results[['SELECT LEVERS COLUMNS']] # Results haal je uit optimization\n",
    "# Create a dict with the number of the candidate strategy as key and as value a dict containing the policy levers of that strategy\n",
    "policy = {index: {p: row[p] for p in dike_model.levers} for index, row in policy_levers.iterrows()}\n",
    "\n",
    "\n",
    "# ROELOFS CODE:\n",
    "# zero_policy = {\"DaysToThreat\": 0}\n",
    "# zero_policy.update({f\"DikeIncrease {n}\": 0 for n in planning_steps})\n",
    "# zero_policy.update({f\"RfR {n}\": 0 for n in planning_steps})\n",
    "# \n",
    "# pol0 = {}\n",
    "# #\n",
    "# for key in dike_model_1.levers:\n",
    "#     s1, s2 = key.name.split(\"_\")\n",
    "#     pol0.update({key.name: zero_policy[s2]})\n",
    "# \n",
    "# policy0 = Policy(\"Policy 0\", **pol0)"
   ],
   "metadata": {
    "collapsed": false,
    "ExecuteTime": {
     "end_time": "2024-06-17T11:33:23.341603700Z",
     "start_time": "2024-06-17T11:33:23.331850700Z"
    }
   },
   "id": "9a2cc01877e8b569"
  },
  {
   "cell_type": "code",
   "execution_count": null,
   "outputs": [],
   "source": [
    "with MultiprocessingEvaluator(dike_model) as evaluator:\n",
    "    results = evaluator.perform_experiments(scenarios=15000,policies=list(policy.values()),uncertainty_sampling=Samplers.LHS)\n",
    "\n",
    "experiments, outcomes = results"
   ],
   "metadata": {
    "collapsed": false
   },
   "id": "aa131192653bd1d3"
  },
  {
   "cell_type": "code",
   "execution_count": null,
   "outputs": [],
   "source": [
    "df_outcomes = pd.DataFrame(outcomes)"
   ],
   "metadata": {
    "collapsed": false
   },
   "id": "da943c91cb91225d"
  },
  {
   "cell_type": "code",
   "execution_count": null,
   "outputs": [],
   "source": [
    "x = experiments\n",
    "\n",
    "y = ((df_outcomes[\"A.5_Expected Number of Deaths\"] > list(np.sort(df_outcomes[\"A.5_Expected Number of Deaths\"]))[np.int64(0.80* len(df_outcomes[\"A.5_Expected Number of Deaths\"]))])\n",
    "    |(df_outcomes['A.5_Expected Annual Damage'] > list(np.sort(df_outcomes['A.5_Expected Annual Damage']))[np.int64(0.80* len(df_outcomes['A.5_Expected Annual Damage']))])\n",
    "     )\n",
    "\n",
    "prim_alg = prim.Prim(x, y, threshold=0.8,peel_alpha=0.1)\n",
    "box1 = prim_alg.find_box()\n",
    "box1.show_tradeoff(annotated=True)\n",
    "plt.show()"
   ],
   "metadata": {
    "collapsed": false
   },
   "id": "a3f76ac0e77a54b4"
  },
  {
   "cell_type": "code",
   "execution_count": null,
   "outputs": [],
   "source": [
    "pd.DataFrame(box1.inspect(16, style='data')[0][1]).to_csv('data\\A5_space_Prim3.csv')"
   ],
   "metadata": {
    "collapsed": false
   },
   "id": "47cc9d1917bc7c7b"
  },
  {
   "cell_type": "code",
   "execution_count": null,
   "outputs": [],
   "source": [
    "y = (\n",
    "    (df_outcomes['Expected Number of Deaths'] > list(np.sort(df_outcomes[\"Expected Number of Deaths\"]))[np.int64(0.8* len(df_outcomes['Expected Number of Deaths']))])\n",
    "     |(df_outcomes['Expected Annual Damage'] > list(np.sort(df_outcomes[\"Expected Annual Damage\"]))[np.int64(0.8* len(df_outcomes['Expected Annual Damage']))])\n",
    "     )\n",
    "# (df_feature_importance_out[\"Total Costs\"] >= list(np.sort(df_feature_importance_out[\"Total Costs\"]))[int(0.80* len(df_feature_importance_out[\"Total Costs\"]))]) \n",
    "#      |\n",
    "prim_alg = prim.Prim(x, y, threshold=0.95,peel_alpha=0.1)\n",
    "box2 = prim_alg.find_box()\n",
    "box2.show_tradeoff(annotated=True)\n",
    "plt.show()"
   ],
   "metadata": {
    "collapsed": false
   },
   "id": "21d48a1a5c3a1f79"
  },
  {
   "cell_type": "code",
   "execution_count": null,
   "outputs": [],
   "source": [
    "pd.DataFrame(box2.inspect(16, style='data')[0][1]).to_csv('data\\All_space_Prim3.csv')"
   ],
   "metadata": {
    "collapsed": false
   },
   "id": "e4af352cc9a34124"
  },
  {
   "cell_type": "code",
   "execution_count": null,
   "outputs": [],
   "source": [
    "from Convience_fun import create_scenario\n",
    "import multirange as mr\n",
    "\n",
    "df_param_space_A5 = (pd.read_csv('data/A5_space_Prim3.csv').drop(0).rename(columns={\"Unnamed: 0\": \"Variable\"}))\n",
    "df_param_space_all = (pd.read_csv('data/All_space_Prim3.csv').drop(0).rename(columns={\"Unnamed: 0\": \"Variable\"}))\n",
    "\n",
    "# pd.read_csv('data/para_space_all.csv').drop(0).rename(columns={\"Unnamed: 0\": \"Variable\"})\n",
    "\n",
    "dike_model, planning_steps = get_model_for_problem_formulation(6)\n",
    "\n",
    "\n",
    "def create_scenario_from_box(all, a5):\n",
    "    para_list = []\n",
    "    for uncertainty in dike_model.uncertainties:\n",
    "        # print((variable in df_param_space_A5.Variable))\n",
    "        variable = uncertainty.name\n",
    "        # print(variable)\n",
    "        if (variable in list(df_param_space_A5.Variable)) & (variable in list(df_param_space_all.Variable)) & (\n",
    "                all + a5 == 2):\n",
    "            min_1 = float(\n",
    "                df_param_space_A5[df_param_space_A5['Variable'] == variable][df_param_space_A5.columns[1]].values[\n",
    "                    0]) * 10000\n",
    "            max_1 = float(\n",
    "                df_param_space_A5[df_param_space_A5['Variable'] == variable][df_param_space_A5.columns[2]].values[\n",
    "                    0]) * 10000\n",
    "\n",
    "            min_2 = float(\n",
    "                df_param_space_all[df_param_space_all['Variable'] == variable][df_param_space_all.columns[1]].values[\n",
    "                    0]) * 10000\n",
    "            max_2 = float(\n",
    "                df_param_space_all[df_param_space_all['Variable'] == variable][df_param_space_all.columns[2]].values[\n",
    "                    0]) * 10000\n",
    "\n",
    "            boundaries = mr.overlap(range(int(min_1), int(max_1)), range(int(min_2), int(max_2)))\n",
    "            para_list.append((boundaries.start + (boundaries.stop - boundaries.start) / 2) / 10000)\n",
    "            print((boundaries.start + (boundaries.stop - boundaries.start) / 2) / 10000)\n",
    "        elif (variable in list(df_param_space_A5.Variable)) & (a5 == True):\n",
    "            min_1 = float(\n",
    "                df_param_space_A5[df_param_space_A5['Variable'] == variable][df_param_space_A5.columns[1]].values[0])\n",
    "            max_1 = float(\n",
    "                df_param_space_A5[df_param_space_A5['Variable'] == variable][df_param_space_A5.columns[2]].values[0])\n",
    "\n",
    "            para_list.append((min_1 + (max_1 - min_1) / 2))\n",
    "        elif (variable in list(df_param_space_all.Variable)) & (all == True):\n",
    "            min_2 = float(\n",
    "                df_param_space_all[df_param_space_all['Variable'] == variable][df_param_space_all.columns[1]].values[0])\n",
    "            max_2 = float(\n",
    "                df_param_space_all[df_param_space_all['Variable'] == variable][df_param_space_all.columns[2]].values[0])\n",
    "\n",
    "            para_list.append((min_2 + (max_2 - min_2) / 2))\n",
    "        elif variable.startswith(\"d\"):\n",
    "            para_list.append(3.5)\n",
    "        elif variable == \"A.0_ID flood wave shape\":\n",
    "            para_list.append(17)\n",
    "        elif variable.endswith(\"Brate\"):\n",
    "            para_list.append(1.5)\n",
    "        else:\n",
    "            para_list.append((uncertainty.lower_bound + (uncertainty.upper_bound - uncertainty.lower_bound) / 2))\n",
    "\n",
    "    return create_scenario(para_list)\n",
    "\n",
    "Scenarios_MOEA = [create_scenario_from_box(all=True, a5=True), create_scenario_from_box(all=True, a5=False),\n",
    "                  create_scenario_from_box(all=False, a5=True)]\n",
    "import pickle\n",
    "\n",
    "with open(\"data\\ScenariosOpenExplo\", 'wb') as file:\n",
    "    pickle.dump(Scenarios_MOEA, file) "
   ],
   "metadata": {
    "collapsed": false
   },
   "id": "bd87b5cea7c1d555"
  }
 ],
 "metadata": {
  "kernelspec": {
   "display_name": "Python 3",
   "language": "python",
   "name": "python3"
  },
  "language_info": {
   "codemirror_mode": {
    "name": "ipython",
    "version": 2
   },
   "file_extension": ".py",
   "mimetype": "text/x-python",
   "name": "python",
   "nbconvert_exporter": "python",
   "pygments_lexer": "ipython2",
   "version": "2.7.6"
  }
 },
 "nbformat": 4,
 "nbformat_minor": 5
}
