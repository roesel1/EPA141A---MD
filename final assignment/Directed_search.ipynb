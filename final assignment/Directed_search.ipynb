{
 "cells": [
  {
   "cell_type": "code",
   "id": "initial_id",
   "metadata": {
    "collapsed": true,
    "ExecuteTime": {
     "end_time": "2024-06-13T18:48:35.023958Z",
     "start_time": "2024-06-13T18:48:35.003868Z"
    }
   },
   "source": [
    "import numpy as np\n",
    "import scipy as sp\n",
    "import pandas as pd\n",
    "import matplotlib.pyplot as plt\n",
    "import seaborn as sns\n",
    "import networkx as nx\n",
    "from SALib.analyze import sobol\n",
    "import warnings\n",
    "from ema_workbench.analysis import feature_scoring\n",
    "from ema_workbench.em_framework.salib_samplers import get_SALib_problem\n",
    "from ema_workbench import (\n",
    "    Model,\n",
    "    Policy,\n",
    "    ema_logging,\n",
    "    SequentialEvaluator,\n",
    "    MultiprocessingEvaluator,\n",
    "    perform_experiments,\n",
    "    Samplers,\n",
    "    SequentialEvaluator,\n",
    ")\n",
    "from dike_model_function import DikeNetwork\n",
    "from problem_formulation import get_model_for_problem_formulation, sum_over, sum_over_time\n",
    "from ema_workbench.analysis import prim\n",
    "from ema_workbench.em_framework.parameters import Constant\n",
    "import pickle\n",
    "warnings.filterwarnings(\"ignore\")"
   ],
   "outputs": [],
   "execution_count": 115
  },
  {
   "cell_type": "code",
   "source": [
    "dike_model, planning_steps = get_model_for_problem_formulation(3)"
   ],
   "metadata": {
    "collapsed": false,
    "ExecuteTime": {
     "end_time": "2024-06-13T18:56:32.511474Z",
     "start_time": "2024-06-13T18:56:32.275776Z"
    }
   },
   "id": "2aadfb76d6836c22",
   "outputs": [],
   "execution_count": 139
  },
  {
   "cell_type": "code",
   "outputs": [],
   "source": [
    "#load it\n",
    "with open(\"data\\ScenariosOpenExplo\", 'rb') as file2:\n",
    "    Scenarios = pickle.load(file2)"
   ],
   "metadata": {
    "collapsed": false,
    "ExecuteTime": {
     "end_time": "2024-06-13T18:48:35.770132Z",
     "start_time": "2024-06-13T18:48:35.764269Z"
    }
   },
   "id": "625bfeee5989884d",
   "execution_count": 119
  },
  {
   "cell_type": "code",
   "outputs": [
    {
     "name": "stderr",
     "output_type": "stream",
     "text": [
      "  0%|                                                    | 0/1 [00:00<?, ?it/s]"
     ]
    },
    {
     "ename": "KeyboardInterrupt",
     "evalue": "",
     "output_type": "error",
     "traceback": [
      "\u001B[1;31m---------------------------------------------------------------------------\u001B[0m",
      "\u001B[1;31mKeyboardInterrupt\u001B[0m                         Traceback (most recent call last)",
      "Cell \u001B[1;32mIn[122], line 24\u001B[0m\n\u001B[0;32m      9\u001B[0m \u001B[38;5;28;01mfor\u001B[39;00m i \u001B[38;5;129;01min\u001B[39;00m \u001B[38;5;28mrange\u001B[39m(\u001B[38;5;241m100\u001B[39m):\n\u001B[0;32m     10\u001B[0m     \u001B[38;5;66;03m# we create 2 covergence tracker metrics\u001B[39;00m\n\u001B[0;32m     11\u001B[0m     \u001B[38;5;66;03m# the archive logger writes the archive to disk for every x nfe\u001B[39;00m\n\u001B[0;32m     12\u001B[0m     \u001B[38;5;66;03m# the epsilon progress tracks during runtime\u001B[39;00m\n\u001B[0;32m     13\u001B[0m     convergence_metrics \u001B[38;5;241m=\u001B[39m [\n\u001B[0;32m     14\u001B[0m         ArchiveLogger(\n\u001B[0;32m     15\u001B[0m             \u001B[38;5;124mr\u001B[39m\u001B[38;5;124m\"\u001B[39m\u001B[38;5;124mC:\u001B[39m\u001B[38;5;124m\\\u001B[39m\u001B[38;5;124mUsers\u001B[39m\u001B[38;5;124m\\\u001B[39m\u001B[38;5;124mroelo\u001B[39m\u001B[38;5;124m\\\u001B[39m\u001B[38;5;124mVideos\u001B[39m\u001B[38;5;124m\\\u001B[39m\u001B[38;5;124marchive\u001B[39m\u001B[38;5;124m\"\u001B[39m,\n\u001B[1;32m   (...)\u001B[0m\n\u001B[0;32m     21\u001B[0m         EpsilonProgress(),\n\u001B[0;32m     22\u001B[0m     ]\n\u001B[1;32m---> 24\u001B[0m     result, convergence \u001B[38;5;241m=\u001B[39m \u001B[43mevaluator\u001B[49m\u001B[38;5;241;43m.\u001B[39;49m\u001B[43moptimize\u001B[49m\u001B[43m(\u001B[49m\n\u001B[0;32m     25\u001B[0m \u001B[43m        \u001B[49m\u001B[43mnfe\u001B[49m\u001B[38;5;241;43m=\u001B[39;49m\u001B[38;5;241;43m1\u001B[39;49m\u001B[43m,\u001B[49m\n\u001B[0;32m     26\u001B[0m \u001B[43m        \u001B[49m\u001B[43msearchover\u001B[49m\u001B[38;5;241;43m=\u001B[39;49m\u001B[38;5;124;43m\"\u001B[39;49m\u001B[38;5;124;43mlevers\u001B[39;49m\u001B[38;5;124;43m\"\u001B[39;49m\u001B[43m,\u001B[49m\n\u001B[0;32m     27\u001B[0m \u001B[43m        \u001B[49m\u001B[43mepsilons\u001B[49m\u001B[38;5;241;43m=\u001B[39;49m\u001B[43m[\u001B[49m\u001B[38;5;241;43m0.05\u001B[39;49m\u001B[43m]\u001B[49m\u001B[43m \u001B[49m\u001B[38;5;241;43m*\u001B[39;49m\u001B[43m \u001B[49m\u001B[38;5;28;43mlen\u001B[39;49m\u001B[43m(\u001B[49m\u001B[43mdike_model\u001B[49m\u001B[38;5;241;43m.\u001B[39;49m\u001B[43moutcomes\u001B[49m\u001B[43m)\u001B[49m\u001B[43m,\u001B[49m\n\u001B[0;32m     28\u001B[0m \u001B[43m        \u001B[49m\u001B[43mconvergence\u001B[49m\u001B[38;5;241;43m=\u001B[39;49m\u001B[43mconvergence_metrics\u001B[49m\u001B[43m,\u001B[49m\n\u001B[0;32m     29\u001B[0m \u001B[43m        \u001B[49m\u001B[43mreference\u001B[49m\u001B[43m \u001B[49m\u001B[38;5;241;43m=\u001B[39;49m\u001B[43m \u001B[49m\u001B[43mScenarios\u001B[49m\u001B[43m[\u001B[49m\u001B[38;5;241;43m0\u001B[39;49m\u001B[43m]\u001B[49m\n\u001B[0;32m     30\u001B[0m \u001B[43m    \u001B[49m\u001B[43m)\u001B[49m\n\u001B[0;32m     32\u001B[0m     results\u001B[38;5;241m.\u001B[39mappend(result)\n\u001B[0;32m     33\u001B[0m     convergences\u001B[38;5;241m.\u001B[39mappend(convergence)\n",
      "File \u001B[1;32m~\\src\\ema-workbench\\ema_workbench\\em_framework\\evaluators.py:228\u001B[0m, in \u001B[0;36mBaseEvaluator.optimize\u001B[1;34m(self, algorithm, nfe, searchover, reference, constraints, convergence_freq, logging_freq, variator, **kwargs)\u001B[0m\n\u001B[0;32m    210\u001B[0m \u001B[38;5;28;01mdef\u001B[39;00m \u001B[38;5;21moptimize\u001B[39m(\n\u001B[0;32m    211\u001B[0m     \u001B[38;5;28mself\u001B[39m,\n\u001B[0;32m    212\u001B[0m     algorithm\u001B[38;5;241m=\u001B[39mEpsNSGAII,\n\u001B[1;32m   (...)\u001B[0m\n\u001B[0;32m    220\u001B[0m     \u001B[38;5;241m*\u001B[39m\u001B[38;5;241m*\u001B[39mkwargs,\n\u001B[0;32m    221\u001B[0m ):\n\u001B[0;32m    222\u001B[0m \u001B[38;5;250m    \u001B[39m\u001B[38;5;124;03m\"\"\"convenience method for outcome optimization.\u001B[39;00m\n\u001B[0;32m    223\u001B[0m \n\u001B[0;32m    224\u001B[0m \u001B[38;5;124;03m    is forwarded to :func:optimize, with evaluator and models\u001B[39;00m\n\u001B[0;32m    225\u001B[0m \u001B[38;5;124;03m    arguments added in.\u001B[39;00m\n\u001B[0;32m    226\u001B[0m \n\u001B[0;32m    227\u001B[0m \u001B[38;5;124;03m    \"\"\"\u001B[39;00m\n\u001B[1;32m--> 228\u001B[0m     \u001B[38;5;28;01mreturn\u001B[39;00m \u001B[43moptimize\u001B[49m\u001B[43m(\u001B[49m\n\u001B[0;32m    229\u001B[0m \u001B[43m        \u001B[49m\u001B[38;5;28;43mself\u001B[39;49m\u001B[38;5;241;43m.\u001B[39;49m\u001B[43m_msis\u001B[49m\u001B[43m,\u001B[49m\n\u001B[0;32m    230\u001B[0m \u001B[43m        \u001B[49m\u001B[43malgorithm\u001B[49m\u001B[38;5;241;43m=\u001B[39;49m\u001B[43malgorithm\u001B[49m\u001B[43m,\u001B[49m\n\u001B[0;32m    231\u001B[0m \u001B[43m        \u001B[49m\u001B[43mnfe\u001B[49m\u001B[38;5;241;43m=\u001B[39;49m\u001B[38;5;28;43mint\u001B[39;49m\u001B[43m(\u001B[49m\u001B[43mnfe\u001B[49m\u001B[43m)\u001B[49m\u001B[43m,\u001B[49m\n\u001B[0;32m    232\u001B[0m \u001B[43m        \u001B[49m\u001B[43msearchover\u001B[49m\u001B[38;5;241;43m=\u001B[39;49m\u001B[43msearchover\u001B[49m\u001B[43m,\u001B[49m\n\u001B[0;32m    233\u001B[0m \u001B[43m        \u001B[49m\u001B[43mevaluator\u001B[49m\u001B[38;5;241;43m=\u001B[39;49m\u001B[38;5;28;43mself\u001B[39;49m\u001B[43m,\u001B[49m\n\u001B[0;32m    234\u001B[0m \u001B[43m        \u001B[49m\u001B[43mreference\u001B[49m\u001B[38;5;241;43m=\u001B[39;49m\u001B[43mreference\u001B[49m\u001B[43m,\u001B[49m\n\u001B[0;32m    235\u001B[0m \u001B[43m        \u001B[49m\u001B[43mconstraints\u001B[49m\u001B[38;5;241;43m=\u001B[39;49m\u001B[43mconstraints\u001B[49m\u001B[43m,\u001B[49m\n\u001B[0;32m    236\u001B[0m \u001B[43m        \u001B[49m\u001B[43mconvergence_freq\u001B[49m\u001B[38;5;241;43m=\u001B[39;49m\u001B[43mconvergence_freq\u001B[49m\u001B[43m,\u001B[49m\n\u001B[0;32m    237\u001B[0m \u001B[43m        \u001B[49m\u001B[43mlogging_freq\u001B[49m\u001B[38;5;241;43m=\u001B[39;49m\u001B[43mlogging_freq\u001B[49m\u001B[43m,\u001B[49m\n\u001B[0;32m    238\u001B[0m \u001B[43m        \u001B[49m\u001B[43mvariator\u001B[49m\u001B[38;5;241;43m=\u001B[39;49m\u001B[43mvariator\u001B[49m\u001B[43m,\u001B[49m\n\u001B[0;32m    239\u001B[0m \u001B[43m        \u001B[49m\u001B[38;5;241;43m*\u001B[39;49m\u001B[38;5;241;43m*\u001B[39;49m\u001B[43mkwargs\u001B[49m\u001B[43m,\u001B[49m\n\u001B[0;32m    240\u001B[0m \u001B[43m    \u001B[49m\u001B[43m)\u001B[49m\n",
      "File \u001B[1;32m~\\src\\ema-workbench\\ema_workbench\\em_framework\\evaluators.py:576\u001B[0m, in \u001B[0;36moptimize\u001B[1;34m(models, algorithm, nfe, searchover, evaluator, reference, convergence, constraints, convergence_freq, logging_freq, variator, **kwargs)\u001B[0m\n\u001B[0;32m    573\u001B[0m \u001B[38;5;28;01mif\u001B[39;00m \u001B[38;5;129;01mnot\u001B[39;00m evaluator:\n\u001B[0;32m    574\u001B[0m     evaluator \u001B[38;5;241m=\u001B[39m SequentialEvaluator(models)\n\u001B[1;32m--> 576\u001B[0m \u001B[38;5;28;01mreturn\u001B[39;00m \u001B[43m_optimize\u001B[49m\u001B[43m(\u001B[49m\n\u001B[0;32m    577\u001B[0m \u001B[43m    \u001B[49m\u001B[43mproblem\u001B[49m\u001B[43m,\u001B[49m\n\u001B[0;32m    578\u001B[0m \u001B[43m    \u001B[49m\u001B[43mevaluator\u001B[49m\u001B[43m,\u001B[49m\n\u001B[0;32m    579\u001B[0m \u001B[43m    \u001B[49m\u001B[43malgorithm\u001B[49m\u001B[43m,\u001B[49m\n\u001B[0;32m    580\u001B[0m \u001B[43m    \u001B[49m\u001B[43mconvergence\u001B[49m\u001B[43m,\u001B[49m\n\u001B[0;32m    581\u001B[0m \u001B[43m    \u001B[49m\u001B[43mnfe\u001B[49m\u001B[43m,\u001B[49m\n\u001B[0;32m    582\u001B[0m \u001B[43m    \u001B[49m\u001B[43mconvergence_freq\u001B[49m\u001B[43m,\u001B[49m\n\u001B[0;32m    583\u001B[0m \u001B[43m    \u001B[49m\u001B[43mlogging_freq\u001B[49m\u001B[43m,\u001B[49m\n\u001B[0;32m    584\u001B[0m \u001B[43m    \u001B[49m\u001B[43mvariator\u001B[49m\u001B[38;5;241;43m=\u001B[39;49m\u001B[43mvariator\u001B[49m\u001B[43m,\u001B[49m\n\u001B[0;32m    585\u001B[0m \u001B[43m    \u001B[49m\u001B[38;5;241;43m*\u001B[39;49m\u001B[38;5;241;43m*\u001B[39;49m\u001B[43mkwargs\u001B[49m\u001B[43m,\u001B[49m\n\u001B[0;32m    586\u001B[0m \u001B[43m\u001B[49m\u001B[43m)\u001B[49m\n",
      "File \u001B[1;32m~\\src\\ema-workbench\\ema_workbench\\em_framework\\optimization.py:1101\u001B[0m, in \u001B[0;36m_optimize\u001B[1;34m(problem, evaluator, algorithm, convergence, nfe, convergence_freq, logging_freq, variator, **kwargs)\u001B[0m\n\u001B[0;32m   1098\u001B[0m evaluator\u001B[38;5;241m.\u001B[39mcallback \u001B[38;5;241m=\u001B[39m callback\n\u001B[0;32m   1100\u001B[0m \u001B[38;5;28;01mwith\u001B[39;00m temporary_filter(name\u001B[38;5;241m=\u001B[39m[callbacks\u001B[38;5;241m.\u001B[39m\u001B[38;5;18m__name__\u001B[39m, evaluators\u001B[38;5;241m.\u001B[39m\u001B[38;5;18m__name__\u001B[39m], level\u001B[38;5;241m=\u001B[39mINFO):\n\u001B[1;32m-> 1101\u001B[0m     \u001B[43moptimizer\u001B[49m\u001B[38;5;241;43m.\u001B[39;49m\u001B[43mrun\u001B[49m\u001B[43m(\u001B[49m\u001B[43mnfe\u001B[49m\u001B[43m)\u001B[49m\n\u001B[0;32m   1103\u001B[0m convergence(optimizer, force\u001B[38;5;241m=\u001B[39m\u001B[38;5;28;01mTrue\u001B[39;00m)\n\u001B[0;32m   1105\u001B[0m \u001B[38;5;66;03m# convergence.pbar.__exit__(None, None, None)\u001B[39;00m\n",
      "File \u001B[1;32m~\\anaconda3\\envs\\MD\\Lib\\site-packages\\platypus\\core.py:410\u001B[0m, in \u001B[0;36mAlgorithm.run\u001B[1;34m(self, condition, callback)\u001B[0m\n\u001B[0;32m    407\u001B[0m LOGGER\u001B[38;5;241m.\u001B[39mlog(logging\u001B[38;5;241m.\u001B[39mINFO, \u001B[38;5;124m\"\u001B[39m\u001B[38;5;132;01m%s\u001B[39;00m\u001B[38;5;124m starting\u001B[39m\u001B[38;5;124m\"\u001B[39m, \u001B[38;5;28mtype\u001B[39m(\u001B[38;5;28mself\u001B[39m)\u001B[38;5;241m.\u001B[39m\u001B[38;5;18m__name__\u001B[39m)\n\u001B[0;32m    409\u001B[0m \u001B[38;5;28;01mwhile\u001B[39;00m \u001B[38;5;129;01mnot\u001B[39;00m condition(\u001B[38;5;28mself\u001B[39m):\n\u001B[1;32m--> 410\u001B[0m     \u001B[38;5;28;43mself\u001B[39;49m\u001B[38;5;241;43m.\u001B[39;49m\u001B[43mstep\u001B[49m\u001B[43m(\u001B[49m\u001B[43m)\u001B[49m\n\u001B[0;32m    412\u001B[0m     \u001B[38;5;28;01mif\u001B[39;00m \u001B[38;5;28mself\u001B[39m\u001B[38;5;241m.\u001B[39mlog_frequency \u001B[38;5;129;01mis\u001B[39;00m \u001B[38;5;129;01mnot\u001B[39;00m \u001B[38;5;28;01mNone\u001B[39;00m \u001B[38;5;129;01mand\u001B[39;00m \u001B[38;5;28mself\u001B[39m\u001B[38;5;241m.\u001B[39mnfe \u001B[38;5;241m>\u001B[39m\u001B[38;5;241m=\u001B[39m last_log \u001B[38;5;241m+\u001B[39m \u001B[38;5;28mself\u001B[39m\u001B[38;5;241m.\u001B[39mlog_frequency:\n\u001B[0;32m    413\u001B[0m         LOGGER\u001B[38;5;241m.\u001B[39mlog(logging\u001B[38;5;241m.\u001B[39mINFO,\n\u001B[0;32m    414\u001B[0m                    \u001B[38;5;124m\"\u001B[39m\u001B[38;5;132;01m%s\u001B[39;00m\u001B[38;5;124m running; NFE Complete: \u001B[39m\u001B[38;5;132;01m%d\u001B[39;00m\u001B[38;5;124m, Elapsed Time: \u001B[39m\u001B[38;5;132;01m%s\u001B[39;00m\u001B[38;5;124m\"\u001B[39m,\n\u001B[0;32m    415\u001B[0m                    \u001B[38;5;28mtype\u001B[39m(\u001B[38;5;28mself\u001B[39m)\u001B[38;5;241m.\u001B[39m\u001B[38;5;18m__name__\u001B[39m,\n\u001B[0;32m    416\u001B[0m                    \u001B[38;5;28mself\u001B[39m\u001B[38;5;241m.\u001B[39mnfe,\n\u001B[0;32m    417\u001B[0m                    datetime\u001B[38;5;241m.\u001B[39mtimedelta(seconds\u001B[38;5;241m=\u001B[39mtime\u001B[38;5;241m.\u001B[39mtime()\u001B[38;5;241m-\u001B[39mstart_time))\n",
      "File \u001B[1;32m~\\anaconda3\\envs\\MD\\Lib\\site-packages\\platypus\\algorithms.py:1521\u001B[0m, in \u001B[0;36mPeriodicAction.step\u001B[1;34m(self)\u001B[0m\n\u001B[0;32m   1520\u001B[0m \u001B[38;5;28;01mdef\u001B[39;00m \u001B[38;5;21mstep\u001B[39m(\u001B[38;5;28mself\u001B[39m):\n\u001B[1;32m-> 1521\u001B[0m     \u001B[38;5;28;43mself\u001B[39;49m\u001B[38;5;241;43m.\u001B[39;49m\u001B[43malgorithm\u001B[49m\u001B[38;5;241;43m.\u001B[39;49m\u001B[43mstep\u001B[49m\u001B[43m(\u001B[49m\u001B[43m)\u001B[49m\n\u001B[0;32m   1522\u001B[0m     \u001B[38;5;28mself\u001B[39m\u001B[38;5;241m.\u001B[39miteration \u001B[38;5;241m+\u001B[39m\u001B[38;5;241m=\u001B[39m \u001B[38;5;241m1\u001B[39m\n\u001B[0;32m   1523\u001B[0m     \u001B[38;5;28mself\u001B[39m\u001B[38;5;241m.\u001B[39mnfe \u001B[38;5;241m=\u001B[39m \u001B[38;5;28mself\u001B[39m\u001B[38;5;241m.\u001B[39malgorithm\u001B[38;5;241m.\u001B[39mnfe\n",
      "File \u001B[1;32m~\\anaconda3\\envs\\MD\\Lib\\site-packages\\platypus\\algorithms.py:180\u001B[0m, in \u001B[0;36mNSGAII.step\u001B[1;34m(self)\u001B[0m\n\u001B[0;32m    178\u001B[0m \u001B[38;5;28;01mdef\u001B[39;00m \u001B[38;5;21mstep\u001B[39m(\u001B[38;5;28mself\u001B[39m):\n\u001B[0;32m    179\u001B[0m     \u001B[38;5;28;01mif\u001B[39;00m \u001B[38;5;28mself\u001B[39m\u001B[38;5;241m.\u001B[39mnfe \u001B[38;5;241m==\u001B[39m \u001B[38;5;241m0\u001B[39m:\n\u001B[1;32m--> 180\u001B[0m         \u001B[38;5;28;43mself\u001B[39;49m\u001B[38;5;241;43m.\u001B[39;49m\u001B[43minitialize\u001B[49m\u001B[43m(\u001B[49m\u001B[43m)\u001B[49m\n\u001B[0;32m    181\u001B[0m     \u001B[38;5;28;01melse\u001B[39;00m:\n\u001B[0;32m    182\u001B[0m         \u001B[38;5;28mself\u001B[39m\u001B[38;5;241m.\u001B[39miterate()\n",
      "File \u001B[1;32m~\\anaconda3\\envs\\MD\\Lib\\site-packages\\platypus\\algorithms.py:190\u001B[0m, in \u001B[0;36mNSGAII.initialize\u001B[1;34m(self)\u001B[0m\n\u001B[0;32m    189\u001B[0m \u001B[38;5;28;01mdef\u001B[39;00m \u001B[38;5;21minitialize\u001B[39m(\u001B[38;5;28mself\u001B[39m):\n\u001B[1;32m--> 190\u001B[0m     \u001B[38;5;28;43msuper\u001B[39;49m\u001B[43m(\u001B[49m\u001B[43m)\u001B[49m\u001B[38;5;241;43m.\u001B[39;49m\u001B[43minitialize\u001B[49m\u001B[43m(\u001B[49m\u001B[43m)\u001B[49m\n\u001B[0;32m    192\u001B[0m     \u001B[38;5;28;01mif\u001B[39;00m \u001B[38;5;28mself\u001B[39m\u001B[38;5;241m.\u001B[39marchive \u001B[38;5;129;01mis\u001B[39;00m \u001B[38;5;129;01mnot\u001B[39;00m \u001B[38;5;28;01mNone\u001B[39;00m:\n\u001B[0;32m    193\u001B[0m         \u001B[38;5;28mself\u001B[39m\u001B[38;5;241m.\u001B[39marchive \u001B[38;5;241m+\u001B[39m\u001B[38;5;241m=\u001B[39m \u001B[38;5;28mself\u001B[39m\u001B[38;5;241m.\u001B[39mpopulation\n",
      "File \u001B[1;32m~\\anaconda3\\envs\\MD\\Lib\\site-packages\\platypus\\algorithms.py:71\u001B[0m, in \u001B[0;36mAbstractGeneticAlgorithm.initialize\u001B[1;34m(self)\u001B[0m\n\u001B[0;32m     69\u001B[0m \u001B[38;5;28;01mdef\u001B[39;00m \u001B[38;5;21minitialize\u001B[39m(\u001B[38;5;28mself\u001B[39m):\n\u001B[0;32m     70\u001B[0m     \u001B[38;5;28mself\u001B[39m\u001B[38;5;241m.\u001B[39mpopulation \u001B[38;5;241m=\u001B[39m [\u001B[38;5;28mself\u001B[39m\u001B[38;5;241m.\u001B[39mgenerator\u001B[38;5;241m.\u001B[39mgenerate(\u001B[38;5;28mself\u001B[39m\u001B[38;5;241m.\u001B[39mproblem) \u001B[38;5;28;01mfor\u001B[39;00m _ \u001B[38;5;129;01min\u001B[39;00m \u001B[38;5;28mrange\u001B[39m(\u001B[38;5;28mself\u001B[39m\u001B[38;5;241m.\u001B[39mpopulation_size)]\n\u001B[1;32m---> 71\u001B[0m     \u001B[38;5;28;43mself\u001B[39;49m\u001B[38;5;241;43m.\u001B[39;49m\u001B[43mevaluate_all\u001B[49m\u001B[43m(\u001B[49m\u001B[38;5;28;43mself\u001B[39;49m\u001B[38;5;241;43m.\u001B[39;49m\u001B[43mpopulation\u001B[49m\u001B[43m)\u001B[49m\n",
      "File \u001B[1;32m~\\anaconda3\\envs\\MD\\Lib\\site-packages\\platypus\\core.py:383\u001B[0m, in \u001B[0;36mAlgorithm.evaluate_all\u001B[1;34m(self, solutions)\u001B[0m\n\u001B[0;32m    380\u001B[0m unevaluated \u001B[38;5;241m=\u001B[39m [s \u001B[38;5;28;01mfor\u001B[39;00m s \u001B[38;5;129;01min\u001B[39;00m solutions \u001B[38;5;28;01mif\u001B[39;00m \u001B[38;5;129;01mnot\u001B[39;00m s\u001B[38;5;241m.\u001B[39mevaluated]\n\u001B[0;32m    382\u001B[0m jobs \u001B[38;5;241m=\u001B[39m [_EvaluateJob(s) \u001B[38;5;28;01mfor\u001B[39;00m s \u001B[38;5;129;01min\u001B[39;00m unevaluated]\n\u001B[1;32m--> 383\u001B[0m results \u001B[38;5;241m=\u001B[39m \u001B[38;5;28;43mself\u001B[39;49m\u001B[38;5;241;43m.\u001B[39;49m\u001B[43mevaluator\u001B[49m\u001B[38;5;241;43m.\u001B[39;49m\u001B[43mevaluate_all\u001B[49m\u001B[43m(\u001B[49m\u001B[43mjobs\u001B[49m\u001B[43m)\u001B[49m\n\u001B[0;32m    385\u001B[0m \u001B[38;5;66;03m# if needed, update the original solution with the results\u001B[39;00m\n\u001B[0;32m    386\u001B[0m \u001B[38;5;28;01mfor\u001B[39;00m i, result \u001B[38;5;129;01min\u001B[39;00m \u001B[38;5;28menumerate\u001B[39m(results):\n",
      "File \u001B[1;32m~\\src\\ema-workbench\\ema_workbench\\em_framework\\evaluators.py:153\u001B[0m, in \u001B[0;36mBaseEvaluator.evaluate_all\u001B[1;34m(self, jobs, **kwargs)\u001B[0m\n\u001B[0;32m    150\u001B[0m     \u001B[38;5;28;01mraise\u001B[39;00m \u001B[38;5;167;01mNotImplementedError\u001B[39;00m()\n\u001B[0;32m    152\u001B[0m \u001B[38;5;66;03m# overwrite the default 10 progress reports  with 5 reports\u001B[39;00m\n\u001B[1;32m--> 153\u001B[0m callback \u001B[38;5;241m=\u001B[39m \u001B[43mperform_experiments\u001B[49m\u001B[43m(\u001B[49m\n\u001B[0;32m    154\u001B[0m \u001B[43m    \u001B[49m\u001B[38;5;28;43mself\u001B[39;49m\u001B[38;5;241;43m.\u001B[39;49m\u001B[43m_msis\u001B[49m\u001B[43m,\u001B[49m\n\u001B[0;32m    155\u001B[0m \u001B[43m    \u001B[49m\u001B[43mevaluator\u001B[49m\u001B[38;5;241;43m=\u001B[39;49m\u001B[38;5;28;43mself\u001B[39;49m\u001B[43m,\u001B[49m\n\u001B[0;32m    156\u001B[0m \u001B[43m    \u001B[49m\u001B[43mreporting_frequency\u001B[49m\u001B[38;5;241;43m=\u001B[39;49m\u001B[38;5;28;43mself\u001B[39;49m\u001B[38;5;241;43m.\u001B[39;49m\u001B[43mreporting_frequency\u001B[49m\u001B[43m,\u001B[49m\n\u001B[0;32m    157\u001B[0m \u001B[43m    \u001B[49m\u001B[43mscenarios\u001B[49m\u001B[38;5;241;43m=\u001B[39;49m\u001B[43mscenarios\u001B[49m\u001B[43m,\u001B[49m\n\u001B[0;32m    158\u001B[0m \u001B[43m    \u001B[49m\u001B[43mpolicies\u001B[49m\u001B[38;5;241;43m=\u001B[39;49m\u001B[43mpolicies\u001B[49m\u001B[43m,\u001B[49m\n\u001B[0;32m    159\u001B[0m \u001B[43m    \u001B[49m\u001B[43mreturn_callback\u001B[49m\u001B[38;5;241;43m=\u001B[39;49m\u001B[38;5;28;43;01mTrue\u001B[39;49;00m\u001B[43m,\u001B[49m\n\u001B[0;32m    160\u001B[0m \u001B[43m    \u001B[49m\u001B[43mlog_progress\u001B[49m\u001B[38;5;241;43m=\u001B[39;49m\u001B[38;5;28;43;01mTrue\u001B[39;49;00m\u001B[43m,\u001B[49m\n\u001B[0;32m    161\u001B[0m \u001B[43m\u001B[49m\u001B[43m)\u001B[49m\n\u001B[0;32m    163\u001B[0m experiments, outcomes \u001B[38;5;241m=\u001B[39m callback\u001B[38;5;241m.\u001B[39mget_results()\n\u001B[0;32m    165\u001B[0m \u001B[38;5;28;01mif\u001B[39;00m searchover \u001B[38;5;129;01min\u001B[39;00m (\u001B[38;5;124m\"\u001B[39m\u001B[38;5;124mlevers\u001B[39m\u001B[38;5;124m\"\u001B[39m, \u001B[38;5;124m\"\u001B[39m\u001B[38;5;124muncertainties\u001B[39m\u001B[38;5;124m\"\u001B[39m):\n",
      "File \u001B[1;32m~\\src\\ema-workbench\\ema_workbench\\em_framework\\evaluators.py:406\u001B[0m, in \u001B[0;36mperform_experiments\u001B[1;34m(models, scenarios, policies, evaluator, reporting_interval, reporting_frequency, uncertainty_union, lever_union, outcome_union, uncertainty_sampling, lever_sampling, callback, return_callback, combine, log_progress, **kwargs)\u001B[0m\n\u001B[0;32m    403\u001B[0m \u001B[38;5;28;01mif\u001B[39;00m \u001B[38;5;129;01mnot\u001B[39;00m evaluator:\n\u001B[0;32m    404\u001B[0m     evaluator \u001B[38;5;241m=\u001B[39m SequentialEvaluator(models)\n\u001B[1;32m--> 406\u001B[0m \u001B[43mevaluator\u001B[49m\u001B[38;5;241;43m.\u001B[39;49m\u001B[43mevaluate_experiments\u001B[49m\u001B[43m(\u001B[49m\u001B[43mscenarios\u001B[49m\u001B[43m,\u001B[49m\u001B[43m \u001B[49m\u001B[43mpolicies\u001B[49m\u001B[43m,\u001B[49m\u001B[43m \u001B[49m\u001B[43mcallback\u001B[49m\u001B[43m,\u001B[49m\u001B[43m \u001B[49m\u001B[43mcombine\u001B[49m\u001B[38;5;241;43m=\u001B[39;49m\u001B[43mcombine\u001B[49m\u001B[43m,\u001B[49m\u001B[43m \u001B[49m\u001B[38;5;241;43m*\u001B[39;49m\u001B[38;5;241;43m*\u001B[39;49m\u001B[43mkwargs\u001B[49m\u001B[43m)\u001B[49m\n\u001B[0;32m    408\u001B[0m \u001B[38;5;28;01mif\u001B[39;00m callback\u001B[38;5;241m.\u001B[39mi \u001B[38;5;241m!=\u001B[39m nr_of_exp:\n\u001B[0;32m    409\u001B[0m     \u001B[38;5;28;01mraise\u001B[39;00m EMAError(\n\u001B[0;32m    410\u001B[0m         \u001B[38;5;124mf\u001B[39m\u001B[38;5;124m\"\u001B[39m\u001B[38;5;124mSome fatal error has occurred while running the experiments, not all runs have completed. Expected \u001B[39m\u001B[38;5;132;01m{\u001B[39;00mnr_of_exp\u001B[38;5;132;01m}\u001B[39;00m\u001B[38;5;124m, got \u001B[39m\u001B[38;5;132;01m{\u001B[39;00mcallback\u001B[38;5;241m.\u001B[39mi\u001B[38;5;132;01m}\u001B[39;00m\u001B[38;5;124m\"\u001B[39m\n\u001B[0;32m    411\u001B[0m     )\n",
      "File \u001B[1;32m~\\src\\ema-workbench\\ema_workbench\\em_framework\\evaluators.py:291\u001B[0m, in \u001B[0;36mSequentialEvaluator.evaluate_experiments\u001B[1;34m(self, scenarios, policies, callback, combine)\u001B[0m\n\u001B[0;32m    288\u001B[0m runner \u001B[38;5;241m=\u001B[39m ExperimentRunner(models)\n\u001B[0;32m    290\u001B[0m \u001B[38;5;28;01mfor\u001B[39;00m experiment \u001B[38;5;129;01min\u001B[39;00m ex_gen:\n\u001B[1;32m--> 291\u001B[0m     outcomes \u001B[38;5;241m=\u001B[39m \u001B[43mrunner\u001B[49m\u001B[38;5;241;43m.\u001B[39;49m\u001B[43mrun_experiment\u001B[49m\u001B[43m(\u001B[49m\u001B[43mexperiment\u001B[49m\u001B[43m)\u001B[49m\n\u001B[0;32m    292\u001B[0m     callback(experiment, outcomes)\n\u001B[0;32m    293\u001B[0m runner\u001B[38;5;241m.\u001B[39mcleanup()\n",
      "File \u001B[1;32m~\\src\\ema-workbench\\ema_workbench\\util\\ema_logging.py:153\u001B[0m, in \u001B[0;36mmethod_logger.<locals>.real_decorator.<locals>.wrapper\u001B[1;34m(*args, **kwargs)\u001B[0m\n\u001B[0;32m    148\u001B[0m \u001B[38;5;129m@wraps\u001B[39m(func)\n\u001B[0;32m    149\u001B[0m \u001B[38;5;28;01mdef\u001B[39;00m \u001B[38;5;21mwrapper\u001B[39m(\u001B[38;5;241m*\u001B[39margs, \u001B[38;5;241m*\u001B[39m\u001B[38;5;241m*\u001B[39mkwargs):\n\u001B[0;32m    150\u001B[0m     \u001B[38;5;66;03m# hack, because log is applied to methods, we can get\u001B[39;00m\n\u001B[0;32m    151\u001B[0m     \u001B[38;5;66;03m# object instance as first arguments in args\u001B[39;00m\n\u001B[0;32m    152\u001B[0m     logger\u001B[38;5;241m.\u001B[39mdebug(\u001B[38;5;124mf\u001B[39m\u001B[38;5;124m\"\u001B[39m\u001B[38;5;124mcalling \u001B[39m\u001B[38;5;132;01m{\u001B[39;00mfunc\u001B[38;5;241m.\u001B[39m\u001B[38;5;18m__name__\u001B[39m\u001B[38;5;132;01m}\u001B[39;00m\u001B[38;5;124m on \u001B[39m\u001B[38;5;132;01m{\u001B[39;00mclassname\u001B[38;5;132;01m}\u001B[39;00m\u001B[38;5;124m\"\u001B[39m)\n\u001B[1;32m--> 153\u001B[0m     res \u001B[38;5;241m=\u001B[39m \u001B[43mfunc\u001B[49m\u001B[43m(\u001B[49m\u001B[38;5;241;43m*\u001B[39;49m\u001B[43margs\u001B[49m\u001B[43m,\u001B[49m\u001B[43m \u001B[49m\u001B[38;5;241;43m*\u001B[39;49m\u001B[38;5;241;43m*\u001B[39;49m\u001B[43mkwargs\u001B[49m\u001B[43m)\u001B[49m\n\u001B[0;32m    154\u001B[0m     logger\u001B[38;5;241m.\u001B[39mdebug(\u001B[38;5;124mf\u001B[39m\u001B[38;5;124m\"\u001B[39m\u001B[38;5;124mcompleted calling \u001B[39m\u001B[38;5;132;01m{\u001B[39;00mfunc\u001B[38;5;241m.\u001B[39m\u001B[38;5;18m__name__\u001B[39m\u001B[38;5;132;01m}\u001B[39;00m\u001B[38;5;124m on \u001B[39m\u001B[38;5;132;01m{\u001B[39;00mclassname\u001B[38;5;132;01m}\u001B[39;00m\u001B[38;5;124m\"\u001B[39m)\n\u001B[0;32m    155\u001B[0m     \u001B[38;5;28;01mreturn\u001B[39;00m res\n",
      "File \u001B[1;32m~\\src\\ema-workbench\\ema_workbench\\em_framework\\experiment_runner.py:92\u001B[0m, in \u001B[0;36mExperimentRunner.run_experiment\u001B[1;34m(self, experiment)\u001B[0m\n\u001B[0;32m     85\u001B[0m _logger\u001B[38;5;241m.\u001B[39mdebug(\n\u001B[0;32m     86\u001B[0m     \u001B[38;5;28mself\u001B[39m\u001B[38;5;241m.\u001B[39mlog_message\u001B[38;5;241m.\u001B[39mformat(\n\u001B[0;32m     87\u001B[0m         scenario_id\u001B[38;5;241m=\u001B[39mscenario_id, policy_name\u001B[38;5;241m=\u001B[39mpolicy_name, model_name\u001B[38;5;241m=\u001B[39mmodel_name\n\u001B[0;32m     88\u001B[0m     )\n\u001B[0;32m     89\u001B[0m )\n\u001B[0;32m     91\u001B[0m \u001B[38;5;28;01mtry\u001B[39;00m:\n\u001B[1;32m---> 92\u001B[0m     \u001B[43mmodel\u001B[49m\u001B[38;5;241;43m.\u001B[39;49m\u001B[43mrun_model\u001B[49m\u001B[43m(\u001B[49m\u001B[43mscenario\u001B[49m\u001B[43m,\u001B[49m\u001B[43m \u001B[49m\u001B[43mpolicy\u001B[49m\u001B[43m)\u001B[49m\n\u001B[0;32m     93\u001B[0m \u001B[38;5;28;01mexcept\u001B[39;00m CaseError \u001B[38;5;28;01mas\u001B[39;00m e:\n\u001B[0;32m     94\u001B[0m     _logger\u001B[38;5;241m.\u001B[39mwarning(\u001B[38;5;28mstr\u001B[39m(e))\n",
      "File \u001B[1;32m~\\src\\ema-workbench\\ema_workbench\\util\\ema_logging.py:153\u001B[0m, in \u001B[0;36mmethod_logger.<locals>.real_decorator.<locals>.wrapper\u001B[1;34m(*args, **kwargs)\u001B[0m\n\u001B[0;32m    148\u001B[0m \u001B[38;5;129m@wraps\u001B[39m(func)\n\u001B[0;32m    149\u001B[0m \u001B[38;5;28;01mdef\u001B[39;00m \u001B[38;5;21mwrapper\u001B[39m(\u001B[38;5;241m*\u001B[39margs, \u001B[38;5;241m*\u001B[39m\u001B[38;5;241m*\u001B[39mkwargs):\n\u001B[0;32m    150\u001B[0m     \u001B[38;5;66;03m# hack, because log is applied to methods, we can get\u001B[39;00m\n\u001B[0;32m    151\u001B[0m     \u001B[38;5;66;03m# object instance as first arguments in args\u001B[39;00m\n\u001B[0;32m    152\u001B[0m     logger\u001B[38;5;241m.\u001B[39mdebug(\u001B[38;5;124mf\u001B[39m\u001B[38;5;124m\"\u001B[39m\u001B[38;5;124mcalling \u001B[39m\u001B[38;5;132;01m{\u001B[39;00mfunc\u001B[38;5;241m.\u001B[39m\u001B[38;5;18m__name__\u001B[39m\u001B[38;5;132;01m}\u001B[39;00m\u001B[38;5;124m on \u001B[39m\u001B[38;5;132;01m{\u001B[39;00mclassname\u001B[38;5;132;01m}\u001B[39;00m\u001B[38;5;124m\"\u001B[39m)\n\u001B[1;32m--> 153\u001B[0m     res \u001B[38;5;241m=\u001B[39m \u001B[43mfunc\u001B[49m\u001B[43m(\u001B[49m\u001B[38;5;241;43m*\u001B[39;49m\u001B[43margs\u001B[49m\u001B[43m,\u001B[49m\u001B[43m \u001B[49m\u001B[38;5;241;43m*\u001B[39;49m\u001B[38;5;241;43m*\u001B[39;49m\u001B[43mkwargs\u001B[49m\u001B[43m)\u001B[49m\n\u001B[0;32m    154\u001B[0m     logger\u001B[38;5;241m.\u001B[39mdebug(\u001B[38;5;124mf\u001B[39m\u001B[38;5;124m\"\u001B[39m\u001B[38;5;124mcompleted calling \u001B[39m\u001B[38;5;132;01m{\u001B[39;00mfunc\u001B[38;5;241m.\u001B[39m\u001B[38;5;18m__name__\u001B[39m\u001B[38;5;132;01m}\u001B[39;00m\u001B[38;5;124m on \u001B[39m\u001B[38;5;132;01m{\u001B[39;00mclassname\u001B[38;5;132;01m}\u001B[39;00m\u001B[38;5;124m\"\u001B[39m)\n\u001B[0;32m    155\u001B[0m     \u001B[38;5;28;01mreturn\u001B[39;00m res\n",
      "File \u001B[1;32m~\\src\\ema-workbench\\ema_workbench\\em_framework\\model.py:347\u001B[0m, in \u001B[0;36mSingleReplication.run_model\u001B[1;34m(self, scenario, policy)\u001B[0m\n\u001B[0;32m    343\u001B[0m constants \u001B[38;5;241m=\u001B[39m {c\u001B[38;5;241m.\u001B[39mname: c\u001B[38;5;241m.\u001B[39mvalue \u001B[38;5;28;01mfor\u001B[39;00m c \u001B[38;5;129;01min\u001B[39;00m \u001B[38;5;28mself\u001B[39m\u001B[38;5;241m.\u001B[39mconstants}\n\u001B[0;32m    345\u001B[0m experiment \u001B[38;5;241m=\u001B[39m ExperimentReplication(scenario, \u001B[38;5;28mself\u001B[39m\u001B[38;5;241m.\u001B[39mpolicy, constants)\n\u001B[1;32m--> 347\u001B[0m outputs \u001B[38;5;241m=\u001B[39m \u001B[38;5;28;43mself\u001B[39;49m\u001B[38;5;241;43m.\u001B[39;49m\u001B[43mrun_experiment\u001B[49m\u001B[43m(\u001B[49m\u001B[43mexperiment\u001B[49m\u001B[43m)\u001B[49m\n\u001B[0;32m    349\u001B[0m \u001B[38;5;28mself\u001B[39m\u001B[38;5;241m.\u001B[39moutcomes_output \u001B[38;5;241m=\u001B[39m outputs\n\u001B[0;32m    350\u001B[0m \u001B[38;5;28mself\u001B[39m\u001B[38;5;241m.\u001B[39mconstraints_output \u001B[38;5;241m=\u001B[39m (experiment, \u001B[38;5;28mself\u001B[39m\u001B[38;5;241m.\u001B[39moutcomes_output)\n",
      "File \u001B[1;32m~\\src\\ema-workbench\\ema_workbench\\util\\ema_logging.py:153\u001B[0m, in \u001B[0;36mmethod_logger.<locals>.real_decorator.<locals>.wrapper\u001B[1;34m(*args, **kwargs)\u001B[0m\n\u001B[0;32m    148\u001B[0m \u001B[38;5;129m@wraps\u001B[39m(func)\n\u001B[0;32m    149\u001B[0m \u001B[38;5;28;01mdef\u001B[39;00m \u001B[38;5;21mwrapper\u001B[39m(\u001B[38;5;241m*\u001B[39margs, \u001B[38;5;241m*\u001B[39m\u001B[38;5;241m*\u001B[39mkwargs):\n\u001B[0;32m    150\u001B[0m     \u001B[38;5;66;03m# hack, because log is applied to methods, we can get\u001B[39;00m\n\u001B[0;32m    151\u001B[0m     \u001B[38;5;66;03m# object instance as first arguments in args\u001B[39;00m\n\u001B[0;32m    152\u001B[0m     logger\u001B[38;5;241m.\u001B[39mdebug(\u001B[38;5;124mf\u001B[39m\u001B[38;5;124m\"\u001B[39m\u001B[38;5;124mcalling \u001B[39m\u001B[38;5;132;01m{\u001B[39;00mfunc\u001B[38;5;241m.\u001B[39m\u001B[38;5;18m__name__\u001B[39m\u001B[38;5;132;01m}\u001B[39;00m\u001B[38;5;124m on \u001B[39m\u001B[38;5;132;01m{\u001B[39;00mclassname\u001B[38;5;132;01m}\u001B[39;00m\u001B[38;5;124m\"\u001B[39m)\n\u001B[1;32m--> 153\u001B[0m     res \u001B[38;5;241m=\u001B[39m \u001B[43mfunc\u001B[49m\u001B[43m(\u001B[49m\u001B[38;5;241;43m*\u001B[39;49m\u001B[43margs\u001B[49m\u001B[43m,\u001B[49m\u001B[43m \u001B[49m\u001B[38;5;241;43m*\u001B[39;49m\u001B[38;5;241;43m*\u001B[39;49m\u001B[43mkwargs\u001B[49m\u001B[43m)\u001B[49m\n\u001B[0;32m    154\u001B[0m     logger\u001B[38;5;241m.\u001B[39mdebug(\u001B[38;5;124mf\u001B[39m\u001B[38;5;124m\"\u001B[39m\u001B[38;5;124mcompleted calling \u001B[39m\u001B[38;5;132;01m{\u001B[39;00mfunc\u001B[38;5;241m.\u001B[39m\u001B[38;5;18m__name__\u001B[39m\u001B[38;5;132;01m}\u001B[39;00m\u001B[38;5;124m on \u001B[39m\u001B[38;5;132;01m{\u001B[39;00mclassname\u001B[38;5;132;01m}\u001B[39;00m\u001B[38;5;124m\"\u001B[39m)\n\u001B[0;32m    155\u001B[0m     \u001B[38;5;28;01mreturn\u001B[39;00m res\n",
      "File \u001B[1;32m~\\src\\ema-workbench\\ema_workbench\\em_framework\\model.py:400\u001B[0m, in \u001B[0;36mBaseModel.run_experiment\u001B[1;34m(self, experiment)\u001B[0m\n\u001B[0;32m    391\u001B[0m \u001B[38;5;129m@method_logger\u001B[39m(\u001B[38;5;18m__name__\u001B[39m)\n\u001B[0;32m    392\u001B[0m \u001B[38;5;28;01mdef\u001B[39;00m \u001B[38;5;21mrun_experiment\u001B[39m(\u001B[38;5;28mself\u001B[39m, experiment):\n\u001B[0;32m    393\u001B[0m \u001B[38;5;250m    \u001B[39m\u001B[38;5;124;03m\"\"\"Method for running an instantiated model structure.\u001B[39;00m\n\u001B[0;32m    394\u001B[0m \n\u001B[0;32m    395\u001B[0m \u001B[38;5;124;03m    Parameters\u001B[39;00m\n\u001B[1;32m   (...)\u001B[0m\n\u001B[0;32m    398\u001B[0m \n\u001B[0;32m    399\u001B[0m \u001B[38;5;124;03m    \"\"\"\u001B[39;00m\n\u001B[1;32m--> 400\u001B[0m     model_output \u001B[38;5;241m=\u001B[39m \u001B[38;5;28;43mself\u001B[39;49m\u001B[38;5;241;43m.\u001B[39;49m\u001B[43mfunction\u001B[49m\u001B[43m(\u001B[49m\u001B[38;5;241;43m*\u001B[39;49m\u001B[38;5;241;43m*\u001B[39;49m\u001B[43mexperiment\u001B[49m\u001B[43m)\u001B[49m\n\u001B[0;32m    402\u001B[0m     \u001B[38;5;66;03m# TODO: might it be possible to somehow abstract this\u001B[39;00m\n\u001B[0;32m    403\u001B[0m     \u001B[38;5;66;03m# perhaps expose a get_data on modelInterface?\u001B[39;00m\n\u001B[0;32m    404\u001B[0m     \u001B[38;5;66;03m# different connectors can than implement only this\u001B[39;00m\n\u001B[0;32m    405\u001B[0m     \u001B[38;5;66;03m# get method\u001B[39;00m\n\u001B[0;32m    406\u001B[0m     results \u001B[38;5;241m=\u001B[39m {}\n",
      "File \u001B[1;32m~\\Videos\\EPA141A---MD\\MD_FINAL\\final assignment\\dike_model_function.py:227\u001B[0m, in \u001B[0;36mDikeNetwork.__call__\u001B[1;34m(self, timestep, **kwargs)\u001B[0m\n\u001B[0;32m    217\u001B[0m node[\u001B[38;5;124m\"\u001B[39m\u001B[38;5;124mQin\u001B[39m\u001B[38;5;124m\"\u001B[39m][t] \u001B[38;5;241m=\u001B[39m Muskingum(\n\u001B[0;32m    218\u001B[0m     C1,\n\u001B[0;32m    219\u001B[0m     C2,\n\u001B[1;32m   (...)\u001B[0m\n\u001B[0;32m    223\u001B[0m     node[\u001B[38;5;124m\"\u001B[39m\u001B[38;5;124mQin\u001B[39m\u001B[38;5;124m\"\u001B[39m][t \u001B[38;5;241m-\u001B[39m \u001B[38;5;241m1\u001B[39m],\n\u001B[0;32m    224\u001B[0m )\n\u001B[0;32m    226\u001B[0m \u001B[38;5;66;03m# Transform Q in water levels:\u001B[39;00m\n\u001B[1;32m--> 227\u001B[0m node[\u001B[38;5;124m\"\u001B[39m\u001B[38;5;124mwl\u001B[39m\u001B[38;5;124m\"\u001B[39m][t] \u001B[38;5;241m=\u001B[39m \u001B[43mLookuplin\u001B[49m\u001B[43m(\u001B[49m\n\u001B[0;32m    228\u001B[0m \u001B[43m    \u001B[49m\u001B[43mnode\u001B[49m\u001B[43m[\u001B[49m\u001B[38;5;124;43m\"\u001B[39;49m\u001B[38;5;124;43mrnew\u001B[39;49m\u001B[38;5;124;43m\"\u001B[39;49m\u001B[43m]\u001B[49m\u001B[43m,\u001B[49m\u001B[43m \u001B[49m\u001B[38;5;241;43m0\u001B[39;49m\u001B[43m,\u001B[49m\u001B[43m \u001B[49m\u001B[38;5;241;43m1\u001B[39;49m\u001B[43m,\u001B[49m\u001B[43m \u001B[49m\u001B[43mnode\u001B[49m\u001B[43m[\u001B[49m\u001B[38;5;124;43m\"\u001B[39;49m\u001B[38;5;124;43mQin\u001B[39;49m\u001B[38;5;124;43m\"\u001B[39;49m\u001B[43m]\u001B[49m\u001B[43m[\u001B[49m\u001B[43mt\u001B[49m\u001B[43m]\u001B[49m\n\u001B[0;32m    229\u001B[0m \u001B[43m\u001B[49m\u001B[43m)\u001B[49m\n\u001B[0;32m    231\u001B[0m \u001B[38;5;66;03m# Evaluate failure and, in case, Q in the floodplain and\u001B[39;00m\n\u001B[0;32m    232\u001B[0m \u001B[38;5;66;03m# Q left in the river:\u001B[39;00m\n\u001B[0;32m    233\u001B[0m res \u001B[38;5;241m=\u001B[39m dikefailure(\n\u001B[0;32m    234\u001B[0m     \u001B[38;5;28mself\u001B[39m\u001B[38;5;241m.\u001B[39msb,\n\u001B[0;32m    235\u001B[0m     node[\u001B[38;5;124m\"\u001B[39m\u001B[38;5;124mQin\u001B[39m\u001B[38;5;124m\"\u001B[39m][t],\n\u001B[1;32m   (...)\u001B[0m\n\u001B[0;32m    244\u001B[0m     node[\u001B[38;5;124m\"\u001B[39m\u001B[38;5;124mcritWL\u001B[39m\u001B[38;5;124m\"\u001B[39m],\n\u001B[0;32m    245\u001B[0m )\n",
      "File \u001B[1;32m~\\Videos\\EPA141A---MD\\MD_FINAL\\final assignment\\funs_dikes.py:63\u001B[0m, in \u001B[0;36mLookuplin\u001B[1;34m(MyFile, inputcol, searchcol, inputvalue)\u001B[0m\n\u001B[0;32m     61\u001B[0m \u001B[38;5;28;01mdef\u001B[39;00m \u001B[38;5;21mLookuplin\u001B[39m(MyFile, inputcol, searchcol, inputvalue):\n\u001B[0;32m     62\u001B[0m \u001B[38;5;250m    \u001B[39m\u001B[38;5;124;03m\"\"\"Linear lookup function\"\"\"\u001B[39;00m\n\u001B[1;32m---> 63\u001B[0m     \u001B[38;5;28;01mreturn\u001B[39;00m \u001B[43mnp\u001B[49m\u001B[38;5;241;43m.\u001B[39;49m\u001B[43minterp\u001B[49m\u001B[43m(\u001B[49m\u001B[43minputvalue\u001B[49m\u001B[43m,\u001B[49m\u001B[43m \u001B[49m\u001B[43mMyFile\u001B[49m\u001B[43m[\u001B[49m\u001B[43m:\u001B[49m\u001B[43m,\u001B[49m\u001B[43m \u001B[49m\u001B[43minputcol\u001B[49m\u001B[43m]\u001B[49m\u001B[43m,\u001B[49m\u001B[43m \u001B[49m\u001B[43mMyFile\u001B[49m\u001B[43m[\u001B[49m\u001B[43m:\u001B[49m\u001B[43m,\u001B[49m\u001B[43m \u001B[49m\u001B[43msearchcol\u001B[49m\u001B[43m]\u001B[49m\u001B[43m)\u001B[49m\n",
      "File \u001B[1;32m~\\anaconda3\\envs\\MD\\Lib\\site-packages\\numpy\\lib\\function_base.py:1599\u001B[0m, in \u001B[0;36minterp\u001B[1;34m(x, xp, fp, left, right, period)\u001B[0m\n\u001B[0;32m   1596\u001B[0m     xp \u001B[38;5;241m=\u001B[39m np\u001B[38;5;241m.\u001B[39mconcatenate((xp[\u001B[38;5;241m-\u001B[39m\u001B[38;5;241m1\u001B[39m:]\u001B[38;5;241m-\u001B[39mperiod, xp, xp[\u001B[38;5;241m0\u001B[39m:\u001B[38;5;241m1\u001B[39m]\u001B[38;5;241m+\u001B[39mperiod))\n\u001B[0;32m   1597\u001B[0m     fp \u001B[38;5;241m=\u001B[39m np\u001B[38;5;241m.\u001B[39mconcatenate((fp[\u001B[38;5;241m-\u001B[39m\u001B[38;5;241m1\u001B[39m:], fp, fp[\u001B[38;5;241m0\u001B[39m:\u001B[38;5;241m1\u001B[39m]))\n\u001B[1;32m-> 1599\u001B[0m \u001B[38;5;28;01mreturn\u001B[39;00m interp_func(x, xp, fp, left, right)\n",
      "\u001B[1;31mKeyboardInterrupt\u001B[0m: "
     ]
    }
   ],
   "source": [
    "from ema_workbench.em_framework.optimization import ArchiveLogger, EpsilonProgress\n",
    "\n",
    "# we need to store our results for each seed\n",
    "results = []\n",
    "convergences = []\n",
    "\n",
    "with SequentialEvaluator(dike_model) as evaluator:\n",
    "    # we run again for 5 seeds\n",
    "    for i in range(100):\n",
    "        # we create 2 covergence tracker metrics\n",
    "        # the archive logger writes the archive to disk for every x nfe\n",
    "        # the epsilon progress tracks during runtime\n",
    "        convergence_metrics = [\n",
    "            ArchiveLogger(\n",
    "                r\"C:\\Users\\roelo\\Videos\\archive\",\n",
    "                [l.name for l in dike_model.levers],\n",
    "                [o.name for o in dike_model.outcomes],\n",
    "                base_filename=f\"{i}.tar.gz\",\n",
    "            ),\n",
    "            \n",
    "            EpsilonProgress(),\n",
    "        ]\n",
    "\n",
    "        result, convergence = evaluator.optimize(\n",
    "            nfe=1,\n",
    "            searchover=\"levers\",\n",
    "            epsilons=[0.05] * len(dike_model.outcomes),\n",
    "            convergence=convergence_metrics,\n",
    "            reference = Scenarios[0]\n",
    "        )\n",
    "\n",
    "        results.append(result)\n",
    "        convergences.append(convergence)"
   ],
   "metadata": {
    "collapsed": false,
    "ExecuteTime": {
     "end_time": "2024-06-13T18:50:35.851925Z",
     "start_time": "2024-06-13T18:48:35.791196Z"
    }
   },
   "id": "189438fda26ddc40",
   "execution_count": 122
  },
  {
   "cell_type": "code",
   "outputs": [
    {
     "name": "stderr",
     "output_type": "stream",
     "text": [
      "\n",
      "  0%|                                                  | 0/100 [00:00<?, ?it/s]\u001B[A\n",
      "100%|████████████████████████████████████████| 100/100 [02:10<00:00,  1.30s/it]\u001B[A\n",
      "[MainProcess/INFO] optimization completed, found 2 solutions\n"
     ]
    }
   ],
   "source": [
    "from ema_workbench import MultiprocessingEvaluator, ema_logging\n",
    "from ema_workbench.em_framework.evaluators import BaseEvaluator\n",
    "\n",
    "ema_logging.log_to_stderr(ema_logging.INFO)\n",
    "with SequentialEvaluator(dike_model) as evaluator:\n",
    "    results1 = evaluator.optimize(nfe=100, searchover='levers',\n",
    "                                  epsilons=[0.001, ] * len(dike_model.outcomes),\n",
    "                                  reference=Scenarios[0])"
   ],
   "metadata": {
    "collapsed": false,
    "ExecuteTime": {
     "end_time": "2024-06-13T18:52:51.349314Z",
     "start_time": "2024-06-13T18:50:41.137532Z"
    }
   },
   "id": "482324e31715e43a",
   "execution_count": 123
  },
  {
   "cell_type": "code",
   "outputs": [
    {
     "data": {
      "text/plain": "   0_RfR 0  0_RfR 1  0_RfR 2  1_RfR 0  1_RfR 1  1_RfR 2  2_RfR 0  2_RfR 1  \\\n0        1        1        0        1        0        0        0        0   \n1        0        1        0        0        0        0        1        1   \n\n   2_RfR 2  3_RfR 0  ...  A.4_DikeIncrease 0  A.4_DikeIncrease 1  \\\n0        0        1  ...                   9                   4   \n1        0        0  ...                   9                   7   \n\n   A.4_DikeIncrease 2  A.5_DikeIncrease 0  A.5_DikeIncrease 1  \\\n0                   4                   3                   9   \n1                  10                   6                   4   \n\n   A.5_DikeIncrease 2  A.5_Expected Number of Deaths  \\\n0                   5                            0.0   \n1                   1                            0.0   \n\n   A.5_Expected Annual Damage  RfR Total Costs  Expected Evacuation Costs  \n0                         0.0      508200000.0                   0.000000  \n1                         0.0      267200000.0                  59.954408  \n\n[2 rows x 35 columns]",
      "text/html": "<div>\n<style scoped>\n    .dataframe tbody tr th:only-of-type {\n        vertical-align: middle;\n    }\n\n    .dataframe tbody tr th {\n        vertical-align: top;\n    }\n\n    .dataframe thead th {\n        text-align: right;\n    }\n</style>\n<table border=\"1\" class=\"dataframe\">\n  <thead>\n    <tr style=\"text-align: right;\">\n      <th></th>\n      <th>0_RfR 0</th>\n      <th>0_RfR 1</th>\n      <th>0_RfR 2</th>\n      <th>1_RfR 0</th>\n      <th>1_RfR 1</th>\n      <th>1_RfR 2</th>\n      <th>2_RfR 0</th>\n      <th>2_RfR 1</th>\n      <th>2_RfR 2</th>\n      <th>3_RfR 0</th>\n      <th>...</th>\n      <th>A.4_DikeIncrease 0</th>\n      <th>A.4_DikeIncrease 1</th>\n      <th>A.4_DikeIncrease 2</th>\n      <th>A.5_DikeIncrease 0</th>\n      <th>A.5_DikeIncrease 1</th>\n      <th>A.5_DikeIncrease 2</th>\n      <th>A.5_Expected Number of Deaths</th>\n      <th>A.5_Expected Annual Damage</th>\n      <th>RfR Total Costs</th>\n      <th>Expected Evacuation Costs</th>\n    </tr>\n  </thead>\n  <tbody>\n    <tr>\n      <th>0</th>\n      <td>1</td>\n      <td>1</td>\n      <td>0</td>\n      <td>1</td>\n      <td>0</td>\n      <td>0</td>\n      <td>0</td>\n      <td>0</td>\n      <td>0</td>\n      <td>1</td>\n      <td>...</td>\n      <td>9</td>\n      <td>4</td>\n      <td>4</td>\n      <td>3</td>\n      <td>9</td>\n      <td>5</td>\n      <td>0.0</td>\n      <td>0.0</td>\n      <td>508200000.0</td>\n      <td>0.000000</td>\n    </tr>\n    <tr>\n      <th>1</th>\n      <td>0</td>\n      <td>1</td>\n      <td>0</td>\n      <td>0</td>\n      <td>0</td>\n      <td>0</td>\n      <td>1</td>\n      <td>1</td>\n      <td>0</td>\n      <td>0</td>\n      <td>...</td>\n      <td>9</td>\n      <td>7</td>\n      <td>10</td>\n      <td>6</td>\n      <td>4</td>\n      <td>1</td>\n      <td>0.0</td>\n      <td>0.0</td>\n      <td>267200000.0</td>\n      <td>59.954408</td>\n    </tr>\n  </tbody>\n</table>\n<p>2 rows × 35 columns</p>\n</div>"
     },
     "execution_count": 132,
     "metadata": {},
     "output_type": "execute_result"
    }
   ],
   "source": [
    "results1"
   ],
   "metadata": {
    "collapsed": false,
    "ExecuteTime": {
     "end_time": "2024-06-13T18:54:05.524926Z",
     "start_time": "2024-06-13T18:54:05.506872Z"
    }
   },
   "id": "8c740c3f0fb9aa08",
   "execution_count": 132
  },
  {
   "cell_type": "code",
   "outputs": [],
   "source": [
    "from optimization_tuned import epsilon_nondominated,HypervolumeMetric, Hypervolume"
   ],
   "metadata": {
    "collapsed": false,
    "ExecuteTime": {
     "end_time": "2024-06-13T18:54:00.786140Z",
     "start_time": "2024-06-13T18:54:00.780598Z"
    }
   },
   "id": "1807043c954564dc",
   "execution_count": 131
  },
  {
   "cell_type": "code",
   "outputs": [
    {
     "data": {
      "text/plain": "[ScalarOutcome('A.5_Expected Number of Deaths', variable_name=('A.5_Expected Number of Deaths',), function=<function sum_over at 0x000001D50C575760>),\n ScalarOutcome('A.5_Expected Annual Damage', variable_name=('A.5_Expected Annual Damage',), function=<function sum_over at 0x000001D50C575760>),\n ScalarOutcome('RfR Total Costs', variable_name=('RfR Total Costs',), function=<function sum_over at 0x000001D50C575760>),\n ScalarOutcome('Expected Evacuation Costs', variable_name=('Expected Evacuation Costs',), function=<function sum_over at 0x000001D50C575760>)]"
     },
     "execution_count": 128,
     "metadata": {},
     "output_type": "execute_result"
    }
   ],
   "source": [
    "(list(dike_model.outcomes))"
   ],
   "metadata": {
    "collapsed": false,
    "ExecuteTime": {
     "end_time": "2024-06-13T18:52:51.469228Z",
     "start_time": "2024-06-13T18:52:51.442938Z"
    }
   },
   "id": "2d5c674860620c91",
   "execution_count": 128
  },
  {
   "cell_type": "code",
   "outputs": [],
   "source": [],
   "metadata": {
    "collapsed": false
   },
   "id": "b41eaca7ee406d9d",
   "execution_count": null
  },
  {
   "cell_type": "code",
   "outputs": [
    {
     "name": "stderr",
     "output_type": "stream",
     "text": [
      "\n",
      "\n",
      "\n",
      "  0%|                                                  | 0/100 [00:00<?, ?it/s]\u001B[A\u001B[A\u001B[A\n",
      "\n",
      "\n",
      "  1%|▍                                         | 1/100 [00:00<01:22,  1.19it/s]\u001B[A\u001B[A\u001B[A\n",
      "\n",
      "\n",
      "  2%|▊                                         | 2/100 [00:01<01:13,  1.34it/s]\u001B[A\u001B[A\u001B[A\n",
      "\n",
      "\n",
      "  3%|█▎                                        | 3/100 [00:02<01:03,  1.52it/s]\u001B[A\u001B[A\u001B[A\n",
      "\n",
      "\n",
      "  4%|█▋                                        | 4/100 [00:02<01:02,  1.53it/s]\u001B[A\u001B[A\u001B[A\n",
      "\n",
      "\n",
      "  5%|██                                        | 5/100 [00:03<01:00,  1.57it/s]\u001B[A\u001B[A\u001B[A\n",
      "\n",
      "\n",
      "  6%|██▌                                       | 6/100 [00:03<00:58,  1.62it/s]\u001B[A\u001B[A\u001B[A\n",
      "\n",
      "\n",
      "  7%|██▉                                       | 7/100 [00:04<00:57,  1.63it/s]\u001B[A\u001B[A\u001B[A\n",
      "\n",
      "\n",
      "  8%|███▎                                      | 8/100 [00:05<00:55,  1.65it/s]\u001B[A\u001B[A\u001B[A\n",
      "\n",
      "\n",
      "  9%|███▊                                      | 9/100 [00:05<00:53,  1.71it/s]\u001B[A\u001B[A\u001B[A\n",
      "\n",
      "\n",
      " 10%|████                                     | 10/100 [00:06<01:11,  1.25it/s]\u001B[A\u001B[A\u001B[A\n",
      "\n",
      "\n",
      " 11%|████▌                                    | 11/100 [00:08<01:32,  1.04s/it]\u001B[A\u001B[A\u001B[A\n",
      "\n",
      "\n",
      " 12%|████▉                                    | 12/100 [00:09<01:34,  1.07s/it]\u001B[A\u001B[A\u001B[A\n",
      "\n",
      "\n",
      " 13%|█████▎                                   | 13/100 [00:10<01:35,  1.10s/it]\u001B[A\u001B[A\u001B[A\n",
      "\n",
      "\n",
      " 14%|█████▋                                   | 14/100 [00:11<01:36,  1.12s/it]\u001B[A\u001B[A\u001B[A\n",
      "\n",
      "\n",
      " 15%|██████▏                                  | 15/100 [00:13<01:44,  1.23s/it]\u001B[A\u001B[A\u001B[A\n",
      "\n",
      "\n",
      " 16%|██████▌                                  | 16/100 [00:14<01:45,  1.25s/it]\u001B[A\u001B[A\u001B[A\n",
      "\n",
      "\n",
      " 17%|██████▉                                  | 17/100 [00:16<01:43,  1.24s/it]\u001B[A\u001B[A\u001B[A\n",
      "\n",
      "\n",
      " 18%|███████▍                                 | 18/100 [00:17<01:41,  1.24s/it]\u001B[A\u001B[A\u001B[A\n",
      "\n",
      "\n",
      " 19%|███████▊                                 | 19/100 [00:18<01:41,  1.25s/it]\u001B[A\u001B[A\u001B[A\n",
      "\n",
      "\n",
      " 20%|████████▏                                | 20/100 [00:20<01:50,  1.38s/it]\u001B[A\u001B[A\u001B[A\n",
      "\n",
      "\n",
      " 21%|████████▌                                | 21/100 [00:21<01:49,  1.38s/it]\u001B[A\u001B[A\u001B[A\n",
      "\n",
      "\n",
      " 22%|█████████                                | 22/100 [00:23<01:50,  1.42s/it]\u001B[A\u001B[A\u001B[A\n",
      "\n",
      "\n",
      " 23%|█████████▍                               | 23/100 [00:24<01:49,  1.43s/it]\u001B[A\u001B[A\u001B[A\n",
      "\n",
      "\n",
      " 24%|█████████▊                               | 24/100 [00:25<01:48,  1.43s/it]\u001B[A\u001B[A\u001B[A\n",
      "\n",
      "\n",
      " 25%|██████████▎                              | 25/100 [00:27<01:47,  1.43s/it]\u001B[A\u001B[A\u001B[A\n",
      "\n",
      "\n",
      " 26%|██████████▋                              | 26/100 [00:29<01:54,  1.54s/it]\u001B[A\u001B[A\u001B[A\n",
      "\n",
      "\n",
      " 27%|███████████                              | 27/100 [00:30<01:50,  1.52s/it]\u001B[A\u001B[A\u001B[A\n",
      "\n",
      "\n",
      " 28%|███████████▍                             | 28/100 [00:32<01:54,  1.59s/it]\u001B[A\u001B[A\u001B[A\n",
      "\n",
      "\n",
      " 29%|███████████▉                             | 29/100 [00:33<01:47,  1.52s/it]\u001B[A\u001B[A\u001B[A\n",
      "\n",
      "\n",
      " 30%|████████████▎                            | 30/100 [00:34<01:37,  1.39s/it]\u001B[A\u001B[A\u001B[A\n",
      "\n",
      "\n",
      " 31%|████████████▋                            | 31/100 [00:36<01:36,  1.40s/it]\u001B[A\u001B[A\u001B[A\n",
      "\n",
      "\n",
      " 32%|█████████████                            | 32/100 [00:37<01:37,  1.44s/it]\u001B[A\u001B[A\u001B[A\n",
      "\n",
      "\n",
      " 33%|█████████████▌                           | 33/100 [00:39<01:36,  1.45s/it]\u001B[A\u001B[A\u001B[A\n",
      "\n",
      "\n",
      " 34%|█████████████▉                           | 34/100 [00:41<01:41,  1.53s/it]\u001B[A\u001B[A\u001B[A\n",
      "\n",
      "\n",
      " 35%|██████████████▎                          | 35/100 [00:42<01:36,  1.49s/it]\u001B[A\u001B[A\u001B[A\n",
      "\n",
      "\n",
      " 36%|██████████████▊                          | 36/100 [00:43<01:33,  1.46s/it]\u001B[A\u001B[A\u001B[A\n",
      "\n",
      "\n",
      " 37%|███████████████▏                         | 37/100 [00:45<01:30,  1.43s/it]\u001B[A\u001B[A\u001B[A\n",
      "\n",
      "\n",
      " 38%|███████████████▌                         | 38/100 [00:46<01:24,  1.36s/it]\u001B[A\u001B[A\u001B[A\n",
      "\n",
      "\n",
      " 39%|███████████████▉                         | 39/100 [00:47<01:17,  1.27s/it]\u001B[A\u001B[A\u001B[A\n",
      "\n",
      "\n",
      " 40%|████████████████▍                        | 40/100 [00:48<01:14,  1.24s/it]\u001B[A\u001B[A\u001B[A\n",
      "\n",
      "\n",
      " 41%|████████████████▊                        | 41/100 [00:50<01:22,  1.40s/it]\u001B[A\u001B[A\u001B[A\n",
      "\n",
      "\n",
      " 42%|█████████████████▏                       | 42/100 [00:51<01:20,  1.39s/it]\u001B[A\u001B[A\u001B[A\n",
      "\n",
      "\n",
      " 43%|█████████████████▋                       | 43/100 [00:53<01:21,  1.43s/it]\u001B[A\u001B[A\u001B[A\n",
      "\n",
      "\n",
      " 44%|██████████████████                       | 44/100 [00:54<01:23,  1.49s/it]\u001B[A\u001B[A\u001B[A\n",
      "\n",
      "\n",
      " 45%|██████████████████▍                      | 45/100 [00:56<01:16,  1.39s/it]\u001B[A\u001B[A\u001B[A\n",
      "\n",
      "\n",
      " 46%|██████████████████▊                      | 46/100 [00:57<01:13,  1.36s/it]\u001B[A\u001B[A\u001B[A\n",
      "\n",
      "\n",
      " 47%|███████████████████▎                     | 47/100 [00:58<01:15,  1.43s/it]\u001B[A\u001B[A\u001B[A\n",
      "\n",
      "\n",
      " 48%|███████████████████▋                     | 48/100 [01:00<01:14,  1.43s/it]\u001B[A\u001B[A\u001B[A\n",
      "\n",
      "\n",
      " 49%|████████████████████                     | 49/100 [01:01<01:13,  1.44s/it]\u001B[A\u001B[A\u001B[A\n",
      "\n",
      "\n",
      " 50%|████████████████████▌                    | 50/100 [01:04<01:24,  1.68s/it]\u001B[A\u001B[A\u001B[A\n",
      "\n",
      "\n",
      " 51%|████████████████████▉                    | 51/100 [01:05<01:24,  1.73s/it]\u001B[A\u001B[A\u001B[A\n",
      "\n",
      "\n",
      " 52%|█████████████████████▎                   | 52/100 [01:07<01:27,  1.82s/it]\u001B[A\u001B[A\u001B[A\n",
      "\n",
      "\n",
      " 53%|█████████████████████▋                   | 53/100 [01:09<01:23,  1.77s/it]\u001B[A\u001B[A\u001B[A\n",
      "\n",
      "\n",
      " 54%|██████████████████████▏                  | 54/100 [01:11<01:20,  1.74s/it]\u001B[A\u001B[A\u001B[A\n",
      "\n",
      "\n",
      " 55%|██████████████████████▌                  | 55/100 [01:12<01:17,  1.72s/it]\u001B[A\u001B[A\u001B[A\n",
      "\n",
      "\n",
      " 56%|██████████████████████▉                  | 56/100 [01:14<01:15,  1.70s/it]\u001B[A\u001B[A\u001B[A\n",
      "\n",
      "\n",
      " 57%|███████████████████████▎                 | 57/100 [01:16<01:12,  1.67s/it]\u001B[A\u001B[A\u001B[A\n",
      "\n",
      "\n",
      " 58%|███████████████████████▊                 | 58/100 [01:17<01:08,  1.64s/it]\u001B[A\u001B[A\u001B[A\n",
      "\n",
      "\n",
      " 59%|████████████████████████▏                | 59/100 [01:19<01:04,  1.58s/it]\u001B[A\u001B[A\u001B[A\n",
      "\n",
      "\n",
      " 60%|████████████████████████▌                | 60/100 [01:21<01:07,  1.70s/it]\u001B[A\u001B[A\u001B[A\n",
      "\n",
      "\n",
      " 61%|█████████████████████████                | 61/100 [01:22<01:02,  1.59s/it]\u001B[A\u001B[A\u001B[A\n",
      "\n",
      "\n",
      " 62%|█████████████████████████▍               | 62/100 [01:24<00:59,  1.56s/it]\u001B[A\u001B[A\u001B[A\n",
      "\n",
      "\n",
      " 63%|█████████████████████████▊               | 63/100 [01:25<00:58,  1.58s/it]\u001B[A\u001B[A\u001B[A\n",
      "\n",
      "\n",
      " 64%|██████████████████████████▏              | 64/100 [01:27<00:55,  1.55s/it]\u001B[A\u001B[A\u001B[A\n",
      "\n",
      "\n",
      " 65%|██████████████████████████▋              | 65/100 [01:28<00:52,  1.50s/it]\u001B[A\u001B[A\u001B[A\n",
      "\n",
      "\n",
      " 66%|███████████████████████████              | 66/100 [01:29<00:50,  1.50s/it]\u001B[A\u001B[A\u001B[A\n",
      "\n",
      "\n",
      " 67%|███████████████████████████▍             | 67/100 [01:31<00:49,  1.49s/it]\u001B[A\u001B[A\u001B[A\n",
      "\n",
      "\n",
      " 68%|███████████████████████████▉             | 68/100 [01:32<00:47,  1.48s/it]\u001B[A\u001B[A\u001B[A\n",
      "\n",
      "\n",
      " 69%|████████████████████████████▎            | 69/100 [01:34<00:45,  1.46s/it]\u001B[A\u001B[A\u001B[A\n",
      "\n",
      "\n",
      " 70%|████████████████████████████▋            | 70/100 [01:35<00:43,  1.45s/it]\u001B[A\u001B[A\u001B[A\n",
      "\n",
      "\n",
      " 71%|█████████████████████████████            | 71/100 [01:37<00:42,  1.46s/it]\u001B[A\u001B[A\u001B[A\n",
      "\n",
      "\n",
      " 72%|█████████████████████████████▌           | 72/100 [01:38<00:40,  1.44s/it]\u001B[A\u001B[A\u001B[A\n",
      "\n",
      "\n",
      " 73%|█████████████████████████████▉           | 73/100 [01:40<00:38,  1.44s/it]\u001B[A\u001B[A\u001B[A\n",
      "\n",
      "\n",
      " 74%|██████████████████████████████▎          | 74/100 [01:41<00:37,  1.45s/it]\u001B[A\u001B[A\u001B[A\n",
      "\n",
      "\n",
      " 75%|██████████████████████████████▊          | 75/100 [01:42<00:35,  1.41s/it]\u001B[A\u001B[A\u001B[A\n",
      "\n",
      "\n",
      " 76%|███████████████████████████████▏         | 76/100 [01:44<00:33,  1.42s/it]\u001B[A\u001B[A\u001B[A\n",
      "\n",
      "\n",
      " 77%|███████████████████████████████▌         | 77/100 [01:45<00:32,  1.41s/it]\u001B[A\u001B[A\u001B[A\n",
      "\n",
      "\n",
      " 78%|███████████████████████████████▉         | 78/100 [01:47<00:31,  1.43s/it]\u001B[A\u001B[A\u001B[A\n",
      "\n",
      "\n",
      " 79%|████████████████████████████████▍        | 79/100 [01:48<00:30,  1.45s/it]\u001B[A\u001B[A\u001B[A\n",
      "\n",
      "\n",
      " 80%|████████████████████████████████▊        | 80/100 [01:50<00:28,  1.43s/it]\u001B[A\u001B[A\u001B[A\n",
      "\n",
      "\n",
      " 81%|█████████████████████████████████▏       | 81/100 [01:51<00:28,  1.48s/it]\u001B[A\u001B[A\u001B[A\n",
      "\n",
      "\n",
      " 82%|█████████████████████████████████▌       | 82/100 [01:52<00:25,  1.44s/it]\u001B[A\u001B[A\u001B[A\n",
      "\n",
      "\n",
      " 83%|██████████████████████████████████       | 83/100 [01:54<00:24,  1.45s/it]\u001B[A\u001B[A\u001B[A\n",
      "\n",
      "\n",
      " 84%|██████████████████████████████████▍      | 84/100 [01:55<00:22,  1.41s/it]\u001B[A\u001B[A\u001B[A\n",
      "\n",
      "\n",
      " 85%|██████████████████████████████████▊      | 85/100 [01:56<00:19,  1.33s/it]\u001B[A\u001B[A\u001B[A\n",
      "\n",
      "\n",
      " 86%|███████████████████████████████████▎     | 86/100 [01:57<00:17,  1.25s/it]\u001B[A\u001B[A\u001B[A\n",
      "\n",
      "\n",
      " 87%|███████████████████████████████████▋     | 87/100 [01:59<00:15,  1.18s/it]\u001B[A\u001B[A\u001B[A\n",
      "\n",
      "\n",
      " 88%|████████████████████████████████████     | 88/100 [01:59<00:12,  1.07s/it]\u001B[A\u001B[A\u001B[A\n",
      "\n",
      "\n",
      " 89%|████████████████████████████████████▍    | 89/100 [02:00<00:10,  1.05it/s]\u001B[A\u001B[A\u001B[A\n",
      "\n",
      "\n",
      " 90%|████████████████████████████████████▉    | 90/100 [02:01<00:09,  1.10it/s]\u001B[A\u001B[A\u001B[A\n",
      "\n",
      "\n",
      " 91%|█████████████████████████████████████▎   | 91/100 [02:02<00:07,  1.13it/s]\u001B[A\u001B[A\u001B[A\n",
      "\n",
      "\n",
      " 92%|█████████████████████████████████████▋   | 92/100 [02:02<00:06,  1.19it/s]\u001B[A\u001B[A\u001B[A\n",
      "\n",
      "\n",
      " 93%|██████████████████████████████████████▏  | 93/100 [02:03<00:05,  1.17it/s]\u001B[A\u001B[A\u001B[A\n",
      "\n",
      "\n",
      " 94%|██████████████████████████████████████▌  | 94/100 [02:04<00:04,  1.30it/s]\u001B[A\u001B[A\u001B[A\n",
      "\n",
      "\n",
      " 95%|██████████████████████████████████████▉  | 95/100 [02:04<00:03,  1.44it/s]\u001B[A\u001B[A\u001B[A\n",
      "\n",
      "\n",
      " 96%|███████████████████████████████████████▎ | 96/100 [02:05<00:03,  1.32it/s]\u001B[A\u001B[A\u001B[A\n",
      "\n",
      "\n",
      " 97%|███████████████████████████████████████▊ | 97/100 [02:06<00:02,  1.40it/s]\u001B[A\u001B[A\u001B[A\n",
      "\n",
      "\n",
      " 98%|████████████████████████████████████████▏| 98/100 [02:06<00:01,  1.50it/s]\u001B[A\u001B[A\u001B[A\n",
      "\n",
      "\n",
      " 99%|████████████████████████████████████████▌| 99/100 [02:07<00:00,  1.56it/s]\u001B[A\u001B[A\u001B[A\n",
      "\n",
      "\n",
      "100%|████████████████████████████████████████| 100/100 [02:08<00:00,  1.28s/it]\u001B[A\u001B[A\u001B[A\n",
      "  0%|                                                    | 0/1 [20:40<?, ?it/s]\n",
      "  0%|                              | 2/1600000 [10:59<146469:39:29, 329.56s/it]\n",
      "  0%|                                   | 91/64000 [09:28<110:58:34,  6.25s/it]\n"
     ]
    },
    {
     "ename": "AttributeError",
     "evalue": "'dict' object has no attribute 'dtype'",
     "output_type": "error",
     "traceback": [
      "\u001B[1;31m---------------------------------------------------------------------------\u001B[0m",
      "\u001B[1;31mAttributeError\u001B[0m                            Traceback (most recent call last)",
      "Cell \u001B[1;32mIn[148], line 5\u001B[0m\n\u001B[0;32m      2\u001B[0m     results \u001B[38;5;241m=\u001B[39m evaluator\u001B[38;5;241m.\u001B[39mperform_experiments(scenarios\u001B[38;5;241m=\u001B[39m\u001B[38;5;241m10\u001B[39m,policies\u001B[38;5;241m=\u001B[39m\u001B[38;5;241m10\u001B[39m,uncertainty_sampling\u001B[38;5;241m=\u001B[39mSamplers\u001B[38;5;241m.\u001B[39mLHS)\n\u001B[0;32m      4\u001B[0m experiments, outcomes \u001B[38;5;241m=\u001B[39m results\n\u001B[1;32m----> 5\u001B[0m results \u001B[38;5;241m=\u001B[39m \u001B[43mpd\u001B[49m\u001B[38;5;241;43m.\u001B[39;49m\u001B[43mDataFrame\u001B[49m\u001B[43m(\u001B[49m\u001B[43mresults\u001B[49m\u001B[43m)\u001B[49m\n",
      "File \u001B[1;32m~\\anaconda3\\envs\\MD\\Lib\\site-packages\\pandas\\core\\frame.py:867\u001B[0m, in \u001B[0;36mDataFrame.__init__\u001B[1;34m(self, data, index, columns, dtype, copy)\u001B[0m\n\u001B[0;32m    859\u001B[0m         mgr \u001B[38;5;241m=\u001B[39m arrays_to_mgr(\n\u001B[0;32m    860\u001B[0m             arrays,\n\u001B[0;32m    861\u001B[0m             columns,\n\u001B[1;32m   (...)\u001B[0m\n\u001B[0;32m    864\u001B[0m             typ\u001B[38;5;241m=\u001B[39mmanager,\n\u001B[0;32m    865\u001B[0m         )\n\u001B[0;32m    866\u001B[0m     \u001B[38;5;28;01melse\u001B[39;00m:\n\u001B[1;32m--> 867\u001B[0m         mgr \u001B[38;5;241m=\u001B[39m \u001B[43mndarray_to_mgr\u001B[49m\u001B[43m(\u001B[49m\n\u001B[0;32m    868\u001B[0m \u001B[43m            \u001B[49m\u001B[43mdata\u001B[49m\u001B[43m,\u001B[49m\n\u001B[0;32m    869\u001B[0m \u001B[43m            \u001B[49m\u001B[43mindex\u001B[49m\u001B[43m,\u001B[49m\n\u001B[0;32m    870\u001B[0m \u001B[43m            \u001B[49m\u001B[43mcolumns\u001B[49m\u001B[43m,\u001B[49m\n\u001B[0;32m    871\u001B[0m \u001B[43m            \u001B[49m\u001B[43mdtype\u001B[49m\u001B[38;5;241;43m=\u001B[39;49m\u001B[43mdtype\u001B[49m\u001B[43m,\u001B[49m\n\u001B[0;32m    872\u001B[0m \u001B[43m            \u001B[49m\u001B[43mcopy\u001B[49m\u001B[38;5;241;43m=\u001B[39;49m\u001B[43mcopy\u001B[49m\u001B[43m,\u001B[49m\n\u001B[0;32m    873\u001B[0m \u001B[43m            \u001B[49m\u001B[43mtyp\u001B[49m\u001B[38;5;241;43m=\u001B[39;49m\u001B[43mmanager\u001B[49m\u001B[43m,\u001B[49m\n\u001B[0;32m    874\u001B[0m \u001B[43m        \u001B[49m\u001B[43m)\u001B[49m\n\u001B[0;32m    875\u001B[0m \u001B[38;5;28;01melse\u001B[39;00m:\n\u001B[0;32m    876\u001B[0m     mgr \u001B[38;5;241m=\u001B[39m dict_to_mgr(\n\u001B[0;32m    877\u001B[0m         {},\n\u001B[0;32m    878\u001B[0m         index,\n\u001B[1;32m   (...)\u001B[0m\n\u001B[0;32m    881\u001B[0m         typ\u001B[38;5;241m=\u001B[39mmanager,\n\u001B[0;32m    882\u001B[0m     )\n",
      "File \u001B[1;32m~\\anaconda3\\envs\\MD\\Lib\\site-packages\\pandas\\core\\internals\\construction.py:319\u001B[0m, in \u001B[0;36mndarray_to_mgr\u001B[1;34m(values, index, columns, dtype, copy, typ)\u001B[0m\n\u001B[0;32m    314\u001B[0m     values \u001B[38;5;241m=\u001B[39m _ensure_2d(values)\n\u001B[0;32m    316\u001B[0m \u001B[38;5;28;01melse\u001B[39;00m:\n\u001B[0;32m    317\u001B[0m     \u001B[38;5;66;03m# by definition an array here\u001B[39;00m\n\u001B[0;32m    318\u001B[0m     \u001B[38;5;66;03m# the dtypes will be coerced to a single dtype\u001B[39;00m\n\u001B[1;32m--> 319\u001B[0m     values \u001B[38;5;241m=\u001B[39m \u001B[43m_prep_ndarraylike\u001B[49m\u001B[43m(\u001B[49m\u001B[43mvalues\u001B[49m\u001B[43m,\u001B[49m\u001B[43m \u001B[49m\u001B[43mcopy\u001B[49m\u001B[38;5;241;43m=\u001B[39;49m\u001B[43mcopy_on_sanitize\u001B[49m\u001B[43m)\u001B[49m\n\u001B[0;32m    321\u001B[0m \u001B[38;5;28;01mif\u001B[39;00m dtype \u001B[38;5;129;01mis\u001B[39;00m \u001B[38;5;129;01mnot\u001B[39;00m \u001B[38;5;28;01mNone\u001B[39;00m \u001B[38;5;129;01mand\u001B[39;00m values\u001B[38;5;241m.\u001B[39mdtype \u001B[38;5;241m!=\u001B[39m dtype:\n\u001B[0;32m    322\u001B[0m     \u001B[38;5;66;03m# GH#40110 see similar check inside sanitize_array\u001B[39;00m\n\u001B[0;32m    323\u001B[0m     values \u001B[38;5;241m=\u001B[39m sanitize_array(\n\u001B[0;32m    324\u001B[0m         values,\n\u001B[0;32m    325\u001B[0m         \u001B[38;5;28;01mNone\u001B[39;00m,\n\u001B[1;32m   (...)\u001B[0m\n\u001B[0;32m    328\u001B[0m         allow_2d\u001B[38;5;241m=\u001B[39m\u001B[38;5;28;01mTrue\u001B[39;00m,\n\u001B[0;32m    329\u001B[0m     )\n",
      "File \u001B[1;32m~\\anaconda3\\envs\\MD\\Lib\\site-packages\\pandas\\core\\internals\\construction.py:575\u001B[0m, in \u001B[0;36m_prep_ndarraylike\u001B[1;34m(values, copy)\u001B[0m\n\u001B[0;32m    569\u001B[0m \u001B[38;5;66;03m# we could have a 1-dim or 2-dim list here\u001B[39;00m\n\u001B[0;32m    570\u001B[0m \u001B[38;5;66;03m# this is equiv of np.asarray, but does object conversion\u001B[39;00m\n\u001B[0;32m    571\u001B[0m \u001B[38;5;66;03m# and platform dtype preservation\u001B[39;00m\n\u001B[0;32m    572\u001B[0m \u001B[38;5;66;03m# does not convert e.g. [1, \"a\", True] to [\"1\", \"a\", \"True\"] like\u001B[39;00m\n\u001B[0;32m    573\u001B[0m \u001B[38;5;66;03m#  np.asarray would\u001B[39;00m\n\u001B[0;32m    574\u001B[0m \u001B[38;5;28;01mif\u001B[39;00m is_list_like(values[\u001B[38;5;241m0\u001B[39m]):\n\u001B[1;32m--> 575\u001B[0m     values \u001B[38;5;241m=\u001B[39m np\u001B[38;5;241m.\u001B[39marray(\u001B[43m[\u001B[49m\u001B[43mconvert\u001B[49m\u001B[43m(\u001B[49m\u001B[43mv\u001B[49m\u001B[43m)\u001B[49m\u001B[43m \u001B[49m\u001B[38;5;28;43;01mfor\u001B[39;49;00m\u001B[43m \u001B[49m\u001B[43mv\u001B[49m\u001B[43m \u001B[49m\u001B[38;5;129;43;01min\u001B[39;49;00m\u001B[43m \u001B[49m\u001B[43mvalues\u001B[49m\u001B[43m]\u001B[49m)\n\u001B[0;32m    576\u001B[0m \u001B[38;5;28;01melif\u001B[39;00m \u001B[38;5;28misinstance\u001B[39m(values[\u001B[38;5;241m0\u001B[39m], np\u001B[38;5;241m.\u001B[39mndarray) \u001B[38;5;129;01mand\u001B[39;00m values[\u001B[38;5;241m0\u001B[39m]\u001B[38;5;241m.\u001B[39mndim \u001B[38;5;241m==\u001B[39m \u001B[38;5;241m0\u001B[39m:\n\u001B[0;32m    577\u001B[0m     \u001B[38;5;66;03m# GH#21861 see test_constructor_list_of_lists\u001B[39;00m\n\u001B[0;32m    578\u001B[0m     values \u001B[38;5;241m=\u001B[39m np\u001B[38;5;241m.\u001B[39marray([convert(v) \u001B[38;5;28;01mfor\u001B[39;00m v \u001B[38;5;129;01min\u001B[39;00m values])\n",
      "File \u001B[1;32m~\\anaconda3\\envs\\MD\\Lib\\site-packages\\pandas\\core\\internals\\construction.py:575\u001B[0m, in \u001B[0;36m<listcomp>\u001B[1;34m(.0)\u001B[0m\n\u001B[0;32m    569\u001B[0m \u001B[38;5;66;03m# we could have a 1-dim or 2-dim list here\u001B[39;00m\n\u001B[0;32m    570\u001B[0m \u001B[38;5;66;03m# this is equiv of np.asarray, but does object conversion\u001B[39;00m\n\u001B[0;32m    571\u001B[0m \u001B[38;5;66;03m# and platform dtype preservation\u001B[39;00m\n\u001B[0;32m    572\u001B[0m \u001B[38;5;66;03m# does not convert e.g. [1, \"a\", True] to [\"1\", \"a\", \"True\"] like\u001B[39;00m\n\u001B[0;32m    573\u001B[0m \u001B[38;5;66;03m#  np.asarray would\u001B[39;00m\n\u001B[0;32m    574\u001B[0m \u001B[38;5;28;01mif\u001B[39;00m is_list_like(values[\u001B[38;5;241m0\u001B[39m]):\n\u001B[1;32m--> 575\u001B[0m     values \u001B[38;5;241m=\u001B[39m np\u001B[38;5;241m.\u001B[39marray([\u001B[43mconvert\u001B[49m\u001B[43m(\u001B[49m\u001B[43mv\u001B[49m\u001B[43m)\u001B[49m \u001B[38;5;28;01mfor\u001B[39;00m v \u001B[38;5;129;01min\u001B[39;00m values])\n\u001B[0;32m    576\u001B[0m \u001B[38;5;28;01melif\u001B[39;00m \u001B[38;5;28misinstance\u001B[39m(values[\u001B[38;5;241m0\u001B[39m], np\u001B[38;5;241m.\u001B[39mndarray) \u001B[38;5;129;01mand\u001B[39;00m values[\u001B[38;5;241m0\u001B[39m]\u001B[38;5;241m.\u001B[39mndim \u001B[38;5;241m==\u001B[39m \u001B[38;5;241m0\u001B[39m:\n\u001B[0;32m    577\u001B[0m     \u001B[38;5;66;03m# GH#21861 see test_constructor_list_of_lists\u001B[39;00m\n\u001B[0;32m    578\u001B[0m     values \u001B[38;5;241m=\u001B[39m np\u001B[38;5;241m.\u001B[39marray([convert(v) \u001B[38;5;28;01mfor\u001B[39;00m v \u001B[38;5;129;01min\u001B[39;00m values])\n",
      "File \u001B[1;32m~\\anaconda3\\envs\\MD\\Lib\\site-packages\\pandas\\core\\internals\\construction.py:564\u001B[0m, in \u001B[0;36m_prep_ndarraylike.<locals>.convert\u001B[1;34m(v)\u001B[0m\n\u001B[0;32m    561\u001B[0m     \u001B[38;5;28;01mreturn\u001B[39;00m v\n\u001B[0;32m    563\u001B[0m v \u001B[38;5;241m=\u001B[39m extract_array(v, extract_numpy\u001B[38;5;241m=\u001B[39m\u001B[38;5;28;01mTrue\u001B[39;00m)\n\u001B[1;32m--> 564\u001B[0m res \u001B[38;5;241m=\u001B[39m \u001B[43mmaybe_convert_platform\u001B[49m\u001B[43m(\u001B[49m\u001B[43mv\u001B[49m\u001B[43m)\u001B[49m\n\u001B[0;32m    565\u001B[0m \u001B[38;5;66;03m# We don't do maybe_infer_to_datetimelike here bc we will end up doing\u001B[39;00m\n\u001B[0;32m    566\u001B[0m \u001B[38;5;66;03m#  it column-by-column in ndarray_to_mgr\u001B[39;00m\n\u001B[0;32m    567\u001B[0m \u001B[38;5;28;01mreturn\u001B[39;00m res\n",
      "File \u001B[1;32m~\\anaconda3\\envs\\MD\\Lib\\site-packages\\pandas\\core\\dtypes\\cast.py:137\u001B[0m, in \u001B[0;36mmaybe_convert_platform\u001B[1;34m(values)\u001B[0m\n\u001B[0;32m    132\u001B[0m \u001B[38;5;28;01melse\u001B[39;00m:\n\u001B[0;32m    133\u001B[0m     \u001B[38;5;66;03m# The caller is responsible for ensuring that we have np.ndarray\u001B[39;00m\n\u001B[0;32m    134\u001B[0m     \u001B[38;5;66;03m#  or ExtensionArray here.\u001B[39;00m\n\u001B[0;32m    135\u001B[0m     arr \u001B[38;5;241m=\u001B[39m values\n\u001B[1;32m--> 137\u001B[0m \u001B[38;5;28;01mif\u001B[39;00m \u001B[43marr\u001B[49m\u001B[38;5;241;43m.\u001B[39;49m\u001B[43mdtype\u001B[49m \u001B[38;5;241m==\u001B[39m _dtype_obj:\n\u001B[0;32m    138\u001B[0m     arr \u001B[38;5;241m=\u001B[39m cast(np\u001B[38;5;241m.\u001B[39mndarray, arr)\n\u001B[0;32m    139\u001B[0m     arr \u001B[38;5;241m=\u001B[39m lib\u001B[38;5;241m.\u001B[39mmaybe_convert_objects(arr)\n",
      "\u001B[1;31mAttributeError\u001B[0m: 'dict' object has no attribute 'dtype'"
     ]
    }
   ],
   "source": [
    "    with SequentialEvaluator(dike_model) as evaluator:\n",
    "    results = evaluator.perform_experiments(scenarios=10,policies=10,uncertainty_sampling=Samplers.LHS)\n",
    "\n",
    "experiments, outcomes = results\n",
    "results = pd.DataFrame(results)"
   ],
   "metadata": {
    "collapsed": false,
    "ExecuteTime": {
     "end_time": "2024-06-13T19:09:17.165772Z",
     "start_time": "2024-06-13T19:07:07.553909Z"
    }
   },
   "id": "4dc798119882885f",
   "execution_count": 148
  },
  {
   "cell_type": "code",
   "outputs": [
    {
     "data": {
      "text/plain": "    A.0_ID flood wave shape    A.1_Bmax A.1_Brate  A.1_pfail    A.2_Bmax  \\\n0                        28  334.550720       1.5   0.536400   98.638584   \n1                         2  112.718847       1.5   0.374176  152.862635   \n2                        91  160.342849       1.5   0.137473  278.934201   \n3                        66  253.616129       1.5   0.909950  245.242837   \n4                       119   64.528577       1.0   0.051779  318.661972   \n..                      ...         ...       ...        ...         ...   \n95                      104  286.858019      10.0   0.647907   90.083315   \n96                       13  268.172666       1.0   0.828675  303.723326   \n97                      121  206.310546      10.0   0.427856  167.921975   \n98                       50  146.798661      10.0   0.246389  219.173105   \n99                       73   58.358617       1.0   0.712040   53.085150   \n\n   A.2_Brate  A.2_pfail    A.3_Bmax A.3_Brate  A.3_pfail  ...  \\\n0        1.5   0.758910  280.435623      10.0   0.493473  ...   \n1        1.0   0.593557  239.972876       1.0   0.047630  ...   \n2        1.0   0.269154  117.110651      10.0   0.159196  ...   \n3       10.0   0.025214  319.344120       1.5   0.705097  ...   \n4        1.0   0.419978  312.650051       1.0   0.301750  ...   \n..       ...        ...         ...       ...        ...  ...   \n95       1.5   0.364053  183.940189      10.0   0.907323  ...   \n96      10.0   0.864185  191.973052       1.0   0.237527  ...   \n97      10.0   0.917083   73.175780      10.0   0.656236  ...   \n98       1.5   0.198945   61.260609       1.5   0.587716  ...   \n99      10.0   0.658451  157.221494       1.5   0.817592  ...   \n\n    A.4_DikeIncrease 0 A.4_DikeIncrease 1  A.4_DikeIncrease 2  \\\n0                    7                  1                   4   \n1                    7                  1                   4   \n2                    7                  1                   4   \n3                    7                  1                   4   \n4                    7                  1                   4   \n..                 ...                ...                 ...   \n95                   4                  0                   1   \n96                   4                  0                   1   \n97                   4                  0                   1   \n98                   4                  0                   1   \n99                   4                  0                   1   \n\n    A.5_DikeIncrease 0 A.5_DikeIncrease 1  A.5_DikeIncrease 2  \\\n0                    3                  2                   3   \n1                    3                  2                   3   \n2                    3                  2                   3   \n3                    3                  2                   3   \n4                    3                  2                   3   \n..                 ...                ...                 ...   \n95                   8                  4                   4   \n96                   8                  4                   4   \n97                   8                  4                   4   \n98                   8                  4                   4   \n99                   8                  4                   4   \n\n   EWS_DaysToThreat scenario policy     model  \n0                 4     9870   9860  dikesnet  \n1                 4     9871   9860  dikesnet  \n2                 4     9872   9860  dikesnet  \n3                 4     9873   9860  dikesnet  \n4                 4     9874   9860  dikesnet  \n..              ...      ...    ...       ...  \n95                1     9875   9869  dikesnet  \n96                1     9876   9869  dikesnet  \n97                1     9877   9869  dikesnet  \n98                1     9878   9869  dikesnet  \n99                1     9879   9869  dikesnet  \n\n[100 rows x 53 columns]",
      "text/html": "<div>\n<style scoped>\n    .dataframe tbody tr th:only-of-type {\n        vertical-align: middle;\n    }\n\n    .dataframe tbody tr th {\n        vertical-align: top;\n    }\n\n    .dataframe thead th {\n        text-align: right;\n    }\n</style>\n<table border=\"1\" class=\"dataframe\">\n  <thead>\n    <tr style=\"text-align: right;\">\n      <th></th>\n      <th>A.0_ID flood wave shape</th>\n      <th>A.1_Bmax</th>\n      <th>A.1_Brate</th>\n      <th>A.1_pfail</th>\n      <th>A.2_Bmax</th>\n      <th>A.2_Brate</th>\n      <th>A.2_pfail</th>\n      <th>A.3_Bmax</th>\n      <th>A.3_Brate</th>\n      <th>A.3_pfail</th>\n      <th>...</th>\n      <th>A.4_DikeIncrease 0</th>\n      <th>A.4_DikeIncrease 1</th>\n      <th>A.4_DikeIncrease 2</th>\n      <th>A.5_DikeIncrease 0</th>\n      <th>A.5_DikeIncrease 1</th>\n      <th>A.5_DikeIncrease 2</th>\n      <th>EWS_DaysToThreat</th>\n      <th>scenario</th>\n      <th>policy</th>\n      <th>model</th>\n    </tr>\n  </thead>\n  <tbody>\n    <tr>\n      <th>0</th>\n      <td>28</td>\n      <td>334.550720</td>\n      <td>1.5</td>\n      <td>0.536400</td>\n      <td>98.638584</td>\n      <td>1.5</td>\n      <td>0.758910</td>\n      <td>280.435623</td>\n      <td>10.0</td>\n      <td>0.493473</td>\n      <td>...</td>\n      <td>7</td>\n      <td>1</td>\n      <td>4</td>\n      <td>3</td>\n      <td>2</td>\n      <td>3</td>\n      <td>4</td>\n      <td>9870</td>\n      <td>9860</td>\n      <td>dikesnet</td>\n    </tr>\n    <tr>\n      <th>1</th>\n      <td>2</td>\n      <td>112.718847</td>\n      <td>1.5</td>\n      <td>0.374176</td>\n      <td>152.862635</td>\n      <td>1.0</td>\n      <td>0.593557</td>\n      <td>239.972876</td>\n      <td>1.0</td>\n      <td>0.047630</td>\n      <td>...</td>\n      <td>7</td>\n      <td>1</td>\n      <td>4</td>\n      <td>3</td>\n      <td>2</td>\n      <td>3</td>\n      <td>4</td>\n      <td>9871</td>\n      <td>9860</td>\n      <td>dikesnet</td>\n    </tr>\n    <tr>\n      <th>2</th>\n      <td>91</td>\n      <td>160.342849</td>\n      <td>1.5</td>\n      <td>0.137473</td>\n      <td>278.934201</td>\n      <td>1.0</td>\n      <td>0.269154</td>\n      <td>117.110651</td>\n      <td>10.0</td>\n      <td>0.159196</td>\n      <td>...</td>\n      <td>7</td>\n      <td>1</td>\n      <td>4</td>\n      <td>3</td>\n      <td>2</td>\n      <td>3</td>\n      <td>4</td>\n      <td>9872</td>\n      <td>9860</td>\n      <td>dikesnet</td>\n    </tr>\n    <tr>\n      <th>3</th>\n      <td>66</td>\n      <td>253.616129</td>\n      <td>1.5</td>\n      <td>0.909950</td>\n      <td>245.242837</td>\n      <td>10.0</td>\n      <td>0.025214</td>\n      <td>319.344120</td>\n      <td>1.5</td>\n      <td>0.705097</td>\n      <td>...</td>\n      <td>7</td>\n      <td>1</td>\n      <td>4</td>\n      <td>3</td>\n      <td>2</td>\n      <td>3</td>\n      <td>4</td>\n      <td>9873</td>\n      <td>9860</td>\n      <td>dikesnet</td>\n    </tr>\n    <tr>\n      <th>4</th>\n      <td>119</td>\n      <td>64.528577</td>\n      <td>1.0</td>\n      <td>0.051779</td>\n      <td>318.661972</td>\n      <td>1.0</td>\n      <td>0.419978</td>\n      <td>312.650051</td>\n      <td>1.0</td>\n      <td>0.301750</td>\n      <td>...</td>\n      <td>7</td>\n      <td>1</td>\n      <td>4</td>\n      <td>3</td>\n      <td>2</td>\n      <td>3</td>\n      <td>4</td>\n      <td>9874</td>\n      <td>9860</td>\n      <td>dikesnet</td>\n    </tr>\n    <tr>\n      <th>...</th>\n      <td>...</td>\n      <td>...</td>\n      <td>...</td>\n      <td>...</td>\n      <td>...</td>\n      <td>...</td>\n      <td>...</td>\n      <td>...</td>\n      <td>...</td>\n      <td>...</td>\n      <td>...</td>\n      <td>...</td>\n      <td>...</td>\n      <td>...</td>\n      <td>...</td>\n      <td>...</td>\n      <td>...</td>\n      <td>...</td>\n      <td>...</td>\n      <td>...</td>\n      <td>...</td>\n    </tr>\n    <tr>\n      <th>95</th>\n      <td>104</td>\n      <td>286.858019</td>\n      <td>10.0</td>\n      <td>0.647907</td>\n      <td>90.083315</td>\n      <td>1.5</td>\n      <td>0.364053</td>\n      <td>183.940189</td>\n      <td>10.0</td>\n      <td>0.907323</td>\n      <td>...</td>\n      <td>4</td>\n      <td>0</td>\n      <td>1</td>\n      <td>8</td>\n      <td>4</td>\n      <td>4</td>\n      <td>1</td>\n      <td>9875</td>\n      <td>9869</td>\n      <td>dikesnet</td>\n    </tr>\n    <tr>\n      <th>96</th>\n      <td>13</td>\n      <td>268.172666</td>\n      <td>1.0</td>\n      <td>0.828675</td>\n      <td>303.723326</td>\n      <td>10.0</td>\n      <td>0.864185</td>\n      <td>191.973052</td>\n      <td>1.0</td>\n      <td>0.237527</td>\n      <td>...</td>\n      <td>4</td>\n      <td>0</td>\n      <td>1</td>\n      <td>8</td>\n      <td>4</td>\n      <td>4</td>\n      <td>1</td>\n      <td>9876</td>\n      <td>9869</td>\n      <td>dikesnet</td>\n    </tr>\n    <tr>\n      <th>97</th>\n      <td>121</td>\n      <td>206.310546</td>\n      <td>10.0</td>\n      <td>0.427856</td>\n      <td>167.921975</td>\n      <td>10.0</td>\n      <td>0.917083</td>\n      <td>73.175780</td>\n      <td>10.0</td>\n      <td>0.656236</td>\n      <td>...</td>\n      <td>4</td>\n      <td>0</td>\n      <td>1</td>\n      <td>8</td>\n      <td>4</td>\n      <td>4</td>\n      <td>1</td>\n      <td>9877</td>\n      <td>9869</td>\n      <td>dikesnet</td>\n    </tr>\n    <tr>\n      <th>98</th>\n      <td>50</td>\n      <td>146.798661</td>\n      <td>10.0</td>\n      <td>0.246389</td>\n      <td>219.173105</td>\n      <td>1.5</td>\n      <td>0.198945</td>\n      <td>61.260609</td>\n      <td>1.5</td>\n      <td>0.587716</td>\n      <td>...</td>\n      <td>4</td>\n      <td>0</td>\n      <td>1</td>\n      <td>8</td>\n      <td>4</td>\n      <td>4</td>\n      <td>1</td>\n      <td>9878</td>\n      <td>9869</td>\n      <td>dikesnet</td>\n    </tr>\n    <tr>\n      <th>99</th>\n      <td>73</td>\n      <td>58.358617</td>\n      <td>1.0</td>\n      <td>0.712040</td>\n      <td>53.085150</td>\n      <td>10.0</td>\n      <td>0.658451</td>\n      <td>157.221494</td>\n      <td>1.5</td>\n      <td>0.817592</td>\n      <td>...</td>\n      <td>4</td>\n      <td>0</td>\n      <td>1</td>\n      <td>8</td>\n      <td>4</td>\n      <td>4</td>\n      <td>1</td>\n      <td>9879</td>\n      <td>9869</td>\n      <td>dikesnet</td>\n    </tr>\n  </tbody>\n</table>\n<p>100 rows × 53 columns</p>\n</div>"
     },
     "execution_count": 157,
     "metadata": {},
     "output_type": "execute_result"
    }
   ],
   "source": [
    "experiments"
   ],
   "metadata": {
    "collapsed": false,
    "ExecuteTime": {
     "end_time": "2024-06-13T19:11:37.033776Z",
     "start_time": "2024-06-13T19:11:37.004848Z"
    }
   },
   "id": "2b674f44b93aac51",
   "execution_count": 157
  },
  {
   "cell_type": "code",
   "outputs": [
    {
     "data": {
      "text/plain": "[pandas.core.frame.DataFrame, dict]"
     },
     "execution_count": 155,
     "metadata": {},
     "output_type": "execute_result"
    }
   ],
   "source": [
    "[type(x) for x in results]"
   ],
   "metadata": {
    "collapsed": false,
    "ExecuteTime": {
     "end_time": "2024-06-13T19:10:54.195530Z",
     "start_time": "2024-06-13T19:10:54.187975Z"
    }
   },
   "id": "82243d6f2b89ab1a",
   "execution_count": 155
  },
  {
   "cell_type": "code",
   "outputs": [
    {
     "data": {
      "text/plain": "    A.1 Total Costs  A.1_Expected Number of Deaths  \\\n0      1.453776e+08                            0.0   \n1      1.453776e+08                            0.0   \n2      1.453776e+08                            0.0   \n3      1.453776e+08                            0.0   \n4      1.453776e+08                            0.0   \n..              ...                            ...   \n95     2.256261e+08                            0.0   \n96     2.256261e+08                            0.0   \n97     2.256261e+08                            0.0   \n98     2.256261e+08                            0.0   \n99     2.256261e+08                            0.0   \n\n    A.1_Expected Annual Damage  A.2 Total Costs  \\\n0                          0.0     1.387250e+08   \n1                          0.0     1.387250e+08   \n2                          0.0     1.387250e+08   \n3                          0.0     1.517358e+08   \n4                          0.0     1.387250e+08   \n..                         ...              ...   \n95                         0.0     2.231666e+08   \n96                         0.0     2.207147e+08   \n97                         0.0     2.207147e+08   \n98                         0.0     2.272626e+08   \n99                         0.0     2.207147e+08   \n\n    A.2_Expected Number of Deaths  A.2_Expected Annual Damage  \\\n0                        0.000000                0.000000e+00   \n1                        0.000000                0.000000e+00   \n2                        0.000000                0.000000e+00   \n3                        0.001478                1.301082e+07   \n4                        0.000000                0.000000e+00   \n..                            ...                         ...   \n95                       0.000851                2.451922e+06   \n96                       0.000000                0.000000e+00   \n97                       0.000000                0.000000e+00   \n98                       0.003396                6.547930e+06   \n99                       0.000000                0.000000e+00   \n\n    A.3 Total Costs  A.3_Expected Number of Deaths  \\\n0      1.005732e+08                       0.000000   \n1      1.367206e+08                       0.009260   \n2      1.249213e+08                       0.003923   \n3      1.005732e+08                       0.000000   \n4      1.064878e+08                       0.000969   \n..              ...                            ...   \n95     7.012793e+07                       0.000754   \n96     1.035052e+08                       0.026066   \n97     8.400499e+07                       0.011917   \n98     8.114223e+07                       0.011655   \n99     7.350494e+07                       0.002905   \n\n    A.3_Expected Annual Damage  A.4 Total Costs  \\\n0                 0.000000e+00     3.494362e+07   \n1                 3.614739e+07     3.494362e+07   \n2                 2.434804e+07     3.494362e+07   \n3                 0.000000e+00     3.494362e+07   \n4                 5.914593e+06     3.494362e+07   \n..                         ...              ...   \n95                1.182343e+06     1.692524e+07   \n96                3.455966e+07     1.692524e+07   \n97                1.505940e+07     1.692524e+07   \n98                1.219664e+07     1.692524e+07   \n99                4.559356e+06     3.019447e+07   \n\n    A.4_Expected Number of Deaths  A.4_Expected Annual Damage  \\\n0                        0.000000                0.000000e+00   \n1                        0.000000                0.000000e+00   \n2                        0.000000                0.000000e+00   \n3                        0.000000                0.000000e+00   \n4                        0.000000                0.000000e+00   \n..                            ...                         ...   \n95                       0.000000                0.000000e+00   \n96                       0.000000                0.000000e+00   \n97                       0.000000                0.000000e+00   \n98                       0.000000                0.000000e+00   \n99                       0.001897                1.326923e+07   \n\n    A.5 Total Costs  A.5_Expected Number of Deaths  \\\n0      9.675851e+07                            0.0   \n1      9.675851e+07                            0.0   \n2      9.675851e+07                            0.0   \n3      9.675851e+07                            0.0   \n4      9.675851e+07                            0.0   \n..              ...                            ...   \n95     1.420865e+08                            0.0   \n96     1.420865e+08                            0.0   \n97     1.420865e+08                            0.0   \n98     1.420865e+08                            0.0   \n99     1.420865e+08                            0.0   \n\n    A.5_Expected Annual Damage  RfR Total Costs  Expected Evacuation Costs  \n0                          0.0     1.305500e+09                   0.000000  \n1                          0.0     1.305500e+09                2400.551979  \n2                          0.0     1.305500e+09                 948.740778  \n3                          0.0     1.305500e+09                 822.579376  \n4                          0.0     1.305500e+09                 226.541969  \n..                         ...              ...                        ...  \n95                         0.0     1.051100e+09                  86.337112  \n96                         0.0     1.051100e+09                 967.880870  \n97                         0.0     1.051100e+09                 394.727962  \n98                         0.0     1.051100e+09                 649.286703  \n99                         0.0     1.051100e+09                 479.260059  \n\n[100 rows x 17 columns]",
      "text/html": "<div>\n<style scoped>\n    .dataframe tbody tr th:only-of-type {\n        vertical-align: middle;\n    }\n\n    .dataframe tbody tr th {\n        vertical-align: top;\n    }\n\n    .dataframe thead th {\n        text-align: right;\n    }\n</style>\n<table border=\"1\" class=\"dataframe\">\n  <thead>\n    <tr style=\"text-align: right;\">\n      <th></th>\n      <th>A.1 Total Costs</th>\n      <th>A.1_Expected Number of Deaths</th>\n      <th>A.1_Expected Annual Damage</th>\n      <th>A.2 Total Costs</th>\n      <th>A.2_Expected Number of Deaths</th>\n      <th>A.2_Expected Annual Damage</th>\n      <th>A.3 Total Costs</th>\n      <th>A.3_Expected Number of Deaths</th>\n      <th>A.3_Expected Annual Damage</th>\n      <th>A.4 Total Costs</th>\n      <th>A.4_Expected Number of Deaths</th>\n      <th>A.4_Expected Annual Damage</th>\n      <th>A.5 Total Costs</th>\n      <th>A.5_Expected Number of Deaths</th>\n      <th>A.5_Expected Annual Damage</th>\n      <th>RfR Total Costs</th>\n      <th>Expected Evacuation Costs</th>\n    </tr>\n  </thead>\n  <tbody>\n    <tr>\n      <th>0</th>\n      <td>1.453776e+08</td>\n      <td>0.0</td>\n      <td>0.0</td>\n      <td>1.387250e+08</td>\n      <td>0.000000</td>\n      <td>0.000000e+00</td>\n      <td>1.005732e+08</td>\n      <td>0.000000</td>\n      <td>0.000000e+00</td>\n      <td>3.494362e+07</td>\n      <td>0.000000</td>\n      <td>0.000000e+00</td>\n      <td>9.675851e+07</td>\n      <td>0.0</td>\n      <td>0.0</td>\n      <td>1.305500e+09</td>\n      <td>0.000000</td>\n    </tr>\n    <tr>\n      <th>1</th>\n      <td>1.453776e+08</td>\n      <td>0.0</td>\n      <td>0.0</td>\n      <td>1.387250e+08</td>\n      <td>0.000000</td>\n      <td>0.000000e+00</td>\n      <td>1.367206e+08</td>\n      <td>0.009260</td>\n      <td>3.614739e+07</td>\n      <td>3.494362e+07</td>\n      <td>0.000000</td>\n      <td>0.000000e+00</td>\n      <td>9.675851e+07</td>\n      <td>0.0</td>\n      <td>0.0</td>\n      <td>1.305500e+09</td>\n      <td>2400.551979</td>\n    </tr>\n    <tr>\n      <th>2</th>\n      <td>1.453776e+08</td>\n      <td>0.0</td>\n      <td>0.0</td>\n      <td>1.387250e+08</td>\n      <td>0.000000</td>\n      <td>0.000000e+00</td>\n      <td>1.249213e+08</td>\n      <td>0.003923</td>\n      <td>2.434804e+07</td>\n      <td>3.494362e+07</td>\n      <td>0.000000</td>\n      <td>0.000000e+00</td>\n      <td>9.675851e+07</td>\n      <td>0.0</td>\n      <td>0.0</td>\n      <td>1.305500e+09</td>\n      <td>948.740778</td>\n    </tr>\n    <tr>\n      <th>3</th>\n      <td>1.453776e+08</td>\n      <td>0.0</td>\n      <td>0.0</td>\n      <td>1.517358e+08</td>\n      <td>0.001478</td>\n      <td>1.301082e+07</td>\n      <td>1.005732e+08</td>\n      <td>0.000000</td>\n      <td>0.000000e+00</td>\n      <td>3.494362e+07</td>\n      <td>0.000000</td>\n      <td>0.000000e+00</td>\n      <td>9.675851e+07</td>\n      <td>0.0</td>\n      <td>0.0</td>\n      <td>1.305500e+09</td>\n      <td>822.579376</td>\n    </tr>\n    <tr>\n      <th>4</th>\n      <td>1.453776e+08</td>\n      <td>0.0</td>\n      <td>0.0</td>\n      <td>1.387250e+08</td>\n      <td>0.000000</td>\n      <td>0.000000e+00</td>\n      <td>1.064878e+08</td>\n      <td>0.000969</td>\n      <td>5.914593e+06</td>\n      <td>3.494362e+07</td>\n      <td>0.000000</td>\n      <td>0.000000e+00</td>\n      <td>9.675851e+07</td>\n      <td>0.0</td>\n      <td>0.0</td>\n      <td>1.305500e+09</td>\n      <td>226.541969</td>\n    </tr>\n    <tr>\n      <th>...</th>\n      <td>...</td>\n      <td>...</td>\n      <td>...</td>\n      <td>...</td>\n      <td>...</td>\n      <td>...</td>\n      <td>...</td>\n      <td>...</td>\n      <td>...</td>\n      <td>...</td>\n      <td>...</td>\n      <td>...</td>\n      <td>...</td>\n      <td>...</td>\n      <td>...</td>\n      <td>...</td>\n      <td>...</td>\n    </tr>\n    <tr>\n      <th>95</th>\n      <td>2.256261e+08</td>\n      <td>0.0</td>\n      <td>0.0</td>\n      <td>2.231666e+08</td>\n      <td>0.000851</td>\n      <td>2.451922e+06</td>\n      <td>7.012793e+07</td>\n      <td>0.000754</td>\n      <td>1.182343e+06</td>\n      <td>1.692524e+07</td>\n      <td>0.000000</td>\n      <td>0.000000e+00</td>\n      <td>1.420865e+08</td>\n      <td>0.0</td>\n      <td>0.0</td>\n      <td>1.051100e+09</td>\n      <td>86.337112</td>\n    </tr>\n    <tr>\n      <th>96</th>\n      <td>2.256261e+08</td>\n      <td>0.0</td>\n      <td>0.0</td>\n      <td>2.207147e+08</td>\n      <td>0.000000</td>\n      <td>0.000000e+00</td>\n      <td>1.035052e+08</td>\n      <td>0.026066</td>\n      <td>3.455966e+07</td>\n      <td>1.692524e+07</td>\n      <td>0.000000</td>\n      <td>0.000000e+00</td>\n      <td>1.420865e+08</td>\n      <td>0.0</td>\n      <td>0.0</td>\n      <td>1.051100e+09</td>\n      <td>967.880870</td>\n    </tr>\n    <tr>\n      <th>97</th>\n      <td>2.256261e+08</td>\n      <td>0.0</td>\n      <td>0.0</td>\n      <td>2.207147e+08</td>\n      <td>0.000000</td>\n      <td>0.000000e+00</td>\n      <td>8.400499e+07</td>\n      <td>0.011917</td>\n      <td>1.505940e+07</td>\n      <td>1.692524e+07</td>\n      <td>0.000000</td>\n      <td>0.000000e+00</td>\n      <td>1.420865e+08</td>\n      <td>0.0</td>\n      <td>0.0</td>\n      <td>1.051100e+09</td>\n      <td>394.727962</td>\n    </tr>\n    <tr>\n      <th>98</th>\n      <td>2.256261e+08</td>\n      <td>0.0</td>\n      <td>0.0</td>\n      <td>2.272626e+08</td>\n      <td>0.003396</td>\n      <td>6.547930e+06</td>\n      <td>8.114223e+07</td>\n      <td>0.011655</td>\n      <td>1.219664e+07</td>\n      <td>1.692524e+07</td>\n      <td>0.000000</td>\n      <td>0.000000e+00</td>\n      <td>1.420865e+08</td>\n      <td>0.0</td>\n      <td>0.0</td>\n      <td>1.051100e+09</td>\n      <td>649.286703</td>\n    </tr>\n    <tr>\n      <th>99</th>\n      <td>2.256261e+08</td>\n      <td>0.0</td>\n      <td>0.0</td>\n      <td>2.207147e+08</td>\n      <td>0.000000</td>\n      <td>0.000000e+00</td>\n      <td>7.350494e+07</td>\n      <td>0.002905</td>\n      <td>4.559356e+06</td>\n      <td>3.019447e+07</td>\n      <td>0.001897</td>\n      <td>1.326923e+07</td>\n      <td>1.420865e+08</td>\n      <td>0.0</td>\n      <td>0.0</td>\n      <td>1.051100e+09</td>\n      <td>479.260059</td>\n    </tr>\n  </tbody>\n</table>\n<p>100 rows × 17 columns</p>\n</div>"
     },
     "execution_count": 158,
     "metadata": {},
     "output_type": "execute_result"
    }
   ],
   "source": [],
   "metadata": {
    "collapsed": false,
    "ExecuteTime": {
     "end_time": "2024-06-13T19:12:19.366088Z",
     "start_time": "2024-06-13T19:12:19.333597Z"
    }
   },
   "id": "2ea4e8f243ed0259",
   "execution_count": 158
  },
  {
   "cell_type": "code",
   "outputs": [],
   "source": [],
   "metadata": {
    "collapsed": false
   },
   "id": "e7686256654637c9",
   "execution_count": null
  },
  {
   "cell_type": "code",
   "outputs": [],
   "source": [],
   "metadata": {
    "collapsed": false
   },
   "id": "b4479960cc8c6688",
   "execution_count": null
  },
  {
   "cell_type": "code",
   "outputs": [
    {
     "data": {
      "text/plain": "    0_RfR 0  0_RfR 1  0_RfR 2  1_RfR 0  1_RfR 1  1_RfR 2  2_RfR 0  2_RfR 1  \\\n0         1        0        0        1        0        1        0        1   \n1         1        0        0        1        0        1        0        1   \n2         1        0        0        1        0        1        0        1   \n3         1        0        0        1        0        1        0        1   \n4         1        0        0        1        0        1        0        1   \n..      ...      ...      ...      ...      ...      ...      ...      ...   \n95        0        1        1        0        0        1        1        0   \n96        0        1        1        0        0        1        1        0   \n97        0        1        1        0        0        1        1        0   \n98        0        1        1        0        0        1        1        0   \n99        0        1        1        0        0        1        1        0   \n\n    2_RfR 2  3_RfR 0  ...  A.3_DikeIncrease 0  A.3_DikeIncrease 1  \\\n0         0        1  ...                   3                   4   \n1         0        1  ...                   3                   4   \n2         0        1  ...                   3                   4   \n3         0        1  ...                   3                   4   \n4         0        1  ...                   3                   4   \n..      ...      ...  ...                 ...                 ...   \n95        0        0  ...                   0                   8   \n96        0        0  ...                   0                   8   \n97        0        0  ...                   0                   8   \n98        0        0  ...                   0                   8   \n99        0        0  ...                   0                   8   \n\n    A.3_DikeIncrease 2  A.4_DikeIncrease 0  A.4_DikeIncrease 1  \\\n0                    8                   7                   1   \n1                    8                   7                   1   \n2                    8                   7                   1   \n3                    8                   7                   1   \n4                    8                   7                   1   \n..                 ...                 ...                 ...   \n95                   3                   4                   0   \n96                   3                   4                   0   \n97                   3                   4                   0   \n98                   3                   4                   0   \n99                   3                   4                   0   \n\n    A.4_DikeIncrease 2  A.5_DikeIncrease 0  A.5_DikeIncrease 1  \\\n0                    4                   3                   2   \n1                    4                   3                   2   \n2                    4                   3                   2   \n3                    4                   3                   2   \n4                    4                   3                   2   \n..                 ...                 ...                 ...   \n95                   1                   8                   4   \n96                   1                   8                   4   \n97                   1                   8                   4   \n98                   1                   8                   4   \n99                   1                   8                   4   \n\n    A.5_DikeIncrease 2  EWS_DaysToThreat  \n0                    3                 4  \n1                    3                 4  \n2                    3                 4  \n3                    3                 4  \n4                    3                 4  \n..                 ...               ...  \n95                   4                 1  \n96                   4                 1  \n97                   4                 1  \n98                   4                 1  \n99                   4                 1  \n\n[100 rows x 31 columns]",
      "text/html": "<div>\n<style scoped>\n    .dataframe tbody tr th:only-of-type {\n        vertical-align: middle;\n    }\n\n    .dataframe tbody tr th {\n        vertical-align: top;\n    }\n\n    .dataframe thead th {\n        text-align: right;\n    }\n</style>\n<table border=\"1\" class=\"dataframe\">\n  <thead>\n    <tr style=\"text-align: right;\">\n      <th></th>\n      <th>0_RfR 0</th>\n      <th>0_RfR 1</th>\n      <th>0_RfR 2</th>\n      <th>1_RfR 0</th>\n      <th>1_RfR 1</th>\n      <th>1_RfR 2</th>\n      <th>2_RfR 0</th>\n      <th>2_RfR 1</th>\n      <th>2_RfR 2</th>\n      <th>3_RfR 0</th>\n      <th>...</th>\n      <th>A.3_DikeIncrease 0</th>\n      <th>A.3_DikeIncrease 1</th>\n      <th>A.3_DikeIncrease 2</th>\n      <th>A.4_DikeIncrease 0</th>\n      <th>A.4_DikeIncrease 1</th>\n      <th>A.4_DikeIncrease 2</th>\n      <th>A.5_DikeIncrease 0</th>\n      <th>A.5_DikeIncrease 1</th>\n      <th>A.5_DikeIncrease 2</th>\n      <th>EWS_DaysToThreat</th>\n    </tr>\n  </thead>\n  <tbody>\n    <tr>\n      <th>0</th>\n      <td>1</td>\n      <td>0</td>\n      <td>0</td>\n      <td>1</td>\n      <td>0</td>\n      <td>1</td>\n      <td>0</td>\n      <td>1</td>\n      <td>0</td>\n      <td>1</td>\n      <td>...</td>\n      <td>3</td>\n      <td>4</td>\n      <td>8</td>\n      <td>7</td>\n      <td>1</td>\n      <td>4</td>\n      <td>3</td>\n      <td>2</td>\n      <td>3</td>\n      <td>4</td>\n    </tr>\n    <tr>\n      <th>1</th>\n      <td>1</td>\n      <td>0</td>\n      <td>0</td>\n      <td>1</td>\n      <td>0</td>\n      <td>1</td>\n      <td>0</td>\n      <td>1</td>\n      <td>0</td>\n      <td>1</td>\n      <td>...</td>\n      <td>3</td>\n      <td>4</td>\n      <td>8</td>\n      <td>7</td>\n      <td>1</td>\n      <td>4</td>\n      <td>3</td>\n      <td>2</td>\n      <td>3</td>\n      <td>4</td>\n    </tr>\n    <tr>\n      <th>2</th>\n      <td>1</td>\n      <td>0</td>\n      <td>0</td>\n      <td>1</td>\n      <td>0</td>\n      <td>1</td>\n      <td>0</td>\n      <td>1</td>\n      <td>0</td>\n      <td>1</td>\n      <td>...</td>\n      <td>3</td>\n      <td>4</td>\n      <td>8</td>\n      <td>7</td>\n      <td>1</td>\n      <td>4</td>\n      <td>3</td>\n      <td>2</td>\n      <td>3</td>\n      <td>4</td>\n    </tr>\n    <tr>\n      <th>3</th>\n      <td>1</td>\n      <td>0</td>\n      <td>0</td>\n      <td>1</td>\n      <td>0</td>\n      <td>1</td>\n      <td>0</td>\n      <td>1</td>\n      <td>0</td>\n      <td>1</td>\n      <td>...</td>\n      <td>3</td>\n      <td>4</td>\n      <td>8</td>\n      <td>7</td>\n      <td>1</td>\n      <td>4</td>\n      <td>3</td>\n      <td>2</td>\n      <td>3</td>\n      <td>4</td>\n    </tr>\n    <tr>\n      <th>4</th>\n      <td>1</td>\n      <td>0</td>\n      <td>0</td>\n      <td>1</td>\n      <td>0</td>\n      <td>1</td>\n      <td>0</td>\n      <td>1</td>\n      <td>0</td>\n      <td>1</td>\n      <td>...</td>\n      <td>3</td>\n      <td>4</td>\n      <td>8</td>\n      <td>7</td>\n      <td>1</td>\n      <td>4</td>\n      <td>3</td>\n      <td>2</td>\n      <td>3</td>\n      <td>4</td>\n    </tr>\n    <tr>\n      <th>...</th>\n      <td>...</td>\n      <td>...</td>\n      <td>...</td>\n      <td>...</td>\n      <td>...</td>\n      <td>...</td>\n      <td>...</td>\n      <td>...</td>\n      <td>...</td>\n      <td>...</td>\n      <td>...</td>\n      <td>...</td>\n      <td>...</td>\n      <td>...</td>\n      <td>...</td>\n      <td>...</td>\n      <td>...</td>\n      <td>...</td>\n      <td>...</td>\n      <td>...</td>\n      <td>...</td>\n    </tr>\n    <tr>\n      <th>95</th>\n      <td>0</td>\n      <td>1</td>\n      <td>1</td>\n      <td>0</td>\n      <td>0</td>\n      <td>1</td>\n      <td>1</td>\n      <td>0</td>\n      <td>0</td>\n      <td>0</td>\n      <td>...</td>\n      <td>0</td>\n      <td>8</td>\n      <td>3</td>\n      <td>4</td>\n      <td>0</td>\n      <td>1</td>\n      <td>8</td>\n      <td>4</td>\n      <td>4</td>\n      <td>1</td>\n    </tr>\n    <tr>\n      <th>96</th>\n      <td>0</td>\n      <td>1</td>\n      <td>1</td>\n      <td>0</td>\n      <td>0</td>\n      <td>1</td>\n      <td>1</td>\n      <td>0</td>\n      <td>0</td>\n      <td>0</td>\n      <td>...</td>\n      <td>0</td>\n      <td>8</td>\n      <td>3</td>\n      <td>4</td>\n      <td>0</td>\n      <td>1</td>\n      <td>8</td>\n      <td>4</td>\n      <td>4</td>\n      <td>1</td>\n    </tr>\n    <tr>\n      <th>97</th>\n      <td>0</td>\n      <td>1</td>\n      <td>1</td>\n      <td>0</td>\n      <td>0</td>\n      <td>1</td>\n      <td>1</td>\n      <td>0</td>\n      <td>0</td>\n      <td>0</td>\n      <td>...</td>\n      <td>0</td>\n      <td>8</td>\n      <td>3</td>\n      <td>4</td>\n      <td>0</td>\n      <td>1</td>\n      <td>8</td>\n      <td>4</td>\n      <td>4</td>\n      <td>1</td>\n    </tr>\n    <tr>\n      <th>98</th>\n      <td>0</td>\n      <td>1</td>\n      <td>1</td>\n      <td>0</td>\n      <td>0</td>\n      <td>1</td>\n      <td>1</td>\n      <td>0</td>\n      <td>0</td>\n      <td>0</td>\n      <td>...</td>\n      <td>0</td>\n      <td>8</td>\n      <td>3</td>\n      <td>4</td>\n      <td>0</td>\n      <td>1</td>\n      <td>8</td>\n      <td>4</td>\n      <td>4</td>\n      <td>1</td>\n    </tr>\n    <tr>\n      <th>99</th>\n      <td>0</td>\n      <td>1</td>\n      <td>1</td>\n      <td>0</td>\n      <td>0</td>\n      <td>1</td>\n      <td>1</td>\n      <td>0</td>\n      <td>0</td>\n      <td>0</td>\n      <td>...</td>\n      <td>0</td>\n      <td>8</td>\n      <td>3</td>\n      <td>4</td>\n      <td>0</td>\n      <td>1</td>\n      <td>8</td>\n      <td>4</td>\n      <td>4</td>\n      <td>1</td>\n    </tr>\n  </tbody>\n</table>\n<p>100 rows × 31 columns</p>\n</div>"
     },
     "execution_count": 178,
     "metadata": {},
     "output_type": "execute_result"
    }
   ],
   "source": [],
   "metadata": {
    "collapsed": false,
    "ExecuteTime": {
     "end_time": "2024-06-13T19:18:47.854658Z",
     "start_time": "2024-06-13T19:18:47.839449Z"
    }
   },
   "id": "86c81b1af0701d1b",
   "execution_count": 178
  },
  {
   "cell_type": "code",
   "outputs": [
    {
     "data": {
      "text/plain": "Index(['0_RfR 0', '0_RfR 1', '0_RfR 2', '1_RfR 0', '1_RfR 1', '1_RfR 2',\n       '2_RfR 0', '2_RfR 1', '2_RfR 2', '3_RfR 0', '3_RfR 1', '3_RfR 2',\n       '4_RfR 0', '4_RfR 1', '4_RfR 2', 'A.1_DikeIncrease 0',\n       'A.1_DikeIncrease 1', 'A.1_DikeIncrease 2', 'A.2_DikeIncrease 0',\n       'A.2_DikeIncrease 1', 'A.2_DikeIncrease 2', 'A.3_DikeIncrease 0',\n       'A.3_DikeIncrease 1', 'A.3_DikeIncrease 2', 'A.4_DikeIncrease 0',\n       'A.4_DikeIncrease 1', 'A.4_DikeIncrease 2', 'A.5_DikeIncrease 0',\n       'A.5_DikeIncrease 1', 'A.5_DikeIncrease 2', 'EWS_DaysToThreat',\n       'A.1 Total Costs', 'A.1_Expected Number of Deaths',\n       'A.1_Expected Annual Damage', 'A.2 Total Costs',\n       'A.2_Expected Number of Deaths', 'A.2_Expected Annual Damage',\n       'A.3 Total Costs', 'A.3_Expected Number of Deaths',\n       'A.3_Expected Annual Damage', 'A.4 Total Costs',\n       'A.4_Expected Number of Deaths', 'A.4_Expected Annual Damage',\n       'A.5 Total Costs', 'A.5_Expected Number of Deaths',\n       'A.5_Expected Annual Damage', 'RfR Total Costs',\n       'Expected Evacuation Costs'],\n      dtype='object')"
     },
     "execution_count": 183,
     "metadata": {},
     "output_type": "execute_result"
    }
   ],
   "source": [
    "pd.concat([results[0].iloc[:,19:-3],  pd.DataFrame(results[1])], axis=1).columns"
   ],
   "metadata": {
    "collapsed": false,
    "ExecuteTime": {
     "end_time": "2024-06-13T19:20:15.194156Z",
     "start_time": "2024-06-13T19:20:15.186067Z"
    }
   },
   "id": "bcdf1d974f36ef94",
   "execution_count": 183
  },
  {
   "cell_type": "code",
   "outputs": [
    {
     "data": {
      "text/plain": "Index(['0_RfR 0', '0_RfR 1', '0_RfR 2', '1_RfR 0', '1_RfR 1', '1_RfR 2',\n       '2_RfR 0', '2_RfR 1', '2_RfR 2', '3_RfR 0', '3_RfR 1', '3_RfR 2',\n       '4_RfR 0', '4_RfR 1', '4_RfR 2', 'EWS_DaysToThreat',\n       'A.1_DikeIncrease 0', 'A.1_DikeIncrease 1', 'A.1_DikeIncrease 2',\n       'A.2_DikeIncrease 0', 'A.2_DikeIncrease 1', 'A.2_DikeIncrease 2',\n       'A.3_DikeIncrease 0', 'A.3_DikeIncrease 1', 'A.3_DikeIncrease 2',\n       'A.4_DikeIncrease 0', 'A.4_DikeIncrease 1', 'A.4_DikeIncrease 2',\n       'A.5_DikeIncrease 0', 'A.5_DikeIncrease 1', 'A.5_DikeIncrease 2',\n       'A.5_Expected Number of Deaths', 'A.5_Expected Annual Damage',\n       'RfR Total Costs', 'Expected Evacuation Costs'],\n      dtype='object')"
     },
     "execution_count": 182,
     "metadata": {},
     "output_type": "execute_result"
    }
   ],
   "source": [
    "results1.columns"
   ],
   "metadata": {
    "collapsed": false,
    "ExecuteTime": {
     "end_time": "2024-06-13T19:20:06.618888Z",
     "start_time": "2024-06-13T19:20:06.612632Z"
    }
   },
   "id": "51cb880ecffbca7b",
   "execution_count": 182
  },
  {
   "cell_type": "code",
   "outputs": [],
   "source": [
    "problem.nobjs"
   ],
   "metadata": {
    "collapsed": false,
    "ExecuteTime": {
     "start_time": "2024-06-13T18:52:51.583238Z"
    }
   },
   "id": "5dfd3b1a8de5d226",
   "execution_count": null
  },
  {
   "cell_type": "code",
   "outputs": [
    {
     "ename": "TypeError",
     "evalue": "cannot concatenate object of type '<class 'dict'>'; only Series and DataFrame objs are valid",
     "output_type": "error",
     "traceback": [
      "\u001B[1;31m---------------------------------------------------------------------------\u001B[0m",
      "\u001B[1;31mTypeError\u001B[0m                                 Traceback (most recent call last)",
      "Cell \u001B[1;32mIn[154], line 5\u001B[0m\n\u001B[0;32m      1\u001B[0m \u001B[38;5;28;01mfrom\u001B[39;00m \u001B[38;5;21;01mema_workbench\u001B[39;00m\u001B[38;5;21;01m.\u001B[39;00m\u001B[38;5;21;01mem_framework\u001B[39;00m\u001B[38;5;21;01m.\u001B[39;00m\u001B[38;5;21;01moptimization\u001B[39;00m \u001B[38;5;28;01mimport\u001B[39;00m to_problem\n\u001B[0;32m      3\u001B[0m problem \u001B[38;5;241m=\u001B[39m to_problem(dike_model, searchover\u001B[38;5;241m=\u001B[39m\u001B[38;5;124m\"\u001B[39m\u001B[38;5;124mlevers\u001B[39m\u001B[38;5;124m\"\u001B[39m)\n\u001B[1;32m----> 5\u001B[0m reference_set \u001B[38;5;241m=\u001B[39m \u001B[43mepsilon_nondominated\u001B[49m\u001B[43m(\u001B[49m\u001B[43mresults\u001B[49m\u001B[43m,\u001B[49m\u001B[43m \u001B[49m\u001B[43m[\u001B[49m\u001B[38;5;241;43m0.05\u001B[39;49m\u001B[43m]\u001B[49m\u001B[43m \u001B[49m\u001B[38;5;241;43m*\u001B[39;49m\u001B[43m \u001B[49m\u001B[38;5;28;43mlen\u001B[39;49m\u001B[43m(\u001B[49m\u001B[43mdike_model\u001B[49m\u001B[38;5;241;43m.\u001B[39;49m\u001B[43moutcomes\u001B[49m\u001B[43m)\u001B[49m\u001B[43m,\u001B[49m\u001B[43m \u001B[49m\u001B[43mproblem\u001B[49m\u001B[43m)\u001B[49m\n\u001B[0;32m      7\u001B[0m hv \u001B[38;5;241m=\u001B[39m HypervolumeMetric(reference_set, problem)\n",
      "File \u001B[1;32m~\\Videos\\EPA141A---MD\\MD_FINAL\\final assignment\\optimization_tuned.py:786\u001B[0m, in \u001B[0;36mepsilon_nondominated\u001B[1;34m(results, epsilons, problem)\u001B[0m\n\u001B[0;32m    781\u001B[0m \u001B[38;5;28;01mif\u001B[39;00m problem\u001B[38;5;241m.\u001B[39mnobjs \u001B[38;5;241m!=\u001B[39m \u001B[38;5;28mlen\u001B[39m(epsilons):\n\u001B[0;32m    782\u001B[0m     \u001B[38;5;167;01mValueError\u001B[39;00m(\n\u001B[0;32m    783\u001B[0m         \u001B[38;5;124mf\u001B[39m\u001B[38;5;124m\"\u001B[39m\u001B[38;5;124mThe number of epsilon values (\u001B[39m\u001B[38;5;132;01m{\u001B[39;00m\u001B[38;5;28mlen\u001B[39m(epsilons)\u001B[38;5;132;01m}\u001B[39;00m\u001B[38;5;124m) must match the number of objectives \u001B[39m\u001B[38;5;132;01m{\u001B[39;00mproblem\u001B[38;5;241m.\u001B[39mnobjs\u001B[38;5;132;01m}\u001B[39;00m\u001B[38;5;124m\"\u001B[39m\n\u001B[0;32m    784\u001B[0m     )\n\u001B[1;32m--> 786\u001B[0m results \u001B[38;5;241m=\u001B[39m \u001B[43mpd\u001B[49m\u001B[38;5;241;43m.\u001B[39;49m\u001B[43mconcat\u001B[49m\u001B[43m(\u001B[49m\u001B[43mresults\u001B[49m\u001B[43m,\u001B[49m\u001B[43m \u001B[49m\u001B[43mignore_index\u001B[49m\u001B[38;5;241;43m=\u001B[39;49m\u001B[38;5;28;43;01mTrue\u001B[39;49;00m\u001B[43m)\u001B[49m\n\u001B[0;32m    787\u001B[0m solutions \u001B[38;5;241m=\u001B[39m rebuild_platypus_population(results, problem)\n\u001B[0;32m    788\u001B[0m archive \u001B[38;5;241m=\u001B[39m EpsilonBoxArchive(epsilons)\n",
      "File \u001B[1;32m~\\anaconda3\\envs\\MD\\Lib\\site-packages\\pandas\\core\\reshape\\concat.py:382\u001B[0m, in \u001B[0;36mconcat\u001B[1;34m(objs, axis, join, ignore_index, keys, levels, names, verify_integrity, sort, copy)\u001B[0m\n\u001B[0;32m    379\u001B[0m \u001B[38;5;28;01melif\u001B[39;00m copy \u001B[38;5;129;01mand\u001B[39;00m using_copy_on_write():\n\u001B[0;32m    380\u001B[0m     copy \u001B[38;5;241m=\u001B[39m \u001B[38;5;28;01mFalse\u001B[39;00m\n\u001B[1;32m--> 382\u001B[0m op \u001B[38;5;241m=\u001B[39m \u001B[43m_Concatenator\u001B[49m\u001B[43m(\u001B[49m\n\u001B[0;32m    383\u001B[0m \u001B[43m    \u001B[49m\u001B[43mobjs\u001B[49m\u001B[43m,\u001B[49m\n\u001B[0;32m    384\u001B[0m \u001B[43m    \u001B[49m\u001B[43maxis\u001B[49m\u001B[38;5;241;43m=\u001B[39;49m\u001B[43maxis\u001B[49m\u001B[43m,\u001B[49m\n\u001B[0;32m    385\u001B[0m \u001B[43m    \u001B[49m\u001B[43mignore_index\u001B[49m\u001B[38;5;241;43m=\u001B[39;49m\u001B[43mignore_index\u001B[49m\u001B[43m,\u001B[49m\n\u001B[0;32m    386\u001B[0m \u001B[43m    \u001B[49m\u001B[43mjoin\u001B[49m\u001B[38;5;241;43m=\u001B[39;49m\u001B[43mjoin\u001B[49m\u001B[43m,\u001B[49m\n\u001B[0;32m    387\u001B[0m \u001B[43m    \u001B[49m\u001B[43mkeys\u001B[49m\u001B[38;5;241;43m=\u001B[39;49m\u001B[43mkeys\u001B[49m\u001B[43m,\u001B[49m\n\u001B[0;32m    388\u001B[0m \u001B[43m    \u001B[49m\u001B[43mlevels\u001B[49m\u001B[38;5;241;43m=\u001B[39;49m\u001B[43mlevels\u001B[49m\u001B[43m,\u001B[49m\n\u001B[0;32m    389\u001B[0m \u001B[43m    \u001B[49m\u001B[43mnames\u001B[49m\u001B[38;5;241;43m=\u001B[39;49m\u001B[43mnames\u001B[49m\u001B[43m,\u001B[49m\n\u001B[0;32m    390\u001B[0m \u001B[43m    \u001B[49m\u001B[43mverify_integrity\u001B[49m\u001B[38;5;241;43m=\u001B[39;49m\u001B[43mverify_integrity\u001B[49m\u001B[43m,\u001B[49m\n\u001B[0;32m    391\u001B[0m \u001B[43m    \u001B[49m\u001B[43mcopy\u001B[49m\u001B[38;5;241;43m=\u001B[39;49m\u001B[43mcopy\u001B[49m\u001B[43m,\u001B[49m\n\u001B[0;32m    392\u001B[0m \u001B[43m    \u001B[49m\u001B[43msort\u001B[49m\u001B[38;5;241;43m=\u001B[39;49m\u001B[43msort\u001B[49m\u001B[43m,\u001B[49m\n\u001B[0;32m    393\u001B[0m \u001B[43m\u001B[49m\u001B[43m)\u001B[49m\n\u001B[0;32m    395\u001B[0m \u001B[38;5;28;01mreturn\u001B[39;00m op\u001B[38;5;241m.\u001B[39mget_result()\n",
      "File \u001B[1;32m~\\anaconda3\\envs\\MD\\Lib\\site-packages\\pandas\\core\\reshape\\concat.py:448\u001B[0m, in \u001B[0;36m_Concatenator.__init__\u001B[1;34m(self, objs, axis, join, keys, levels, names, ignore_index, verify_integrity, copy, sort)\u001B[0m\n\u001B[0;32m    445\u001B[0m objs, keys \u001B[38;5;241m=\u001B[39m \u001B[38;5;28mself\u001B[39m\u001B[38;5;241m.\u001B[39m_clean_keys_and_objs(objs, keys)\n\u001B[0;32m    447\u001B[0m \u001B[38;5;66;03m# figure out what our result ndim is going to be\u001B[39;00m\n\u001B[1;32m--> 448\u001B[0m ndims \u001B[38;5;241m=\u001B[39m \u001B[38;5;28;43mself\u001B[39;49m\u001B[38;5;241;43m.\u001B[39;49m\u001B[43m_get_ndims\u001B[49m\u001B[43m(\u001B[49m\u001B[43mobjs\u001B[49m\u001B[43m)\u001B[49m\n\u001B[0;32m    449\u001B[0m sample, objs \u001B[38;5;241m=\u001B[39m \u001B[38;5;28mself\u001B[39m\u001B[38;5;241m.\u001B[39m_get_sample_object(objs, ndims, keys, names, levels)\n\u001B[0;32m    451\u001B[0m \u001B[38;5;66;03m# Standardize axis parameter to int\u001B[39;00m\n",
      "File \u001B[1;32m~\\anaconda3\\envs\\MD\\Lib\\site-packages\\pandas\\core\\reshape\\concat.py:489\u001B[0m, in \u001B[0;36m_Concatenator._get_ndims\u001B[1;34m(self, objs)\u001B[0m\n\u001B[0;32m    484\u001B[0m     \u001B[38;5;28;01mif\u001B[39;00m \u001B[38;5;129;01mnot\u001B[39;00m \u001B[38;5;28misinstance\u001B[39m(obj, (ABCSeries, ABCDataFrame)):\n\u001B[0;32m    485\u001B[0m         msg \u001B[38;5;241m=\u001B[39m (\n\u001B[0;32m    486\u001B[0m             \u001B[38;5;124mf\u001B[39m\u001B[38;5;124m\"\u001B[39m\u001B[38;5;124mcannot concatenate object of type \u001B[39m\u001B[38;5;124m'\u001B[39m\u001B[38;5;132;01m{\u001B[39;00m\u001B[38;5;28mtype\u001B[39m(obj)\u001B[38;5;132;01m}\u001B[39;00m\u001B[38;5;124m'\u001B[39m\u001B[38;5;124m; \u001B[39m\u001B[38;5;124m\"\u001B[39m\n\u001B[0;32m    487\u001B[0m             \u001B[38;5;124m\"\u001B[39m\u001B[38;5;124monly Series and DataFrame objs are valid\u001B[39m\u001B[38;5;124m\"\u001B[39m\n\u001B[0;32m    488\u001B[0m         )\n\u001B[1;32m--> 489\u001B[0m         \u001B[38;5;28;01mraise\u001B[39;00m \u001B[38;5;167;01mTypeError\u001B[39;00m(msg)\n\u001B[0;32m    491\u001B[0m     ndims\u001B[38;5;241m.\u001B[39madd(obj\u001B[38;5;241m.\u001B[39mndim)\n\u001B[0;32m    492\u001B[0m \u001B[38;5;28;01mreturn\u001B[39;00m ndims\n",
      "\u001B[1;31mTypeError\u001B[0m: cannot concatenate object of type '<class 'dict'>'; only Series and DataFrame objs are valid"
     ]
    }
   ],
   "source": [
    "from ema_workbench.em_framework.optimization import to_problem\n",
    "\n",
    "problem = to_problem(dike_model, searchover=\"levers\")\n",
    "\n",
    "reference_set = epsilon_nondominated(results, [0.05] * len(dike_model.outcomes), problem)\n",
    "\n",
    "hv = HypervolumeMetric(reference_set, problem)"
   ],
   "metadata": {
    "collapsed": false,
    "ExecuteTime": {
     "end_time": "2024-06-13T19:10:20.956725Z",
     "start_time": "2024-06-13T19:10:20.876925Z"
    }
   },
   "id": "9ca1a3558c4438e0",
   "execution_count": 154
  },
  {
   "cell_type": "code",
   "outputs": [],
   "source": [
    "help(problem)"
   ],
   "metadata": {
    "collapsed": false,
    "ExecuteTime": {
     "start_time": "2024-06-13T18:50:35.863567Z"
    }
   },
   "id": "e2117b4bea33b35e",
   "execution_count": null
  },
  {
   "cell_type": "code",
   "outputs": [],
   "source": [
    "help(reference_set)"
   ],
   "metadata": {
    "collapsed": false,
    "ExecuteTime": {
     "start_time": "2024-06-13T18:50:35.865828Z"
    }
   },
   "id": "a6556aa5f018172b",
   "execution_count": null
  },
  {
   "cell_type": "code",
   "outputs": [],
   "source": [
    "reference_set.problem"
   ],
   "metadata": {
    "collapsed": false,
    "ExecuteTime": {
     "start_time": "2024-06-13T18:50:35.866964Z"
    }
   },
   "id": "1d8280a9875dc886",
   "execution_count": null
  },
  {
   "cell_type": "code",
   "outputs": [],
   "source": [
    "from ema_workbench import MultiprocessingEvaluator, ema_logging\n",
    "from ema_workbench.em_framework.evaluators import BaseEvaluator\n",
    "\n",
    "ema_logging.log_to_stderr(ema_logging.INFO)\n",
    "with SequentialEvaluator(dike_model) as evaluator:\n",
    "    results1 = evaluator.optimize(nfe=1, searchover='levers',\n",
    "                                  epsilons=[0.1, ] * len(dike_model.outcomes),\n",
    "                                  reference=Scenarios[0])"
   ],
   "metadata": {
    "collapsed": false,
    "ExecuteTime": {
     "start_time": "2024-06-13T18:50:35.868018Z"
    }
   },
   "id": "15bd4f4e847247f0",
   "execution_count": null
  },
  {
   "cell_type": "code",
   "outputs": [],
   "source": [
    "k = r\"C:\\Users\\roelo\\Videos\\archive\"\n"
   ],
   "metadata": {
    "collapsed": false
   },
   "id": "9a52b52f73fa0754",
   "execution_count": null
  },
  {
   "cell_type": "code",
   "outputs": [],
   "source": [
    "all_archives = []\n",
    "\n",
    "for i in range(2):\n",
    "    archives = ArchiveLogger.load_archives(k+ \"\\\\\" + f\"{i}.tar.gz\")\n",
    "    all_archives.append(archives)"
   ],
   "metadata": {
    "collapsed": false,
    "ExecuteTime": {
     "start_time": "2024-06-13T18:50:35.871682Z"
    }
   },
   "id": "8339936ea4dcd4e3",
   "execution_count": null
  },
  {
   "cell_type": "code",
   "outputs": [],
   "source": [
    "from optimization_tuned import epsilon_nondominated,HypervolumeMetric"
   ],
   "metadata": {
    "collapsed": false,
    "ExecuteTime": {
     "start_time": "2024-06-13T18:50:35.872752Z"
    }
   },
   "id": "1e0342cc58d7956f",
   "execution_count": null
  },
  {
   "cell_type": "code",
   "outputs": [],
   "source": [],
   "metadata": {
    "collapsed": false,
    "ExecuteTime": {
     "start_time": "2024-06-13T18:50:35.873888Z"
    }
   },
   "id": "c5deeae6d8a91842",
   "execution_count": null
  },
  {
   "cell_type": "code",
   "outputs": [],
   "source": [
    "from optimization_tuned import (\n",
    "    GenerationalDistanceMetric,\n",
    "    EpsilonIndicatorMetric,\n",
    "    InvertedGenerationalDistanceMetric,\n",
    "    SpacingMetric,\n",
    ")\n",
    "from ema_workbench.em_framework.optimization import to_problem\n",
    "\n",
    "problem = to_problem(dike_model, searchover=\"levers\")\n",
    "\n",
    "reference_set = epsilon_nondominated(results, [0.05] * len(dike_model.outcomes), problem)"
   ],
   "metadata": {
    "collapsed": false,
    "ExecuteTime": {
     "start_time": "2024-06-13T18:50:35.874886Z"
    }
   },
   "id": "b9443c806b061295",
   "execution_count": null
  },
  {
   "cell_type": "code",
   "outputs": [],
   "source": [],
   "metadata": {
    "collapsed": false,
    "ExecuteTime": {
     "start_time": "2024-06-13T18:50:35.875946Z"
    }
   },
   "id": "627bd39b7f4c2320",
   "execution_count": null
  },
  {
   "cell_type": "code",
   "outputs": [],
   "source": [
    "from optimization_tuned import (\n",
    "    HypervolumeMetric,\n",
    "    GenerationalDistanceMetric,\n",
    "    EpsilonIndicatorMetric,\n",
    "    InvertedGenerationalDistanceMetric,\n",
    "    SpacingMetric,\n",
    ")\n",
    "from ema_workbench.em_framework.optimization import to_problem\n",
    "\n",
    "problem = to_problem(dike_model, searchover=\"levers\")\n",
    "\n",
    "reference_set = epsilon_nondominated(results, [0.05] * len(dike_model.outcomes), problem)\n",
    "\n",
    "hv = HypervolumeMetric(reference_set, problem)\n",
    "gd = GenerationalDistanceMetric(reference_set, problem, d=1)\n",
    "ei = EpsilonIndicatorMetric(reference_set, problem)\n",
    "ig = InvertedGenerationalDistanceMetric(reference_set, problem, d=1)\n",
    "sm = SpacingMetric(problem)\n",
    "\n",
    "\n",
    "metrics_by_seed = []\n",
    "for archives in all_archives:\n",
    "    metrics = []\n",
    "    for nfe, archive in archives.items():\n",
    "        scores = {\n",
    "            \"generational_distance\": gd.calculate(archive),\n",
    "            \"hypervolume\": hv.calculate(archive),\n",
    "            \"epsilon_indicator\": ei.calculate(archive),\n",
    "            \"inverted_gd\": ig.calculate(archive),\n",
    "            \"spacing\": sm.calculate(archive),\n",
    "            \"nfe\": int(nfe),\n",
    "        }\n",
    "        metrics.append(scores)\n",
    "    metrics = pd.DataFrame.from_dict(metrics)\n",
    "\n",
    "    # sort metrics by number of function evaluations\n",
    "    metrics.sort_values(by=\"nfe\", inplace=True)\n",
    "    metrics_by_seed.append(metrics)"
   ],
   "metadata": {
    "collapsed": false
   },
   "id": "2af6d71059c9ea37",
   "execution_count": null
  },
  {
   "cell_type": "markdown",
   "source": [
    "### OOOOOOOOOOOOOOOOOOOOOOOOOOOO\n"
   ],
   "metadata": {
    "collapsed": false
   },
   "id": "8869d7b745d15fc0"
  },
  {
   "cell_type": "code",
   "outputs": [],
   "source": [
    "from ema_workbench import MultiprocessingEvaluator, ema_logging\n",
    "from ema_workbench.em_framework.evaluators import BaseEvaluator\n",
    "\n",
    "ema_logging.log_to_stderr(ema_logging.INFO)\n",
    "\n",
    "with SequentialEvaluator(dike_model) as evaluator:\n",
    "    results1 = evaluator.optimize(nfe=1000, searchover='levers',\n",
    "                                 epsilons=[0.1,]*len(dike_model.outcomes),reference=Scenarios[0])"
   ],
   "metadata": {
    "collapsed": false,
    "ExecuteTime": {
     "start_time": "2024-06-13T18:50:35.879176Z"
    }
   },
   "id": "c390a9aea1afedc9",
   "execution_count": null
  },
  {
   "cell_type": "code",
   "outputs": [],
   "source": [
    "list(dike_model.outcomes)"
   ],
   "metadata": {
    "collapsed": false,
    "ExecuteTime": {
     "start_time": "2024-06-13T18:50:35.880313Z"
    }
   },
   "id": "8bb1b5610a73145c",
   "execution_count": null
  },
  {
   "cell_type": "code",
   "outputs": [],
   "source": [
    "df = pd.DataFrame(results1)"
   ],
   "metadata": {
    "collapsed": false,
    "ExecuteTime": {
     "start_time": "2024-06-13T18:50:35.883150Z"
    }
   },
   "id": "2ef2cca279d08600",
   "execution_count": null
  },
  {
   "cell_type": "code",
   "outputs": [],
   "source": [
    "df[\"Expected Number of Deaths\"] = df[\"A.1_Expected Number of Deaths\"] + df[\"A.2_Expected Number of Deaths\"] + df[\n",
    "    \"A.3_Expected Number of Deaths\"] + df[\"A.4_Expected Number of Deaths\"] + df[\"A.5_Expected Number of Deaths\"]\n",
    "df[\"Expected Annual Damage\"] = df[\"A.1_Expected Annual Damage\"] + df[\"A.2_Expected Annual Damage\"] + df[\n",
    "    \"A.3_Expected Annual Damage\"] + df[\"A.4_Expected Annual Damage\"] + df[\"A.5_Expected Annual Damage\"]\n",
    "\n",
    "\n",
    "## Feature importance (not required but nice to know)\n",
    "df_feature_importance_out = df[[\"Expected Evacuation Costs\", \"Expected Annual Damage\", \"Expected Number of Deaths\",\"A.5_Expected Number of Deaths\", \"A.5_Expected Annual Damage\"]]"
   ],
   "metadata": {
    "collapsed": false,
    "ExecuteTime": {
     "start_time": "2024-06-13T18:50:35.884226Z"
    }
   },
   "id": "e8c5602d30d952ed",
   "execution_count": null
  },
  {
   "cell_type": "code",
   "outputs": [],
   "source": [
    "from ema_workbench.analysis import parcoords\n",
    "\n",
    "# data = results1.loc[:, [o.name for o in dike_model.outcomes]]\n",
    "limits = parcoords.get_limits(df_feature_importance_out)\n",
    "limits.loc[0, [\"Expected Evacuation Costs\",\"A.5_Expected Number of Deaths\",\"A.5_Expected Annual Damage\"]] = 0\n",
    "\n",
    "paraxes = parcoords.ParallelAxes(limits)\n",
    "paraxes.plot(df_feature_importance_out)\n",
    "# paraxes.invert_axis('max_P')\n",
    "plt.show()"
   ],
   "metadata": {
    "collapsed": false,
    "ExecuteTime": {
     "start_time": "2024-06-13T18:50:35.885797Z"
    }
   },
   "id": "82e12ccf21090bee",
   "execution_count": null
  },
  {
   "cell_type": "code",
   "outputs": [],
   "source": [
    "results1"
   ],
   "metadata": {
    "collapsed": false,
    "ExecuteTime": {
     "start_time": "2024-06-13T18:50:35.886810Z"
    }
   },
   "id": "c40f52681910b33a",
   "execution_count": null
  },
  {
   "cell_type": "code",
   "outputs": [],
   "source": [
    "data"
   ],
   "metadata": {
    "collapsed": false,
    "ExecuteTime": {
     "start_time": "2024-06-13T18:50:35.887873Z"
    }
   },
   "id": "733fd8b5338a4a25",
   "execution_count": null
  }
 ],
 "metadata": {
  "kernelspec": {
   "display_name": "Python 3",
   "language": "python",
   "name": "python3"
  },
  "language_info": {
   "codemirror_mode": {
    "name": "ipython",
    "version": 2
   },
   "file_extension": ".py",
   "mimetype": "text/x-python",
   "name": "python",
   "nbconvert_exporter": "python",
   "pygments_lexer": "ipython2",
   "version": "2.7.6"
  }
 },
 "nbformat": 4,
 "nbformat_minor": 5
}
