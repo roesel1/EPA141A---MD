{
 "cells": [
  {
   "cell_type": "code",
   "id": "initial_id",
   "metadata": {
    "collapsed": true,
    "ExecuteTime": {
     "end_time": "2024-06-12T11:40:14.288993Z",
     "start_time": "2024-06-12T11:39:59.969090Z"
    }
   },
   "source": [
    "import numpy as np\n",
    "import scipy as sp\n",
    "import pandas as pd\n",
    "import matplotlib.pyplot as plt\n",
    "import seaborn as sns\n",
    "import networkx as nx\n",
    "from SALib.analyze import sobol\n",
    "import warnings\n",
    "from ema_workbench.analysis import feature_scoring\n",
    "from ema_workbench.em_framework.salib_samplers import get_SALib_problem\n",
    "from ema_workbench import (\n",
    "    Model,\n",
    "    Policy,\n",
    "    ema_logging,\n",
    "    SequentialEvaluator,\n",
    "    MultiprocessingEvaluator,\n",
    "    perform_experiments,\n",
    "    Samplers,\n",
    "    SequentialEvaluator,\n",
    ")\n",
    "from dike_model_function import DikeNetwork\n",
    "from problem_formulation import get_model_for_problem_formulation, sum_over, sum_over_time\n",
    "from ema_workbench.analysis import prim\n",
    "from ema_workbench.em_framework.parameters import Constant\n",
    "\n",
    "warnings.filterwarnings(\"ignore\")"
   ],
   "outputs": [],
   "execution_count": 1
  },
  {
   "cell_type": "code",
   "source": "dike_model, planning_steps = get_model_for_problem_formulation(3)",
   "metadata": {
    "collapsed": false,
    "ExecuteTime": {
     "end_time": "2024-06-12T11:40:16.758890Z",
     "start_time": "2024-06-12T11:40:14.294105Z"
    }
   },
   "id": "2aadfb76d6836c22",
   "outputs": [],
   "execution_count": 2
  },
  {
   "metadata": {
    "ExecuteTime": {
     "end_time": "2024-06-12T11:40:16.774936Z",
     "start_time": "2024-06-12T11:40:16.760823Z"
    }
   },
   "cell_type": "code",
   "source": [
    "for i in dike_model.outcomes:\n",
    "    print(i)"
   ],
   "id": "a97c327ca8dafa08",
   "outputs": [
    {
     "name": "stdout",
     "output_type": "stream",
     "text": [
      "ScalarOutcome('A.1 Total Costs', variable_name=('A.1_Expected Annual Damage', 'A.1_Dike Investment Costs'), function=<function sum_over at 0x00000226B9B78CC0>)\n",
      "ScalarOutcome('A.1_Expected Number of Deaths', variable_name=('A.1_Expected Number of Deaths',), function=<function sum_over at 0x00000226B9B78CC0>)\n",
      "ScalarOutcome('A.1_Expected Annual Damage', variable_name=('A.1_Expected Annual Damage',), function=<function sum_over at 0x00000226B9B78CC0>)\n",
      "ScalarOutcome('A.2 Total Costs', variable_name=('A.2_Expected Annual Damage', 'A.2_Dike Investment Costs'), function=<function sum_over at 0x00000226B9B78CC0>)\n",
      "ScalarOutcome('A.2_Expected Number of Deaths', variable_name=('A.2_Expected Number of Deaths',), function=<function sum_over at 0x00000226B9B78CC0>)\n",
      "ScalarOutcome('A.2_Expected Annual Damage', variable_name=('A.2_Expected Annual Damage',), function=<function sum_over at 0x00000226B9B78CC0>)\n",
      "ScalarOutcome('A.3 Total Costs', variable_name=('A.3_Expected Annual Damage', 'A.3_Dike Investment Costs'), function=<function sum_over at 0x00000226B9B78CC0>)\n",
      "ScalarOutcome('A.3_Expected Number of Deaths', variable_name=('A.3_Expected Number of Deaths',), function=<function sum_over at 0x00000226B9B78CC0>)\n",
      "ScalarOutcome('A.3_Expected Annual Damage', variable_name=('A.3_Expected Annual Damage',), function=<function sum_over at 0x00000226B9B78CC0>)\n",
      "ScalarOutcome('A.4 Total Costs', variable_name=('A.4_Expected Annual Damage', 'A.4_Dike Investment Costs'), function=<function sum_over at 0x00000226B9B78CC0>)\n",
      "ScalarOutcome('A.4_Expected Number of Deaths', variable_name=('A.4_Expected Number of Deaths',), function=<function sum_over at 0x00000226B9B78CC0>)\n",
      "ScalarOutcome('A.4_Expected Annual Damage', variable_name=('A.4_Expected Annual Damage',), function=<function sum_over at 0x00000226B9B78CC0>)\n",
      "ScalarOutcome('A.5 Total Costs', variable_name=('A.5_Expected Annual Damage', 'A.5_Dike Investment Costs'), function=<function sum_over at 0x00000226B9B78CC0>)\n",
      "ScalarOutcome('A.5_Expected Number of Deaths', variable_name=('A.5_Expected Number of Deaths',), function=<function sum_over at 0x00000226B9B78CC0>)\n",
      "ScalarOutcome('A.5_Expected Annual Damage', variable_name=('A.5_Expected Annual Damage',), function=<function sum_over at 0x00000226B9B78CC0>)\n",
      "ScalarOutcome('RfR Total Costs', variable_name=('RfR Total Costs',), function=<function sum_over at 0x00000226B9B78CC0>)\n",
      "ScalarOutcome('Expected Evacuation Costs', variable_name=('Expected Evacuation Costs',), function=<function sum_over at 0x00000226B9B78CC0>)\n"
     ]
    }
   ],
   "execution_count": 3
  },
  {
   "metadata": {
    "ExecuteTime": {
     "end_time": "2024-06-12T11:40:20.787237Z",
     "start_time": "2024-06-12T11:40:16.778088Z"
    }
   },
   "cell_type": "code",
   "source": [
    "ema_logging.log_to_stderr(ema_logging.INFO)\n",
    "\n",
    "with SequentialEvaluator(dike_model) as evaluator:\n",
    "    results1 = evaluator.optimize(nfe=5e3, searchover='levers',\n",
    "                                 epsilons=[0.1,]*len(dike_model.outcomes), )"
   ],
   "id": "6dbc62ec6342ee21",
   "outputs": [
    {
     "name": "stderr",
     "output_type": "stream",
     "text": [
      "  0%|                                                 | 0/5000 [00:00<?, ?it/s][MainProcess/ERROR] 'ID flood wave shape'\n",
      "Traceback (most recent call last):\n",
      "  File \"C:\\Users\\Nina\\anaconda3\\Lib\\site-packages\\ema_workbench\\em_framework\\experiment_runner.py\", line 92, in run_experiment\n",
      "    model.run_model(scenario, policy)\n",
      "  File \"C:\\Users\\Nina\\anaconda3\\Lib\\site-packages\\ema_workbench\\util\\ema_logging.py\", line 153, in wrapper\n",
      "    res = func(*args, **kwargs)\n",
      "          ^^^^^^^^^^^^^^^^^^^^^\n",
      "  File \"C:\\Users\\Nina\\anaconda3\\Lib\\site-packages\\ema_workbench\\em_framework\\model.py\", line 347, in run_model\n",
      "    outputs = self.run_experiment(experiment)\n",
      "              ^^^^^^^^^^^^^^^^^^^^^^^^^^^^^^^\n",
      "  File \"C:\\Users\\Nina\\anaconda3\\Lib\\site-packages\\ema_workbench\\util\\ema_logging.py\", line 153, in wrapper\n",
      "    res = func(*args, **kwargs)\n",
      "          ^^^^^^^^^^^^^^^^^^^^^\n",
      "  File \"C:\\Users\\Nina\\anaconda3\\Lib\\site-packages\\ema_workbench\\em_framework\\model.py\", line 400, in run_experiment\n",
      "    model_output = self.function(**experiment)\n",
      "                   ^^^^^^^^^^^^^^^^^^^^^^^^^^^\n",
      "  File \"C:\\Users\\Nina\\PycharmProjects\\EPA141A---MD\\final assignment\\dike_model_function.py\", line 183, in __call__\n",
      "    waveshape_id = node[\"ID flood wave shape\"]\n",
      "                   ~~~~^^^^^^^^^^^^^^^^^^^^^^^\n",
      "KeyError: 'ID flood wave shape'\n"
     ]
    },
    {
     "name": "stdout",
     "output_type": "stream",
     "text": [
      "{'OBJECTID': 0, 'prec_node': nan, 'km': nan, 'branch': nan, 'type': 'upstream', 'dikelevel': nan, 'hground': nan, 'dike_ring': nan, 'traject_id': nan, 'c': nan, 'b': nan, 'lambda': nan, 'traj_ratio': nan, 'Qevents_shape':            0         1         2         3         4         5         6   \\\n",
      "0    0.224895  0.214304  0.224283  0.230353  0.219234  0.203512  0.191063   \n",
      "1    0.273724  0.264464  0.258063  0.282115  0.334478  0.382453  0.404076   \n",
      "2    0.142807  0.111245  0.092054  0.084458  0.083052  0.084611  0.089789   \n",
      "3    0.322389  0.291245  0.265126  0.243159  0.226207  0.221248  0.243066   \n",
      "4    0.415504  0.401833  0.382493  0.366031  0.353424  0.342985  0.329513   \n",
      "..        ...       ...       ...       ...       ...       ...       ...   \n",
      "128  0.278171  0.379085  0.466318  0.510300  0.509764  0.480513  0.447139   \n",
      "129  0.095764  0.093510  0.091621  0.089864  0.088082  0.086530  0.086463   \n",
      "130  0.165290  0.176420  0.184651  0.188489  0.187010  0.182686  0.180664   \n",
      "131  0.196609  0.183467  0.168779  0.158526  0.161475  0.186692  0.266764   \n",
      "132  0.319523  0.319310  0.302287  0.279388  0.265077  0.274043  0.315608   \n",
      "\n",
      "           7         8         9   ...        21        22        23  \\\n",
      "0    0.187472  0.224432  0.325306  ...  0.487914  0.416368  0.352370   \n",
      "1    0.399115  0.399158  0.416695  ...  0.640464  0.581705  0.517591   \n",
      "2    0.117994  0.218844  0.359502  ...  0.405395  0.332713  0.283203   \n",
      "3    0.284168  0.366145  0.513192  ...  0.581041  0.493294  0.410575   \n",
      "4    0.318997  0.323171  0.351816  ...  0.382906  0.336599  0.359547   \n",
      "..        ...       ...       ...  ...       ...       ...       ...   \n",
      "128  0.429335  0.436611  0.471822  ...  0.712708  0.692740  0.676736   \n",
      "129  0.092718  0.114886  0.163009  ...  0.244569  0.215840  0.202656   \n",
      "130  0.184579  0.197674  0.223953  ...  0.486583  0.410885  0.350216   \n",
      "131  0.381050  0.485387  0.596730  ...  0.684559  0.625799  0.555326   \n",
      "132  0.390817  0.488797  0.588672  ...  0.607620  0.521964  0.444419   \n",
      "\n",
      "           24        25        26        27        28        29        30  \n",
      "0    0.298759  0.265009  0.231677  0.219614  0.209021  0.199499  0.190946  \n",
      "1    0.471392  0.431625  0.317330  0.298909  0.286502  0.281432  0.281160  \n",
      "2    0.253713  0.243552  0.244920  0.251207  0.261964  0.272485  0.276548  \n",
      "3    0.311241  0.273744  0.248766  0.231748  0.219752  0.211236  0.204669  \n",
      "4    0.435538  0.518725  0.545424  0.535157  0.514660  0.501379  0.493753  \n",
      "..        ...       ...       ...       ...       ...       ...       ...  \n",
      "128  0.651198  0.605623  0.540281  0.468399  0.407628  0.366517  0.339659  \n",
      "129  0.196065  0.190216  0.183320  0.175660  0.167821  0.160192  0.153022  \n",
      "130  0.306889  0.286772  0.291197  0.305676  0.310381  0.300843  0.286457  \n",
      "131  0.476168  0.418644  0.372012  0.342295  0.325641  0.317453  0.313242  \n",
      "132  0.382722  0.337423  0.304835  0.280712  0.262030  0.246953  0.234242  \n",
      "\n",
      "[133 rows x 31 columns]}\n"
     ]
    },
    {
     "ename": "EMAError",
     "evalue": "Exception in run_model\nCaused by: KeyError: 'ID flood wave shape'",
     "output_type": "error",
     "traceback": [
      "\u001B[1;31m---------------------------------------------------------------------------\u001B[0m",
      "\u001B[1;31mKeyError\u001B[0m                                  Traceback (most recent call last)",
      "File \u001B[1;32m~\\anaconda3\\Lib\\site-packages\\ema_workbench\\em_framework\\experiment_runner.py:92\u001B[0m, in \u001B[0;36mExperimentRunner.run_experiment\u001B[1;34m(self, experiment)\u001B[0m\n\u001B[0;32m     91\u001B[0m \u001B[38;5;28;01mtry\u001B[39;00m:\n\u001B[1;32m---> 92\u001B[0m     model\u001B[38;5;241m.\u001B[39mrun_model(scenario, policy)\n\u001B[0;32m     93\u001B[0m \u001B[38;5;28;01mexcept\u001B[39;00m CaseError \u001B[38;5;28;01mas\u001B[39;00m e:\n",
      "File \u001B[1;32m~\\anaconda3\\Lib\\site-packages\\ema_workbench\\util\\ema_logging.py:153\u001B[0m, in \u001B[0;36mmethod_logger.<locals>.real_decorator.<locals>.wrapper\u001B[1;34m(*args, **kwargs)\u001B[0m\n\u001B[0;32m    152\u001B[0m logger\u001B[38;5;241m.\u001B[39mdebug(\u001B[38;5;124mf\u001B[39m\u001B[38;5;124m\"\u001B[39m\u001B[38;5;124mcalling \u001B[39m\u001B[38;5;132;01m{\u001B[39;00mfunc\u001B[38;5;241m.\u001B[39m\u001B[38;5;18m__name__\u001B[39m\u001B[38;5;132;01m}\u001B[39;00m\u001B[38;5;124m on \u001B[39m\u001B[38;5;132;01m{\u001B[39;00mclassname\u001B[38;5;132;01m}\u001B[39;00m\u001B[38;5;124m\"\u001B[39m)\n\u001B[1;32m--> 153\u001B[0m res \u001B[38;5;241m=\u001B[39m func(\u001B[38;5;241m*\u001B[39margs, \u001B[38;5;241m*\u001B[39m\u001B[38;5;241m*\u001B[39mkwargs)\n\u001B[0;32m    154\u001B[0m logger\u001B[38;5;241m.\u001B[39mdebug(\u001B[38;5;124mf\u001B[39m\u001B[38;5;124m\"\u001B[39m\u001B[38;5;124mcompleted calling \u001B[39m\u001B[38;5;132;01m{\u001B[39;00mfunc\u001B[38;5;241m.\u001B[39m\u001B[38;5;18m__name__\u001B[39m\u001B[38;5;132;01m}\u001B[39;00m\u001B[38;5;124m on \u001B[39m\u001B[38;5;132;01m{\u001B[39;00mclassname\u001B[38;5;132;01m}\u001B[39;00m\u001B[38;5;124m\"\u001B[39m)\n",
      "File \u001B[1;32m~\\anaconda3\\Lib\\site-packages\\ema_workbench\\em_framework\\model.py:347\u001B[0m, in \u001B[0;36mSingleReplication.run_model\u001B[1;34m(self, scenario, policy)\u001B[0m\n\u001B[0;32m    345\u001B[0m experiment \u001B[38;5;241m=\u001B[39m ExperimentReplication(scenario, \u001B[38;5;28mself\u001B[39m\u001B[38;5;241m.\u001B[39mpolicy, constants)\n\u001B[1;32m--> 347\u001B[0m outputs \u001B[38;5;241m=\u001B[39m \u001B[38;5;28mself\u001B[39m\u001B[38;5;241m.\u001B[39mrun_experiment(experiment)\n\u001B[0;32m    349\u001B[0m \u001B[38;5;28mself\u001B[39m\u001B[38;5;241m.\u001B[39moutcomes_output \u001B[38;5;241m=\u001B[39m outputs\n",
      "File \u001B[1;32m~\\anaconda3\\Lib\\site-packages\\ema_workbench\\util\\ema_logging.py:153\u001B[0m, in \u001B[0;36mmethod_logger.<locals>.real_decorator.<locals>.wrapper\u001B[1;34m(*args, **kwargs)\u001B[0m\n\u001B[0;32m    152\u001B[0m logger\u001B[38;5;241m.\u001B[39mdebug(\u001B[38;5;124mf\u001B[39m\u001B[38;5;124m\"\u001B[39m\u001B[38;5;124mcalling \u001B[39m\u001B[38;5;132;01m{\u001B[39;00mfunc\u001B[38;5;241m.\u001B[39m\u001B[38;5;18m__name__\u001B[39m\u001B[38;5;132;01m}\u001B[39;00m\u001B[38;5;124m on \u001B[39m\u001B[38;5;132;01m{\u001B[39;00mclassname\u001B[38;5;132;01m}\u001B[39;00m\u001B[38;5;124m\"\u001B[39m)\n\u001B[1;32m--> 153\u001B[0m res \u001B[38;5;241m=\u001B[39m func(\u001B[38;5;241m*\u001B[39margs, \u001B[38;5;241m*\u001B[39m\u001B[38;5;241m*\u001B[39mkwargs)\n\u001B[0;32m    154\u001B[0m logger\u001B[38;5;241m.\u001B[39mdebug(\u001B[38;5;124mf\u001B[39m\u001B[38;5;124m\"\u001B[39m\u001B[38;5;124mcompleted calling \u001B[39m\u001B[38;5;132;01m{\u001B[39;00mfunc\u001B[38;5;241m.\u001B[39m\u001B[38;5;18m__name__\u001B[39m\u001B[38;5;132;01m}\u001B[39;00m\u001B[38;5;124m on \u001B[39m\u001B[38;5;132;01m{\u001B[39;00mclassname\u001B[38;5;132;01m}\u001B[39;00m\u001B[38;5;124m\"\u001B[39m)\n",
      "File \u001B[1;32m~\\anaconda3\\Lib\\site-packages\\ema_workbench\\em_framework\\model.py:400\u001B[0m, in \u001B[0;36mBaseModel.run_experiment\u001B[1;34m(self, experiment)\u001B[0m\n\u001B[0;32m    393\u001B[0m \u001B[38;5;250m\u001B[39m\u001B[38;5;124;03m\"\"\"Method for running an instantiated model structure.\u001B[39;00m\n\u001B[0;32m    394\u001B[0m \n\u001B[0;32m    395\u001B[0m \u001B[38;5;124;03mParameters\u001B[39;00m\n\u001B[1;32m   (...)\u001B[0m\n\u001B[0;32m    398\u001B[0m \n\u001B[0;32m    399\u001B[0m \u001B[38;5;124;03m\"\"\"\u001B[39;00m\n\u001B[1;32m--> 400\u001B[0m model_output \u001B[38;5;241m=\u001B[39m \u001B[38;5;28mself\u001B[39m\u001B[38;5;241m.\u001B[39mfunction(\u001B[38;5;241m*\u001B[39m\u001B[38;5;241m*\u001B[39mexperiment)\n\u001B[0;32m    402\u001B[0m \u001B[38;5;66;03m# TODO: might it be possible to somehow abstract this\u001B[39;00m\n\u001B[0;32m    403\u001B[0m \u001B[38;5;66;03m# perhaps expose a get_data on modelInterface?\u001B[39;00m\n\u001B[0;32m    404\u001B[0m \u001B[38;5;66;03m# different connectors can than implement only this\u001B[39;00m\n\u001B[0;32m    405\u001B[0m \u001B[38;5;66;03m# get method\u001B[39;00m\n",
      "File \u001B[1;32m~\\PycharmProjects\\EPA141A---MD\\final assignment\\dike_model_function.py:183\u001B[0m, in \u001B[0;36mDikeNetwork.__call__\u001B[1;34m(self, timestep, **kwargs)\u001B[0m\n\u001B[0;32m    182\u001B[0m \u001B[38;5;28mprint\u001B[39m(node)\n\u001B[1;32m--> 183\u001B[0m waveshape_id \u001B[38;5;241m=\u001B[39m node[\u001B[38;5;124m\"\u001B[39m\u001B[38;5;124mID flood wave shape\u001B[39m\u001B[38;5;124m\"\u001B[39m]\n\u001B[0;32m    185\u001B[0m time \u001B[38;5;241m=\u001B[39m np\u001B[38;5;241m.\u001B[39marange(\n\u001B[0;32m    186\u001B[0m     \u001B[38;5;241m0\u001B[39m, node[\u001B[38;5;124m\"\u001B[39m\u001B[38;5;124mQevents_shape\u001B[39m\u001B[38;5;124m\"\u001B[39m]\u001B[38;5;241m.\u001B[39mloc[waveshape_id]\u001B[38;5;241m.\u001B[39mshape[\u001B[38;5;241m0\u001B[39m], timestep\n\u001B[0;32m    187\u001B[0m )\n",
      "\u001B[1;31mKeyError\u001B[0m: 'ID flood wave shape'",
      "\nDuring handling of the above exception, another exception occurred:\n",
      "\u001B[1;31mEMAError\u001B[0m                                  Traceback (most recent call last)",
      "Cell \u001B[1;32mIn[4], line 4\u001B[0m\n\u001B[0;32m      1\u001B[0m ema_logging\u001B[38;5;241m.\u001B[39mlog_to_stderr(ema_logging\u001B[38;5;241m.\u001B[39mINFO)\n\u001B[0;32m      3\u001B[0m \u001B[38;5;28;01mwith\u001B[39;00m SequentialEvaluator(dike_model) \u001B[38;5;28;01mas\u001B[39;00m evaluator:\n\u001B[1;32m----> 4\u001B[0m     results1 \u001B[38;5;241m=\u001B[39m evaluator\u001B[38;5;241m.\u001B[39moptimize(nfe\u001B[38;5;241m=\u001B[39m\u001B[38;5;241m5e3\u001B[39m, searchover\u001B[38;5;241m=\u001B[39m\u001B[38;5;124m'\u001B[39m\u001B[38;5;124mlevers\u001B[39m\u001B[38;5;124m'\u001B[39m,\n\u001B[0;32m      5\u001B[0m                                  epsilons\u001B[38;5;241m=\u001B[39m[\u001B[38;5;241m0.1\u001B[39m,]\u001B[38;5;241m*\u001B[39m\u001B[38;5;28mlen\u001B[39m(dike_model\u001B[38;5;241m.\u001B[39moutcomes))\n",
      "File \u001B[1;32m~\\anaconda3\\Lib\\site-packages\\ema_workbench\\em_framework\\evaluators.py:228\u001B[0m, in \u001B[0;36mBaseEvaluator.optimize\u001B[1;34m(self, algorithm, nfe, searchover, reference, constraints, convergence_freq, logging_freq, variator, **kwargs)\u001B[0m\n\u001B[0;32m    210\u001B[0m \u001B[38;5;28;01mdef\u001B[39;00m \u001B[38;5;21moptimize\u001B[39m(\n\u001B[0;32m    211\u001B[0m     \u001B[38;5;28mself\u001B[39m,\n\u001B[0;32m    212\u001B[0m     algorithm\u001B[38;5;241m=\u001B[39mEpsNSGAII,\n\u001B[1;32m   (...)\u001B[0m\n\u001B[0;32m    220\u001B[0m     \u001B[38;5;241m*\u001B[39m\u001B[38;5;241m*\u001B[39mkwargs,\n\u001B[0;32m    221\u001B[0m ):\n\u001B[0;32m    222\u001B[0m \u001B[38;5;250m    \u001B[39m\u001B[38;5;124;03m\"\"\"convenience method for outcome optimization.\u001B[39;00m\n\u001B[0;32m    223\u001B[0m \n\u001B[0;32m    224\u001B[0m \u001B[38;5;124;03m    is forwarded to :func:optimize, with evaluator and models\u001B[39;00m\n\u001B[0;32m    225\u001B[0m \u001B[38;5;124;03m    arguments added in.\u001B[39;00m\n\u001B[0;32m    226\u001B[0m \n\u001B[0;32m    227\u001B[0m \u001B[38;5;124;03m    \"\"\"\u001B[39;00m\n\u001B[1;32m--> 228\u001B[0m     \u001B[38;5;28;01mreturn\u001B[39;00m optimize(\n\u001B[0;32m    229\u001B[0m         \u001B[38;5;28mself\u001B[39m\u001B[38;5;241m.\u001B[39m_msis,\n\u001B[0;32m    230\u001B[0m         algorithm\u001B[38;5;241m=\u001B[39malgorithm,\n\u001B[0;32m    231\u001B[0m         nfe\u001B[38;5;241m=\u001B[39m\u001B[38;5;28mint\u001B[39m(nfe),\n\u001B[0;32m    232\u001B[0m         searchover\u001B[38;5;241m=\u001B[39msearchover,\n\u001B[0;32m    233\u001B[0m         evaluator\u001B[38;5;241m=\u001B[39m\u001B[38;5;28mself\u001B[39m,\n\u001B[0;32m    234\u001B[0m         reference\u001B[38;5;241m=\u001B[39mreference,\n\u001B[0;32m    235\u001B[0m         constraints\u001B[38;5;241m=\u001B[39mconstraints,\n\u001B[0;32m    236\u001B[0m         convergence_freq\u001B[38;5;241m=\u001B[39mconvergence_freq,\n\u001B[0;32m    237\u001B[0m         logging_freq\u001B[38;5;241m=\u001B[39mlogging_freq,\n\u001B[0;32m    238\u001B[0m         variator\u001B[38;5;241m=\u001B[39mvariator,\n\u001B[0;32m    239\u001B[0m         \u001B[38;5;241m*\u001B[39m\u001B[38;5;241m*\u001B[39mkwargs,\n\u001B[0;32m    240\u001B[0m     )\n",
      "File \u001B[1;32m~\\anaconda3\\Lib\\site-packages\\ema_workbench\\em_framework\\evaluators.py:576\u001B[0m, in \u001B[0;36moptimize\u001B[1;34m(models, algorithm, nfe, searchover, evaluator, reference, convergence, constraints, convergence_freq, logging_freq, variator, **kwargs)\u001B[0m\n\u001B[0;32m    573\u001B[0m \u001B[38;5;28;01mif\u001B[39;00m \u001B[38;5;129;01mnot\u001B[39;00m evaluator:\n\u001B[0;32m    574\u001B[0m     evaluator \u001B[38;5;241m=\u001B[39m SequentialEvaluator(models)\n\u001B[1;32m--> 576\u001B[0m \u001B[38;5;28;01mreturn\u001B[39;00m _optimize(\n\u001B[0;32m    577\u001B[0m     problem,\n\u001B[0;32m    578\u001B[0m     evaluator,\n\u001B[0;32m    579\u001B[0m     algorithm,\n\u001B[0;32m    580\u001B[0m     convergence,\n\u001B[0;32m    581\u001B[0m     nfe,\n\u001B[0;32m    582\u001B[0m     convergence_freq,\n\u001B[0;32m    583\u001B[0m     logging_freq,\n\u001B[0;32m    584\u001B[0m     variator\u001B[38;5;241m=\u001B[39mvariator,\n\u001B[0;32m    585\u001B[0m     \u001B[38;5;241m*\u001B[39m\u001B[38;5;241m*\u001B[39mkwargs,\n\u001B[0;32m    586\u001B[0m )\n",
      "File \u001B[1;32m~\\anaconda3\\Lib\\site-packages\\ema_workbench\\em_framework\\optimization.py:1101\u001B[0m, in \u001B[0;36m_optimize\u001B[1;34m(problem, evaluator, algorithm, convergence, nfe, convergence_freq, logging_freq, variator, **kwargs)\u001B[0m\n\u001B[0;32m   1098\u001B[0m evaluator\u001B[38;5;241m.\u001B[39mcallback \u001B[38;5;241m=\u001B[39m callback\n\u001B[0;32m   1100\u001B[0m \u001B[38;5;28;01mwith\u001B[39;00m temporary_filter(name\u001B[38;5;241m=\u001B[39m[callbacks\u001B[38;5;241m.\u001B[39m\u001B[38;5;18m__name__\u001B[39m, evaluators\u001B[38;5;241m.\u001B[39m\u001B[38;5;18m__name__\u001B[39m], level\u001B[38;5;241m=\u001B[39mINFO):\n\u001B[1;32m-> 1101\u001B[0m     optimizer\u001B[38;5;241m.\u001B[39mrun(nfe)\n\u001B[0;32m   1103\u001B[0m convergence(optimizer, force\u001B[38;5;241m=\u001B[39m\u001B[38;5;28;01mTrue\u001B[39;00m)\n\u001B[0;32m   1105\u001B[0m \u001B[38;5;66;03m# convergence.pbar.__exit__(None, None, None)\u001B[39;00m\n",
      "File \u001B[1;32m~\\anaconda3\\Lib\\site-packages\\platypus\\core.py:410\u001B[0m, in \u001B[0;36mAlgorithm.run\u001B[1;34m(self, condition, callback)\u001B[0m\n\u001B[0;32m    407\u001B[0m LOGGER\u001B[38;5;241m.\u001B[39mlog(logging\u001B[38;5;241m.\u001B[39mINFO, \u001B[38;5;124m\"\u001B[39m\u001B[38;5;132;01m%s\u001B[39;00m\u001B[38;5;124m starting\u001B[39m\u001B[38;5;124m\"\u001B[39m, \u001B[38;5;28mtype\u001B[39m(\u001B[38;5;28mself\u001B[39m)\u001B[38;5;241m.\u001B[39m\u001B[38;5;18m__name__\u001B[39m)\n\u001B[0;32m    409\u001B[0m \u001B[38;5;28;01mwhile\u001B[39;00m \u001B[38;5;129;01mnot\u001B[39;00m condition(\u001B[38;5;28mself\u001B[39m):\n\u001B[1;32m--> 410\u001B[0m     \u001B[38;5;28mself\u001B[39m\u001B[38;5;241m.\u001B[39mstep()\n\u001B[0;32m    412\u001B[0m     \u001B[38;5;28;01mif\u001B[39;00m \u001B[38;5;28mself\u001B[39m\u001B[38;5;241m.\u001B[39mlog_frequency \u001B[38;5;129;01mis\u001B[39;00m \u001B[38;5;129;01mnot\u001B[39;00m \u001B[38;5;28;01mNone\u001B[39;00m \u001B[38;5;129;01mand\u001B[39;00m \u001B[38;5;28mself\u001B[39m\u001B[38;5;241m.\u001B[39mnfe \u001B[38;5;241m>\u001B[39m\u001B[38;5;241m=\u001B[39m last_log \u001B[38;5;241m+\u001B[39m \u001B[38;5;28mself\u001B[39m\u001B[38;5;241m.\u001B[39mlog_frequency:\n\u001B[0;32m    413\u001B[0m         LOGGER\u001B[38;5;241m.\u001B[39mlog(logging\u001B[38;5;241m.\u001B[39mINFO,\n\u001B[0;32m    414\u001B[0m                    \u001B[38;5;124m\"\u001B[39m\u001B[38;5;132;01m%s\u001B[39;00m\u001B[38;5;124m running; NFE Complete: \u001B[39m\u001B[38;5;132;01m%d\u001B[39;00m\u001B[38;5;124m, Elapsed Time: \u001B[39m\u001B[38;5;132;01m%s\u001B[39;00m\u001B[38;5;124m\"\u001B[39m,\n\u001B[0;32m    415\u001B[0m                    \u001B[38;5;28mtype\u001B[39m(\u001B[38;5;28mself\u001B[39m)\u001B[38;5;241m.\u001B[39m\u001B[38;5;18m__name__\u001B[39m,\n\u001B[0;32m    416\u001B[0m                    \u001B[38;5;28mself\u001B[39m\u001B[38;5;241m.\u001B[39mnfe,\n\u001B[0;32m    417\u001B[0m                    datetime\u001B[38;5;241m.\u001B[39mtimedelta(seconds\u001B[38;5;241m=\u001B[39mtime\u001B[38;5;241m.\u001B[39mtime()\u001B[38;5;241m-\u001B[39mstart_time))\n",
      "File \u001B[1;32m~\\anaconda3\\Lib\\site-packages\\platypus\\algorithms.py:1521\u001B[0m, in \u001B[0;36mPeriodicAction.step\u001B[1;34m(self)\u001B[0m\n\u001B[0;32m   1520\u001B[0m \u001B[38;5;28;01mdef\u001B[39;00m \u001B[38;5;21mstep\u001B[39m(\u001B[38;5;28mself\u001B[39m):\n\u001B[1;32m-> 1521\u001B[0m     \u001B[38;5;28mself\u001B[39m\u001B[38;5;241m.\u001B[39malgorithm\u001B[38;5;241m.\u001B[39mstep()\n\u001B[0;32m   1522\u001B[0m     \u001B[38;5;28mself\u001B[39m\u001B[38;5;241m.\u001B[39miteration \u001B[38;5;241m+\u001B[39m\u001B[38;5;241m=\u001B[39m \u001B[38;5;241m1\u001B[39m\n\u001B[0;32m   1523\u001B[0m     \u001B[38;5;28mself\u001B[39m\u001B[38;5;241m.\u001B[39mnfe \u001B[38;5;241m=\u001B[39m \u001B[38;5;28mself\u001B[39m\u001B[38;5;241m.\u001B[39malgorithm\u001B[38;5;241m.\u001B[39mnfe\n",
      "File \u001B[1;32m~\\anaconda3\\Lib\\site-packages\\platypus\\algorithms.py:180\u001B[0m, in \u001B[0;36mNSGAII.step\u001B[1;34m(self)\u001B[0m\n\u001B[0;32m    178\u001B[0m \u001B[38;5;28;01mdef\u001B[39;00m \u001B[38;5;21mstep\u001B[39m(\u001B[38;5;28mself\u001B[39m):\n\u001B[0;32m    179\u001B[0m     \u001B[38;5;28;01mif\u001B[39;00m \u001B[38;5;28mself\u001B[39m\u001B[38;5;241m.\u001B[39mnfe \u001B[38;5;241m==\u001B[39m \u001B[38;5;241m0\u001B[39m:\n\u001B[1;32m--> 180\u001B[0m         \u001B[38;5;28mself\u001B[39m\u001B[38;5;241m.\u001B[39minitialize()\n\u001B[0;32m    181\u001B[0m     \u001B[38;5;28;01melse\u001B[39;00m:\n\u001B[0;32m    182\u001B[0m         \u001B[38;5;28mself\u001B[39m\u001B[38;5;241m.\u001B[39miterate()\n",
      "File \u001B[1;32m~\\anaconda3\\Lib\\site-packages\\platypus\\algorithms.py:190\u001B[0m, in \u001B[0;36mNSGAII.initialize\u001B[1;34m(self)\u001B[0m\n\u001B[0;32m    189\u001B[0m \u001B[38;5;28;01mdef\u001B[39;00m \u001B[38;5;21minitialize\u001B[39m(\u001B[38;5;28mself\u001B[39m):\n\u001B[1;32m--> 190\u001B[0m     \u001B[38;5;28msuper\u001B[39m()\u001B[38;5;241m.\u001B[39minitialize()\n\u001B[0;32m    192\u001B[0m     \u001B[38;5;28;01mif\u001B[39;00m \u001B[38;5;28mself\u001B[39m\u001B[38;5;241m.\u001B[39marchive \u001B[38;5;129;01mis\u001B[39;00m \u001B[38;5;129;01mnot\u001B[39;00m \u001B[38;5;28;01mNone\u001B[39;00m:\n\u001B[0;32m    193\u001B[0m         \u001B[38;5;28mself\u001B[39m\u001B[38;5;241m.\u001B[39marchive \u001B[38;5;241m+\u001B[39m\u001B[38;5;241m=\u001B[39m \u001B[38;5;28mself\u001B[39m\u001B[38;5;241m.\u001B[39mpopulation\n",
      "File \u001B[1;32m~\\anaconda3\\Lib\\site-packages\\platypus\\algorithms.py:71\u001B[0m, in \u001B[0;36mAbstractGeneticAlgorithm.initialize\u001B[1;34m(self)\u001B[0m\n\u001B[0;32m     69\u001B[0m \u001B[38;5;28;01mdef\u001B[39;00m \u001B[38;5;21minitialize\u001B[39m(\u001B[38;5;28mself\u001B[39m):\n\u001B[0;32m     70\u001B[0m     \u001B[38;5;28mself\u001B[39m\u001B[38;5;241m.\u001B[39mpopulation \u001B[38;5;241m=\u001B[39m [\u001B[38;5;28mself\u001B[39m\u001B[38;5;241m.\u001B[39mgenerator\u001B[38;5;241m.\u001B[39mgenerate(\u001B[38;5;28mself\u001B[39m\u001B[38;5;241m.\u001B[39mproblem) \u001B[38;5;28;01mfor\u001B[39;00m _ \u001B[38;5;129;01min\u001B[39;00m \u001B[38;5;28mrange\u001B[39m(\u001B[38;5;28mself\u001B[39m\u001B[38;5;241m.\u001B[39mpopulation_size)]\n\u001B[1;32m---> 71\u001B[0m     \u001B[38;5;28mself\u001B[39m\u001B[38;5;241m.\u001B[39mevaluate_all(\u001B[38;5;28mself\u001B[39m\u001B[38;5;241m.\u001B[39mpopulation)\n",
      "File \u001B[1;32m~\\anaconda3\\Lib\\site-packages\\platypus\\core.py:383\u001B[0m, in \u001B[0;36mAlgorithm.evaluate_all\u001B[1;34m(self, solutions)\u001B[0m\n\u001B[0;32m    380\u001B[0m unevaluated \u001B[38;5;241m=\u001B[39m [s \u001B[38;5;28;01mfor\u001B[39;00m s \u001B[38;5;129;01min\u001B[39;00m solutions \u001B[38;5;28;01mif\u001B[39;00m \u001B[38;5;129;01mnot\u001B[39;00m s\u001B[38;5;241m.\u001B[39mevaluated]\n\u001B[0;32m    382\u001B[0m jobs \u001B[38;5;241m=\u001B[39m [_EvaluateJob(s) \u001B[38;5;28;01mfor\u001B[39;00m s \u001B[38;5;129;01min\u001B[39;00m unevaluated]\n\u001B[1;32m--> 383\u001B[0m results \u001B[38;5;241m=\u001B[39m \u001B[38;5;28mself\u001B[39m\u001B[38;5;241m.\u001B[39mevaluator\u001B[38;5;241m.\u001B[39mevaluate_all(jobs)\n\u001B[0;32m    385\u001B[0m \u001B[38;5;66;03m# if needed, update the original solution with the results\u001B[39;00m\n\u001B[0;32m    386\u001B[0m \u001B[38;5;28;01mfor\u001B[39;00m i, result \u001B[38;5;129;01min\u001B[39;00m \u001B[38;5;28menumerate\u001B[39m(results):\n",
      "File \u001B[1;32m~\\anaconda3\\Lib\\site-packages\\ema_workbench\\em_framework\\evaluators.py:153\u001B[0m, in \u001B[0;36mBaseEvaluator.evaluate_all\u001B[1;34m(self, jobs, **kwargs)\u001B[0m\n\u001B[0;32m    150\u001B[0m     \u001B[38;5;28;01mraise\u001B[39;00m \u001B[38;5;167;01mNotImplementedError\u001B[39;00m()\n\u001B[0;32m    152\u001B[0m \u001B[38;5;66;03m# overwrite the default 10 progress reports  with 5 reports\u001B[39;00m\n\u001B[1;32m--> 153\u001B[0m callback \u001B[38;5;241m=\u001B[39m perform_experiments(\n\u001B[0;32m    154\u001B[0m     \u001B[38;5;28mself\u001B[39m\u001B[38;5;241m.\u001B[39m_msis,\n\u001B[0;32m    155\u001B[0m     evaluator\u001B[38;5;241m=\u001B[39m\u001B[38;5;28mself\u001B[39m,\n\u001B[0;32m    156\u001B[0m     reporting_frequency\u001B[38;5;241m=\u001B[39m\u001B[38;5;28mself\u001B[39m\u001B[38;5;241m.\u001B[39mreporting_frequency,\n\u001B[0;32m    157\u001B[0m     scenarios\u001B[38;5;241m=\u001B[39mscenarios,\n\u001B[0;32m    158\u001B[0m     policies\u001B[38;5;241m=\u001B[39mpolicies,\n\u001B[0;32m    159\u001B[0m     return_callback\u001B[38;5;241m=\u001B[39m\u001B[38;5;28;01mTrue\u001B[39;00m,\n\u001B[0;32m    160\u001B[0m     log_progress\u001B[38;5;241m=\u001B[39m\u001B[38;5;28;01mTrue\u001B[39;00m,\n\u001B[0;32m    161\u001B[0m )\n\u001B[0;32m    163\u001B[0m experiments, outcomes \u001B[38;5;241m=\u001B[39m callback\u001B[38;5;241m.\u001B[39mget_results()\n\u001B[0;32m    165\u001B[0m \u001B[38;5;28;01mif\u001B[39;00m searchover \u001B[38;5;129;01min\u001B[39;00m (\u001B[38;5;124m\"\u001B[39m\u001B[38;5;124mlevers\u001B[39m\u001B[38;5;124m\"\u001B[39m, \u001B[38;5;124m\"\u001B[39m\u001B[38;5;124muncertainties\u001B[39m\u001B[38;5;124m\"\u001B[39m):\n",
      "File \u001B[1;32m~\\anaconda3\\Lib\\site-packages\\ema_workbench\\em_framework\\evaluators.py:406\u001B[0m, in \u001B[0;36mperform_experiments\u001B[1;34m(models, scenarios, policies, evaluator, reporting_interval, reporting_frequency, uncertainty_union, lever_union, outcome_union, uncertainty_sampling, lever_sampling, callback, return_callback, combine, log_progress, **kwargs)\u001B[0m\n\u001B[0;32m    403\u001B[0m \u001B[38;5;28;01mif\u001B[39;00m \u001B[38;5;129;01mnot\u001B[39;00m evaluator:\n\u001B[0;32m    404\u001B[0m     evaluator \u001B[38;5;241m=\u001B[39m SequentialEvaluator(models)\n\u001B[1;32m--> 406\u001B[0m evaluator\u001B[38;5;241m.\u001B[39mevaluate_experiments(scenarios, policies, callback, combine\u001B[38;5;241m=\u001B[39mcombine, \u001B[38;5;241m*\u001B[39m\u001B[38;5;241m*\u001B[39mkwargs)\n\u001B[0;32m    408\u001B[0m \u001B[38;5;28;01mif\u001B[39;00m callback\u001B[38;5;241m.\u001B[39mi \u001B[38;5;241m!=\u001B[39m nr_of_exp:\n\u001B[0;32m    409\u001B[0m     \u001B[38;5;28;01mraise\u001B[39;00m EMAError(\n\u001B[0;32m    410\u001B[0m         \u001B[38;5;124mf\u001B[39m\u001B[38;5;124m\"\u001B[39m\u001B[38;5;124mSome fatal error has occurred while running the experiments, not all runs have completed. Expected \u001B[39m\u001B[38;5;132;01m{\u001B[39;00mnr_of_exp\u001B[38;5;132;01m}\u001B[39;00m\u001B[38;5;124m, got \u001B[39m\u001B[38;5;132;01m{\u001B[39;00mcallback\u001B[38;5;241m.\u001B[39mi\u001B[38;5;132;01m}\u001B[39;00m\u001B[38;5;124m\"\u001B[39m\n\u001B[0;32m    411\u001B[0m     )\n",
      "File \u001B[1;32m~\\anaconda3\\Lib\\site-packages\\ema_workbench\\em_framework\\evaluators.py:291\u001B[0m, in \u001B[0;36mSequentialEvaluator.evaluate_experiments\u001B[1;34m(self, scenarios, policies, callback, combine)\u001B[0m\n\u001B[0;32m    288\u001B[0m runner \u001B[38;5;241m=\u001B[39m ExperimentRunner(models)\n\u001B[0;32m    290\u001B[0m \u001B[38;5;28;01mfor\u001B[39;00m experiment \u001B[38;5;129;01min\u001B[39;00m ex_gen:\n\u001B[1;32m--> 291\u001B[0m     outcomes \u001B[38;5;241m=\u001B[39m runner\u001B[38;5;241m.\u001B[39mrun_experiment(experiment)\n\u001B[0;32m    292\u001B[0m     callback(experiment, outcomes)\n\u001B[0;32m    293\u001B[0m runner\u001B[38;5;241m.\u001B[39mcleanup()\n",
      "File \u001B[1;32m~\\anaconda3\\Lib\\site-packages\\ema_workbench\\util\\ema_logging.py:153\u001B[0m, in \u001B[0;36mmethod_logger.<locals>.real_decorator.<locals>.wrapper\u001B[1;34m(*args, **kwargs)\u001B[0m\n\u001B[0;32m    148\u001B[0m \u001B[38;5;129m@wraps\u001B[39m(func)\n\u001B[0;32m    149\u001B[0m \u001B[38;5;28;01mdef\u001B[39;00m \u001B[38;5;21mwrapper\u001B[39m(\u001B[38;5;241m*\u001B[39margs, \u001B[38;5;241m*\u001B[39m\u001B[38;5;241m*\u001B[39mkwargs):\n\u001B[0;32m    150\u001B[0m     \u001B[38;5;66;03m# hack, because log is applied to methods, we can get\u001B[39;00m\n\u001B[0;32m    151\u001B[0m     \u001B[38;5;66;03m# object instance as first arguments in args\u001B[39;00m\n\u001B[0;32m    152\u001B[0m     logger\u001B[38;5;241m.\u001B[39mdebug(\u001B[38;5;124mf\u001B[39m\u001B[38;5;124m\"\u001B[39m\u001B[38;5;124mcalling \u001B[39m\u001B[38;5;132;01m{\u001B[39;00mfunc\u001B[38;5;241m.\u001B[39m\u001B[38;5;18m__name__\u001B[39m\u001B[38;5;132;01m}\u001B[39;00m\u001B[38;5;124m on \u001B[39m\u001B[38;5;132;01m{\u001B[39;00mclassname\u001B[38;5;132;01m}\u001B[39;00m\u001B[38;5;124m\"\u001B[39m)\n\u001B[1;32m--> 153\u001B[0m     res \u001B[38;5;241m=\u001B[39m func(\u001B[38;5;241m*\u001B[39margs, \u001B[38;5;241m*\u001B[39m\u001B[38;5;241m*\u001B[39mkwargs)\n\u001B[0;32m    154\u001B[0m     logger\u001B[38;5;241m.\u001B[39mdebug(\u001B[38;5;124mf\u001B[39m\u001B[38;5;124m\"\u001B[39m\u001B[38;5;124mcompleted calling \u001B[39m\u001B[38;5;132;01m{\u001B[39;00mfunc\u001B[38;5;241m.\u001B[39m\u001B[38;5;18m__name__\u001B[39m\u001B[38;5;132;01m}\u001B[39;00m\u001B[38;5;124m on \u001B[39m\u001B[38;5;132;01m{\u001B[39;00mclassname\u001B[38;5;132;01m}\u001B[39;00m\u001B[38;5;124m\"\u001B[39m)\n\u001B[0;32m    155\u001B[0m     \u001B[38;5;28;01mreturn\u001B[39;00m res\n",
      "File \u001B[1;32m~\\anaconda3\\Lib\\site-packages\\ema_workbench\\em_framework\\experiment_runner.py:108\u001B[0m, in \u001B[0;36mExperimentRunner.run_experiment\u001B[1;34m(self, experiment)\u001B[0m\n\u001B[0;32m    102\u001B[0m     \u001B[38;5;66;03m#             exception = traceback.print_exc()\u001B[39;00m\n\u001B[0;32m    103\u001B[0m     \u001B[38;5;66;03m#             if exception:\u001B[39;00m\n\u001B[0;32m    104\u001B[0m     \u001B[38;5;66;03m#                 sys.stderr.write(exception)\u001B[39;00m\n\u001B[0;32m    105\u001B[0m     \u001B[38;5;66;03m#                 sys.stderr.write(\"\\n\")\u001B[39;00m\n\u001B[0;32m    107\u001B[0m     errortype \u001B[38;5;241m=\u001B[39m \u001B[38;5;28mtype\u001B[39m(e)\u001B[38;5;241m.\u001B[39m\u001B[38;5;18m__name__\u001B[39m\n\u001B[1;32m--> 108\u001B[0m     \u001B[38;5;28;01mraise\u001B[39;00m EMAError(\u001B[38;5;124mf\u001B[39m\u001B[38;5;124m\"\u001B[39m\u001B[38;5;124mException in run_model\u001B[39m\u001B[38;5;130;01m\\n\u001B[39;00m\u001B[38;5;124mCaused by: \u001B[39m\u001B[38;5;132;01m{\u001B[39;00merrortype\u001B[38;5;132;01m}\u001B[39;00m\u001B[38;5;124m: \u001B[39m\u001B[38;5;132;01m{\u001B[39;00m\u001B[38;5;28mstr\u001B[39m(e)\u001B[38;5;132;01m}\u001B[39;00m\u001B[38;5;124m\"\u001B[39m)\n\u001B[0;32m    110\u001B[0m outcomes \u001B[38;5;241m=\u001B[39m model\u001B[38;5;241m.\u001B[39moutcomes_output\n\u001B[0;32m    111\u001B[0m model\u001B[38;5;241m.\u001B[39mreset_model()\n",
      "\u001B[1;31mEMAError\u001B[0m: Exception in run_model\nCaused by: KeyError: 'ID flood wave shape'"
     ]
    }
   ],
   "execution_count": 4
  },
  {
   "metadata": {},
   "cell_type": "code",
   "source": "",
   "id": "f703cdcec5cced8",
   "outputs": [],
   "execution_count": null
  }
 ],
 "metadata": {
  "kernelspec": {
   "display_name": "Python 3",
   "language": "python",
   "name": "python3"
  },
  "language_info": {
   "codemirror_mode": {
    "name": "ipython",
    "version": 2
   },
   "file_extension": ".py",
   "mimetype": "text/x-python",
   "name": "python",
   "nbconvert_exporter": "python",
   "pygments_lexer": "ipython2",
   "version": "2.7.6"
  }
 },
 "nbformat": 4,
 "nbformat_minor": 5
}
