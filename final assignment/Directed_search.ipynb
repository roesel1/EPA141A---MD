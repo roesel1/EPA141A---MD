{
 "cells": [
  {
   "cell_type": "code",
   "id": "initial_id",
   "metadata": {
    "collapsed": true,
    "ExecuteTime": {
     "end_time": "2024-06-12T21:50:30.855213Z",
     "start_time": "2024-06-12T21:50:29.676343Z"
    }
   },
   "source": [
    "import numpy as np\n",
    "import scipy as sp\n",
    "import pandas as pd\n",
    "import matplotlib.pyplot as plt\n",
    "import seaborn as sns\n",
    "import networkx as nx\n",
    "from SALib.analyze import sobol\n",
    "import warnings\n",
    "from ema_workbench.analysis import feature_scoring\n",
    "from ema_workbench.em_framework.salib_samplers import get_SALib_problem\n",
    "from ema_workbench import (\n",
    "    Model,\n",
    "    Policy,\n",
    "    ema_logging,\n",
    "    SequentialEvaluator,\n",
    "    MultiprocessingEvaluator,\n",
    "    perform_experiments,\n",
    "    Samplers,\n",
    "    SequentialEvaluator,\n",
    ")\n",
    "from dike_model_function import DikeNetwork\n",
    "from problem_formulation import get_model_for_problem_formulation, sum_over, sum_over_time\n",
    "from ema_workbench.analysis import prim\n",
    "from ema_workbench.em_framework.parameters import Constant\n",
    "import pickle\n",
    "warnings.filterwarnings(\"ignore\")"
   ],
   "outputs": [],
   "execution_count": 3
  },
  {
   "cell_type": "code",
   "source": "dike_model, planning_steps = get_model_for_problem_formulation(3)",
   "metadata": {
    "collapsed": false,
    "ExecuteTime": {
     "end_time": "2024-06-12T21:50:32.170006Z",
     "start_time": "2024-06-12T21:50:31.466588Z"
    }
   },
   "id": "2aadfb76d6836c22",
   "outputs": [],
   "execution_count": 4
  },
  {
   "cell_type": "code",
   "outputs": [],
   "source": [
    "#load it\n",
    "with open(\"data\\ScenariosOpenExplo\", 'rb') as file2:\n",
    "    Scenarios = pickle.load(file2)"
   ],
   "metadata": {
    "collapsed": false,
    "ExecuteTime": {
     "end_time": "2024-06-12T21:50:32.790935Z",
     "start_time": "2024-06-12T21:50:32.785996Z"
    }
   },
   "id": "625bfeee5989884d",
   "execution_count": 5
  },
  {
   "cell_type": "code",
   "outputs": [
    {
     "name": "stderr",
     "output_type": "stream",
     "text": [
      "\n",
      "  0%|                                                   | 0/50 [00:00<?, ?it/s]\u001B[A\n",
      "100it [00:35,  2.81it/s]                                                       \u001B[A\n"
     ]
    }
   ],
   "source": [
    "from ema_workbench.em_framework.optimization import ArchiveLogger, EpsilonProgress\n",
    "\n",
    "# we need to store our results for each seed\n",
    "results = []\n",
    "convergences = []\n",
    "\n",
    "with SequentialEvaluator(dike_model) as evaluator:\n",
    "    # we run again for 5 seeds\n",
    "    for i in range(1):\n",
    "        # we create 2 covergence tracker metrics\n",
    "        # the archive logger writes the archive to disk for every x nfe\n",
    "        # the epsilon progress tracks during runtime\n",
    "        convergence_metrics = [\n",
    "            ArchiveLogger(\n",
    "                r\"C:\\Users\\roelo\\Videos\\archive\",\n",
    "                [l.name for l in dike_model.levers],\n",
    "                [o.name for o in dike_model.outcomes],\n",
    "                base_filename=f\"{i}.tar.gz\",\n",
    "            ),\n",
    "            EpsilonProgress(),\n",
    "        ]\n",
    "\n",
    "        result, convergence = evaluator.optimize(\n",
    "            nfe=50,\n",
    "            searchover=\"levers\",\n",
    "            epsilons=[0.05] * len(dike_model.outcomes),\n",
    "            convergence=convergence_metrics,\n",
    "            reference = Scenarios[0]\n",
    "        )\n",
    "\n",
    "        results.append(result)\n",
    "        convergences.append(convergence)"
   ],
   "metadata": {
    "collapsed": false,
    "ExecuteTime": {
     "end_time": "2024-06-12T21:52:05.570082Z",
     "start_time": "2024-06-12T21:51:29.881342Z"
    }
   },
   "id": "189438fda26ddc40",
   "execution_count": 8
  },
  {
   "cell_type": "code",
   "outputs": [
    {
     "data": {
      "text/plain": "'C:\\\\Users\\\\roelo\\\\Videos\\\\archive\\\\0.tar.gz'"
     },
     "execution_count": 14,
     "metadata": {},
     "output_type": "execute_result"
    }
   ],
   "source": [
    "k = r\"C:\\Users\\roelo\\Videos\\archive\"\n"
   ],
   "metadata": {
    "collapsed": false,
    "ExecuteTime": {
     "end_time": "2024-06-12T21:54:49.719738Z",
     "start_time": "2024-06-12T21:54:49.713073Z"
    }
   },
   "id": "9a52b52f73fa0754",
   "execution_count": 14
  },
  {
   "cell_type": "code",
   "outputs": [],
   "source": [
    "all_archives = []\n",
    "\n",
    "for i in range(1):\n",
    "    archives = ArchiveLogger.load_archives(k+ \"\\\\\" + f\"{i}.tar.gz\")\n",
    "    all_archives.append(archives)"
   ],
   "metadata": {
    "collapsed": false,
    "ExecuteTime": {
     "end_time": "2024-06-12T21:56:31.353433Z",
     "start_time": "2024-06-12T21:56:31.334459Z"
    }
   },
   "id": "8339936ea4dcd4e3",
   "execution_count": 20
  },
  {
   "cell_type": "code",
   "outputs": [
    {
     "data": {
      "text/plain": "pandas.core.frame.DataFrame"
     },
     "execution_count": 54,
     "metadata": {},
     "output_type": "execute_result"
    }
   ],
   "source": [
    "type(archives[0])"
   ],
   "metadata": {
    "collapsed": false,
    "ExecuteTime": {
     "end_time": "2024-06-12T22:05:21.581994Z",
     "start_time": "2024-06-12T22:05:21.575683Z"
    }
   },
   "id": "bd0a6ad21c896f9c",
   "execution_count": 54
  },
  {
   "cell_type": "code",
   "outputs": [
    {
     "data": {
      "text/plain": "dict_keys([0, 100])"
     },
     "execution_count": 35,
     "metadata": {},
     "output_type": "execute_result"
    }
   ],
   "source": [
    "archives.keys()"
   ],
   "metadata": {
    "collapsed": false,
    "ExecuteTime": {
     "end_time": "2024-06-12T22:02:15.067067Z",
     "start_time": "2024-06-12T22:02:15.061245Z"
    }
   },
   "id": "2a8f09a83039b2c",
   "execution_count": 35
  },
  {
   "cell_type": "code",
   "outputs": [],
   "source": [
    "del archives[100][\"Unnamed: 0\"]"
   ],
   "metadata": {
    "collapsed": false,
    "ExecuteTime": {
     "end_time": "2024-06-12T22:03:21.785081Z",
     "start_time": "2024-06-12T22:03:21.781262Z"
    }
   },
   "id": "1ddae17c92f90f8f",
   "execution_count": 43
  },
  {
   "cell_type": "code",
   "outputs": [],
   "source": [
    "del archives[0][\"Unnamed: 0\"]"
   ],
   "metadata": {
    "collapsed": false,
    "ExecuteTime": {
     "end_time": "2024-06-12T22:05:30.334332Z",
     "start_time": "2024-06-12T22:05:30.328891Z"
    }
   },
   "id": "f61761b32adf6c93",
   "execution_count": 55
  },
  {
   "cell_type": "code",
   "outputs": [
    {
     "data": {
      "text/plain": "{0: Empty DataFrame\n Columns: [Unnamed: 0, 0_RfR 0, 0_RfR 1, 0_RfR 2, 1_RfR 0, 1_RfR 1, 1_RfR 2, 2_RfR 0, 2_RfR 1, 2_RfR 2, 3_RfR 0, 3_RfR 1, 3_RfR 2, 4_RfR 0, 4_RfR 1, 4_RfR 2, EWS_DaysToThreat, A.1_DikeIncrease 0, A.1_DikeIncrease 1, A.1_DikeIncrease 2, A.2_DikeIncrease 0, A.2_DikeIncrease 1, A.2_DikeIncrease 2, A.3_DikeIncrease 0, A.3_DikeIncrease 1, A.3_DikeIncrease 2, A.4_DikeIncrease 0, A.4_DikeIncrease 1, A.4_DikeIncrease 2, A.5_DikeIncrease 0, A.5_DikeIncrease 1, A.5_DikeIncrease 2, A.1 Total Costs, A.1_Expected Number of Deaths, A.1_Expected Annual Damage, A.2 Total Costs, A.2_Expected Number of Deaths, A.2_Expected Annual Damage, A.3 Total Costs, A.3_Expected Number of Deaths, A.3_Expected Annual Damage, A.4 Total Costs, A.4_Expected Number of Deaths, A.4_Expected Annual Damage, A.5 Total Costs, A.5_Expected Number of Deaths, A.5_Expected Annual Damage, RfR Total Costs, Expected Evacuation Costs]\n Index: []\n \n [0 rows x 49 columns],\n 100:     0_RfR 0  0_RfR 1  0_RfR 2  1_RfR 0  1_RfR 1  1_RfR 2  2_RfR 0  2_RfR 1  \\\n 0         1        0        1        0        0        0        1        1   \n 1         0        1        0        1        0        0        0        1   \n 2         1        0        0        1        0        0        1        1   \n 3         1        0        1        1        0        0        0        1   \n 4         0        0        0        0        0        1        1        0   \n ..      ...      ...      ...      ...      ...      ...      ...      ...   \n 85        0        0        0        0        0        0        1        1   \n 86        0        0        0        1        1        1        1        1   \n 87        1        0        0        0        1        0        1        1   \n 88        0        1        0        1        0        1        1        1   \n 89        0        1        0        0        0        0        1        0   \n \n     2_RfR 2  3_RfR 0  ...  A.3_Expected Number of Deaths  \\\n 0         0        1  ...                       0.000000   \n 1         0        1  ...                       0.006736   \n 2         0        1  ...                       0.104407   \n 3         1        0  ...                       0.000000   \n 4         1        1  ...                       0.001061   \n ..      ...      ...  ...                            ...   \n 85        1        0  ...                       0.000000   \n 86        1        0  ...                       0.000000   \n 87        1        0  ...                       0.000000   \n 88        0        1  ...                       0.000000   \n 89        1        1  ...                       0.043378   \n \n     A.3_Expected Annual Damage  A.4 Total Costs  \\\n 0                 0.000000e+00     5.831655e+07   \n 1                 2.069450e+07     5.029401e+07   \n 2                 4.902125e+07     3.374594e+07   \n 3                 0.000000e+00     3.989790e+07   \n 4                 4.034355e+06     3.336841e+07   \n ..                         ...              ...   \n 85                0.000000e+00     3.052858e+07   \n 86                0.000000e+00     4.165369e+07   \n 87                0.000000e+00     3.008925e+07   \n 88                0.000000e+00     1.776780e+07   \n 89                5.901219e+07     4.264936e+07   \n \n     A.4_Expected Number of Deaths  A.4_Expected Annual Damage  \\\n 0                        0.000000                     0.00000   \n 1                        0.000000                     0.00000   \n 2                        0.000000                     0.00000   \n 3                        0.000000                     0.00000   \n 4                        0.000000                     0.00000   \n ..                            ...                         ...   \n 85                       0.000000                     0.00000   \n 86                       0.000000                     0.00000   \n 87                       0.000412                648309.79866   \n 88                       0.000000                     0.00000   \n 89                       0.000000                     0.00000   \n \n     A.5 Total Costs  A.5_Expected Number of Deaths  \\\n 0      7.908444e+07                       0.000000   \n 1      3.035153e+07                       0.000000   \n 2      9.952248e+07                       0.000000   \n 3      1.041075e+08                       0.000000   \n 4      1.769051e+08                       0.000000   \n ..              ...                            ...   \n 85     1.312528e+08                       0.000000   \n 86     1.446305e+08                       0.051925   \n 87     1.356337e+08                       0.001667   \n 88     1.685893e+08                       0.000000   \n 89     1.296738e+08                       0.000000   \n \n     A.5_Expected Annual Damage  RfR Total Costs  Expected Evacuation Costs  \n 0                 0.000000e+00     6.079000e+08                   0.000000  \n 1                 0.000000e+00     5.755000e+08                 912.707358  \n 2                 0.000000e+00     9.972000e+08                   0.000000  \n 3                 0.000000e+00     1.081800e+09                 148.431720  \n 4                 0.000000e+00     6.565000e+08                 218.817166  \n ..                         ...              ...                        ...  \n 85                0.000000e+00     8.604000e+08                   0.000000  \n 86                4.635382e+07     1.257700e+09                   0.000000  \n 87                1.495664e+06     8.930000e+08                   0.000000  \n 88                0.000000e+00     1.457400e+09                  70.666616  \n 89                0.000000e+00     6.445000e+08                1874.161183  \n \n [90 rows x 48 columns]}"
     },
     "execution_count": 52,
     "metadata": {},
     "output_type": "execute_result"
    }
   ],
   "source": [
    "del archives[100][\"Unnamed: 0\"]"
   ],
   "metadata": {
    "collapsed": false,
    "ExecuteTime": {
     "end_time": "2024-06-12T22:04:49.029259Z",
     "start_time": "2024-06-12T22:04:49.015287Z"
    }
   },
   "id": "7f6a32093ff1cfaf",
   "execution_count": 52
  },
  {
   "cell_type": "code",
   "outputs": [
    {
     "data": {
      "text/plain": "{0: Empty DataFrame\n Columns: [0_RfR 0, 0_RfR 1, 0_RfR 2, 1_RfR 0, 1_RfR 1, 1_RfR 2, 2_RfR 0, 2_RfR 1, 2_RfR 2, 3_RfR 0, 3_RfR 1, 3_RfR 2, 4_RfR 0, 4_RfR 1, 4_RfR 2, EWS_DaysToThreat, A.1_DikeIncrease 0, A.1_DikeIncrease 1, A.1_DikeIncrease 2, A.2_DikeIncrease 0, A.2_DikeIncrease 1, A.2_DikeIncrease 2, A.3_DikeIncrease 0, A.3_DikeIncrease 1, A.3_DikeIncrease 2, A.4_DikeIncrease 0, A.4_DikeIncrease 1, A.4_DikeIncrease 2, A.5_DikeIncrease 0, A.5_DikeIncrease 1, A.5_DikeIncrease 2, A.1 Total Costs, A.1_Expected Number of Deaths, A.1_Expected Annual Damage, A.2 Total Costs, A.2_Expected Number of Deaths, A.2_Expected Annual Damage, A.3 Total Costs, A.3_Expected Number of Deaths, A.3_Expected Annual Damage, A.4 Total Costs, A.4_Expected Number of Deaths, A.4_Expected Annual Damage, A.5 Total Costs, A.5_Expected Number of Deaths, A.5_Expected Annual Damage, RfR Total Costs, Expected Evacuation Costs]\n Index: []\n \n [0 rows x 48 columns],\n 100:     0_RfR 0  0_RfR 1  0_RfR 2  1_RfR 0  1_RfR 1  1_RfR 2  2_RfR 0  2_RfR 1  \\\n 0         1        0        1        0        0        0        1        1   \n 1         0        1        0        1        0        0        0        1   \n 2         1        0        0        1        0        0        1        1   \n 3         1        0        1        1        0        0        0        1   \n 4         0        0        0        0        0        1        1        0   \n ..      ...      ...      ...      ...      ...      ...      ...      ...   \n 85        0        0        0        0        0        0        1        1   \n 86        0        0        0        1        1        1        1        1   \n 87        1        0        0        0        1        0        1        1   \n 88        0        1        0        1        0        1        1        1   \n 89        0        1        0        0        0        0        1        0   \n \n     2_RfR 2  3_RfR 0  ...  A.3_Expected Number of Deaths  \\\n 0         0        1  ...                       0.000000   \n 1         0        1  ...                       0.006736   \n 2         0        1  ...                       0.104407   \n 3         1        0  ...                       0.000000   \n 4         1        1  ...                       0.001061   \n ..      ...      ...  ...                            ...   \n 85        1        0  ...                       0.000000   \n 86        1        0  ...                       0.000000   \n 87        1        0  ...                       0.000000   \n 88        0        1  ...                       0.000000   \n 89        1        1  ...                       0.043378   \n \n     A.3_Expected Annual Damage  A.4 Total Costs  \\\n 0                 0.000000e+00     5.831655e+07   \n 1                 2.069450e+07     5.029401e+07   \n 2                 4.902125e+07     3.374594e+07   \n 3                 0.000000e+00     3.989790e+07   \n 4                 4.034355e+06     3.336841e+07   \n ..                         ...              ...   \n 85                0.000000e+00     3.052858e+07   \n 86                0.000000e+00     4.165369e+07   \n 87                0.000000e+00     3.008925e+07   \n 88                0.000000e+00     1.776780e+07   \n 89                5.901219e+07     4.264936e+07   \n \n     A.4_Expected Number of Deaths  A.4_Expected Annual Damage  \\\n 0                        0.000000                     0.00000   \n 1                        0.000000                     0.00000   \n 2                        0.000000                     0.00000   \n 3                        0.000000                     0.00000   \n 4                        0.000000                     0.00000   \n ..                            ...                         ...   \n 85                       0.000000                     0.00000   \n 86                       0.000000                     0.00000   \n 87                       0.000412                648309.79866   \n 88                       0.000000                     0.00000   \n 89                       0.000000                     0.00000   \n \n     A.5 Total Costs  A.5_Expected Number of Deaths  \\\n 0      7.908444e+07                       0.000000   \n 1      3.035153e+07                       0.000000   \n 2      9.952248e+07                       0.000000   \n 3      1.041075e+08                       0.000000   \n 4      1.769051e+08                       0.000000   \n ..              ...                            ...   \n 85     1.312528e+08                       0.000000   \n 86     1.446305e+08                       0.051925   \n 87     1.356337e+08                       0.001667   \n 88     1.685893e+08                       0.000000   \n 89     1.296738e+08                       0.000000   \n \n     A.5_Expected Annual Damage  RfR Total Costs  Expected Evacuation Costs  \n 0                 0.000000e+00     6.079000e+08                   0.000000  \n 1                 0.000000e+00     5.755000e+08                 912.707358  \n 2                 0.000000e+00     9.972000e+08                   0.000000  \n 3                 0.000000e+00     1.081800e+09                 148.431720  \n 4                 0.000000e+00     6.565000e+08                 218.817166  \n ..                         ...              ...                        ...  \n 85                0.000000e+00     8.604000e+08                   0.000000  \n 86                4.635382e+07     1.257700e+09                   0.000000  \n 87                1.495664e+06     8.930000e+08                   0.000000  \n 88                0.000000e+00     1.457400e+09                  70.666616  \n 89                0.000000e+00     6.445000e+08                1874.161183  \n \n [90 rows x 48 columns]}"
     },
     "execution_count": 58,
     "metadata": {},
     "output_type": "execute_result"
    }
   ],
   "source": [
    "archives"
   ],
   "metadata": {
    "collapsed": false,
    "ExecuteTime": {
     "end_time": "2024-06-12T22:06:29.151320Z",
     "start_time": "2024-06-12T22:06:29.137070Z"
    }
   },
   "id": "177bc31e433c9b2b",
   "execution_count": 58
  },
  {
   "cell_type": "code",
   "outputs": [
    {
     "data": {
      "text/plain": "48"
     },
     "execution_count": 51,
     "metadata": {},
     "output_type": "execute_result"
    }
   ],
   "source": [
    "len(archives[100].columns)"
   ],
   "metadata": {
    "collapsed": false,
    "ExecuteTime": {
     "end_time": "2024-06-12T22:04:46.299886Z",
     "start_time": "2024-06-12T22:04:46.294419Z"
    }
   },
   "id": "77ee40fd211dfc4c",
   "execution_count": 51
  },
  {
   "cell_type": "code",
   "outputs": [],
   "source": [
    "from ema_workbench.em_framework.optimization import epsilon_nondominated, to_problem"
   ],
   "metadata": {
    "collapsed": false,
    "ExecuteTime": {
     "end_time": "2024-06-12T21:55:45.569629Z",
     "start_time": "2024-06-12T21:55:45.563660Z"
    }
   },
   "id": "14970063ac6a890a",
   "execution_count": 18
  },
  {
   "cell_type": "code",
   "outputs": [
    {
     "ename": "EMAError",
     "evalue": "Parameter names ['0_RfR 0', '0_RfR 1', '0_RfR 2', '1_RfR 0', '1_RfR 1', '1_RfR 2', '2_RfR 0', '2_RfR 1', '2_RfR 2', '3_RfR 0', '3_RfR 1', '3_RfR 2', '4_RfR 0', '4_RfR 1', '4_RfR 2', 'A.1_DikeIncrease 0', 'A.1_DikeIncrease 1', 'A.1_DikeIncrease 2', 'A.2_DikeIncrease 0', 'A.2_DikeIncrease 1', 'A.2_DikeIncrease 2', 'A.3_DikeIncrease 0', 'A.3_DikeIncrease 1', 'A.3_DikeIncrease 2', 'A.4_DikeIncrease 0', 'A.4_DikeIncrease 1', 'A.4_DikeIncrease 2', 'A.5_DikeIncrease 0', 'A.5_DikeIncrease 1', 'A.5_DikeIncrease 2'] not found in archive",
     "output_type": "error",
     "traceback": [
      "\u001B[1;31m---------------------------------------------------------------------------\u001B[0m",
      "\u001B[1;31mAttributeError\u001B[0m                            Traceback (most recent call last)",
      "File \u001B[1;32m~\\src\\ema-workbench\\ema_workbench\\em_framework\\optimization.py:895\u001B[0m, in \u001B[0;36mrebuild_platypus_population\u001B[1;34m(archive, problem)\u001B[0m\n\u001B[0;32m    894\u001B[0m \u001B[38;5;28;01mtry\u001B[39;00m:\n\u001B[1;32m--> 895\u001B[0m     decision_variables \u001B[38;5;241m=\u001B[39m \u001B[43m[\u001B[49m\u001B[38;5;28;43mgetattr\u001B[39;49m\u001B[43m(\u001B[49m\u001B[43mrow\u001B[49m\u001B[43m,\u001B[49m\u001B[43m \u001B[49m\u001B[43mattr\u001B[49m\u001B[43m)\u001B[49m\u001B[43m \u001B[49m\u001B[38;5;28;43;01mfor\u001B[39;49;00m\u001B[43m \u001B[49m\u001B[43mattr\u001B[49m\u001B[43m \u001B[49m\u001B[38;5;129;43;01min\u001B[39;49;00m\u001B[43m \u001B[49m\u001B[43mproblem\u001B[49m\u001B[38;5;241;43m.\u001B[39;49m\u001B[43mparameter_names\u001B[49m\u001B[43m]\u001B[49m\n\u001B[0;32m    896\u001B[0m \u001B[38;5;28;01mexcept\u001B[39;00m \u001B[38;5;167;01mAttributeError\u001B[39;00m:\n",
      "File \u001B[1;32m~\\src\\ema-workbench\\ema_workbench\\em_framework\\optimization.py:895\u001B[0m, in \u001B[0;36m<listcomp>\u001B[1;34m(.0)\u001B[0m\n\u001B[0;32m    894\u001B[0m \u001B[38;5;28;01mtry\u001B[39;00m:\n\u001B[1;32m--> 895\u001B[0m     decision_variables \u001B[38;5;241m=\u001B[39m [\u001B[38;5;28;43mgetattr\u001B[39;49m\u001B[43m(\u001B[49m\u001B[43mrow\u001B[49m\u001B[43m,\u001B[49m\u001B[43m \u001B[49m\u001B[43mattr\u001B[49m\u001B[43m)\u001B[49m \u001B[38;5;28;01mfor\u001B[39;00m attr \u001B[38;5;129;01min\u001B[39;00m problem\u001B[38;5;241m.\u001B[39mparameter_names]\n\u001B[0;32m    896\u001B[0m \u001B[38;5;28;01mexcept\u001B[39;00m \u001B[38;5;167;01mAttributeError\u001B[39;00m:\n",
      "\u001B[1;31mAttributeError\u001B[0m: 'Pandas' object has no attribute '0_RfR 0'",
      "\nDuring handling of the above exception, another exception occurred:\n",
      "\u001B[1;31mEMAError\u001B[0m                                  Traceback (most recent call last)",
      "Cell \u001B[1;32mIn[56], line 12\u001B[0m\n\u001B[0;32m      8\u001B[0m \u001B[38;5;28;01mfrom\u001B[39;00m \u001B[38;5;21;01mema_workbench\u001B[39;00m\u001B[38;5;21;01m.\u001B[39;00m\u001B[38;5;21;01mem_framework\u001B[39;00m\u001B[38;5;21;01m.\u001B[39;00m\u001B[38;5;21;01moptimization\u001B[39;00m \u001B[38;5;28;01mimport\u001B[39;00m to_problem\n\u001B[0;32m     10\u001B[0m problem \u001B[38;5;241m=\u001B[39m to_problem(dike_model, searchover\u001B[38;5;241m=\u001B[39m\u001B[38;5;124m\"\u001B[39m\u001B[38;5;124mlevers\u001B[39m\u001B[38;5;124m\"\u001B[39m)\n\u001B[1;32m---> 12\u001B[0m reference_set \u001B[38;5;241m=\u001B[39m \u001B[43mepsilon_nondominated\u001B[49m\u001B[43m(\u001B[49m\u001B[43marchives\u001B[49m\u001B[43m,\u001B[49m\u001B[43m \u001B[49m\u001B[43m[\u001B[49m\u001B[38;5;241;43m0.05\u001B[39;49m\u001B[43m]\u001B[49m\u001B[43m \u001B[49m\u001B[38;5;241;43m*\u001B[39;49m\u001B[43m \u001B[49m\u001B[38;5;28;43mlen\u001B[39;49m\u001B[43m(\u001B[49m\u001B[43mdike_model\u001B[49m\u001B[38;5;241;43m.\u001B[39;49m\u001B[43moutcomes\u001B[49m\u001B[43m)\u001B[49m\u001B[43m,\u001B[49m\u001B[43m \u001B[49m\u001B[43mproblem\u001B[49m\u001B[43m)\u001B[49m\n",
      "File \u001B[1;32m~\\src\\ema-workbench\\ema_workbench\\em_framework\\optimization.py:787\u001B[0m, in \u001B[0;36mepsilon_nondominated\u001B[1;34m(results, epsilons, problem)\u001B[0m\n\u001B[0;32m    782\u001B[0m     \u001B[38;5;167;01mValueError\u001B[39;00m(\n\u001B[0;32m    783\u001B[0m         \u001B[38;5;124mf\u001B[39m\u001B[38;5;124m\"\u001B[39m\u001B[38;5;124mThe number of epsilon values (\u001B[39m\u001B[38;5;132;01m{\u001B[39;00m\u001B[38;5;28mlen\u001B[39m(epsilons)\u001B[38;5;132;01m}\u001B[39;00m\u001B[38;5;124m) must match the number of objectives \u001B[39m\u001B[38;5;132;01m{\u001B[39;00mproblem\u001B[38;5;241m.\u001B[39mnobjs\u001B[38;5;132;01m}\u001B[39;00m\u001B[38;5;124m\"\u001B[39m\n\u001B[0;32m    784\u001B[0m     )\n\u001B[0;32m    786\u001B[0m results \u001B[38;5;241m=\u001B[39m pd\u001B[38;5;241m.\u001B[39mconcat(results, ignore_index\u001B[38;5;241m=\u001B[39m\u001B[38;5;28;01mTrue\u001B[39;00m)\n\u001B[1;32m--> 787\u001B[0m solutions \u001B[38;5;241m=\u001B[39m \u001B[43mrebuild_platypus_population\u001B[49m\u001B[43m(\u001B[49m\u001B[43mresults\u001B[49m\u001B[43m,\u001B[49m\u001B[43m \u001B[49m\u001B[43mproblem\u001B[49m\u001B[43m)\u001B[49m\n\u001B[0;32m    788\u001B[0m archive \u001B[38;5;241m=\u001B[39m EpsilonBoxArchive(epsilons)\n\u001B[0;32m    789\u001B[0m archive \u001B[38;5;241m+\u001B[39m\u001B[38;5;241m=\u001B[39m solutions\n",
      "File \u001B[1;32m~\\src\\ema-workbench\\ema_workbench\\em_framework\\optimization.py:900\u001B[0m, in \u001B[0;36mrebuild_platypus_population\u001B[1;34m(archive, problem)\u001B[0m\n\u001B[0;32m    896\u001B[0m \u001B[38;5;28;01mexcept\u001B[39;00m \u001B[38;5;167;01mAttributeError\u001B[39;00m:\n\u001B[0;32m    897\u001B[0m     missing_parameters \u001B[38;5;241m=\u001B[39m [\n\u001B[0;32m    898\u001B[0m         attr \u001B[38;5;28;01mfor\u001B[39;00m attr \u001B[38;5;129;01min\u001B[39;00m problem\u001B[38;5;241m.\u001B[39mparameter_names \u001B[38;5;28;01mif\u001B[39;00m \u001B[38;5;129;01mnot\u001B[39;00m \u001B[38;5;28mhasattr\u001B[39m(row, attr)\n\u001B[0;32m    899\u001B[0m     ]\n\u001B[1;32m--> 900\u001B[0m     \u001B[38;5;28;01mraise\u001B[39;00m EMAError(\u001B[38;5;124mf\u001B[39m\u001B[38;5;124m\"\u001B[39m\u001B[38;5;124mParameter names \u001B[39m\u001B[38;5;132;01m{\u001B[39;00mmissing_parameters\u001B[38;5;132;01m}\u001B[39;00m\u001B[38;5;124m not found in archive\u001B[39m\u001B[38;5;124m\"\u001B[39m)\n\u001B[0;32m    902\u001B[0m \u001B[38;5;28;01mtry\u001B[39;00m:\n\u001B[0;32m    903\u001B[0m     objectives \u001B[38;5;241m=\u001B[39m [\u001B[38;5;28mgetattr\u001B[39m(row, attr) \u001B[38;5;28;01mfor\u001B[39;00m attr \u001B[38;5;129;01min\u001B[39;00m problem\u001B[38;5;241m.\u001B[39moutcome_names]\n",
      "\u001B[1;31mEMAError\u001B[0m: Parameter names ['0_RfR 0', '0_RfR 1', '0_RfR 2', '1_RfR 0', '1_RfR 1', '1_RfR 2', '2_RfR 0', '2_RfR 1', '2_RfR 2', '3_RfR 0', '3_RfR 1', '3_RfR 2', '4_RfR 0', '4_RfR 1', '4_RfR 2', 'A.1_DikeIncrease 0', 'A.1_DikeIncrease 1', 'A.1_DikeIncrease 2', 'A.2_DikeIncrease 0', 'A.2_DikeIncrease 1', 'A.2_DikeIncrease 2', 'A.3_DikeIncrease 0', 'A.3_DikeIncrease 1', 'A.3_DikeIncrease 2', 'A.4_DikeIncrease 0', 'A.4_DikeIncrease 1', 'A.4_DikeIncrease 2', 'A.5_DikeIncrease 0', 'A.5_DikeIncrease 1', 'A.5_DikeIncrease 2'] not found in archive"
     ]
    }
   ],
   "source": [
    "from ema_workbench import (\n",
    "    HypervolumeMetric,\n",
    "    GenerationalDistanceMetric,\n",
    "    EpsilonIndicatorMetric,\n",
    "    InvertedGenerationalDistanceMetric,\n",
    "    SpacingMetric,\n",
    ")\n",
    "from ema_workbench.em_framework.optimization import to_problem\n",
    "\n",
    "problem = to_problem(dike_model, searchover=\"levers\")\n",
    "\n",
    "reference_set = epsilon_nondominated(archives, [0.05] * len(dike_model.outcomes), problem)"
   ],
   "metadata": {
    "collapsed": false,
    "ExecuteTime": {
     "end_time": "2024-06-12T22:05:35.776399Z",
     "start_time": "2024-06-12T22:05:35.712117Z"
    }
   },
   "id": "b9443c806b061295",
   "execution_count": 56
  },
  {
   "cell_type": "code",
   "outputs": [
    {
     "data": {
      "text/plain": "<ema_workbench.em_framework.optimization.Problem at 0x1d77f60b710>"
     },
     "execution_count": 57,
     "metadata": {},
     "output_type": "execute_result"
    }
   ],
   "source": [
    "problem"
   ],
   "metadata": {
    "collapsed": false,
    "ExecuteTime": {
     "end_time": "2024-06-12T22:05:50.935390Z",
     "start_time": "2024-06-12T22:05:50.928514Z"
    }
   },
   "id": "4d5fb24a5b5fbdf3",
   "execution_count": 57
  },
  {
   "cell_type": "code",
   "outputs": [
    {
     "ename": "EMAError",
     "evalue": "Parameter names ['0_RfR 0', '0_RfR 1', '0_RfR 2', '1_RfR 0', '1_RfR 1', '1_RfR 2', '2_RfR 0', '2_RfR 1', '2_RfR 2', '3_RfR 0', '3_RfR 1', '3_RfR 2', '4_RfR 0', '4_RfR 1', '4_RfR 2', 'A.1_DikeIncrease 0', 'A.1_DikeIncrease 1', 'A.1_DikeIncrease 2', 'A.2_DikeIncrease 0', 'A.2_DikeIncrease 1', 'A.2_DikeIncrease 2', 'A.3_DikeIncrease 0', 'A.3_DikeIncrease 1', 'A.3_DikeIncrease 2', 'A.4_DikeIncrease 0', 'A.4_DikeIncrease 1', 'A.4_DikeIncrease 2', 'A.5_DikeIncrease 0', 'A.5_DikeIncrease 1', 'A.5_DikeIncrease 2'] not found in archive",
     "output_type": "error",
     "traceback": [
      "\u001B[1;31m---------------------------------------------------------------------------\u001B[0m",
      "\u001B[1;31mAttributeError\u001B[0m                            Traceback (most recent call last)",
      "File \u001B[1;32m~\\src\\ema-workbench\\ema_workbench\\em_framework\\optimization.py:895\u001B[0m, in \u001B[0;36mrebuild_platypus_population\u001B[1;34m(archive, problem)\u001B[0m\n\u001B[0;32m    894\u001B[0m \u001B[38;5;28;01mtry\u001B[39;00m:\n\u001B[1;32m--> 895\u001B[0m     decision_variables \u001B[38;5;241m=\u001B[39m \u001B[43m[\u001B[49m\u001B[38;5;28;43mgetattr\u001B[39;49m\u001B[43m(\u001B[49m\u001B[43mrow\u001B[49m\u001B[43m,\u001B[49m\u001B[43m \u001B[49m\u001B[43mattr\u001B[49m\u001B[43m)\u001B[49m\u001B[43m \u001B[49m\u001B[38;5;28;43;01mfor\u001B[39;49;00m\u001B[43m \u001B[49m\u001B[43mattr\u001B[49m\u001B[43m \u001B[49m\u001B[38;5;129;43;01min\u001B[39;49;00m\u001B[43m \u001B[49m\u001B[43mproblem\u001B[49m\u001B[38;5;241;43m.\u001B[39;49m\u001B[43mparameter_names\u001B[49m\u001B[43m]\u001B[49m\n\u001B[0;32m    896\u001B[0m \u001B[38;5;28;01mexcept\u001B[39;00m \u001B[38;5;167;01mAttributeError\u001B[39;00m:\n",
      "File \u001B[1;32m~\\src\\ema-workbench\\ema_workbench\\em_framework\\optimization.py:895\u001B[0m, in \u001B[0;36m<listcomp>\u001B[1;34m(.0)\u001B[0m\n\u001B[0;32m    894\u001B[0m \u001B[38;5;28;01mtry\u001B[39;00m:\n\u001B[1;32m--> 895\u001B[0m     decision_variables \u001B[38;5;241m=\u001B[39m [\u001B[38;5;28;43mgetattr\u001B[39;49m\u001B[43m(\u001B[49m\u001B[43mrow\u001B[49m\u001B[43m,\u001B[49m\u001B[43m \u001B[49m\u001B[43mattr\u001B[49m\u001B[43m)\u001B[49m \u001B[38;5;28;01mfor\u001B[39;00m attr \u001B[38;5;129;01min\u001B[39;00m problem\u001B[38;5;241m.\u001B[39mparameter_names]\n\u001B[0;32m    896\u001B[0m \u001B[38;5;28;01mexcept\u001B[39;00m \u001B[38;5;167;01mAttributeError\u001B[39;00m:\n",
      "\u001B[1;31mAttributeError\u001B[0m: 'Pandas' object has no attribute '0_RfR 0'",
      "\nDuring handling of the above exception, another exception occurred:\n",
      "\u001B[1;31mEMAError\u001B[0m                                  Traceback (most recent call last)",
      "Cell \u001B[1;32mIn[22], line 12\u001B[0m\n\u001B[0;32m      8\u001B[0m \u001B[38;5;28;01mfrom\u001B[39;00m \u001B[38;5;21;01mema_workbench\u001B[39;00m\u001B[38;5;21;01m.\u001B[39;00m\u001B[38;5;21;01mem_framework\u001B[39;00m\u001B[38;5;21;01m.\u001B[39;00m\u001B[38;5;21;01moptimization\u001B[39;00m \u001B[38;5;28;01mimport\u001B[39;00m to_problem\n\u001B[0;32m     10\u001B[0m problem \u001B[38;5;241m=\u001B[39m to_problem(dike_model, searchover\u001B[38;5;241m=\u001B[39m\u001B[38;5;124m\"\u001B[39m\u001B[38;5;124mlevers\u001B[39m\u001B[38;5;124m\"\u001B[39m)\n\u001B[1;32m---> 12\u001B[0m reference_set \u001B[38;5;241m=\u001B[39m \u001B[43mepsilon_nondominated\u001B[49m\u001B[43m(\u001B[49m\u001B[43mresults\u001B[49m\u001B[43m,\u001B[49m\u001B[43m \u001B[49m\u001B[43m[\u001B[49m\u001B[38;5;241;43m0.05\u001B[39;49m\u001B[43m]\u001B[49m\u001B[43m \u001B[49m\u001B[38;5;241;43m*\u001B[39;49m\u001B[43m \u001B[49m\u001B[38;5;28;43mlen\u001B[39;49m\u001B[43m(\u001B[49m\u001B[43mdike_model\u001B[49m\u001B[38;5;241;43m.\u001B[39;49m\u001B[43moutcomes\u001B[49m\u001B[43m)\u001B[49m\u001B[43m,\u001B[49m\u001B[43m \u001B[49m\u001B[43mproblem\u001B[49m\u001B[43m)\u001B[49m\n\u001B[0;32m     14\u001B[0m hv \u001B[38;5;241m=\u001B[39m HypervolumeMetric(reference_set, problem)\n\u001B[0;32m     15\u001B[0m gd \u001B[38;5;241m=\u001B[39m GenerationalDistanceMetric(reference_set, problem, d\u001B[38;5;241m=\u001B[39m\u001B[38;5;241m1\u001B[39m)\n",
      "File \u001B[1;32m~\\src\\ema-workbench\\ema_workbench\\em_framework\\optimization.py:787\u001B[0m, in \u001B[0;36mepsilon_nondominated\u001B[1;34m(results, epsilons, problem)\u001B[0m\n\u001B[0;32m    782\u001B[0m     \u001B[38;5;167;01mValueError\u001B[39;00m(\n\u001B[0;32m    783\u001B[0m         \u001B[38;5;124mf\u001B[39m\u001B[38;5;124m\"\u001B[39m\u001B[38;5;124mThe number of epsilon values (\u001B[39m\u001B[38;5;132;01m{\u001B[39;00m\u001B[38;5;28mlen\u001B[39m(epsilons)\u001B[38;5;132;01m}\u001B[39;00m\u001B[38;5;124m) must match the number of objectives \u001B[39m\u001B[38;5;132;01m{\u001B[39;00mproblem\u001B[38;5;241m.\u001B[39mnobjs\u001B[38;5;132;01m}\u001B[39;00m\u001B[38;5;124m\"\u001B[39m\n\u001B[0;32m    784\u001B[0m     )\n\u001B[0;32m    786\u001B[0m results \u001B[38;5;241m=\u001B[39m pd\u001B[38;5;241m.\u001B[39mconcat(results, ignore_index\u001B[38;5;241m=\u001B[39m\u001B[38;5;28;01mTrue\u001B[39;00m)\n\u001B[1;32m--> 787\u001B[0m solutions \u001B[38;5;241m=\u001B[39m \u001B[43mrebuild_platypus_population\u001B[49m\u001B[43m(\u001B[49m\u001B[43mresults\u001B[49m\u001B[43m,\u001B[49m\u001B[43m \u001B[49m\u001B[43mproblem\u001B[49m\u001B[43m)\u001B[49m\n\u001B[0;32m    788\u001B[0m archive \u001B[38;5;241m=\u001B[39m EpsilonBoxArchive(epsilons)\n\u001B[0;32m    789\u001B[0m archive \u001B[38;5;241m+\u001B[39m\u001B[38;5;241m=\u001B[39m solutions\n",
      "File \u001B[1;32m~\\src\\ema-workbench\\ema_workbench\\em_framework\\optimization.py:900\u001B[0m, in \u001B[0;36mrebuild_platypus_population\u001B[1;34m(archive, problem)\u001B[0m\n\u001B[0;32m    896\u001B[0m \u001B[38;5;28;01mexcept\u001B[39;00m \u001B[38;5;167;01mAttributeError\u001B[39;00m:\n\u001B[0;32m    897\u001B[0m     missing_parameters \u001B[38;5;241m=\u001B[39m [\n\u001B[0;32m    898\u001B[0m         attr \u001B[38;5;28;01mfor\u001B[39;00m attr \u001B[38;5;129;01min\u001B[39;00m problem\u001B[38;5;241m.\u001B[39mparameter_names \u001B[38;5;28;01mif\u001B[39;00m \u001B[38;5;129;01mnot\u001B[39;00m \u001B[38;5;28mhasattr\u001B[39m(row, attr)\n\u001B[0;32m    899\u001B[0m     ]\n\u001B[1;32m--> 900\u001B[0m     \u001B[38;5;28;01mraise\u001B[39;00m EMAError(\u001B[38;5;124mf\u001B[39m\u001B[38;5;124m\"\u001B[39m\u001B[38;5;124mParameter names \u001B[39m\u001B[38;5;132;01m{\u001B[39;00mmissing_parameters\u001B[38;5;132;01m}\u001B[39;00m\u001B[38;5;124m not found in archive\u001B[39m\u001B[38;5;124m\"\u001B[39m)\n\u001B[0;32m    902\u001B[0m \u001B[38;5;28;01mtry\u001B[39;00m:\n\u001B[0;32m    903\u001B[0m     objectives \u001B[38;5;241m=\u001B[39m [\u001B[38;5;28mgetattr\u001B[39m(row, attr) \u001B[38;5;28;01mfor\u001B[39;00m attr \u001B[38;5;129;01min\u001B[39;00m problem\u001B[38;5;241m.\u001B[39moutcome_names]\n",
      "\u001B[1;31mEMAError\u001B[0m: Parameter names ['0_RfR 0', '0_RfR 1', '0_RfR 2', '1_RfR 0', '1_RfR 1', '1_RfR 2', '2_RfR 0', '2_RfR 1', '2_RfR 2', '3_RfR 0', '3_RfR 1', '3_RfR 2', '4_RfR 0', '4_RfR 1', '4_RfR 2', 'A.1_DikeIncrease 0', 'A.1_DikeIncrease 1', 'A.1_DikeIncrease 2', 'A.2_DikeIncrease 0', 'A.2_DikeIncrease 1', 'A.2_DikeIncrease 2', 'A.3_DikeIncrease 0', 'A.3_DikeIncrease 1', 'A.3_DikeIncrease 2', 'A.4_DikeIncrease 0', 'A.4_DikeIncrease 1', 'A.4_DikeIncrease 2', 'A.5_DikeIncrease 0', 'A.5_DikeIncrease 1', 'A.5_DikeIncrease 2'] not found in archive"
     ]
    }
   ],
   "source": [
    "\n",
    "\n",
    "hv = HypervolumeMetric(reference_set, problem)\n",
    "gd = GenerationalDistanceMetric(reference_set, problem, d=1)\n",
    "ei = EpsilonIndicatorMetric(reference_set, problem)\n",
    "ig = InvertedGenerationalDistanceMetric(reference_set, problem, d=1)\n",
    "sm = SpacingMetric(problem)\n",
    "\n",
    "\n",
    "metrics_by_seed = []\n",
    "for archives in archives:\n",
    "    metrics = []\n",
    "    for nfe, archive in archives.items():\n",
    "        scores = {\n",
    "            \"generational_distance\": gd.calculate(archive),\n",
    "            \"hypervolume\": hv.calculate(archive),\n",
    "            \"epsilon_indicator\": ei.calculate(archive),\n",
    "            \"inverted_gd\": ig.calculate(archive),\n",
    "            \"spacing\": sm.calculate(archive),\n",
    "            \"nfe\": int(nfe),\n",
    "        }\n",
    "        metrics.append(scores)\n",
    "    metrics = pd.DataFrame.from_dict(metrics)\n",
    "\n",
    "    # sort metrics by number of function evaluations\n",
    "    metrics.sort_values(by=\"nfe\", inplace=True)\n",
    "    metrics_by_seed.append(metrics)"
   ],
   "metadata": {
    "collapsed": false,
    "ExecuteTime": {
     "end_time": "2024-06-12T21:56:48.949857Z",
     "start_time": "2024-06-12T21:56:48.878312Z"
    }
   },
   "id": "6224ad853c344a1e",
   "execution_count": 22
  },
  {
   "cell_type": "code",
   "outputs": [],
   "source": [
    "sns.set_style(\"white\")\n",
    "fig, axes = plt.subplots(nrows=6, figsize=(8, 12), sharex=True)\n",
    "\n",
    "ax1, ax2, ax3, ax4, ax5, ax6 = axes\n",
    "\n",
    "for metrics, convergence in zip(metrics_by_seed, convergences):\n",
    "    ax1.plot(metrics.nfe, metrics.hypervolume)\n",
    "    ax1.set_ylabel(\"hypervolume\")\n",
    "\n",
    "    ax2.plot(convergence.nfe, convergence.epsilon_progress)\n",
    "    ax2.set_ylabel(\"$\\epsilon$ progress\")\n",
    "\n",
    "    ax3.plot(metrics.nfe, metrics.generational_distance)\n",
    "    ax3.set_ylabel(\"generational distance\")\n",
    "\n",
    "    ax4.plot(metrics.nfe, metrics.epsilon_indicator)\n",
    "    ax4.set_ylabel(\"epsilon indicator\")\n",
    "\n",
    "    ax5.plot(metrics.nfe, metrics.inverted_gd)\n",
    "    ax5.set_ylabel(\"inverted generational\\ndistance\")\n",
    "\n",
    "    ax6.plot(metrics.nfe, metrics.spacing)\n",
    "    ax6.set_ylabel(\"spacing\")\n",
    "\n",
    "ax6.set_xlabel(\"nfe\")\n",
    "\n",
    "\n",
    "sns.despine(fig)\n",
    "\n",
    "plt.show()"
   ],
   "metadata": {
    "collapsed": false,
    "ExecuteTime": {
     "start_time": "2024-06-12T21:49:09.024826Z"
    }
   },
   "id": "7d1bb09598d07bf9"
  },
  {
   "cell_type": "markdown",
   "source": [
    "### OOOOOOOOOOOOOOOOOOOOOOOOOOOO\n"
   ],
   "metadata": {
    "collapsed": false
   },
   "id": "8869d7b745d15fc0"
  },
  {
   "cell_type": "code",
   "outputs": [],
   "source": [
    "from ema_workbench import MultiprocessingEvaluator, ema_logging\n",
    "from ema_workbench.em_framework.evaluators import BaseEvaluator\n",
    "\n",
    "ema_logging.log_to_stderr(ema_logging.INFO)\n",
    "\n",
    "with SequentialEvaluator(dike_model) as evaluator:\n",
    "    results1 = evaluator.optimize(nfe=1000, searchover='levers',\n",
    "                                 epsilons=[0.1,]*len(dike_model.outcomes),reference=Scenarios[0])"
   ],
   "metadata": {
    "collapsed": false
   },
   "id": "c390a9aea1afedc9",
   "execution_count": null
  },
  {
   "cell_type": "code",
   "outputs": [],
   "source": [
    "list(dike_model.outcomes)"
   ],
   "metadata": {
    "collapsed": false,
    "ExecuteTime": {
     "start_time": "2024-06-12T21:49:09.025946Z"
    }
   },
   "id": "8bb1b5610a73145c",
   "execution_count": null
  },
  {
   "cell_type": "code",
   "outputs": [],
   "source": [
    "df = pd.DataFrame(results1)"
   ],
   "metadata": {
    "collapsed": false,
    "ExecuteTime": {
     "start_time": "2024-06-12T21:49:09.026943Z"
    }
   },
   "id": "2ef2cca279d08600",
   "execution_count": null
  },
  {
   "cell_type": "code",
   "outputs": [],
   "source": [
    "df[\"Expected Number of Deaths\"] = df[\"A.1_Expected Number of Deaths\"] + df[\"A.2_Expected Number of Deaths\"] + df[\n",
    "    \"A.3_Expected Number of Deaths\"] + df[\"A.4_Expected Number of Deaths\"] + df[\"A.5_Expected Number of Deaths\"]\n",
    "df[\"Expected Annual Damage\"] = df[\"A.1_Expected Annual Damage\"] + df[\"A.2_Expected Annual Damage\"] + df[\n",
    "    \"A.3_Expected Annual Damage\"] + df[\"A.4_Expected Annual Damage\"] + df[\"A.5_Expected Annual Damage\"]\n",
    "\n",
    "\n",
    "## Feature importance (not required but nice to know)\n",
    "df_feature_importance_out = df[[\"Expected Evacuation Costs\", \"Expected Annual Damage\", \"Expected Number of Deaths\",\"A.5_Expected Number of Deaths\", \"A.5_Expected Annual Damage\"]]"
   ],
   "metadata": {
    "collapsed": false,
    "ExecuteTime": {
     "start_time": "2024-06-12T21:49:09.027941Z"
    }
   },
   "id": "e8c5602d30d952ed",
   "execution_count": null
  },
  {
   "cell_type": "code",
   "outputs": [],
   "source": [
    "from ema_workbench.analysis import parcoords\n",
    "\n",
    "# data = results1.loc[:, [o.name for o in dike_model.outcomes]]\n",
    "limits = parcoords.get_limits(df_feature_importance_out)\n",
    "limits.loc[0, [\"Expected Evacuation Costs\",\"A.5_Expected Number of Deaths\",\"A.5_Expected Annual Damage\"]] = 0\n",
    "\n",
    "paraxes = parcoords.ParallelAxes(limits)\n",
    "paraxes.plot(df_feature_importance_out)\n",
    "# paraxes.invert_axis('max_P')\n",
    "plt.show()"
   ],
   "metadata": {
    "collapsed": false,
    "ExecuteTime": {
     "start_time": "2024-06-12T21:49:09.029023Z"
    }
   },
   "id": "82e12ccf21090bee",
   "execution_count": null
  },
  {
   "cell_type": "code",
   "outputs": [],
   "source": [
    "results1"
   ],
   "metadata": {
    "collapsed": false,
    "ExecuteTime": {
     "start_time": "2024-06-12T21:49:09.030022Z"
    }
   },
   "id": "c40f52681910b33a",
   "execution_count": null
  },
  {
   "cell_type": "code",
   "outputs": [],
   "source": [
    "data"
   ],
   "metadata": {
    "collapsed": false,
    "ExecuteTime": {
     "start_time": "2024-06-12T21:49:09.031718Z"
    }
   },
   "id": "733fd8b5338a4a25",
   "execution_count": null
  }
 ],
 "metadata": {
  "kernelspec": {
   "display_name": "Python 3",
   "language": "python",
   "name": "python3"
  },
  "language_info": {
   "codemirror_mode": {
    "name": "ipython",
    "version": 2
   },
   "file_extension": ".py",
   "mimetype": "text/x-python",
   "name": "python",
   "nbconvert_exporter": "python",
   "pygments_lexer": "ipython2",
   "version": "2.7.6"
  }
 },
 "nbformat": 4,
 "nbformat_minor": 5
}
