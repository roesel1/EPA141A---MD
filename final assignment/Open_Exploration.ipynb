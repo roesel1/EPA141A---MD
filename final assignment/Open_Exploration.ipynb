{
 "cells": [
  {
   "cell_type": "markdown",
   "source": [
    "## Used packages"
   ],
   "metadata": {
    "collapsed": false
   },
   "id": "a64a95d8543fa391"
  },
  {
   "cell_type": "code",
   "outputs": [],
   "source": [
    "import numpy as np\n",
    "import scipy as sp\n",
    "import pandas as pd\n",
    "import matplotlib.pyplot as plt\n",
    "import seaborn as sns\n",
    "import networkx as nx\n",
    "from SALib.analyze import sobol\n",
    "from ema_workbench.analysis import feature_scoring\n",
    "\n",
    "import warnings\n",
    "warnings.filterwarnings(\"ignore\")"
   ],
   "metadata": {
    "collapsed": false,
    "ExecuteTime": {
     "end_time": "2024-06-05T09:43:11.443643Z",
     "start_time": "2024-06-05T09:43:11.435154Z"
    }
   },
   "id": "bcb386eddf7046c8",
   "execution_count": 22
  },
  {
   "cell_type": "code",
   "outputs": [],
   "source": [
    "from ema_workbench import (\n",
    "    Model,\n",
    "    Policy,\n",
    "    ema_logging,\n",
    "    SequentialEvaluator,\n",
    "    MultiprocessingEvaluator,\n",
    "\n",
    ")\n",
    "from dike_model_function import DikeNetwork  # @UnresolvedImport\n",
    "from problem_formulation import get_model_for_problem_formulation, sum_over, sum_over_time\n",
    "\n",
    "from ema_workbench import perform_experiments\n",
    "from ema_workbench import Samplers\n",
    "from ema_workbench import SequentialEvaluator"
   ],
   "metadata": {
    "collapsed": false,
    "ExecuteTime": {
     "end_time": "2024-06-05T09:43:11.712449Z",
     "start_time": "2024-06-05T09:43:11.703562Z"
    }
   },
   "id": "fb3c909fdc41b952",
   "execution_count": 23
  },
  {
   "cell_type": "markdown",
   "source": [
    "## Creating samples LHC"
   ],
   "metadata": {
    "collapsed": false
   },
   "id": "2b1f1ac8dc9fdaee"
  },
  {
   "cell_type": "code",
   "outputs": [],
   "source": [
    "# ema_logging.log_to_stderr(ema_logging.INFO)\n",
    "\n",
    "# Create an instance of the model which is usable with the EMA workbench\n",
    "dike_model, planning_steps = get_model_for_problem_formulation(3)"
   ],
   "metadata": {
    "collapsed": false,
    "ExecuteTime": {
     "end_time": "2024-06-05T09:43:12.197078Z",
     "start_time": "2024-06-05T09:43:11.781889Z"
    }
   },
   "id": "f239e34b818df7bf",
   "execution_count": 24
  },
  {
   "cell_type": "markdown",
   "source": [
    "to only focus on the scenarios no policies should be taken into account. Code below set all the "
   ],
   "metadata": {
    "collapsed": false
   },
   "id": "acda2dffd25d8d02"
  },
  {
   "cell_type": "code",
   "outputs": [],
   "source": [
    "zero_policy = {\"DaysToThreat\": 0}\n",
    "zero_policy.update({f\"DikeIncrease {n}\": 0 for n in planning_steps})\n",
    "zero_policy.update({f\"RfR {n}\": 0 for n in planning_steps})\n",
    "\n",
    "pol0 = {}\n",
    "\n",
    "for key in dike_model.levers:\n",
    "    s1, s2 = key.name.split(\"_\")\n",
    "    pol0.update({key.name: zero_policy[s2]})\n",
    "\n",
    "policy0 = Policy(\"Policy 0\", **pol0)"
   ],
   "metadata": {
    "collapsed": false,
    "ExecuteTime": {
     "end_time": "2024-06-05T09:43:12.213955Z",
     "start_time": "2024-06-05T09:43:12.201812Z"
    }
   },
   "id": "2082b5d7c31f475a",
   "execution_count": 25
  },
  {
   "cell_type": "code",
   "outputs": [
    {
     "name": "stderr",
     "output_type": "stream",
     "text": [
      "100%|██████████████████████████████████████████| 40/40 [00:33<00:00,  1.18it/s]\n"
     ]
    }
   ],
   "source": [
    "with SequentialEvaluator(dike_model) as evaluator:\n",
    "    results = evaluator.perform_experiments(scenarios=40,policies=policy0,uncertainty_sampling=Samplers.LHS)\n",
    "\n",
    "experiments, outcomes = results"
   ],
   "metadata": {
    "collapsed": false,
    "ExecuteTime": {
     "end_time": "2024-06-05T09:43:46.092190Z",
     "start_time": "2024-06-05T09:43:12.217446Z"
    }
   },
   "id": "cc0ef901211fa9bd",
   "execution_count": 26
  },
  {
   "cell_type": "code",
   "outputs": [],
   "source": [
    "experiments_unc =experiments.iloc[:,0:19]"
   ],
   "metadata": {
    "collapsed": false,
    "ExecuteTime": {
     "end_time": "2024-06-05T09:43:46.103647Z",
     "start_time": "2024-06-05T09:43:46.096174Z"
    }
   },
   "id": "1f3c674b3db60ff6",
   "execution_count": 27
  },
  {
   "cell_type": "code",
   "outputs": [
    {
     "data": {
      "text/plain": "dict_keys(['A.1 Total Costs', 'A.1_Expected Number of Deaths', 'A.2 Total Costs', 'A.2_Expected Number of Deaths', 'A.3 Total Costs', 'A.3_Expected Number of Deaths', 'A.4 Total Costs', 'A.4_Expected Number of Deaths', 'A.5 Total Costs', 'A.5_Expected Number of Deaths', 'RfR Total Costs', 'Expected Evacuation Costs'])"
     },
     "execution_count": 28,
     "metadata": {},
     "output_type": "execute_result"
    }
   ],
   "source": [
    "outcomes.keys()"
   ],
   "metadata": {
    "collapsed": false,
    "ExecuteTime": {
     "end_time": "2024-06-05T09:43:46.121330Z",
     "start_time": "2024-06-05T09:43:46.106072Z"
    }
   },
   "id": "2f5560d3d09b7632",
   "execution_count": 28
  },
  {
   "cell_type": "code",
   "outputs": [
    {
     "data": {
      "text/plain": "    A.1 Total Costs  A.1_Expected Number of Deaths  A.2 Total Costs  \\\n0      2.228036e+09                       1.744318     3.757552e+06   \n1      1.336868e+08                       0.100695     0.000000e+00   \n2      0.000000e+00                       0.000000     1.662066e+07   \n3      2.971859e+09                       1.724916     0.000000e+00   \n4      2.329198e+09                       1.708903     0.000000e+00   \n5      5.315931e+08                       0.315796     5.297092e+06   \n6      2.597860e+09                       1.718749     8.142400e+08   \n7      0.000000e+00                       0.000000     5.227102e+07   \n8      3.530799e+09                       1.739422     1.608878e+07   \n9      2.786890e+09                       1.723610     3.608417e+06   \n10     3.398594e+07                       0.036230     3.278221e+06   \n11     2.783902e+08                       0.192451     0.000000e+00   \n12     1.526527e+09                       0.960169     4.595649e+06   \n13     2.785842e+09                       1.722797     0.000000e+00   \n14     4.817804e+07                       0.036709     1.078152e+08   \n15     4.373830e+07                       0.027884     6.480733e+07   \n16     1.646992e+07                       0.013150     7.900965e+07   \n17     7.631879e+07                       0.070447     3.204412e+08   \n18     2.370672e+09                       1.747125     7.564563e+08   \n19     2.171790e+09                       1.689227     8.403953e+06   \n20     2.829837e+06                       0.002029     8.732576e+07   \n21     0.000000e+00                       0.000000     2.045332e+07   \n22     1.659402e+07                       0.012741     1.378243e+07   \n23     2.779768e+09                       1.718086     8.543735e+07   \n24     2.962152e+09                       1.717852     0.000000e+00   \n25     9.312149e+08                       0.621021     3.334426e+07   \n26     9.721739e+07                       0.065365     3.569826e+07   \n27     0.000000e+00                       0.000000     2.332048e+08   \n28     0.000000e+00                       0.000000     1.181620e+08   \n29     2.164237e+09                       1.734895     2.766432e+07   \n30     4.280967e+08                       0.306753     0.000000e+00   \n31     0.000000e+00                       0.000000     4.703412e+06   \n32     1.328119e+08                       0.097795     6.999233e+08   \n33     1.869882e+09                       1.695595     1.014053e+08   \n34     0.000000e+00                       0.000000     2.221156e+08   \n35     0.000000e+00                       0.000000     2.813995e+07   \n36     2.124626e+09                       1.384779     0.000000e+00   \n37     0.000000e+00                       0.000000     2.317312e+07   \n38     3.159696e+08                       0.189561     5.884137e+07   \n39     2.228770e+09                       1.745037     0.000000e+00   \n\n    A.2_Expected Number of Deaths  A.3 Total Costs  \\\n0                        0.004081     7.182767e+07   \n1                        0.000000     0.000000e+00   \n2                        0.018236     1.676546e+09   \n3                        0.000000     0.000000e+00   \n4                        0.000000     0.000000e+00   \n5                        0.004236     0.000000e+00   \n6                        0.666378     0.000000e+00   \n7                        0.040808     2.329209e+09   \n8                        0.010460     1.842785e+09   \n9                        0.002738     7.765745e+06   \n10                       0.004838     3.124628e+07   \n11                       0.000000     0.000000e+00   \n12                       0.003894     0.000000e+00   \n13                       0.000000     0.000000e+00   \n14                       0.106591     0.000000e+00   \n15                       0.054541     2.127383e+09   \n16                       0.082066     6.786651e+06   \n17                       0.369620     3.411575e+07   \n18                       0.698468     0.000000e+00   \n19                       0.009112     0.000000e+00   \n20                       0.081091     1.012053e+09   \n21                       0.023622     6.987751e+06   \n22                       0.014344     1.574905e+08   \n23                       0.072293     1.487034e+08   \n24                       0.000000     0.000000e+00   \n25                       0.029843     1.864713e+09   \n26                       0.032208     1.598710e+09   \n27                       0.214251     7.340129e+08   \n28                       0.138364     4.099603e+07   \n29                       0.026879     0.000000e+00   \n30                       0.000000     7.931646e+08   \n31                       0.004886     5.947964e+07   \n32                       0.630381     0.000000e+00   \n33                       0.125885     1.778176e+08   \n34                       0.214972     0.000000e+00   \n35                       0.034844     2.371463e+07   \n36                       0.000000     7.066550e+07   \n37                       0.028242     2.949368e+07   \n38                       0.047720     1.752192e+09   \n39                       0.000000     4.034870e+07   \n\n    A.3_Expected Number of Deaths  A.4 Total Costs  \\\n0                        0.148484     0.000000e+00   \n1                        0.000000     0.000000e+00   \n2                        3.156394     1.161966e+06   \n3                        0.000000     0.000000e+00   \n4                        0.000000     0.000000e+00   \n5                        0.000000     0.000000e+00   \n6                        0.000000     0.000000e+00   \n7                        3.186351     0.000000e+00   \n8                        2.212650     0.000000e+00   \n9                        0.011805     0.000000e+00   \n10                       0.084795     9.596112e+05   \n11                       0.000000     0.000000e+00   \n12                       0.000000     4.308763e+07   \n13                       0.000000     0.000000e+00   \n14                       0.000000     0.000000e+00   \n15                       3.164719     9.742957e+07   \n16                       0.013291     0.000000e+00   \n17                       0.077806     0.000000e+00   \n18                       0.000000     0.000000e+00   \n19                       0.000000     2.303758e+07   \n20                       1.715973     1.477778e+07   \n21                       0.015246     0.000000e+00   \n22                       0.300127     4.098908e+05   \n23                       0.242862     0.000000e+00   \n24                       0.000000     1.188956e+06   \n25                       3.065440     2.319406e+07   \n26                       2.563728     0.000000e+00   \n27                       1.273310     4.570935e+06   \n28                       0.091887     0.000000e+00   \n29                       0.000000     0.000000e+00   \n30                       1.422829     0.000000e+00   \n31                       0.113186     1.564926e+08   \n32                       0.000000     0.000000e+00   \n33                       0.424422     0.000000e+00   \n34                       0.000000     0.000000e+00   \n35                       0.055869     4.285175e+07   \n36                       0.122075     3.013783e+07   \n37                       0.067838     7.369747e+07   \n38                       2.562380     1.450096e+06   \n39                       0.083743     0.000000e+00   \n\n    A.4_Expected Number of Deaths  A.5 Total Costs  \\\n0                        0.000000     4.532467e+06   \n1                        0.000000     1.594237e+07   \n2                        0.000527     0.000000e+00   \n3                        0.000000     0.000000e+00   \n4                        0.000000     0.000000e+00   \n5                        0.000000     7.512315e+06   \n6                        0.000000     0.000000e+00   \n7                        0.000000     0.000000e+00   \n8                        0.000000     0.000000e+00   \n9                        0.000000     0.000000e+00   \n10                       0.000805     1.097648e+08   \n11                       0.000000     0.000000e+00   \n12                       0.017277     0.000000e+00   \n13                       0.000000     0.000000e+00   \n14                       0.000000     0.000000e+00   \n15                       0.036000     0.000000e+00   \n16                       0.000000     9.246263e+08   \n17                       0.000000     0.000000e+00   \n18                       0.000000     0.000000e+00   \n19                       0.011939     0.000000e+00   \n20                       0.006548     0.000000e+00   \n21                       0.000000     2.231687e+08   \n22                       0.000232     3.563012e+08   \n23                       0.000000     1.138058e+07   \n24                       0.000481     0.000000e+00   \n25                       0.007920     0.000000e+00   \n26                       0.000000     0.000000e+00   \n27                       0.002100     0.000000e+00   \n28                       0.000000     6.243942e+06   \n29                       0.000000     0.000000e+00   \n30                       0.000000     0.000000e+00   \n31                       0.068265     0.000000e+00   \n32                       0.000000     0.000000e+00   \n33                       0.000000     0.000000e+00   \n34                       0.000000     0.000000e+00   \n35                       0.025692     0.000000e+00   \n36                       0.013214     8.635064e+08   \n37                       0.042225     2.510817e+08   \n38                       0.000565     0.000000e+00   \n39                       0.000000     0.000000e+00   \n\n    A.5_Expected Number of Deaths  RfR Total Costs  Expected Evacuation Costs  \n0                        0.004755              0.0                        0.0  \n1                        0.015520              0.0                        0.0  \n2                        0.000000              0.0                        0.0  \n3                        0.000000              0.0                        0.0  \n4                        0.000000              0.0                        0.0  \n5                        0.005755              0.0                        0.0  \n6                        0.000000              0.0                        0.0  \n7                        0.000000              0.0                        0.0  \n8                        0.000000              0.0                        0.0  \n9                        0.000000              0.0                        0.0  \n10                       0.148268              0.0                        0.0  \n11                       0.000000              0.0                        0.0  \n12                       0.000000              0.0                        0.0  \n13                       0.000000              0.0                        0.0  \n14                       0.000000              0.0                        0.0  \n15                       0.000000              0.0                        0.0  \n16                       0.879220              0.0                        0.0  \n17                       0.000000              0.0                        0.0  \n18                       0.000000              0.0                        0.0  \n19                       0.000000              0.0                        0.0  \n20                       0.000000              0.0                        0.0  \n21                       0.239472              0.0                        0.0  \n22                       0.336747              0.0                        0.0  \n23                       0.009442              0.0                        0.0  \n24                       0.000000              0.0                        0.0  \n25                       0.000000              0.0                        0.0  \n26                       0.000000              0.0                        0.0  \n27                       0.000000              0.0                        0.0  \n28                       0.007021              0.0                        0.0  \n29                       0.000000              0.0                        0.0  \n30                       0.000000              0.0                        0.0  \n31                       0.000000              0.0                        0.0  \n32                       0.000000              0.0                        0.0  \n33                       0.000000              0.0                        0.0  \n34                       0.000000              0.0                        0.0  \n35                       0.000000              0.0                        0.0  \n36                       0.689948              0.0                        0.0  \n37                       0.274731              0.0                        0.0  \n38                       0.000000              0.0                        0.0  \n39                       0.000000              0.0                        0.0  ",
      "text/html": "<div>\n<style scoped>\n    .dataframe tbody tr th:only-of-type {\n        vertical-align: middle;\n    }\n\n    .dataframe tbody tr th {\n        vertical-align: top;\n    }\n\n    .dataframe thead th {\n        text-align: right;\n    }\n</style>\n<table border=\"1\" class=\"dataframe\">\n  <thead>\n    <tr style=\"text-align: right;\">\n      <th></th>\n      <th>A.1 Total Costs</th>\n      <th>A.1_Expected Number of Deaths</th>\n      <th>A.2 Total Costs</th>\n      <th>A.2_Expected Number of Deaths</th>\n      <th>A.3 Total Costs</th>\n      <th>A.3_Expected Number of Deaths</th>\n      <th>A.4 Total Costs</th>\n      <th>A.4_Expected Number of Deaths</th>\n      <th>A.5 Total Costs</th>\n      <th>A.5_Expected Number of Deaths</th>\n      <th>RfR Total Costs</th>\n      <th>Expected Evacuation Costs</th>\n    </tr>\n  </thead>\n  <tbody>\n    <tr>\n      <th>0</th>\n      <td>2.228036e+09</td>\n      <td>1.744318</td>\n      <td>3.757552e+06</td>\n      <td>0.004081</td>\n      <td>7.182767e+07</td>\n      <td>0.148484</td>\n      <td>0.000000e+00</td>\n      <td>0.000000</td>\n      <td>4.532467e+06</td>\n      <td>0.004755</td>\n      <td>0.0</td>\n      <td>0.0</td>\n    </tr>\n    <tr>\n      <th>1</th>\n      <td>1.336868e+08</td>\n      <td>0.100695</td>\n      <td>0.000000e+00</td>\n      <td>0.000000</td>\n      <td>0.000000e+00</td>\n      <td>0.000000</td>\n      <td>0.000000e+00</td>\n      <td>0.000000</td>\n      <td>1.594237e+07</td>\n      <td>0.015520</td>\n      <td>0.0</td>\n      <td>0.0</td>\n    </tr>\n    <tr>\n      <th>2</th>\n      <td>0.000000e+00</td>\n      <td>0.000000</td>\n      <td>1.662066e+07</td>\n      <td>0.018236</td>\n      <td>1.676546e+09</td>\n      <td>3.156394</td>\n      <td>1.161966e+06</td>\n      <td>0.000527</td>\n      <td>0.000000e+00</td>\n      <td>0.000000</td>\n      <td>0.0</td>\n      <td>0.0</td>\n    </tr>\n    <tr>\n      <th>3</th>\n      <td>2.971859e+09</td>\n      <td>1.724916</td>\n      <td>0.000000e+00</td>\n      <td>0.000000</td>\n      <td>0.000000e+00</td>\n      <td>0.000000</td>\n      <td>0.000000e+00</td>\n      <td>0.000000</td>\n      <td>0.000000e+00</td>\n      <td>0.000000</td>\n      <td>0.0</td>\n      <td>0.0</td>\n    </tr>\n    <tr>\n      <th>4</th>\n      <td>2.329198e+09</td>\n      <td>1.708903</td>\n      <td>0.000000e+00</td>\n      <td>0.000000</td>\n      <td>0.000000e+00</td>\n      <td>0.000000</td>\n      <td>0.000000e+00</td>\n      <td>0.000000</td>\n      <td>0.000000e+00</td>\n      <td>0.000000</td>\n      <td>0.0</td>\n      <td>0.0</td>\n    </tr>\n    <tr>\n      <th>5</th>\n      <td>5.315931e+08</td>\n      <td>0.315796</td>\n      <td>5.297092e+06</td>\n      <td>0.004236</td>\n      <td>0.000000e+00</td>\n      <td>0.000000</td>\n      <td>0.000000e+00</td>\n      <td>0.000000</td>\n      <td>7.512315e+06</td>\n      <td>0.005755</td>\n      <td>0.0</td>\n      <td>0.0</td>\n    </tr>\n    <tr>\n      <th>6</th>\n      <td>2.597860e+09</td>\n      <td>1.718749</td>\n      <td>8.142400e+08</td>\n      <td>0.666378</td>\n      <td>0.000000e+00</td>\n      <td>0.000000</td>\n      <td>0.000000e+00</td>\n      <td>0.000000</td>\n      <td>0.000000e+00</td>\n      <td>0.000000</td>\n      <td>0.0</td>\n      <td>0.0</td>\n    </tr>\n    <tr>\n      <th>7</th>\n      <td>0.000000e+00</td>\n      <td>0.000000</td>\n      <td>5.227102e+07</td>\n      <td>0.040808</td>\n      <td>2.329209e+09</td>\n      <td>3.186351</td>\n      <td>0.000000e+00</td>\n      <td>0.000000</td>\n      <td>0.000000e+00</td>\n      <td>0.000000</td>\n      <td>0.0</td>\n      <td>0.0</td>\n    </tr>\n    <tr>\n      <th>8</th>\n      <td>3.530799e+09</td>\n      <td>1.739422</td>\n      <td>1.608878e+07</td>\n      <td>0.010460</td>\n      <td>1.842785e+09</td>\n      <td>2.212650</td>\n      <td>0.000000e+00</td>\n      <td>0.000000</td>\n      <td>0.000000e+00</td>\n      <td>0.000000</td>\n      <td>0.0</td>\n      <td>0.0</td>\n    </tr>\n    <tr>\n      <th>9</th>\n      <td>2.786890e+09</td>\n      <td>1.723610</td>\n      <td>3.608417e+06</td>\n      <td>0.002738</td>\n      <td>7.765745e+06</td>\n      <td>0.011805</td>\n      <td>0.000000e+00</td>\n      <td>0.000000</td>\n      <td>0.000000e+00</td>\n      <td>0.000000</td>\n      <td>0.0</td>\n      <td>0.0</td>\n    </tr>\n    <tr>\n      <th>10</th>\n      <td>3.398594e+07</td>\n      <td>0.036230</td>\n      <td>3.278221e+06</td>\n      <td>0.004838</td>\n      <td>3.124628e+07</td>\n      <td>0.084795</td>\n      <td>9.596112e+05</td>\n      <td>0.000805</td>\n      <td>1.097648e+08</td>\n      <td>0.148268</td>\n      <td>0.0</td>\n      <td>0.0</td>\n    </tr>\n    <tr>\n      <th>11</th>\n      <td>2.783902e+08</td>\n      <td>0.192451</td>\n      <td>0.000000e+00</td>\n      <td>0.000000</td>\n      <td>0.000000e+00</td>\n      <td>0.000000</td>\n      <td>0.000000e+00</td>\n      <td>0.000000</td>\n      <td>0.000000e+00</td>\n      <td>0.000000</td>\n      <td>0.0</td>\n      <td>0.0</td>\n    </tr>\n    <tr>\n      <th>12</th>\n      <td>1.526527e+09</td>\n      <td>0.960169</td>\n      <td>4.595649e+06</td>\n      <td>0.003894</td>\n      <td>0.000000e+00</td>\n      <td>0.000000</td>\n      <td>4.308763e+07</td>\n      <td>0.017277</td>\n      <td>0.000000e+00</td>\n      <td>0.000000</td>\n      <td>0.0</td>\n      <td>0.0</td>\n    </tr>\n    <tr>\n      <th>13</th>\n      <td>2.785842e+09</td>\n      <td>1.722797</td>\n      <td>0.000000e+00</td>\n      <td>0.000000</td>\n      <td>0.000000e+00</td>\n      <td>0.000000</td>\n      <td>0.000000e+00</td>\n      <td>0.000000</td>\n      <td>0.000000e+00</td>\n      <td>0.000000</td>\n      <td>0.0</td>\n      <td>0.0</td>\n    </tr>\n    <tr>\n      <th>14</th>\n      <td>4.817804e+07</td>\n      <td>0.036709</td>\n      <td>1.078152e+08</td>\n      <td>0.106591</td>\n      <td>0.000000e+00</td>\n      <td>0.000000</td>\n      <td>0.000000e+00</td>\n      <td>0.000000</td>\n      <td>0.000000e+00</td>\n      <td>0.000000</td>\n      <td>0.0</td>\n      <td>0.0</td>\n    </tr>\n    <tr>\n      <th>15</th>\n      <td>4.373830e+07</td>\n      <td>0.027884</td>\n      <td>6.480733e+07</td>\n      <td>0.054541</td>\n      <td>2.127383e+09</td>\n      <td>3.164719</td>\n      <td>9.742957e+07</td>\n      <td>0.036000</td>\n      <td>0.000000e+00</td>\n      <td>0.000000</td>\n      <td>0.0</td>\n      <td>0.0</td>\n    </tr>\n    <tr>\n      <th>16</th>\n      <td>1.646992e+07</td>\n      <td>0.013150</td>\n      <td>7.900965e+07</td>\n      <td>0.082066</td>\n      <td>6.786651e+06</td>\n      <td>0.013291</td>\n      <td>0.000000e+00</td>\n      <td>0.000000</td>\n      <td>9.246263e+08</td>\n      <td>0.879220</td>\n      <td>0.0</td>\n      <td>0.0</td>\n    </tr>\n    <tr>\n      <th>17</th>\n      <td>7.631879e+07</td>\n      <td>0.070447</td>\n      <td>3.204412e+08</td>\n      <td>0.369620</td>\n      <td>3.411575e+07</td>\n      <td>0.077806</td>\n      <td>0.000000e+00</td>\n      <td>0.000000</td>\n      <td>0.000000e+00</td>\n      <td>0.000000</td>\n      <td>0.0</td>\n      <td>0.0</td>\n    </tr>\n    <tr>\n      <th>18</th>\n      <td>2.370672e+09</td>\n      <td>1.747125</td>\n      <td>7.564563e+08</td>\n      <td>0.698468</td>\n      <td>0.000000e+00</td>\n      <td>0.000000</td>\n      <td>0.000000e+00</td>\n      <td>0.000000</td>\n      <td>0.000000e+00</td>\n      <td>0.000000</td>\n      <td>0.0</td>\n      <td>0.0</td>\n    </tr>\n    <tr>\n      <th>19</th>\n      <td>2.171790e+09</td>\n      <td>1.689227</td>\n      <td>8.403953e+06</td>\n      <td>0.009112</td>\n      <td>0.000000e+00</td>\n      <td>0.000000</td>\n      <td>2.303758e+07</td>\n      <td>0.011939</td>\n      <td>0.000000e+00</td>\n      <td>0.000000</td>\n      <td>0.0</td>\n      <td>0.0</td>\n    </tr>\n    <tr>\n      <th>20</th>\n      <td>2.829837e+06</td>\n      <td>0.002029</td>\n      <td>8.732576e+07</td>\n      <td>0.081091</td>\n      <td>1.012053e+09</td>\n      <td>1.715973</td>\n      <td>1.477778e+07</td>\n      <td>0.006548</td>\n      <td>0.000000e+00</td>\n      <td>0.000000</td>\n      <td>0.0</td>\n      <td>0.0</td>\n    </tr>\n    <tr>\n      <th>21</th>\n      <td>0.000000e+00</td>\n      <td>0.000000</td>\n      <td>2.045332e+07</td>\n      <td>0.023622</td>\n      <td>6.987751e+06</td>\n      <td>0.015246</td>\n      <td>0.000000e+00</td>\n      <td>0.000000</td>\n      <td>2.231687e+08</td>\n      <td>0.239472</td>\n      <td>0.0</td>\n      <td>0.0</td>\n    </tr>\n    <tr>\n      <th>22</th>\n      <td>1.659402e+07</td>\n      <td>0.012741</td>\n      <td>1.378243e+07</td>\n      <td>0.014344</td>\n      <td>1.574905e+08</td>\n      <td>0.300127</td>\n      <td>4.098908e+05</td>\n      <td>0.000232</td>\n      <td>3.563012e+08</td>\n      <td>0.336747</td>\n      <td>0.0</td>\n      <td>0.0</td>\n    </tr>\n    <tr>\n      <th>23</th>\n      <td>2.779768e+09</td>\n      <td>1.718086</td>\n      <td>8.543735e+07</td>\n      <td>0.072293</td>\n      <td>1.487034e+08</td>\n      <td>0.242862</td>\n      <td>0.000000e+00</td>\n      <td>0.000000</td>\n      <td>1.138058e+07</td>\n      <td>0.009442</td>\n      <td>0.0</td>\n      <td>0.0</td>\n    </tr>\n    <tr>\n      <th>24</th>\n      <td>2.962152e+09</td>\n      <td>1.717852</td>\n      <td>0.000000e+00</td>\n      <td>0.000000</td>\n      <td>0.000000e+00</td>\n      <td>0.000000</td>\n      <td>1.188956e+06</td>\n      <td>0.000481</td>\n      <td>0.000000e+00</td>\n      <td>0.000000</td>\n      <td>0.0</td>\n      <td>0.0</td>\n    </tr>\n    <tr>\n      <th>25</th>\n      <td>9.312149e+08</td>\n      <td>0.621021</td>\n      <td>3.334426e+07</td>\n      <td>0.029843</td>\n      <td>1.864713e+09</td>\n      <td>3.065440</td>\n      <td>2.319406e+07</td>\n      <td>0.007920</td>\n      <td>0.000000e+00</td>\n      <td>0.000000</td>\n      <td>0.0</td>\n      <td>0.0</td>\n    </tr>\n    <tr>\n      <th>26</th>\n      <td>9.721739e+07</td>\n      <td>0.065365</td>\n      <td>3.569826e+07</td>\n      <td>0.032208</td>\n      <td>1.598710e+09</td>\n      <td>2.563728</td>\n      <td>0.000000e+00</td>\n      <td>0.000000</td>\n      <td>0.000000e+00</td>\n      <td>0.000000</td>\n      <td>0.0</td>\n      <td>0.0</td>\n    </tr>\n    <tr>\n      <th>27</th>\n      <td>0.000000e+00</td>\n      <td>0.000000</td>\n      <td>2.332048e+08</td>\n      <td>0.214251</td>\n      <td>7.340129e+08</td>\n      <td>1.273310</td>\n      <td>4.570935e+06</td>\n      <td>0.002100</td>\n      <td>0.000000e+00</td>\n      <td>0.000000</td>\n      <td>0.0</td>\n      <td>0.0</td>\n    </tr>\n    <tr>\n      <th>28</th>\n      <td>0.000000e+00</td>\n      <td>0.000000</td>\n      <td>1.181620e+08</td>\n      <td>0.138364</td>\n      <td>4.099603e+07</td>\n      <td>0.091887</td>\n      <td>0.000000e+00</td>\n      <td>0.000000</td>\n      <td>6.243942e+06</td>\n      <td>0.007021</td>\n      <td>0.0</td>\n      <td>0.0</td>\n    </tr>\n    <tr>\n      <th>29</th>\n      <td>2.164237e+09</td>\n      <td>1.734895</td>\n      <td>2.766432e+07</td>\n      <td>0.026879</td>\n      <td>0.000000e+00</td>\n      <td>0.000000</td>\n      <td>0.000000e+00</td>\n      <td>0.000000</td>\n      <td>0.000000e+00</td>\n      <td>0.000000</td>\n      <td>0.0</td>\n      <td>0.0</td>\n    </tr>\n    <tr>\n      <th>30</th>\n      <td>4.280967e+08</td>\n      <td>0.306753</td>\n      <td>0.000000e+00</td>\n      <td>0.000000</td>\n      <td>7.931646e+08</td>\n      <td>1.422829</td>\n      <td>0.000000e+00</td>\n      <td>0.000000</td>\n      <td>0.000000e+00</td>\n      <td>0.000000</td>\n      <td>0.0</td>\n      <td>0.0</td>\n    </tr>\n    <tr>\n      <th>31</th>\n      <td>0.000000e+00</td>\n      <td>0.000000</td>\n      <td>4.703412e+06</td>\n      <td>0.004886</td>\n      <td>5.947964e+07</td>\n      <td>0.113186</td>\n      <td>1.564926e+08</td>\n      <td>0.068265</td>\n      <td>0.000000e+00</td>\n      <td>0.000000</td>\n      <td>0.0</td>\n      <td>0.0</td>\n    </tr>\n    <tr>\n      <th>32</th>\n      <td>1.328119e+08</td>\n      <td>0.097795</td>\n      <td>6.999233e+08</td>\n      <td>0.630381</td>\n      <td>0.000000e+00</td>\n      <td>0.000000</td>\n      <td>0.000000e+00</td>\n      <td>0.000000</td>\n      <td>0.000000e+00</td>\n      <td>0.000000</td>\n      <td>0.0</td>\n      <td>0.0</td>\n    </tr>\n    <tr>\n      <th>33</th>\n      <td>1.869882e+09</td>\n      <td>1.695595</td>\n      <td>1.014053e+08</td>\n      <td>0.125885</td>\n      <td>1.778176e+08</td>\n      <td>0.424422</td>\n      <td>0.000000e+00</td>\n      <td>0.000000</td>\n      <td>0.000000e+00</td>\n      <td>0.000000</td>\n      <td>0.0</td>\n      <td>0.0</td>\n    </tr>\n    <tr>\n      <th>34</th>\n      <td>0.000000e+00</td>\n      <td>0.000000</td>\n      <td>2.221156e+08</td>\n      <td>0.214972</td>\n      <td>0.000000e+00</td>\n      <td>0.000000</td>\n      <td>0.000000e+00</td>\n      <td>0.000000</td>\n      <td>0.000000e+00</td>\n      <td>0.000000</td>\n      <td>0.0</td>\n      <td>0.0</td>\n    </tr>\n    <tr>\n      <th>35</th>\n      <td>0.000000e+00</td>\n      <td>0.000000</td>\n      <td>2.813995e+07</td>\n      <td>0.034844</td>\n      <td>2.371463e+07</td>\n      <td>0.055869</td>\n      <td>4.285175e+07</td>\n      <td>0.025692</td>\n      <td>0.000000e+00</td>\n      <td>0.000000</td>\n      <td>0.0</td>\n      <td>0.0</td>\n    </tr>\n    <tr>\n      <th>36</th>\n      <td>2.124626e+09</td>\n      <td>1.384779</td>\n      <td>0.000000e+00</td>\n      <td>0.000000</td>\n      <td>7.066550e+07</td>\n      <td>0.122075</td>\n      <td>3.013783e+07</td>\n      <td>0.013214</td>\n      <td>8.635064e+08</td>\n      <td>0.689948</td>\n      <td>0.0</td>\n      <td>0.0</td>\n    </tr>\n    <tr>\n      <th>37</th>\n      <td>0.000000e+00</td>\n      <td>0.000000</td>\n      <td>2.317312e+07</td>\n      <td>0.028242</td>\n      <td>2.949368e+07</td>\n      <td>0.067838</td>\n      <td>7.369747e+07</td>\n      <td>0.042225</td>\n      <td>2.510817e+08</td>\n      <td>0.274731</td>\n      <td>0.0</td>\n      <td>0.0</td>\n    </tr>\n    <tr>\n      <th>38</th>\n      <td>3.159696e+08</td>\n      <td>0.189561</td>\n      <td>5.884137e+07</td>\n      <td>0.047720</td>\n      <td>1.752192e+09</td>\n      <td>2.562380</td>\n      <td>1.450096e+06</td>\n      <td>0.000565</td>\n      <td>0.000000e+00</td>\n      <td>0.000000</td>\n      <td>0.0</td>\n      <td>0.0</td>\n    </tr>\n    <tr>\n      <th>39</th>\n      <td>2.228770e+09</td>\n      <td>1.745037</td>\n      <td>0.000000e+00</td>\n      <td>0.000000</td>\n      <td>4.034870e+07</td>\n      <td>0.083743</td>\n      <td>0.000000e+00</td>\n      <td>0.000000</td>\n      <td>0.000000e+00</td>\n      <td>0.000000</td>\n      <td>0.0</td>\n      <td>0.0</td>\n    </tr>\n  </tbody>\n</table>\n</div>"
     },
     "execution_count": 29,
     "metadata": {},
     "output_type": "execute_result"
    }
   ],
   "source": [
    "pd.DataFrame(outcomes) "
   ],
   "metadata": {
    "collapsed": false,
    "ExecuteTime": {
     "end_time": "2024-06-05T09:43:46.174252Z",
     "start_time": "2024-06-05T09:43:46.124237Z"
    }
   },
   "id": "d0240e4529f61211",
   "execution_count": 29
  },
  {
   "cell_type": "code",
   "outputs": [
    {
     "ename": "TypeError",
     "evalue": "unhashable type: 'list'",
     "output_type": "error",
     "traceback": [
      "\u001B[1;31m---------------------------------------------------------------------------\u001B[0m",
      "\u001B[1;31mTypeError\u001B[0m                                 Traceback (most recent call last)",
      "Cell \u001B[1;32mIn[30], line 1\u001B[0m\n\u001B[1;32m----> 1\u001B[0m \u001B[43moutcomes\u001B[49m\u001B[43m[\u001B[49m\u001B[43m[\u001B[49m\u001B[38;5;124;43m'\u001B[39;49m\u001B[38;5;124;43mA.5 Total Costs\u001B[39;49m\u001B[38;5;124;43m'\u001B[39;49m\u001B[43m,\u001B[49m\u001B[43m \u001B[49m\u001B[38;5;124;43m'\u001B[39;49m\u001B[38;5;124;43mA.5_Expected Number of Deaths\u001B[39;49m\u001B[38;5;124;43m'\u001B[39;49m\u001B[43m]\u001B[49m\u001B[43m]\u001B[49m\n",
      "\u001B[1;31mTypeError\u001B[0m: unhashable type: 'list'"
     ]
    }
   ],
   "source": [
    "outcomes[['A.5 Total Costs', 'A.5_Expected Number of Deaths']]"
   ],
   "metadata": {
    "collapsed": false,
    "ExecuteTime": {
     "end_time": "2024-06-05T09:43:46.214456Z",
     "start_time": "2024-06-05T09:43:46.176780Z"
    }
   },
   "id": "d6ee990c50967042",
   "execution_count": 30
  },
  {
   "cell_type": "code",
   "outputs": [],
   "source": [
    "outcomes_feaimp = outcomes"
   ],
   "metadata": {
    "collapsed": false,
    "ExecuteTime": {
     "start_time": "2024-06-05T09:43:46.217867Z"
    }
   },
   "id": "cb3448611d8e1245"
  },
  {
   "cell_type": "markdown",
   "source": [],
   "metadata": {
    "collapsed": false
   },
   "id": "52f7d130af9174c3"
  },
  {
   "cell_type": "code",
   "outputs": [],
   "source": [
    "x = experiments_unc\n",
    "y = outcomes\n",
    "\n",
    "fs = feature_scoring.get_feature_scores_all(x, y)\n",
    "sns.heatmap(fs, cmap=\"viridis\", annot=True)\n",
    "plt.show()"
   ],
   "metadata": {
    "collapsed": false,
    "ExecuteTime": {
     "start_time": "2024-06-05T09:43:46.220406Z"
    }
   },
   "id": "e8415fad6b3d9dfa",
   "execution_count": null
  },
  {
   "cell_type": "code",
   "outputs": [],
   "source": [
    "outcomes[\"A.5_Expected Number of Deaths\"]"
   ],
   "metadata": {
    "collapsed": false,
    "ExecuteTime": {
     "start_time": "2024-06-05T09:43:46.222687Z"
    }
   },
   "id": "57049ad9d84a0c97",
   "execution_count": null
  },
  {
   "cell_type": "code",
   "outputs": [],
   "source": [
    "outcomes.keys()\n"
   ],
   "metadata": {
    "collapsed": false,
    "ExecuteTime": {
     "start_time": "2024-06-05T09:43:46.224909Z"
    }
   },
   "id": "4830b1b3e958c91a",
   "execution_count": null
  },
  {
   "cell_type": "code",
   "outputs": [],
   "source": [],
   "metadata": {
    "collapsed": false
   },
   "id": "efa2a16f771fb1cb",
   "execution_count": null
  },
  {
   "cell_type": "code",
   "outputs": [],
   "source": [
    "import pandas as pd"
   ],
   "metadata": {
    "collapsed": false
   },
   "id": "fd3c003869d8ed99",
   "execution_count": null
  },
  {
   "cell_type": "code",
   "outputs": [],
   "source": [
    "df =pd.DataFrame(outcomes)"
   ],
   "metadata": {
    "collapsed": false,
    "ExecuteTime": {
     "start_time": "2024-06-05T09:43:46.234485Z"
    }
   },
   "id": "f7658eaf2e9bdf3b",
   "execution_count": null
  },
  {
   "cell_type": "code",
   "outputs": [],
   "source": [
    "from ema_workbench.em_framework.salib_samplers import get_SALib_problem"
   ],
   "metadata": {
    "collapsed": false
   },
   "id": "e54fed1f35054a10",
   "execution_count": null
  },
  {
   "cell_type": "code",
   "outputs": [],
   "source": [
    "problem = get_SALib_problem(dike_model.uncertainties)\n",
    "print(problem)"
   ],
   "metadata": {
    "collapsed": false,
    "ExecuteTime": {
     "start_time": "2024-06-05T09:43:46.240398Z"
    }
   },
   "id": "166f34ac8db26b66",
   "execution_count": null
  },
  {
   "cell_type": "code",
   "outputs": [],
   "source": [
    "Si = sobol.analyze(problem, outcomes[\"A.5 Total Costs\"], calc_second_order=True, print_to_console=True)\n",
    "Si_filter = {k:Si[k] for k in ['ST','ST_conf','S1','S1_conf']}\n",
    "Si_df = pd.DataFrame(Si_filter, index=problem['names'])\n",
    "\n",
    "sns.set_style('white')\n",
    "fig, ax = plt.subplots(1)\n",
    "\n",
    "indices = Si_df[['S1','ST']]\n",
    "err = Si_df[['S1_conf','ST_conf']]\n",
    "\n",
    "indices.plot.bar(yerr=err.values.T,ax=ax)\n",
    "fig.set_size_inches(8,6)\n",
    "fig.subplots_adjust(bottom=0.3)\n",
    "plt.show()"
   ],
   "metadata": {
    "collapsed": false
   },
   "id": "9d2c5e5b1c80ceb2",
   "execution_count": null
  },
  {
   "cell_type": "code",
   "outputs": [],
   "source": [
    "Si = sobol.analyze(problem, outcomes[\"A.5_Expected Number of Deaths\"], calc_second_order=True, print_to_console=True)\n",
    "Si_filter = {k:Si[k] for k in ['ST','ST_conf','S1','S1_conf']}\n",
    "Si_df = pd.DataFrame(Si_filter, index=problem['names'])\n",
    "\n",
    "sns.set_style('white')\n",
    "fig, ax = plt.subplots(1)\n",
    "\n",
    "indices = Si_df[['S1','ST']]\n",
    "err = Si_df[['S1_conf','ST_conf']]\n",
    "\n",
    "indices.plot.bar(yerr=err.values.T,ax=ax)\n",
    "fig.set_size_inches(8,6)\n",
    "fig.subplots_adjust(bottom=0.3)\n",
    "plt.show()"
   ],
   "metadata": {
    "collapsed": false,
    "ExecuteTime": {
     "start_time": "2024-06-05T09:43:46.244785Z"
    }
   },
   "id": "82b7b2354143b517",
   "execution_count": null
  },
  {
   "cell_type": "code",
   "outputs": [],
   "source": [],
   "metadata": {
    "collapsed": false,
    "ExecuteTime": {
     "start_time": "2024-06-05T09:43:46.247075Z"
    }
   },
   "id": "91057657976a8a4f",
   "execution_count": null
  }
 ],
 "metadata": {
  "kernelspec": {
   "display_name": "Python 3",
   "language": "python",
   "name": "python3"
  },
  "language_info": {
   "codemirror_mode": {
    "name": "ipython",
    "version": 2
   },
   "file_extension": ".py",
   "mimetype": "text/x-python",
   "name": "python",
   "nbconvert_exporter": "python",
   "pygments_lexer": "ipython2",
   "version": "2.7.6"
  }
 },
 "nbformat": 4,
 "nbformat_minor": 5
}
