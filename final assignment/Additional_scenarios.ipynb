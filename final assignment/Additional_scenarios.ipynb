{
 "cells": [
  {
   "cell_type": "markdown",
   "source": [
    "K-means clustering"
   ],
   "metadata": {
    "collapsed": false
   },
   "id": "e16c2c548321f5b3"
  },
  {
   "cell_type": "code",
   "execution_count": 4,
   "outputs": [
    {
     "name": "stderr",
     "output_type": "stream",
     "text": [
      "[MainProcess/INFO] pool started with 12 workers\n",
      "[MainProcess/INFO] performing 1000 scenarios * 1 policies * 1 model(s) = 1000 experiments\n",
      "100%|██████████████████████████████████████| 1000/1000 [01:31<00:00, 10.95it/s]\n",
      "[MainProcess/INFO] experiments finished\n",
      "[MainProcess/INFO] terminating pool\n"
     ]
    },
    {
     "name": "stdout",
     "output_type": "stream",
     "text": [
      "Selected representative scenarios based on uncertainty variables:\n",
      "[119, 667, 882, 37, 872]\n"
     ]
    }
   ],
   "source": [
    "import pandas as pd\n",
    "import numpy as np\n",
    "from sklearn.cluster import KMeans\n",
    "from ema_workbench import (Policy, ema_logging, MultiprocessingEvaluator, Samplers)\n",
    "from problem_formulation import get_model_for_problem_formulation\n",
    "\n",
    "# Setup logging\n",
    "ema_logging.log_to_stderr(ema_logging.INFO)\n",
    "\n",
    "# Load the model\n",
    "dike_model, planning_steps = get_model_for_problem_formulation(6)\n",
    "\n",
    "# REPLACE POLICY BELOW WITH OWN POLICY ???\n",
    "# Define the zero policy\n",
    "zero_policy = {\"DaysToThreat\": 0}\n",
    "zero_policy.update({f\"DikeIncrease {n}\": 0 for n in planning_steps})\n",
    "zero_policy.update({f\"RfR {n}\": 0 for n in planning_steps})\n",
    "\n",
    "pol0 = {}\n",
    "for key in dike_model.levers:\n",
    "    s1, s2 = key.name.split(\"_\")\n",
    "    pol0.update({key.name: zero_policy[s2]})\n",
    "policy0 = Policy(\"Policy 0\", **pol0)\n",
    "\n",
    "\n",
    "\n",
    "# Perform experiments\n",
    "with MultiprocessingEvaluator(dike_model) as evaluator:\n",
    "    results = evaluator.perform_experiments(scenarios=1000, policies=policy0, uncertainty_sampling=Samplers.LHS)\n",
    "exp, outcomes = results\n",
    "\n",
    "# Convert the experimental results into a DataFrame\n",
    "exp_df = pd.DataFrame(exp)\n",
    "\n",
    "# Extract uncertainty variables\n",
    "uncertainty_vars = [var.name for var in dike_model.uncertainties]\n",
    "uncertainty_data = exp_df[uncertainty_vars].values\n",
    "\n",
    "# Normalize the data\n",
    "from sklearn.preprocessing import StandardScaler\n",
    "scaler = StandardScaler()\n",
    "normalized_uncertainty_data = scaler.fit_transform(uncertainty_data)\n",
    "\n",
    "# Define the number of clusters\n",
    "n_clusters = 5  # Adjust the number of clusters based on your needs\n",
    "\n",
    "# Perform K-means clustering\n",
    "kmeans = KMeans(n_clusters=n_clusters, random_state=42)\n",
    "kmeans.fit(normalized_uncertainty_data)\n",
    "labels = kmeans.labels_\n",
    "\n",
    "# Select a representative scenario from each cluster\n",
    "representative_scenarios = []\n",
    "for i in range(n_clusters):\n",
    "    cluster_indices = np.where(labels == i)[0]\n",
    "    cluster_center = kmeans.cluster_centers_[i]\n",
    "    # Find the scenario closest to the cluster center\n",
    "    distances = np.linalg.norm(normalized_uncertainty_data[cluster_indices] - cluster_center, axis=1)\n",
    "    representative_index = cluster_indices[np.argmin(distances)]\n",
    "    representative_scenarios.append(representative_index)\n",
    "\n",
    "# Print the selected representative scenarios\n",
    "print(\"Selected representative scenarios based on uncertainty variables:\")\n",
    "print(representative_scenarios)\n"
   ],
   "metadata": {
    "collapsed": false,
    "ExecuteTime": {
     "end_time": "2024-06-18T08:26:34.395205800Z",
     "start_time": "2024-06-18T08:24:22.663124100Z"
    }
   },
   "id": "9b1e7f5cd56ae59c"
  },
  {
   "cell_type": "code",
   "execution_count": 3,
   "outputs": [
    {
     "data": {
      "text/plain": "    A.0_ID flood wave shape    A.1_Bmax A.1_Brate  A.1_pfail    A.2_Bmax  \\\n37                       80  146.814252       1.0   0.664392  172.799984   \n60                       48   82.432006       1.5   0.689514  274.825576   \n5                        61  272.948683       1.0   0.671050  149.116912   \n28                       96  222.784445      10.0   0.892629  262.315396   \n36                       47  249.742751       1.5   0.376924  215.018222   \n\n   A.2_Brate  A.2_pfail    A.3_Bmax A.3_Brate  A.3_pfail  ...  \\\n37       1.0   0.331798  327.243063      10.0   0.656563  ...   \n60       1.0   0.521840  303.280548       1.0   0.075431  ...   \n5        1.5   0.972173   73.335783      10.0   0.487231  ...   \n28       1.0   0.471709   40.114086       1.5   0.511433  ...   \n36       1.0   0.957129  170.275372       1.0   0.897431  ...   \n\n    A.3_DikeIncrease 2 A.4_DikeIncrease 0  A.4_DikeIncrease 1  \\\n37                   0                  0                   0   \n60                   0                  0                   0   \n5                    0                  0                   0   \n28                   0                  0                   0   \n36                   0                  0                   0   \n\n    A.4_DikeIncrease 2 A.5_DikeIncrease 0  A.5_DikeIncrease 1  \\\n37                   0                  0                   0   \n60                   0                  0                   0   \n5                    0                  0                   0   \n28                   0                  0                   0   \n36                   0                  0                   0   \n\n   A.5_DikeIncrease 2 scenario    policy     model  \n37                  0       37  Policy 0  dikesnet  \n60                  0       60  Policy 0  dikesnet  \n5                   0        5  Policy 0  dikesnet  \n28                  0       28  Policy 0  dikesnet  \n36                  0       36  Policy 0  dikesnet  \n\n[5 rows x 53 columns]",
      "text/html": "<div>\n<style scoped>\n    .dataframe tbody tr th:only-of-type {\n        vertical-align: middle;\n    }\n\n    .dataframe tbody tr th {\n        vertical-align: top;\n    }\n\n    .dataframe thead th {\n        text-align: right;\n    }\n</style>\n<table border=\"1\" class=\"dataframe\">\n  <thead>\n    <tr style=\"text-align: right;\">\n      <th></th>\n      <th>A.0_ID flood wave shape</th>\n      <th>A.1_Bmax</th>\n      <th>A.1_Brate</th>\n      <th>A.1_pfail</th>\n      <th>A.2_Bmax</th>\n      <th>A.2_Brate</th>\n      <th>A.2_pfail</th>\n      <th>A.3_Bmax</th>\n      <th>A.3_Brate</th>\n      <th>A.3_pfail</th>\n      <th>...</th>\n      <th>A.3_DikeIncrease 2</th>\n      <th>A.4_DikeIncrease 0</th>\n      <th>A.4_DikeIncrease 1</th>\n      <th>A.4_DikeIncrease 2</th>\n      <th>A.5_DikeIncrease 0</th>\n      <th>A.5_DikeIncrease 1</th>\n      <th>A.5_DikeIncrease 2</th>\n      <th>scenario</th>\n      <th>policy</th>\n      <th>model</th>\n    </tr>\n  </thead>\n  <tbody>\n    <tr>\n      <th>37</th>\n      <td>80</td>\n      <td>146.814252</td>\n      <td>1.0</td>\n      <td>0.664392</td>\n      <td>172.799984</td>\n      <td>1.0</td>\n      <td>0.331798</td>\n      <td>327.243063</td>\n      <td>10.0</td>\n      <td>0.656563</td>\n      <td>...</td>\n      <td>0</td>\n      <td>0</td>\n      <td>0</td>\n      <td>0</td>\n      <td>0</td>\n      <td>0</td>\n      <td>0</td>\n      <td>37</td>\n      <td>Policy 0</td>\n      <td>dikesnet</td>\n    </tr>\n    <tr>\n      <th>60</th>\n      <td>48</td>\n      <td>82.432006</td>\n      <td>1.5</td>\n      <td>0.689514</td>\n      <td>274.825576</td>\n      <td>1.0</td>\n      <td>0.521840</td>\n      <td>303.280548</td>\n      <td>1.0</td>\n      <td>0.075431</td>\n      <td>...</td>\n      <td>0</td>\n      <td>0</td>\n      <td>0</td>\n      <td>0</td>\n      <td>0</td>\n      <td>0</td>\n      <td>0</td>\n      <td>60</td>\n      <td>Policy 0</td>\n      <td>dikesnet</td>\n    </tr>\n    <tr>\n      <th>5</th>\n      <td>61</td>\n      <td>272.948683</td>\n      <td>1.0</td>\n      <td>0.671050</td>\n      <td>149.116912</td>\n      <td>1.5</td>\n      <td>0.972173</td>\n      <td>73.335783</td>\n      <td>10.0</td>\n      <td>0.487231</td>\n      <td>...</td>\n      <td>0</td>\n      <td>0</td>\n      <td>0</td>\n      <td>0</td>\n      <td>0</td>\n      <td>0</td>\n      <td>0</td>\n      <td>5</td>\n      <td>Policy 0</td>\n      <td>dikesnet</td>\n    </tr>\n    <tr>\n      <th>28</th>\n      <td>96</td>\n      <td>222.784445</td>\n      <td>10.0</td>\n      <td>0.892629</td>\n      <td>262.315396</td>\n      <td>1.0</td>\n      <td>0.471709</td>\n      <td>40.114086</td>\n      <td>1.5</td>\n      <td>0.511433</td>\n      <td>...</td>\n      <td>0</td>\n      <td>0</td>\n      <td>0</td>\n      <td>0</td>\n      <td>0</td>\n      <td>0</td>\n      <td>0</td>\n      <td>28</td>\n      <td>Policy 0</td>\n      <td>dikesnet</td>\n    </tr>\n    <tr>\n      <th>36</th>\n      <td>47</td>\n      <td>249.742751</td>\n      <td>1.5</td>\n      <td>0.376924</td>\n      <td>215.018222</td>\n      <td>1.0</td>\n      <td>0.957129</td>\n      <td>170.275372</td>\n      <td>1.0</td>\n      <td>0.897431</td>\n      <td>...</td>\n      <td>0</td>\n      <td>0</td>\n      <td>0</td>\n      <td>0</td>\n      <td>0</td>\n      <td>0</td>\n      <td>0</td>\n      <td>36</td>\n      <td>Policy 0</td>\n      <td>dikesnet</td>\n    </tr>\n  </tbody>\n</table>\n<p>5 rows × 53 columns</p>\n</div>"
     },
     "execution_count": 3,
     "metadata": {},
     "output_type": "execute_result"
    }
   ],
   "source": [
    "exp_df.loc[[37, 60, 5, 28, 36]]"
   ],
   "metadata": {
    "collapsed": false,
    "ExecuteTime": {
     "end_time": "2024-06-18T08:20:30.352781100Z",
     "start_time": "2024-06-18T08:20:30.294749200Z"
    }
   },
   "id": "5774531d6c20e562"
  },
  {
   "cell_type": "markdown",
   "source": [
    "Eker & Kwakkel --> Distance"
   ],
   "metadata": {
    "collapsed": false
   },
   "id": "81d318f9a06c1d6"
  },
  {
   "cell_type": "code",
   "execution_count": 1,
   "id": "initial_id",
   "metadata": {
    "collapsed": true,
    "ExecuteTime": {
     "end_time": "2024-06-18T07:51:16.626097300Z",
     "start_time": "2024-06-18T07:51:13.326572600Z"
    }
   },
   "outputs": [],
   "source": [
    "import pandas as pd\n",
    "import numpy as np\n",
    "import scipy as sp\n",
    "import pandas as pd\n",
    "import matplotlib.pyplot as plt\n",
    "import seaborn as sns\n",
    "import networkx as nx\n",
    "from SALib.analyze import sobol\n",
    "import warnings\n",
    "from ema_workbench.analysis import feature_scoring\n",
    "from ema_workbench.em_framework.salib_samplers import get_SALib_problem\n",
    "from ema_workbench import (\n",
    "    Model,\n",
    "    Policy,\n",
    "    ema_logging,\n",
    "    SequentialEvaluator,\n",
    "    MultiprocessingEvaluator,\n",
    "    perform_experiments,\n",
    "    Samplers,\n",
    "    SequentialEvaluator,\n",
    ")\n",
    "import time\n",
    "import itertools\n",
    "import multiprocessing\n",
    "from ema_workbench.em_framework import sample_uncertainties\n",
    "# from dike_model_function import DikeNetwork \n",
    "from problem_formulation import get_model_for_problem_formulation, sum_over, sum_over_time\n",
    "from ema_workbench.analysis import prim\n",
    "from ema_workbench.em_framework.parameters import Constant\n",
    "\n",
    "warnings.filterwarnings(\"ignore\")"
   ]
  },
  {
   "cell_type": "code",
   "execution_count": 2,
   "outputs": [],
   "source": [
    "def normalize_out_dic(outcomes):\n",
    "    norm_outcomes = {}\n",
    "    for ooi in outcomes.keys():\n",
    "        data = outcomes[ooi]\n",
    "        mx = max(data)\n",
    "        mn = min(data)\n",
    "        if mx == mn:\n",
    "            norm_outcomes[ooi] = data - mn\n",
    "        else:\n",
    "            norm_outcomes[ooi] = (data - mn)/(mx-mn)\n",
    "    return norm_outcomes"
   ],
   "metadata": {
    "collapsed": false,
    "ExecuteTime": {
     "end_time": "2024-06-18T07:51:16.637828500Z",
     "start_time": "2024-06-18T07:51:16.632205700Z"
    }
   },
   "id": "d75fcba89e952675"
  },
  {
   "cell_type": "code",
   "execution_count": 3,
   "outputs": [
    {
     "name": "stderr",
     "output_type": "stream",
     "text": [
      "100%|████████████████████████████████████████| 100/100 [00:09<00:00, 10.28it/s]\n"
     ]
    }
   ],
   "source": [
    "dike_model, planning_steps = get_model_for_problem_formulation(6)\n",
    "\n",
    "zero_policy = {\"DaysToThreat\": 0}\n",
    "zero_policy.update({f\"DikeIncrease {n}\": 0 for n in planning_steps})\n",
    "zero_policy.update({f\"RfR {n}\": 0 for n in planning_steps})\n",
    "\n",
    "pol0 = {}\n",
    "for key in dike_model.levers:\n",
    "    s1, s2 = key.name.split(\"_\")\n",
    "    pol0.update({key.name: zero_policy[s2]})\n",
    "policy0 = Policy(\"Policy 0\", **pol0)\n",
    "\n",
    "with MultiprocessingEvaluator(dike_model) as evaluator:\n",
    "    results = evaluator.perform_experiments(scenarios=100,policies=policy0,uncertainty_sampling=Samplers.LHS)\n",
    "exp, outcomes = results   \n",
    "norm_new_out = normalize_out_dic(outcomes)\n",
    "oois = list(outcomes.keys())"
   ],
   "metadata": {
    "collapsed": false,
    "ExecuteTime": {
     "end_time": "2024-06-18T07:52:06.334374100Z",
     "start_time": "2024-06-18T07:51:16.638977300Z"
    }
   },
   "id": "d96aa59408e3325d"
  },
  {
   "cell_type": "code",
   "execution_count": 3,
   "outputs": [],
   "source": [],
   "metadata": {
    "collapsed": false,
    "ExecuteTime": {
     "end_time": "2024-06-18T07:52:06.344476700Z",
     "start_time": "2024-06-18T07:52:06.335398300Z"
    }
   },
   "id": "f8c0351e11bc47d5"
  },
  {
   "cell_type": "code",
   "execution_count": 4,
   "outputs": [],
   "source": [
    "def calculate_distance(data, oois, scenarios=None, distance='euclidean'):\n",
    "    '''data is the outcomes of exploration results,\n",
    "    scenarios is a list of scenario indices (decision variables), \n",
    "    oois is a list of variable names,\n",
    "    distance is to choose the distance metric. options:\n",
    "            bray-curtis, canberra, chebyshev, cityblock (manhattan), correlation, \n",
    "            cosine, euclidian, mahalanobis, minkowski, seuclidian,\n",
    "            sqeuclidian, wminkowski\n",
    "    returns a list of distance values\n",
    "    '''\n",
    "    #make a matrix of the data n_scenarios x oois\n",
    "    scenario_data = np.zeros((len(scenarios), len(oois)))\n",
    "    for i, s in enumerate(scenarios):\n",
    "        for j, ooi in enumerate(oois):\n",
    "            scenario_data[i][j] = data[ooi][s]\n",
    "                \n",
    "    distances = pdist(scenario_data, distance)\n",
    "    return distances\n"
   ],
   "metadata": {
    "collapsed": false,
    "ExecuteTime": {
     "end_time": "2024-06-18T07:52:06.352511300Z",
     "start_time": "2024-06-18T07:52:06.339534700Z"
    }
   },
   "id": "d313db9c4e863118"
  },
  {
   "cell_type": "code",
   "execution_count": 5,
   "outputs": [],
   "source": [
    "def evaluate_diversity_single(x, data=norm_new_out, oois=oois, weight=0.5, distance='euclidean'):\n",
    "    '''\n",
    "    takes the outcomes and selected scenario set (decision variables), \n",
    "    returns a single 'diversity' value for the scenario set.\n",
    "    outcomes : outcomes dictionary of the scenario ensemble\n",
    "    decision vars : indices of the scenario set\n",
    "    weight : weight given to the mean in the diversity metric. If 0, only minimum; if 1, only mean\n",
    "    '''\n",
    "    distances = calculate_distance(data, oois, list(x), distance)\n",
    "    minimum = np.min(distances)\n",
    "    mean = np.mean(distances)\n",
    "    diversity = (1-weight)*minimum + weight*mean\n",
    "    \n",
    "    return [diversity]"
   ],
   "metadata": {
    "collapsed": false,
    "ExecuteTime": {
     "end_time": "2024-06-18T07:52:06.389729100Z",
     "start_time": "2024-06-18T07:52:06.349199800Z"
    }
   },
   "id": "9fe2b689ad5d7ab9"
  },
  {
   "cell_type": "code",
   "execution_count": 6,
   "outputs": [],
   "source": [
    "def find_maxdiverse_scenarios(combinations):\n",
    "    diversity = 0.0\n",
    "    solutions = []\n",
    "    for sc_set in combinations:\n",
    "        temp_div = evaluate_diversity_single(list(sc_set))\n",
    "        if temp_div[0] > diversity:\n",
    "            diversity = temp_div[0]\n",
    "            solutions = []\n",
    "            solutions.append(sc_set)\n",
    "        elif temp_div[0] == diversity:\n",
    "            solutions.append(sc_set)\n",
    "    #print(\"found diversity \", diversity)\n",
    "    return diversity, solutions"
   ],
   "metadata": {
    "collapsed": false,
    "ExecuteTime": {
     "end_time": "2024-06-18T07:52:06.391365700Z",
     "start_time": "2024-06-18T07:52:06.371478800Z"
    }
   },
   "id": "fab35d13cc1c9db6"
  },
  {
   "cell_type": "code",
   "execution_count": 7,
   "outputs": [],
   "source": [
    "# n_scen = 5\n",
    "# indices = range(n_scen)\n",
    "# set_size = 2\n",
    "# combinations = itertools.combinations(indices, set_size)\n",
    "# combinations = list(combinations)\n",
    "# print(len(combinations))"
   ],
   "metadata": {
    "collapsed": false,
    "ExecuteTime": {
     "end_time": "2024-06-18T07:52:06.391365700Z",
     "start_time": "2024-06-18T07:52:06.373407900Z"
    }
   },
   "id": "1d421f36dff1af87"
  },
  {
   "cell_type": "code",
   "execution_count": null,
   "outputs": [
    {
     "name": "stdout",
     "output_type": "stream",
     "text": [
      "1\n",
      "2\n",
      "3\n",
      "4\n",
      "<multiprocessing.pool.IMapIterator object at 0x000002A3776AFD10>\n"
     ]
    }
   ],
   "source": [
    "# n_scenarios = 100000\n",
    "# scenarios = sample_uncertainties(dike_model, n_scenarios)\n",
    "\n",
    "n_scen = 3\n",
    "indices = range(n_scen)\n",
    "set_size = 2\n",
    "combinations = itertools.combinations(indices, set_size)\n",
    "combinations = list(combinations)\n",
    "\n",
    "print(1)\n",
    "# import random\n",
    "# \n",
    "# combinations = random.sample(combinations, 100000)\n",
    "\n",
    "no_workers = multiprocessing.cpu_count()\n",
    "pool = multiprocessing.Pool(processes=no_workers)\n",
    "print(2)\n",
    "with open('output_scenarioselection.txt', 'a') as file:\n",
    "    print(3)\n",
    "    start_time = time.time()\n",
    "    #now, divide this data for each worker\n",
    "    worker_data = np.array_split(combinations, no_workers)\n",
    "    print(4) \n",
    "    result = pool.imap(find_maxdiverse_scenarios, worker_data)\n",
    "    print(result)        \n",
    "    #find the max of these 8 \n",
    "    max_diversity = 0.0\n",
    "    for r in result:\n",
    "        print(\"result : \", r)\n",
    "        if r[0] >= max_diversity:\n",
    "            max_diversity = r[0]\n",
    "            solutions = []\n",
    "            solutions.append(r[1])\n",
    "        elif r[0] == max_diversity:\n",
    "            solutions.append(r[1])                  \n",
    "\n",
    "    end_time = time.time()\n",
    "    file.write(\"Calculations took {} seconds.\\n\".format(end_time-start_time))\n",
    "    print(\"Calculations took {} seconds.\\n\".format(end_time-start_time))\n",
    "    file.write(\"maximum diversity and solutions: {}, {} \\n\\n\".format(max_diversity, solutions))\n",
    "    print(\"maximum diversity and solutions: {}, {} \\n\\n\".format(max_diversity, solutions))\n",
    "\n",
    "\n",
    "file.close()\n",
    "    \n",
    "pool.close()\n",
    "pool.join()"
   ],
   "metadata": {
    "collapsed": false,
    "ExecuteTime": {
     "start_time": "2024-06-18T07:52:06.387138500Z"
    }
   },
   "id": "6116156936d2d664"
  },
  {
   "cell_type": "code",
   "execution_count": null,
   "outputs": [],
   "source": [],
   "metadata": {
    "collapsed": false
   },
   "id": "bb21ab3c9c4fb703"
  }
 ],
 "metadata": {
  "kernelspec": {
   "display_name": "Python 3",
   "language": "python",
   "name": "python3"
  },
  "language_info": {
   "codemirror_mode": {
    "name": "ipython",
    "version": 2
   },
   "file_extension": ".py",
   "mimetype": "text/x-python",
   "name": "python",
   "nbconvert_exporter": "python",
   "pygments_lexer": "ipython2",
   "version": "2.7.6"
  }
 },
 "nbformat": 4,
 "nbformat_minor": 5
}
