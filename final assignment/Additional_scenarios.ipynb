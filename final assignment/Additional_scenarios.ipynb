{
 "cells": [
  {
   "cell_type": "code",
   "execution_count": 1,
   "id": "initial_id",
   "metadata": {
    "collapsed": true,
    "ExecuteTime": {
     "end_time": "2024-06-17T19:11:59.115075600Z",
     "start_time": "2024-06-17T19:11:52.549204200Z"
    }
   },
   "outputs": [],
   "source": [
    "import pandas as pd\n",
    "import numpy as np\n",
    "import scipy as sp\n",
    "import pandas as pd\n",
    "import matplotlib.pyplot as plt\n",
    "import seaborn as sns\n",
    "import networkx as nx\n",
    "from SALib.analyze import sobol\n",
    "import warnings\n",
    "from ema_workbench.analysis import feature_scoring\n",
    "from ema_workbench.em_framework.salib_samplers import get_SALib_problem\n",
    "from ema_workbench import (\n",
    "    Model,\n",
    "    Policy,\n",
    "    ema_logging,\n",
    "    SequentialEvaluator,\n",
    "    MultiprocessingEvaluator,\n",
    "    perform_experiments,\n",
    "    Samplers,\n",
    "    SequentialEvaluator,\n",
    ")\n",
    "import time\n",
    "import itertools\n",
    "import multiprocessing\n",
    "from ema_workbench.em_framework import sample_uncertainties\n",
    "# from dike_model_function import DikeNetwork \n",
    "from problem_formulation import get_model_for_problem_formulation, sum_over, sum_over_time\n",
    "from ema_workbench.analysis import prim\n",
    "from ema_workbench.em_framework.parameters import Constant\n",
    "\n",
    "warnings.filterwarnings(\"ignore\")"
   ]
  },
  {
   "cell_type": "code",
   "execution_count": 2,
   "outputs": [],
   "source": [
    "def normalize_out_dic(outcomes):\n",
    "    norm_outcomes = {}\n",
    "    for ooi in outcomes.keys():\n",
    "        data = outcomes[ooi]\n",
    "        mx = max(data)\n",
    "        mn = min(data)\n",
    "        if mx == mn:\n",
    "            norm_outcomes[ooi] = data - mn\n",
    "        else:\n",
    "            norm_outcomes[ooi] = (data - mn)/(mx-mn)\n",
    "    return norm_outcomes"
   ],
   "metadata": {
    "collapsed": false,
    "ExecuteTime": {
     "end_time": "2024-06-17T19:11:59.126100500Z",
     "start_time": "2024-06-17T19:11:59.119579Z"
    }
   },
   "id": "d75fcba89e952675"
  },
  {
   "cell_type": "code",
   "execution_count": 3,
   "outputs": [
    {
     "name": "stderr",
     "output_type": "stream",
     "text": [
      "100%|████████████████████████████████████████| 100/100 [00:10<00:00,  9.77it/s]\n"
     ]
    }
   ],
   "source": [
    "dike_model, planning_steps = get_model_for_problem_formulation(6)\n",
    "\n",
    "zero_policy = {\"DaysToThreat\": 0}\n",
    "zero_policy.update({f\"DikeIncrease {n}\": 0 for n in planning_steps})\n",
    "zero_policy.update({f\"RfR {n}\": 0 for n in planning_steps})\n",
    "\n",
    "pol0 = {}\n",
    "for key in dike_model.levers:\n",
    "    s1, s2 = key.name.split(\"_\")\n",
    "    pol0.update({key.name: zero_policy[s2]})\n",
    "policy0 = Policy(\"Policy 0\", **pol0)\n",
    "\n",
    "with MultiprocessingEvaluator(dike_model) as evaluator:\n",
    "    results = evaluator.perform_experiments(scenarios=100,policies=policy0,uncertainty_sampling=Samplers.LHS)\n",
    "exp, outcomes = results   \n",
    "norm_new_out = normalize_out_dic(outcomes)\n",
    "oois = list(outcomes.keys())"
   ],
   "metadata": {
    "collapsed": false,
    "ExecuteTime": {
     "end_time": "2024-06-17T19:12:55.449808900Z",
     "start_time": "2024-06-17T19:11:59.129095600Z"
    }
   },
   "id": "d96aa59408e3325d"
  },
  {
   "cell_type": "code",
   "execution_count": 3,
   "outputs": [],
   "source": [],
   "metadata": {
    "collapsed": false,
    "ExecuteTime": {
     "end_time": "2024-06-17T19:12:55.461974800Z",
     "start_time": "2024-06-17T19:12:55.453947500Z"
    }
   },
   "id": "f8c0351e11bc47d5"
  },
  {
   "cell_type": "code",
   "execution_count": 4,
   "outputs": [],
   "source": [
    "def calculate_distance(data, oois, scenarios=None, distance='euclidean'):\n",
    "    '''data is the outcomes of exploration results,\n",
    "    scenarios is a list of scenario indices (decision variables), \n",
    "    oois is a list of variable names,\n",
    "    distance is to choose the distance metric. options:\n",
    "            bray-curtis, canberra, chebyshev, cityblock (manhattan), correlation, \n",
    "            cosine, euclidian, mahalanobis, minkowski, seuclidian,\n",
    "            sqeuclidian, wminkowski\n",
    "    returns a list of distance values\n",
    "    '''\n",
    "    #make a matrix of the data n_scenarios x oois\n",
    "    scenario_data = np.zeros((len(scenarios), len(oois)))\n",
    "    for i, s in enumerate(scenarios):\n",
    "        for j, ooi in enumerate(oois):\n",
    "            scenario_data[i][j] = data[ooi][s]\n",
    "                \n",
    "    distances = pdist(scenario_data, distance)\n",
    "    return distances\n"
   ],
   "metadata": {
    "collapsed": false,
    "ExecuteTime": {
     "end_time": "2024-06-17T19:12:55.461974800Z",
     "start_time": "2024-06-17T19:12:55.454455Z"
    }
   },
   "id": "d313db9c4e863118"
  },
  {
   "cell_type": "code",
   "execution_count": 5,
   "outputs": [],
   "source": [
    "def evaluate_diversity_single(x, data=norm_new_out, oois=oois, weight=0.5, distance='euclidean'):\n",
    "    '''\n",
    "    takes the outcomes and selected scenario set (decision variables), \n",
    "    returns a single 'diversity' value for the scenario set.\n",
    "    outcomes : outcomes dictionary of the scenario ensemble\n",
    "    decision vars : indices of the scenario set\n",
    "    weight : weight given to the mean in the diversity metric. If 0, only minimum; if 1, only mean\n",
    "    '''\n",
    "    distances = calculate_distance(data, oois, list(x), distance)\n",
    "    minimum = np.min(distances)\n",
    "    mean = np.mean(distances)\n",
    "    diversity = (1-weight)*minimum + weight*mean\n",
    "    \n",
    "    return [diversity]"
   ],
   "metadata": {
    "collapsed": false,
    "ExecuteTime": {
     "end_time": "2024-06-17T19:12:55.477748400Z",
     "start_time": "2024-06-17T19:12:55.461974800Z"
    }
   },
   "id": "9fe2b689ad5d7ab9"
  },
  {
   "cell_type": "code",
   "execution_count": 6,
   "outputs": [],
   "source": [
    "def find_maxdiverse_scenarios(combinations):\n",
    "    diversity = 0.0\n",
    "    solutions = []\n",
    "    for sc_set in combinations:\n",
    "        temp_div = evaluate_diversity_single(list(sc_set))\n",
    "        if temp_div[0] > diversity:\n",
    "            diversity = temp_div[0]\n",
    "            solutions = []\n",
    "            solutions.append(sc_set)\n",
    "        elif temp_div[0] == diversity:\n",
    "            solutions.append(sc_set)\n",
    "    #print(\"found diversity \", diversity)\n",
    "    return diversity, solutions"
   ],
   "metadata": {
    "collapsed": false,
    "ExecuteTime": {
     "end_time": "2024-06-17T19:12:55.485591300Z",
     "start_time": "2024-06-17T19:12:55.470120500Z"
    }
   },
   "id": "fab35d13cc1c9db6"
  },
  {
   "cell_type": "code",
   "execution_count": null,
   "outputs": [
    {
     "name": "stdout",
     "output_type": "stream",
     "text": [
      "<multiprocessing.pool.IMapIterator object at 0x00000198FE46FF50>\n"
     ]
    }
   ],
   "source": [
    "# n_scenarios = 100000\n",
    "# scenarios = sample_uncertainties(dike_model, n_scenarios)\n",
    "\n",
    "n_scen = 10\n",
    "indices = range(n_scen)\n",
    "set_size = 4\n",
    "combinations = itertools.combinations(indices, set_size)\n",
    "combinations = list(combinations)\n",
    "\n",
    "no_workers = multiprocessing.cpu_count()\n",
    "pool = multiprocessing.Pool(processes=no_workers)\n",
    "\n",
    "with open('output_scenarioselection.txt', 'a') as file:\n",
    "\n",
    "    start_time = time.time()\n",
    "    #now, divide this data for each worker\n",
    "    worker_data = np.array_split(combinations, no_workers)\n",
    "           \n",
    "    result = pool.imap(find_maxdiverse_scenarios, worker_data)\n",
    "    print(result)        \n",
    "    #find the max of these 8 \n",
    "    max_diversity = 0.0\n",
    "    for r in result:\n",
    "        print(\"result : \", r)\n",
    "        if r[0] >= max_diversity:\n",
    "            max_diversity = r[0]\n",
    "            solutions = []\n",
    "            solutions.append(r[1])\n",
    "        elif r[0] == max_diversity:\n",
    "            solutions.append(r[1])                  \n",
    "\n",
    "    end_time = time.time()\n",
    "    file.write(\"Calculations took {} seconds.\\n\".format(end_time-start_time))\n",
    "    print(\"Calculations took {} seconds.\\n\".format(end_time-start_time))\n",
    "    file.write(\"maximum diversity and solutions: {}, {} \\n\\n\".format(max_diversity, solutions))\n",
    "    print(\"maximum diversity and solutions: {}, {} \\n\\n\".format(max_diversity, solutions))\n",
    "\n",
    "\n",
    "file.close()\n",
    "    \n",
    "pool.close()\n",
    "pool.join()"
   ],
   "metadata": {
    "collapsed": false,
    "is_executing": true,
    "ExecuteTime": {
     "start_time": "2024-06-17T19:12:55.485591300Z"
    }
   },
   "id": "6116156936d2d664"
  },
  {
   "metadata": {},
   "cell_type": "markdown",
   "source": "## Robustness Metrics",
   "id": "f1101caf6cc2ad48"
  },
  {
   "metadata": {
    "ExecuteTime": {
     "end_time": "2024-06-18T12:23:50.933211Z",
     "start_time": "2024-06-18T12:23:50.928654Z"
    }
   },
   "cell_type": "code",
   "source": "",
   "id": "db94c485453f12aa",
   "outputs": [],
   "execution_count": 1
  },
  {
   "metadata": {},
   "cell_type": "code",
   "outputs": [],
   "execution_count": null,
   "source": "",
   "id": "350f3f68f09ede47"
  }
 ],
 "metadata": {
  "kernelspec": {
   "display_name": "Python 3",
   "language": "python",
   "name": "python3"
  },
  "language_info": {
   "codemirror_mode": {
    "name": "ipython",
    "version": 2
   },
   "file_extension": ".py",
   "mimetype": "text/x-python",
   "name": "python",
   "nbconvert_exporter": "python",
   "pygments_lexer": "ipython2",
   "version": "2.7.6"
  }
 },
 "nbformat": 4,
 "nbformat_minor": 5
}
