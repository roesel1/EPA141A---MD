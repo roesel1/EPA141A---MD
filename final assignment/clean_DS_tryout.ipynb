{
 "cells": [
  {
   "cell_type": "code",
   "source": [
    "import numpy as np\n",
    "import scipy as sp\n",
    "import pandas as pd\n",
    "import matplotlib.pyplot as plt\n",
    "import seaborn as sns\n",
    "import networkx as nx\n",
    "from SALib.analyze import sobol\n",
    "import warnings\n",
    "from ema_workbench.analysis import feature_scoring\n",
    "from ema_workbench.em_framework.salib_samplers import get_SALib_problem\n",
    "from optimization_tuned import epsilon_nondominated,HypervolumeMetric, Hypervolume\n",
    "from ema_workbench import (\n",
    "    Model,\n",
    "    Policy,\n",
    "    ema_logging,\n",
    "    SequentialEvaluator,\n",
    "    MultiprocessingEvaluator,\n",
    "    perform_experiments,\n",
    "    Samplers,\n",
    "    SequentialEvaluator,\n",
    ")\n",
    "from dike_model_function import DikeNetwork\n",
    "from problem_formulation import get_model_for_problem_formulation, sum_over, sum_over_time\n",
    "from ema_workbench.analysis import prim\n",
    "from ema_workbench.em_framework.parameters import Constant\n",
    "import pickle\n",
    "warnings.filterwarnings(\"ignore\")"
   ],
   "metadata": {
    "collapsed": false,
    "ExecuteTime": {
     "end_time": "2024-06-17T08:35:53.888347500Z",
     "start_time": "2024-06-17T08:35:53.870036800Z"
    }
   },
   "id": "bce20fe59c701204",
   "outputs": [],
   "execution_count": 21
  },
  {
   "cell_type": "code",
   "source": [
    "dike_model, planning_steps = get_model_for_problem_formulation(3)"
   ],
   "metadata": {
    "collapsed": false,
    "ExecuteTime": {
     "end_time": "2024-06-17T08:35:56.216139900Z",
     "start_time": "2024-06-17T08:35:56.041812100Z"
    }
   },
   "id": "454f793f9e319534",
   "outputs": [],
   "execution_count": 22
  },
  {
   "cell_type": "code",
   "execution_count": 25,
   "outputs": [
    {
     "name": "stdout",
     "output_type": "stream",
     "text": [
      "ScalarOutcome('A.1 Total Costs', variable_name=('A.1_Expected Annual Damage', 'A.1_Dike Investment Costs'), function=<function sum_over at 0x0000020AAEBB5080>)\n",
      "ScalarOutcome('A.1_Expected Number of Deaths', variable_name=('A.1_Expected Number of Deaths',), function=<function sum_over at 0x0000020AAEBB5080>)\n",
      "ScalarOutcome('A.1_Expected Annual Damage', variable_name=('A.1_Expected Annual Damage',), function=<function sum_over at 0x0000020AAEBB5080>)\n",
      "ScalarOutcome('A.2 Total Costs', variable_name=('A.2_Expected Annual Damage', 'A.2_Dike Investment Costs'), function=<function sum_over at 0x0000020AAEBB5080>)\n",
      "ScalarOutcome('A.2_Expected Number of Deaths', variable_name=('A.2_Expected Number of Deaths',), function=<function sum_over at 0x0000020AAEBB5080>)\n",
      "ScalarOutcome('A.2_Expected Annual Damage', variable_name=('A.2_Expected Annual Damage',), function=<function sum_over at 0x0000020AAEBB5080>)\n",
      "ScalarOutcome('A.3 Total Costs', variable_name=('A.3_Expected Annual Damage', 'A.3_Dike Investment Costs'), function=<function sum_over at 0x0000020AAEBB5080>)\n",
      "ScalarOutcome('A.3_Expected Number of Deaths', variable_name=('A.3_Expected Number of Deaths',), function=<function sum_over at 0x0000020AAEBB5080>)\n",
      "ScalarOutcome('A.3_Expected Annual Damage', variable_name=('A.3_Expected Annual Damage',), function=<function sum_over at 0x0000020AAEBB5080>)\n",
      "ScalarOutcome('A.4 Total Costs', variable_name=('A.4_Expected Annual Damage', 'A.4_Dike Investment Costs'), function=<function sum_over at 0x0000020AAEBB5080>)\n",
      "ScalarOutcome('A.4_Expected Number of Deaths', variable_name=('A.4_Expected Number of Deaths',), function=<function sum_over at 0x0000020AAEBB5080>)\n",
      "ScalarOutcome('A.4_Expected Annual Damage', variable_name=('A.4_Expected Annual Damage',), function=<function sum_over at 0x0000020AAEBB5080>)\n",
      "ScalarOutcome('A.5 Total Costs', variable_name=('A.5_Expected Annual Damage', 'A.5_Dike Investment Costs'), function=<function sum_over at 0x0000020AAEBB5080>)\n",
      "ScalarOutcome('A.5_Expected Number of Deaths', variable_name=('A.5_Expected Number of Deaths',), function=<function sum_over at 0x0000020AAEBB5080>)\n",
      "ScalarOutcome('A.5_Expected Annual Damage', variable_name=('A.5_Expected Annual Damage',), function=<function sum_over at 0x0000020AAEBB5080>)\n",
      "ScalarOutcome('RfR Total Costs', variable_name=('RfR Total Costs',), function=<function sum_over at 0x0000020AAEBB5080>)\n",
      "ScalarOutcome('Expected Evacuation Costs', variable_name=('Expected Evacuation Costs',), function=<function sum_over at 0x0000020AAEBB5080>)\n"
     ]
    }
   ],
   "source": [
    "for outcome in dike_model.outcomes:\n",
    "    print(outcome)"
   ],
   "metadata": {
    "collapsed": false,
    "ExecuteTime": {
     "end_time": "2024-06-17T08:36:30.534183700Z",
     "start_time": "2024-06-17T08:36:30.500370700Z"
    }
   },
   "id": "87faa96960726bbc"
  },
  {
   "cell_type": "code",
   "execution_count": 26,
   "outputs": [],
   "source": [
    "dike_model2, planning_steps2 = get_model_for_problem_formulation(6)"
   ],
   "metadata": {
    "collapsed": false,
    "ExecuteTime": {
     "end_time": "2024-06-17T08:36:47.096055100Z",
     "start_time": "2024-06-17T08:36:46.929366200Z"
    }
   },
   "id": "4cef14481c3c5c85"
  },
  {
   "cell_type": "code",
   "execution_count": 27,
   "outputs": [
    {
     "name": "stdout",
     "output_type": "stream",
     "text": [
      "ScalarOutcome('A.5_Expected Number of Deaths', variable_name=('A.5_Expected Number of Deaths',), function=<function sum_over at 0x0000020AAEBB5080>)\n",
      "ScalarOutcome('A.5_Expected Annual Damage', variable_name=('A.5_Expected Annual Damage',), function=<function sum_over at 0x0000020AAEBB5080>)\n",
      "ScalarOutcome('Expected Evacuation Costs', variable_name=('Expected Evacuation Costs',), function=<function sum_over at 0x0000020AAEBB5080>)\n",
      "ScalarOutcome('Expected Annual Damage', variable_name=('A.1_Expected Annual Damage', 'A.2_Expected Annual Damage', 'A.3_Expected Annual Damage', 'A.4_Expected Annual Damage', 'A.5_Expected Annual Damage'), function=<function sum_over at 0x0000020AAEBB5080>)\n",
      "ScalarOutcome('Expected Number of Deaths', variable_name=('A.1_Expected Number of Deaths', 'A.2_Expected Number of Deaths', 'A.3_Expected Number of Deaths', 'A.4_Expected Number of Deaths', 'A.5_Expected Number of Deaths'), function=<function sum_over at 0x0000020AAEBB5080>)\n"
     ]
    }
   ],
   "source": [
    "for outcome in dike_model2.outcomes:\n",
    "    print(outcome)"
   ],
   "metadata": {
    "collapsed": false,
    "ExecuteTime": {
     "end_time": "2024-06-17T08:36:59.050892100Z",
     "start_time": "2024-06-17T08:36:59.039331400Z"
    }
   },
   "id": "dd05045b6166ec15"
  },
  {
   "cell_type": "markdown",
   "source": [
    "## Scenarios to determine epsilon spacing"
   ],
   "metadata": {
    "collapsed": false
   },
   "id": "6d33fb7a9fab3713"
  },
  {
   "cell_type": "code",
   "source": [
    "ScenResul = pd.read_csv('data\\OpenScenRes.csv').drop(columns=\"Unnamed: 0\")"
   ],
   "metadata": {
    "collapsed": false,
    "ExecuteTime": {
     "end_time": "2024-06-17T08:24:30.750309900Z",
     "start_time": "2024-06-17T08:24:30.685400300Z"
    }
   },
   "id": "2b7581e3c6eb1e28",
   "outputs": [],
   "execution_count": 3
  },
  {
   "cell_type": "code",
   "source": [
    "ScenResul_mean =ScenResul.mean()"
   ],
   "metadata": {
    "collapsed": false,
    "ExecuteTime": {
     "end_time": "2024-06-17T08:24:31.519941600Z",
     "start_time": "2024-06-17T08:24:31.515121300Z"
    }
   },
   "id": "81b507c1372eb861",
   "outputs": [],
   "execution_count": 4
  },
  {
   "cell_type": "code",
   "source": [
    "epsilon = []"
   ],
   "metadata": {
    "collapsed": false,
    "ExecuteTime": {
     "end_time": "2024-06-17T08:24:32.163388200Z",
     "start_time": "2024-06-17T08:24:32.151278800Z"
    }
   },
   "id": "b232a600be34cb9b",
   "outputs": [],
   "execution_count": 5
  },
  {
   "cell_type": "markdown",
   "source": [
    "\n",
    "## Reference Scenario for optimizer\n"
   ],
   "metadata": {
    "collapsed": false
   },
   "id": "822c39cfce9ec8b1"
  },
  {
   "cell_type": "code",
   "source": [
    "#load it\n",
    "with open(\"data\\ScenariosOpenExplo\", 'rb') as file2:\n",
    "    Scenarios = pickle.load(file2)"
   ],
   "metadata": {
    "collapsed": false,
    "ExecuteTime": {
     "end_time": "2024-06-17T08:24:33.616810100Z",
     "start_time": "2024-06-17T08:24:33.595466400Z"
    }
   },
   "id": "e26d9e1b2d7e129",
   "outputs": [],
   "execution_count": 6
  },
  {
   "cell_type": "code",
   "execution_count": 7,
   "outputs": [
    {
     "data": {
      "text/plain": "[Scenario({'discount rate 0': 3.5, 'discount rate 1': 3.5, 'discount rate 2': 3.5, 'A.0_ID flood wave shape': 17, 'A.1_Bmax': 190.0, 'A.1_pfail': 0.5, 'A.1_Brate': 1.5, 'A.2_Bmax': 190.0, 'A.2_pfail': 0.5502055300601616, 'A.2_Brate': 1.5, 'A.3_Bmax': 190.0, 'A.3_pfail': 0.2381, 'A.3_Brate': 1.5, 'A.4_Bmax': 190.0, 'A.4_pfail': 0.5496656662323136, 'A.4_Brate': 1.5, 'A.5_Bmax': 190.0, 'A.5_pfail': 0.1402246519399955, 'A.5_Brate': 1.5}),\n Scenario({'discount rate 0': 3.5, 'discount rate 1': 3.5, 'discount rate 2': 3.5, 'A.0_ID flood wave shape': 17, 'A.1_Bmax': 190.0, 'A.1_pfail': 0.5, 'A.1_Brate': 1.5, 'A.2_Bmax': 190.0, 'A.2_pfail': 0.5, 'A.2_Brate': 1.5, 'A.3_Bmax': 190.0, 'A.3_pfail': 0.14113161725762757, 'A.3_Brate': 1.5, 'A.4_Bmax': 190.0, 'A.4_pfail': 0.5, 'A.4_Brate': 1.5, 'A.5_Bmax': 190.0, 'A.5_pfail': 0.5, 'A.5_Brate': 1.5}),\n Scenario({'discount rate 0': 3.5, 'discount rate 1': 3.5, 'discount rate 2': 3.5, 'A.0_ID flood wave shape': 17, 'A.1_Bmax': 190.0, 'A.1_pfail': 0.5, 'A.1_Brate': 1.5, 'A.2_Bmax': 190.0, 'A.2_pfail': 0.5502055300601616, 'A.2_Brate': 1.5, 'A.3_Bmax': 190.0, 'A.3_pfail': 0.5970256200145121, 'A.3_Brate': 1.5, 'A.4_Bmax': 190.0, 'A.4_pfail': 0.5496656662323136, 'A.4_Brate': 1.5, 'A.5_Bmax': 190.0, 'A.5_pfail': 0.1402246519399955, 'A.5_Brate': 1.5})]"
     },
     "execution_count": 7,
     "metadata": {},
     "output_type": "execute_result"
    }
   ],
   "source": [
    "Scenarios"
   ],
   "metadata": {
    "collapsed": false,
    "ExecuteTime": {
     "end_time": "2024-06-17T08:24:34.687216Z",
     "start_time": "2024-06-17T08:24:34.677987200Z"
    }
   },
   "id": "f1c19e9ffc81f795"
  },
  {
   "cell_type": "markdown",
   "source": [
    "## Optimizer"
   ],
   "metadata": {
    "collapsed": false
   },
   "id": "32da5af08e610162"
  },
  {
   "cell_type": "code",
   "source": [
    "from ema_workbench.em_framework.optimization import ArchiveLogger, EpsilonProgress\n",
    "\n",
    "# we need to store our results for each seed\n",
    "results = []\n",
    "convergences = []\n",
    "n = 1\n",
    "\n",
    "with MultiprocessingEvaluator(dike_model) as evaluator:\n",
    "    # we run again for 5 seeds\n",
    "    for i in range(n):\n",
    "        # we create 2 covergence tracker metrics\n",
    "        # the archive logger writes the archive to disk for every x nfe\n",
    "        # the epsilon progress tracks during runtime\n",
    "        convergence_metrics = [\n",
    "            ArchiveLogger(\n",
    "                r\"./Archive\",\n",
    "                [l.name for l in dike_model.levers],\n",
    "                [o.name for o in dike_model.outcomes],\n",
    "                base_filename=f\"{i}.tar.gz\",\n",
    "            ),\n",
    "            \n",
    "            EpsilonProgress(),\n",
    "        ]\n",
    "\n",
    "        result, convergence = evaluator.optimize(\n",
    "            nfe=100,\n",
    "            searchover=\"levers\",\n",
    "            epsilons=[0.1] * len(dike_model.outcomes),\n",
    "            convergence=convergence_metrics,\n",
    "            reference = Scenarios[0]\n",
    "        )\n",
    "\n",
    "        results.append(result)\n",
    "        convergences.append(convergence)"
   ],
   "metadata": {
    "collapsed": false,
    "ExecuteTime": {
     "end_time": "2024-06-17T08:32:53.103561500Z",
     "start_time": "2024-06-17T08:32:09.586798400Z"
    }
   },
   "id": "aadf8664ca2dd9b4",
   "outputs": [
    {
     "name": "stderr",
     "output_type": "stream",
     "text": [
      "100%|████████████████████████████████████████| 100/100 [00:08<00:00, 12.10it/s]\n"
     ]
    }
   ],
   "execution_count": 16
  },
  {
   "cell_type": "code",
   "source": [
    "k = r\"./Archive\""
   ],
   "metadata": {
    "collapsed": false,
    "ExecuteTime": {
     "end_time": "2024-06-17T08:32:59.445033900Z",
     "start_time": "2024-06-17T08:32:59.430837200Z"
    }
   },
   "id": "544acd0a2aab6649",
   "outputs": [],
   "execution_count": 17
  },
  {
   "cell_type": "markdown",
   "source": [
    "## Create complete archive"
   ],
   "metadata": {
    "collapsed": false
   },
   "id": "96209de7a1d5adf0"
  },
  {
   "cell_type": "code",
   "source": [
    "all_archives = []\n",
    "\n",
    "for i in range(n):\n",
    "    archives = ArchiveLogger.load_archives(k+ \"\\\\\" + f\"{i}.tar.gz\")\n",
    "    print(archives)\n",
    "    all_archives.append(archives)"
   ],
   "metadata": {
    "collapsed": false,
    "ExecuteTime": {
     "end_time": "2024-06-17T08:44:40.849610800Z",
     "start_time": "2024-06-17T08:44:40.816593700Z"
    }
   },
   "id": "7c69cae0bcbded45",
   "outputs": [
    {
     "name": "stdout",
     "output_type": "stream",
     "text": [
      "{0: Empty DataFrame\n",
      "Columns: [Unnamed: 0, 0_RfR 0, 0_RfR 1, 0_RfR 2, 1_RfR 0, 1_RfR 1, 1_RfR 2, 2_RfR 0, 2_RfR 1, 2_RfR 2, 3_RfR 0, 3_RfR 1, 3_RfR 2, 4_RfR 0, 4_RfR 1, 4_RfR 2, EWS_DaysToThreat, A.1_DikeIncrease 0, A.1_DikeIncrease 1, A.1_DikeIncrease 2, A.2_DikeIncrease 0, A.2_DikeIncrease 1, A.2_DikeIncrease 2, A.3_DikeIncrease 0, A.3_DikeIncrease 1, A.3_DikeIncrease 2, A.4_DikeIncrease 0, A.4_DikeIncrease 1, A.4_DikeIncrease 2, A.5_DikeIncrease 0, A.5_DikeIncrease 1, A.5_DikeIncrease 2, A.1 Total Costs, A.1_Expected Number of Deaths, A.1_Expected Annual Damage, A.2 Total Costs, A.2_Expected Number of Deaths, A.2_Expected Annual Damage, A.3 Total Costs, A.3_Expected Number of Deaths, A.3_Expected Annual Damage, A.4 Total Costs, A.4_Expected Number of Deaths, A.4_Expected Annual Damage, A.5 Total Costs, A.5_Expected Number of Deaths, A.5_Expected Annual Damage, RfR Total Costs, Expected Evacuation Costs]\n",
      "Index: []\n",
      "\n",
      "[0 rows x 49 columns], 100:     Unnamed: 0  0_RfR 0  0_RfR 1  0_RfR 2  1_RfR 0  1_RfR 1  1_RfR 2  2_RfR 0  \\\n",
      "0            0        0        1        0        1        0        0        1   \n",
      "1            1        1        1        0        1        0        0        1   \n",
      "2            2        1        0        1        1        1        0        0   \n",
      "3            3        1        0        0        1        0        1        1   \n",
      "4            4        1        1        0        0        0        1        1   \n",
      "..         ...      ...      ...      ...      ...      ...      ...      ...   \n",
      "80          80        1        1        1        0        0        0        1   \n",
      "81          81        0        0        1        0        0        1        1   \n",
      "82          82        0        0        1        1        0        0        1   \n",
      "83          83        0        1        1        1        1        1        0   \n",
      "84          84        0        0        1        1        1        0        0   \n",
      "\n",
      "    2_RfR 1  2_RfR 2  ...  A.3_Expected Number of Deaths  \\\n",
      "0         0        0  ...                       0.003374   \n",
      "1         1        0  ...                       0.000000   \n",
      "2         1        0  ...                       0.000000   \n",
      "3         0        1  ...                       0.000000   \n",
      "4         0        0  ...                       0.000000   \n",
      "..      ...      ...  ...                            ...   \n",
      "80        1        1  ...                       0.000000   \n",
      "81        1        0  ...                       0.000000   \n",
      "82        1        0  ...                       0.000000   \n",
      "83        1        0  ...                       0.004981   \n",
      "84        1        0  ...                       0.002103   \n",
      "\n",
      "    A.3_Expected Annual Damage  A.4 Total Costs  \\\n",
      "0                 1.290959e+07     3.955062e+07   \n",
      "1                 0.000000e+00     1.521620e+07   \n",
      "2                 0.000000e+00     4.246564e+07   \n",
      "3                 0.000000e+00     3.688893e+07   \n",
      "4                 0.000000e+00     3.799706e+07   \n",
      "..                         ...              ...   \n",
      "80                0.000000e+00     3.181423e+07   \n",
      "81                0.000000e+00     2.845310e+07   \n",
      "82                0.000000e+00     3.958214e+07   \n",
      "83                1.897140e+07     5.677889e+07   \n",
      "84                9.572226e+05     3.790519e+07   \n",
      "\n",
      "    A.4_Expected Number of Deaths  A.4_Expected Annual Damage  \\\n",
      "0                        0.000000                0.000000e+00   \n",
      "1                        0.000036                1.531337e+05   \n",
      "2                        0.000487                2.124411e+06   \n",
      "3                        0.000288                4.393024e+05   \n",
      "4                        0.000000                0.000000e+00   \n",
      "..                            ...                         ...   \n",
      "80                       0.000000                0.000000e+00   \n",
      "81                       0.000000                0.000000e+00   \n",
      "82                       0.000003                3.151532e+04   \n",
      "83                       0.000000                0.000000e+00   \n",
      "84                       0.000000                0.000000e+00   \n",
      "\n",
      "    A.5 Total Costs  A.5_Expected Number of Deaths  \\\n",
      "0      1.134759e+08                       0.000000   \n",
      "1      1.865096e+08                       0.000000   \n",
      "2      1.471984e+08                       0.000000   \n",
      "3      7.640672e+07                       0.000279   \n",
      "4      2.209530e+08                       0.000000   \n",
      "..              ...                            ...   \n",
      "80     1.795773e+08                       0.026135   \n",
      "81     1.275136e+08                       0.002418   \n",
      "82     1.560446e+08                       0.001906   \n",
      "83     2.550424e+08                       0.014983   \n",
      "84     6.492248e+07                       0.000000   \n",
      "\n",
      "    A.5_Expected Annual Damage  RfR Total Costs  Expected Evacuation Costs  \n",
      "0                 0.000000e+00     1.222600e+09                1507.003711  \n",
      "1                 0.000000e+00     1.068100e+09                   6.135670  \n",
      "2                 0.000000e+00     8.779000e+08                  86.589476  \n",
      "3                 2.470332e+05     1.080100e+09                   0.000000  \n",
      "4                 0.000000e+00     6.601000e+08                   0.000000  \n",
      "..                         ...              ...                        ...  \n",
      "80                6.525558e+07     6.020000e+08                2443.659170  \n",
      "81                1.785648e+07     7.411000e+08                1589.867983  \n",
      "82                1.396994e+07     1.132100e+09                1061.656327  \n",
      "83                1.143091e+08     1.621600e+09               11706.433336  \n",
      "84                0.000000e+00     1.426700e+09                   0.000000  \n",
      "\n",
      "[85 rows x 49 columns]}\n"
     ]
    }
   ],
   "execution_count": 34
  },
  {
   "cell_type": "code",
   "execution_count": 33,
   "outputs": [
    {
     "ename": "AttributeError",
     "evalue": "'list' object has no attribute 'drop'",
     "output_type": "error",
     "traceback": [
      "\u001B[1;31m---------------------------------------------------------------------------\u001B[0m",
      "\u001B[1;31mAttributeError\u001B[0m                            Traceback (most recent call last)",
      "Cell \u001B[1;32mIn[33], line 1\u001B[0m\n\u001B[1;32m----> 1\u001B[0m \u001B[43mall_archives\u001B[49m\u001B[38;5;241;43m.\u001B[39;49m\u001B[43mdrop\u001B[49m(columns\u001B[38;5;241m=\u001B[39m\u001B[38;5;124m'\u001B[39m\u001B[38;5;124mUnnamed: 0\u001B[39m\u001B[38;5;124m'\u001B[39m, inplace\u001B[38;5;241m=\u001B[39m\u001B[38;5;28;01mTrue\u001B[39;00m)\n\u001B[0;32m      2\u001B[0m all_archives\n",
      "\u001B[1;31mAttributeError\u001B[0m: 'list' object has no attribute 'drop'"
     ]
    }
   ],
   "source": [],
   "metadata": {
    "collapsed": false,
    "ExecuteTime": {
     "end_time": "2024-06-17T08:43:52.076886Z",
     "start_time": "2024-06-17T08:43:52.022512800Z"
    }
   },
   "id": "7915d46ae7a075df"
  },
  {
   "cell_type": "code",
   "source": [
    "dike_model_problem =dike_model"
   ],
   "metadata": {
    "collapsed": false,
    "ExecuteTime": {
     "end_time": "2024-06-17T08:33:02.365604600Z",
     "start_time": "2024-06-17T08:33:02.355084100Z"
    }
   },
   "id": "20bb1c4be9a2ad3f",
   "outputs": [],
   "execution_count": 19
  },
  {
   "cell_type": "code",
   "execution_count": 28,
   "outputs": [
    {
     "data": {
      "text/plain": "[    0_RfR 0  0_RfR 1  0_RfR 2  1_RfR 0  1_RfR 1  1_RfR 2  2_RfR 0  2_RfR 1  \\\n 0         0        1        0        1        0        0        1        0   \n 1         1        1        0        1        0        0        1        1   \n 2         1        0        1        1        1        0        0        1   \n 3         1        0        0        1        0        1        1        0   \n 4         1        1        0        0        0        1        1        0   \n ..      ...      ...      ...      ...      ...      ...      ...      ...   \n 80        1        1        1        0        0        0        1        1   \n 81        0        0        1        0        0        1        1        1   \n 82        0        0        1        1        0        0        1        1   \n 83        0        1        1        1        1        1        0        1   \n 84        0        0        1        1        1        0        0        1   \n \n     2_RfR 2  3_RfR 0  ...  A.3_Expected Number of Deaths  \\\n 0         0        0  ...                       0.003374   \n 1         0        1  ...                       0.000000   \n 2         0        1  ...                       0.000000   \n 3         1        0  ...                       0.000000   \n 4         0        0  ...                       0.000000   \n ..      ...      ...  ...                            ...   \n 80        1        0  ...                       0.000000   \n 81        0        0  ...                       0.000000   \n 82        0        0  ...                       0.000000   \n 83        0        0  ...                       0.004981   \n 84        0        1  ...                       0.002103   \n \n     A.3_Expected Annual Damage  A.4 Total Costs  \\\n 0                 1.290959e+07     3.955062e+07   \n 1                 0.000000e+00     1.521620e+07   \n 2                 0.000000e+00     4.246564e+07   \n 3                 0.000000e+00     3.688893e+07   \n 4                 0.000000e+00     3.799706e+07   \n ..                         ...              ...   \n 80                0.000000e+00     3.181423e+07   \n 81                0.000000e+00     2.845310e+07   \n 82                0.000000e+00     3.958214e+07   \n 83                1.897140e+07     5.677889e+07   \n 84                9.572226e+05     3.790519e+07   \n \n     A.4_Expected Number of Deaths  A.4_Expected Annual Damage  \\\n 0                        0.000000                0.000000e+00   \n 1                        0.000036                1.531337e+05   \n 2                        0.000487                2.124411e+06   \n 3                        0.000288                4.393024e+05   \n 4                        0.000000                0.000000e+00   \n ..                            ...                         ...   \n 80                       0.000000                0.000000e+00   \n 81                       0.000000                0.000000e+00   \n 82                       0.000003                3.151532e+04   \n 83                       0.000000                0.000000e+00   \n 84                       0.000000                0.000000e+00   \n \n     A.5 Total Costs  A.5_Expected Number of Deaths  \\\n 0      1.134759e+08                       0.000000   \n 1      1.865096e+08                       0.000000   \n 2      1.471984e+08                       0.000000   \n 3      7.640672e+07                       0.000279   \n 4      2.209530e+08                       0.000000   \n ..              ...                            ...   \n 80     1.795773e+08                       0.026135   \n 81     1.275136e+08                       0.002418   \n 82     1.560446e+08                       0.001906   \n 83     2.550424e+08                       0.014983   \n 84     6.492248e+07                       0.000000   \n \n     A.5_Expected Annual Damage  RfR Total Costs  Expected Evacuation Costs  \n 0                 0.000000e+00     1.222600e+09                1507.003711  \n 1                 0.000000e+00     1.068100e+09                   6.135670  \n 2                 0.000000e+00     8.779000e+08                  86.589476  \n 3                 2.470332e+05     1.080100e+09                   0.000000  \n 4                 0.000000e+00     6.601000e+08                   0.000000  \n ..                         ...              ...                        ...  \n 80                6.525558e+07     6.020000e+08                2443.659170  \n 81                1.785648e+07     7.411000e+08                1589.867983  \n 82                1.396994e+07     1.132100e+09                1061.656327  \n 83                1.143091e+08     1.621600e+09               11706.433336  \n 84                0.000000e+00     1.426700e+09                   0.000000  \n \n [85 rows x 48 columns]]"
     },
     "execution_count": 28,
     "metadata": {},
     "output_type": "execute_result"
    }
   ],
   "source": [
    "results"
   ],
   "metadata": {
    "collapsed": false,
    "ExecuteTime": {
     "end_time": "2024-06-17T08:38:52.205075100Z",
     "start_time": "2024-06-17T08:38:52.190007800Z"
    }
   },
   "id": "b89b5a94e77539aa"
  },
  {
   "cell_type": "markdown",
   "source": [
    "## Calc metrics"
   ],
   "metadata": {
    "collapsed": false
   },
   "id": "5fbf5828df0d9986"
  },
  {
   "cell_type": "code",
   "execution_count": 29,
   "outputs": [
    {
     "data": {
      "text/plain": "    0_RfR 0  0_RfR 1  0_RfR 2  1_RfR 0  1_RfR 1  1_RfR 2  2_RfR 0  2_RfR 1  \\\n0         0        1        0        1        0        0        1        0   \n1         1        1        0        1        0        0        1        1   \n2         1        0        1        1        1        0        0        1   \n3         1        0        0        1        0        1        1        0   \n4         1        1        0        0        0        1        1        0   \n..      ...      ...      ...      ...      ...      ...      ...      ...   \n80        1        1        1        0        0        0        1        1   \n81        0        0        1        0        0        1        1        1   \n82        0        0        1        1        0        0        1        1   \n83        0        1        1        1        1        1        0        1   \n84        0        0        1        1        1        0        0        1   \n\n    2_RfR 2  3_RfR 0  ...  A.3_Expected Number of Deaths  \\\n0         0        0  ...                       0.003374   \n1         0        1  ...                       0.000000   \n2         0        1  ...                       0.000000   \n3         1        0  ...                       0.000000   \n4         0        0  ...                       0.000000   \n..      ...      ...  ...                            ...   \n80        1        0  ...                       0.000000   \n81        0        0  ...                       0.000000   \n82        0        0  ...                       0.000000   \n83        0        0  ...                       0.004981   \n84        0        1  ...                       0.002103   \n\n    A.3_Expected Annual Damage  A.4 Total Costs  \\\n0                 1.290959e+07     3.955062e+07   \n1                 0.000000e+00     1.521620e+07   \n2                 0.000000e+00     4.246564e+07   \n3                 0.000000e+00     3.688893e+07   \n4                 0.000000e+00     3.799706e+07   \n..                         ...              ...   \n80                0.000000e+00     3.181423e+07   \n81                0.000000e+00     2.845310e+07   \n82                0.000000e+00     3.958214e+07   \n83                1.897140e+07     5.677889e+07   \n84                9.572226e+05     3.790519e+07   \n\n    A.4_Expected Number of Deaths  A.4_Expected Annual Damage  \\\n0                        0.000000                0.000000e+00   \n1                        0.000036                1.531337e+05   \n2                        0.000487                2.124411e+06   \n3                        0.000288                4.393024e+05   \n4                        0.000000                0.000000e+00   \n..                            ...                         ...   \n80                       0.000000                0.000000e+00   \n81                       0.000000                0.000000e+00   \n82                       0.000003                3.151532e+04   \n83                       0.000000                0.000000e+00   \n84                       0.000000                0.000000e+00   \n\n    A.5 Total Costs  A.5_Expected Number of Deaths  \\\n0      1.134759e+08                       0.000000   \n1      1.865096e+08                       0.000000   \n2      1.471984e+08                       0.000000   \n3      7.640672e+07                       0.000279   \n4      2.209530e+08                       0.000000   \n..              ...                            ...   \n80     1.795773e+08                       0.026135   \n81     1.275136e+08                       0.002418   \n82     1.560446e+08                       0.001906   \n83     2.550424e+08                       0.014983   \n84     6.492248e+07                       0.000000   \n\n    A.5_Expected Annual Damage  RfR Total Costs  Expected Evacuation Costs  \n0                 0.000000e+00     1.222600e+09                1507.003711  \n1                 0.000000e+00     1.068100e+09                   6.135670  \n2                 0.000000e+00     8.779000e+08                  86.589476  \n3                 2.470332e+05     1.080100e+09                   0.000000  \n4                 0.000000e+00     6.601000e+08                   0.000000  \n..                         ...              ...                        ...  \n80                6.525558e+07     6.020000e+08                2443.659170  \n81                1.785648e+07     7.411000e+08                1589.867983  \n82                1.396994e+07     1.132100e+09                1061.656327  \n83                1.143091e+08     1.621600e+09               11706.433336  \n84                0.000000e+00     1.426700e+09                   0.000000  \n\n[85 rows x 48 columns]",
      "text/html": "<div>\n<style scoped>\n    .dataframe tbody tr th:only-of-type {\n        vertical-align: middle;\n    }\n\n    .dataframe tbody tr th {\n        vertical-align: top;\n    }\n\n    .dataframe thead th {\n        text-align: right;\n    }\n</style>\n<table border=\"1\" class=\"dataframe\">\n  <thead>\n    <tr style=\"text-align: right;\">\n      <th></th>\n      <th>0_RfR 0</th>\n      <th>0_RfR 1</th>\n      <th>0_RfR 2</th>\n      <th>1_RfR 0</th>\n      <th>1_RfR 1</th>\n      <th>1_RfR 2</th>\n      <th>2_RfR 0</th>\n      <th>2_RfR 1</th>\n      <th>2_RfR 2</th>\n      <th>3_RfR 0</th>\n      <th>...</th>\n      <th>A.3_Expected Number of Deaths</th>\n      <th>A.3_Expected Annual Damage</th>\n      <th>A.4 Total Costs</th>\n      <th>A.4_Expected Number of Deaths</th>\n      <th>A.4_Expected Annual Damage</th>\n      <th>A.5 Total Costs</th>\n      <th>A.5_Expected Number of Deaths</th>\n      <th>A.5_Expected Annual Damage</th>\n      <th>RfR Total Costs</th>\n      <th>Expected Evacuation Costs</th>\n    </tr>\n  </thead>\n  <tbody>\n    <tr>\n      <th>0</th>\n      <td>0</td>\n      <td>1</td>\n      <td>0</td>\n      <td>1</td>\n      <td>0</td>\n      <td>0</td>\n      <td>1</td>\n      <td>0</td>\n      <td>0</td>\n      <td>0</td>\n      <td>...</td>\n      <td>0.003374</td>\n      <td>1.290959e+07</td>\n      <td>3.955062e+07</td>\n      <td>0.000000</td>\n      <td>0.000000e+00</td>\n      <td>1.134759e+08</td>\n      <td>0.000000</td>\n      <td>0.000000e+00</td>\n      <td>1.222600e+09</td>\n      <td>1507.003711</td>\n    </tr>\n    <tr>\n      <th>1</th>\n      <td>1</td>\n      <td>1</td>\n      <td>0</td>\n      <td>1</td>\n      <td>0</td>\n      <td>0</td>\n      <td>1</td>\n      <td>1</td>\n      <td>0</td>\n      <td>1</td>\n      <td>...</td>\n      <td>0.000000</td>\n      <td>0.000000e+00</td>\n      <td>1.521620e+07</td>\n      <td>0.000036</td>\n      <td>1.531337e+05</td>\n      <td>1.865096e+08</td>\n      <td>0.000000</td>\n      <td>0.000000e+00</td>\n      <td>1.068100e+09</td>\n      <td>6.135670</td>\n    </tr>\n    <tr>\n      <th>2</th>\n      <td>1</td>\n      <td>0</td>\n      <td>1</td>\n      <td>1</td>\n      <td>1</td>\n      <td>0</td>\n      <td>0</td>\n      <td>1</td>\n      <td>0</td>\n      <td>1</td>\n      <td>...</td>\n      <td>0.000000</td>\n      <td>0.000000e+00</td>\n      <td>4.246564e+07</td>\n      <td>0.000487</td>\n      <td>2.124411e+06</td>\n      <td>1.471984e+08</td>\n      <td>0.000000</td>\n      <td>0.000000e+00</td>\n      <td>8.779000e+08</td>\n      <td>86.589476</td>\n    </tr>\n    <tr>\n      <th>3</th>\n      <td>1</td>\n      <td>0</td>\n      <td>0</td>\n      <td>1</td>\n      <td>0</td>\n      <td>1</td>\n      <td>1</td>\n      <td>0</td>\n      <td>1</td>\n      <td>0</td>\n      <td>...</td>\n      <td>0.000000</td>\n      <td>0.000000e+00</td>\n      <td>3.688893e+07</td>\n      <td>0.000288</td>\n      <td>4.393024e+05</td>\n      <td>7.640672e+07</td>\n      <td>0.000279</td>\n      <td>2.470332e+05</td>\n      <td>1.080100e+09</td>\n      <td>0.000000</td>\n    </tr>\n    <tr>\n      <th>4</th>\n      <td>1</td>\n      <td>1</td>\n      <td>0</td>\n      <td>0</td>\n      <td>0</td>\n      <td>1</td>\n      <td>1</td>\n      <td>0</td>\n      <td>0</td>\n      <td>0</td>\n      <td>...</td>\n      <td>0.000000</td>\n      <td>0.000000e+00</td>\n      <td>3.799706e+07</td>\n      <td>0.000000</td>\n      <td>0.000000e+00</td>\n      <td>2.209530e+08</td>\n      <td>0.000000</td>\n      <td>0.000000e+00</td>\n      <td>6.601000e+08</td>\n      <td>0.000000</td>\n    </tr>\n    <tr>\n      <th>...</th>\n      <td>...</td>\n      <td>...</td>\n      <td>...</td>\n      <td>...</td>\n      <td>...</td>\n      <td>...</td>\n      <td>...</td>\n      <td>...</td>\n      <td>...</td>\n      <td>...</td>\n      <td>...</td>\n      <td>...</td>\n      <td>...</td>\n      <td>...</td>\n      <td>...</td>\n      <td>...</td>\n      <td>...</td>\n      <td>...</td>\n      <td>...</td>\n      <td>...</td>\n      <td>...</td>\n    </tr>\n    <tr>\n      <th>80</th>\n      <td>1</td>\n      <td>1</td>\n      <td>1</td>\n      <td>0</td>\n      <td>0</td>\n      <td>0</td>\n      <td>1</td>\n      <td>1</td>\n      <td>1</td>\n      <td>0</td>\n      <td>...</td>\n      <td>0.000000</td>\n      <td>0.000000e+00</td>\n      <td>3.181423e+07</td>\n      <td>0.000000</td>\n      <td>0.000000e+00</td>\n      <td>1.795773e+08</td>\n      <td>0.026135</td>\n      <td>6.525558e+07</td>\n      <td>6.020000e+08</td>\n      <td>2443.659170</td>\n    </tr>\n    <tr>\n      <th>81</th>\n      <td>0</td>\n      <td>0</td>\n      <td>1</td>\n      <td>0</td>\n      <td>0</td>\n      <td>1</td>\n      <td>1</td>\n      <td>1</td>\n      <td>0</td>\n      <td>0</td>\n      <td>...</td>\n      <td>0.000000</td>\n      <td>0.000000e+00</td>\n      <td>2.845310e+07</td>\n      <td>0.000000</td>\n      <td>0.000000e+00</td>\n      <td>1.275136e+08</td>\n      <td>0.002418</td>\n      <td>1.785648e+07</td>\n      <td>7.411000e+08</td>\n      <td>1589.867983</td>\n    </tr>\n    <tr>\n      <th>82</th>\n      <td>0</td>\n      <td>0</td>\n      <td>1</td>\n      <td>1</td>\n      <td>0</td>\n      <td>0</td>\n      <td>1</td>\n      <td>1</td>\n      <td>0</td>\n      <td>0</td>\n      <td>...</td>\n      <td>0.000000</td>\n      <td>0.000000e+00</td>\n      <td>3.958214e+07</td>\n      <td>0.000003</td>\n      <td>3.151532e+04</td>\n      <td>1.560446e+08</td>\n      <td>0.001906</td>\n      <td>1.396994e+07</td>\n      <td>1.132100e+09</td>\n      <td>1061.656327</td>\n    </tr>\n    <tr>\n      <th>83</th>\n      <td>0</td>\n      <td>1</td>\n      <td>1</td>\n      <td>1</td>\n      <td>1</td>\n      <td>1</td>\n      <td>0</td>\n      <td>1</td>\n      <td>0</td>\n      <td>0</td>\n      <td>...</td>\n      <td>0.004981</td>\n      <td>1.897140e+07</td>\n      <td>5.677889e+07</td>\n      <td>0.000000</td>\n      <td>0.000000e+00</td>\n      <td>2.550424e+08</td>\n      <td>0.014983</td>\n      <td>1.143091e+08</td>\n      <td>1.621600e+09</td>\n      <td>11706.433336</td>\n    </tr>\n    <tr>\n      <th>84</th>\n      <td>0</td>\n      <td>0</td>\n      <td>1</td>\n      <td>1</td>\n      <td>1</td>\n      <td>0</td>\n      <td>0</td>\n      <td>1</td>\n      <td>0</td>\n      <td>1</td>\n      <td>...</td>\n      <td>0.002103</td>\n      <td>9.572226e+05</td>\n      <td>3.790519e+07</td>\n      <td>0.000000</td>\n      <td>0.000000e+00</td>\n      <td>6.492248e+07</td>\n      <td>0.000000</td>\n      <td>0.000000e+00</td>\n      <td>1.426700e+09</td>\n      <td>0.000000</td>\n    </tr>\n  </tbody>\n</table>\n<p>85 rows × 48 columns</p>\n</div>"
     },
     "execution_count": 29,
     "metadata": {},
     "output_type": "execute_result"
    }
   ],
   "source": [
    "reference_set"
   ],
   "metadata": {
    "collapsed": false,
    "ExecuteTime": {
     "end_time": "2024-06-17T08:40:11.472542500Z",
     "start_time": "2024-06-17T08:40:11.441915900Z"
    }
   },
   "id": "8d571e5512c697ed"
  },
  {
   "cell_type": "code",
   "source": [
    "from optimization_tuned import (\n",
    "    HypervolumeMetric,\n",
    "    GenerationalDistanceMetric,\n",
    "    EpsilonIndicatorMetric,\n",
    "    InvertedGenerationalDistanceMetric,\n",
    "    SpacingMetric,\n",
    ")\n",
    "from ema_workbench.em_framework.optimization import to_problem\n",
    "\n",
    "problem = to_problem(dike_model_problem, searchover=\"levers\")\n",
    "print(results)\n",
    "\n",
    "reference_set = epsilon_nondominated(results, [0.1] * (len(dike_model.outcomes)), problem)\n",
    "print('REFERENCE SET')\n",
    "print(reference_set)\n",
    "# hv = HypervolumeMetric(reference_set, problem)\n",
    "# print(1)\n",
    "gd = GenerationalDistanceMetric(reference_set, problem, d=1)\n",
    "print(2)\n",
    "ei = EpsilonIndicatorMetric(reference_set, problem)\n",
    "print(3)\n",
    "ig = InvertedGenerationalDistanceMetric(reference_set, problem, d=1)\n",
    "print(4)\n",
    "sm = SpacingMetric(problem)\n",
    "print(5)\n",
    "\n",
    "\n",
    "metrics_by_seed = []\n",
    "for archives in all_archives:\n",
    "    metrics = []\n",
    "    for nfe, archive in archives.items():\n",
    "        print(f'nfe: {nfe}')\n",
    "        print(f'archive: {archive}')\n",
    "        if int(nfe) == 0:\n",
    "            continue\n",
    "        scores = {\n",
    "            \"generational_distance\": gd.calculate(archive),\n",
    "            \"epsilon_indicator\": ei.calculate(archive),\n",
    "            \"inverted_gd\": ig.calculate(archive),\n",
    "            \"spacing\": sm.calculate(archive),\n",
    "            \"nfe\": int(nfe),\n",
    "        }\n",
    "        metrics.append(scores)\n",
    "    metrics = pd.DataFrame.from_dict(metrics)\n",
    "\n",
    "    # sort metrics by number of function evaluations\n",
    "    metrics.sort_values(by=\"nfe\", inplace=True)\n",
    "    metrics_by_seed.append(metrics)"
   ],
   "metadata": {
    "collapsed": false,
    "ExecuteTime": {
     "end_time": "2024-06-17T08:33:04.346989100Z",
     "start_time": "2024-06-17T08:33:04.175277900Z"
    }
   },
   "id": "70d682951fedece2",
   "outputs": [
    {
     "name": "stdout",
     "output_type": "stream",
     "text": [
      "[    0_RfR 0  0_RfR 1  0_RfR 2  1_RfR 0  1_RfR 1  1_RfR 2  2_RfR 0  2_RfR 1  \\\n",
      "0         0        1        0        1        0        0        1        0   \n",
      "1         1        1        0        1        0        0        1        1   \n",
      "2         1        0        1        1        1        0        0        1   \n",
      "3         1        0        0        1        0        1        1        0   \n",
      "4         1        1        0        0        0        1        1        0   \n",
      "..      ...      ...      ...      ...      ...      ...      ...      ...   \n",
      "80        1        1        1        0        0        0        1        1   \n",
      "81        0        0        1        0        0        1        1        1   \n",
      "82        0        0        1        1        0        0        1        1   \n",
      "83        0        1        1        1        1        1        0        1   \n",
      "84        0        0        1        1        1        0        0        1   \n",
      "\n",
      "    2_RfR 2  3_RfR 0  ...  A.3_Expected Number of Deaths  \\\n",
      "0         0        0  ...                       0.003374   \n",
      "1         0        1  ...                       0.000000   \n",
      "2         0        1  ...                       0.000000   \n",
      "3         1        0  ...                       0.000000   \n",
      "4         0        0  ...                       0.000000   \n",
      "..      ...      ...  ...                            ...   \n",
      "80        1        0  ...                       0.000000   \n",
      "81        0        0  ...                       0.000000   \n",
      "82        0        0  ...                       0.000000   \n",
      "83        0        0  ...                       0.004981   \n",
      "84        0        1  ...                       0.002103   \n",
      "\n",
      "    A.3_Expected Annual Damage  A.4 Total Costs  \\\n",
      "0                 1.290959e+07     3.955062e+07   \n",
      "1                 0.000000e+00     1.521620e+07   \n",
      "2                 0.000000e+00     4.246564e+07   \n",
      "3                 0.000000e+00     3.688893e+07   \n",
      "4                 0.000000e+00     3.799706e+07   \n",
      "..                         ...              ...   \n",
      "80                0.000000e+00     3.181423e+07   \n",
      "81                0.000000e+00     2.845310e+07   \n",
      "82                0.000000e+00     3.958214e+07   \n",
      "83                1.897140e+07     5.677889e+07   \n",
      "84                9.572226e+05     3.790519e+07   \n",
      "\n",
      "    A.4_Expected Number of Deaths  A.4_Expected Annual Damage  \\\n",
      "0                        0.000000                0.000000e+00   \n",
      "1                        0.000036                1.531337e+05   \n",
      "2                        0.000487                2.124411e+06   \n",
      "3                        0.000288                4.393024e+05   \n",
      "4                        0.000000                0.000000e+00   \n",
      "..                            ...                         ...   \n",
      "80                       0.000000                0.000000e+00   \n",
      "81                       0.000000                0.000000e+00   \n",
      "82                       0.000003                3.151532e+04   \n",
      "83                       0.000000                0.000000e+00   \n",
      "84                       0.000000                0.000000e+00   \n",
      "\n",
      "    A.5 Total Costs  A.5_Expected Number of Deaths  \\\n",
      "0      1.134759e+08                       0.000000   \n",
      "1      1.865096e+08                       0.000000   \n",
      "2      1.471984e+08                       0.000000   \n",
      "3      7.640672e+07                       0.000279   \n",
      "4      2.209530e+08                       0.000000   \n",
      "..              ...                            ...   \n",
      "80     1.795773e+08                       0.026135   \n",
      "81     1.275136e+08                       0.002418   \n",
      "82     1.560446e+08                       0.001906   \n",
      "83     2.550424e+08                       0.014983   \n",
      "84     6.492248e+07                       0.000000   \n",
      "\n",
      "    A.5_Expected Annual Damage  RfR Total Costs  Expected Evacuation Costs  \n",
      "0                 0.000000e+00     1.222600e+09                1507.003711  \n",
      "1                 0.000000e+00     1.068100e+09                   6.135670  \n",
      "2                 0.000000e+00     8.779000e+08                  86.589476  \n",
      "3                 2.470332e+05     1.080100e+09                   0.000000  \n",
      "4                 0.000000e+00     6.601000e+08                   0.000000  \n",
      "..                         ...              ...                        ...  \n",
      "80                6.525558e+07     6.020000e+08                2443.659170  \n",
      "81                1.785648e+07     7.411000e+08                1589.867983  \n",
      "82                1.396994e+07     1.132100e+09                1061.656327  \n",
      "83                1.143091e+08     1.621600e+09               11706.433336  \n",
      "84                0.000000e+00     1.426700e+09                   0.000000  \n",
      "\n",
      "[85 rows x 48 columns]]\n",
      "REFERENCE SET\n",
      "    0_RfR 0  0_RfR 1  0_RfR 2  1_RfR 0  1_RfR 1  1_RfR 2  2_RfR 0  2_RfR 1  \\\n",
      "0         0        1        0        1        0        0        1        0   \n",
      "1         1        1        0        1        0        0        1        1   \n",
      "2         1        0        1        1        1        0        0        1   \n",
      "3         1        0        0        1        0        1        1        0   \n",
      "4         1        1        0        0        0        1        1        0   \n",
      "..      ...      ...      ...      ...      ...      ...      ...      ...   \n",
      "80        1        1        1        0        0        0        1        1   \n",
      "81        0        0        1        0        0        1        1        1   \n",
      "82        0        0        1        1        0        0        1        1   \n",
      "83        0        1        1        1        1        1        0        1   \n",
      "84        0        0        1        1        1        0        0        1   \n",
      "\n",
      "    2_RfR 2  3_RfR 0  ...  A.3_Expected Number of Deaths  \\\n",
      "0         0        0  ...                       0.003374   \n",
      "1         0        1  ...                       0.000000   \n",
      "2         0        1  ...                       0.000000   \n",
      "3         1        0  ...                       0.000000   \n",
      "4         0        0  ...                       0.000000   \n",
      "..      ...      ...  ...                            ...   \n",
      "80        1        0  ...                       0.000000   \n",
      "81        0        0  ...                       0.000000   \n",
      "82        0        0  ...                       0.000000   \n",
      "83        0        0  ...                       0.004981   \n",
      "84        0        1  ...                       0.002103   \n",
      "\n",
      "    A.3_Expected Annual Damage  A.4 Total Costs  \\\n",
      "0                 1.290959e+07     3.955062e+07   \n",
      "1                 0.000000e+00     1.521620e+07   \n",
      "2                 0.000000e+00     4.246564e+07   \n",
      "3                 0.000000e+00     3.688893e+07   \n",
      "4                 0.000000e+00     3.799706e+07   \n",
      "..                         ...              ...   \n",
      "80                0.000000e+00     3.181423e+07   \n",
      "81                0.000000e+00     2.845310e+07   \n",
      "82                0.000000e+00     3.958214e+07   \n",
      "83                1.897140e+07     5.677889e+07   \n",
      "84                9.572226e+05     3.790519e+07   \n",
      "\n",
      "    A.4_Expected Number of Deaths  A.4_Expected Annual Damage  \\\n",
      "0                        0.000000                0.000000e+00   \n",
      "1                        0.000036                1.531337e+05   \n",
      "2                        0.000487                2.124411e+06   \n",
      "3                        0.000288                4.393024e+05   \n",
      "4                        0.000000                0.000000e+00   \n",
      "..                            ...                         ...   \n",
      "80                       0.000000                0.000000e+00   \n",
      "81                       0.000000                0.000000e+00   \n",
      "82                       0.000003                3.151532e+04   \n",
      "83                       0.000000                0.000000e+00   \n",
      "84                       0.000000                0.000000e+00   \n",
      "\n",
      "    A.5 Total Costs  A.5_Expected Number of Deaths  \\\n",
      "0      1.134759e+08                       0.000000   \n",
      "1      1.865096e+08                       0.000000   \n",
      "2      1.471984e+08                       0.000000   \n",
      "3      7.640672e+07                       0.000279   \n",
      "4      2.209530e+08                       0.000000   \n",
      "..              ...                            ...   \n",
      "80     1.795773e+08                       0.026135   \n",
      "81     1.275136e+08                       0.002418   \n",
      "82     1.560446e+08                       0.001906   \n",
      "83     2.550424e+08                       0.014983   \n",
      "84     6.492248e+07                       0.000000   \n",
      "\n",
      "    A.5_Expected Annual Damage  RfR Total Costs  Expected Evacuation Costs  \n",
      "0                 0.000000e+00     1.222600e+09                1507.003711  \n",
      "1                 0.000000e+00     1.068100e+09                   6.135670  \n",
      "2                 0.000000e+00     8.779000e+08                  86.589476  \n",
      "3                 2.470332e+05     1.080100e+09                   0.000000  \n",
      "4                 0.000000e+00     6.601000e+08                   0.000000  \n",
      "..                         ...              ...                        ...  \n",
      "80                6.525558e+07     6.020000e+08                2443.659170  \n",
      "81                1.785648e+07     7.411000e+08                1589.867983  \n",
      "82                1.396994e+07     1.132100e+09                1061.656327  \n",
      "83                1.143091e+08     1.621600e+09               11706.433336  \n",
      "84                0.000000e+00     1.426700e+09                   0.000000  \n",
      "\n",
      "[85 rows x 48 columns]\n",
      "2\n",
      "3\n",
      "4\n",
      "5\n",
      "nfe: 0\n",
      "archive: Empty DataFrame\n",
      "Columns: [Unnamed: 0, 0_RfR 0, 0_RfR 1, 0_RfR 2, 1_RfR 0, 1_RfR 1, 1_RfR 2, 2_RfR 0, 2_RfR 1, 2_RfR 2, 3_RfR 0, 3_RfR 1, 3_RfR 2, 4_RfR 0, 4_RfR 1, 4_RfR 2, EWS_DaysToThreat, A.1_DikeIncrease 0, A.1_DikeIncrease 1, A.1_DikeIncrease 2, A.2_DikeIncrease 0, A.2_DikeIncrease 1, A.2_DikeIncrease 2, A.3_DikeIncrease 0, A.3_DikeIncrease 1, A.3_DikeIncrease 2, A.4_DikeIncrease 0, A.4_DikeIncrease 1, A.4_DikeIncrease 2, A.5_DikeIncrease 0, A.5_DikeIncrease 1, A.5_DikeIncrease 2, A.1 Total Costs, A.1_Expected Number of Deaths, A.1_Expected Annual Damage, A.2 Total Costs, A.2_Expected Number of Deaths, A.2_Expected Annual Damage, A.3 Total Costs, A.3_Expected Number of Deaths, A.3_Expected Annual Damage, A.4 Total Costs, A.4_Expected Number of Deaths, A.4_Expected Annual Damage, A.5 Total Costs, A.5_Expected Number of Deaths, A.5_Expected Annual Damage, RfR Total Costs, Expected Evacuation Costs]\n",
      "Index: []\n",
      "\n",
      "[0 rows x 49 columns]\n",
      "nfe: 100\n",
      "archive:     Unnamed: 0  0_RfR 0  0_RfR 1  0_RfR 2  1_RfR 0  1_RfR 1  1_RfR 2  2_RfR 0  \\\n",
      "0            0        0        1        0        1        0        0        1   \n",
      "1            1        1        1        0        1        0        0        1   \n",
      "2            2        1        0        1        1        1        0        0   \n",
      "3            3        1        0        0        1        0        1        1   \n",
      "4            4        1        1        0        0        0        1        1   \n",
      "..         ...      ...      ...      ...      ...      ...      ...      ...   \n",
      "80          80        1        1        1        0        0        0        1   \n",
      "81          81        0        0        1        0        0        1        1   \n",
      "82          82        0        0        1        1        0        0        1   \n",
      "83          83        0        1        1        1        1        1        0   \n",
      "84          84        0        0        1        1        1        0        0   \n",
      "\n",
      "    2_RfR 1  2_RfR 2  ...  A.3_Expected Number of Deaths  \\\n",
      "0         0        0  ...                       0.003374   \n",
      "1         1        0  ...                       0.000000   \n",
      "2         1        0  ...                       0.000000   \n",
      "3         0        1  ...                       0.000000   \n",
      "4         0        0  ...                       0.000000   \n",
      "..      ...      ...  ...                            ...   \n",
      "80        1        1  ...                       0.000000   \n",
      "81        1        0  ...                       0.000000   \n",
      "82        1        0  ...                       0.000000   \n",
      "83        1        0  ...                       0.004981   \n",
      "84        1        0  ...                       0.002103   \n",
      "\n",
      "    A.3_Expected Annual Damage  A.4 Total Costs  \\\n",
      "0                 1.290959e+07     3.955062e+07   \n",
      "1                 0.000000e+00     1.521620e+07   \n",
      "2                 0.000000e+00     4.246564e+07   \n",
      "3                 0.000000e+00     3.688893e+07   \n",
      "4                 0.000000e+00     3.799706e+07   \n",
      "..                         ...              ...   \n",
      "80                0.000000e+00     3.181423e+07   \n",
      "81                0.000000e+00     2.845310e+07   \n",
      "82                0.000000e+00     3.958214e+07   \n",
      "83                1.897140e+07     5.677889e+07   \n",
      "84                9.572226e+05     3.790519e+07   \n",
      "\n",
      "    A.4_Expected Number of Deaths  A.4_Expected Annual Damage  \\\n",
      "0                        0.000000                0.000000e+00   \n",
      "1                        0.000036                1.531337e+05   \n",
      "2                        0.000487                2.124411e+06   \n",
      "3                        0.000288                4.393024e+05   \n",
      "4                        0.000000                0.000000e+00   \n",
      "..                            ...                         ...   \n",
      "80                       0.000000                0.000000e+00   \n",
      "81                       0.000000                0.000000e+00   \n",
      "82                       0.000003                3.151532e+04   \n",
      "83                       0.000000                0.000000e+00   \n",
      "84                       0.000000                0.000000e+00   \n",
      "\n",
      "    A.5 Total Costs  A.5_Expected Number of Deaths  \\\n",
      "0      1.134759e+08                       0.000000   \n",
      "1      1.865096e+08                       0.000000   \n",
      "2      1.471984e+08                       0.000000   \n",
      "3      7.640672e+07                       0.000279   \n",
      "4      2.209530e+08                       0.000000   \n",
      "..              ...                            ...   \n",
      "80     1.795773e+08                       0.026135   \n",
      "81     1.275136e+08                       0.002418   \n",
      "82     1.560446e+08                       0.001906   \n",
      "83     2.550424e+08                       0.014983   \n",
      "84     6.492248e+07                       0.000000   \n",
      "\n",
      "    A.5_Expected Annual Damage  RfR Total Costs  Expected Evacuation Costs  \n",
      "0                 0.000000e+00     1.222600e+09                1507.003711  \n",
      "1                 0.000000e+00     1.068100e+09                   6.135670  \n",
      "2                 0.000000e+00     8.779000e+08                  86.589476  \n",
      "3                 2.470332e+05     1.080100e+09                   0.000000  \n",
      "4                 0.000000e+00     6.601000e+08                   0.000000  \n",
      "..                         ...              ...                        ...  \n",
      "80                6.525558e+07     6.020000e+08                2443.659170  \n",
      "81                1.785648e+07     7.411000e+08                1589.867983  \n",
      "82                1.396994e+07     1.132100e+09                1061.656327  \n",
      "83                1.143091e+08     1.621600e+09               11706.433336  \n",
      "84                0.000000e+00     1.426700e+09                   0.000000  \n",
      "\n",
      "[85 rows x 49 columns]\n"
     ]
    },
    {
     "ename": "EMAError",
     "evalue": "The number of columns in the archive (49) does not match the expected number of decision variables and objectives (48).",
     "output_type": "error",
     "traceback": [
      "\u001B[1;31m---------------------------------------------------------------------------\u001B[0m",
      "\u001B[1;31mEMAError\u001B[0m                                  Traceback (most recent call last)",
      "Cell \u001B[1;32mIn[20], line 37\u001B[0m\n\u001B[0;32m     34\u001B[0m     \u001B[38;5;28;01mif\u001B[39;00m \u001B[38;5;28mint\u001B[39m(nfe) \u001B[38;5;241m==\u001B[39m \u001B[38;5;241m0\u001B[39m:\n\u001B[0;32m     35\u001B[0m         \u001B[38;5;28;01mcontinue\u001B[39;00m\n\u001B[0;32m     36\u001B[0m     scores \u001B[38;5;241m=\u001B[39m {\n\u001B[1;32m---> 37\u001B[0m         \u001B[38;5;124m\"\u001B[39m\u001B[38;5;124mgenerational_distance\u001B[39m\u001B[38;5;124m\"\u001B[39m: \u001B[43mgd\u001B[49m\u001B[38;5;241;43m.\u001B[39;49m\u001B[43mcalculate\u001B[49m\u001B[43m(\u001B[49m\u001B[43marchive\u001B[49m\u001B[43m)\u001B[49m,\n\u001B[0;32m     38\u001B[0m         \u001B[38;5;124m\"\u001B[39m\u001B[38;5;124mepsilon_indicator\u001B[39m\u001B[38;5;124m\"\u001B[39m: ei\u001B[38;5;241m.\u001B[39mcalculate(archive),\n\u001B[0;32m     39\u001B[0m         \u001B[38;5;124m\"\u001B[39m\u001B[38;5;124minverted_gd\u001B[39m\u001B[38;5;124m\"\u001B[39m: ig\u001B[38;5;241m.\u001B[39mcalculate(archive),\n\u001B[0;32m     40\u001B[0m         \u001B[38;5;124m\"\u001B[39m\u001B[38;5;124mspacing\u001B[39m\u001B[38;5;124m\"\u001B[39m: sm\u001B[38;5;241m.\u001B[39mcalculate(archive),\n\u001B[0;32m     41\u001B[0m         \u001B[38;5;124m\"\u001B[39m\u001B[38;5;124mnfe\u001B[39m\u001B[38;5;124m\"\u001B[39m: \u001B[38;5;28mint\u001B[39m(nfe),\n\u001B[0;32m     42\u001B[0m     }\n\u001B[0;32m     43\u001B[0m     metrics\u001B[38;5;241m.\u001B[39mappend(scores)\n\u001B[0;32m     44\u001B[0m metrics \u001B[38;5;241m=\u001B[39m pd\u001B[38;5;241m.\u001B[39mDataFrame\u001B[38;5;241m.\u001B[39mfrom_dict(metrics)\n",
      "File \u001B[1;32m~\\PycharmProjects\\EPA141A---MD\\final assignment\\optimization_tuned.py:518\u001B[0m, in \u001B[0;36mMetricWrapper.calculate\u001B[1;34m(self, archive)\u001B[0m\n\u001B[0;32m    517\u001B[0m \u001B[38;5;28;01mdef\u001B[39;00m \u001B[38;5;21mcalculate\u001B[39m(\u001B[38;5;28mself\u001B[39m, archive):\n\u001B[1;32m--> 518\u001B[0m     solutions \u001B[38;5;241m=\u001B[39m \u001B[43mrebuild_platypus_population\u001B[49m\u001B[43m(\u001B[49m\u001B[43marchive\u001B[49m\u001B[43m,\u001B[49m\u001B[43m \u001B[49m\u001B[38;5;28;43mself\u001B[39;49m\u001B[38;5;241;43m.\u001B[39;49m\u001B[43mproblem\u001B[49m\u001B[43m)\u001B[49m\n\u001B[0;32m    519\u001B[0m     \u001B[38;5;28;01mreturn\u001B[39;00m \u001B[38;5;28msuper\u001B[39m()\u001B[38;5;241m.\u001B[39mcalculate(solutions)\n",
      "File \u001B[1;32m~\\PycharmProjects\\EPA141A---MD\\final assignment\\optimization_tuned.py:887\u001B[0m, in \u001B[0;36mrebuild_platypus_population\u001B[1;34m(archive, problem)\u001B[0m\n\u001B[0;32m    884\u001B[0m actual_columns \u001B[38;5;241m=\u001B[39m \u001B[38;5;28mlen\u001B[39m(archive\u001B[38;5;241m.\u001B[39mcolumns)\n\u001B[0;32m    886\u001B[0m \u001B[38;5;28;01mif\u001B[39;00m actual_columns \u001B[38;5;241m!=\u001B[39m expected_columns:\n\u001B[1;32m--> 887\u001B[0m     \u001B[38;5;28;01mraise\u001B[39;00m EMAError(\n\u001B[0;32m    888\u001B[0m         \u001B[38;5;124mf\u001B[39m\u001B[38;5;124m\"\u001B[39m\u001B[38;5;124mThe number of columns in the archive (\u001B[39m\u001B[38;5;132;01m{\u001B[39;00mactual_columns\u001B[38;5;132;01m}\u001B[39;00m\u001B[38;5;124m) does not match the \u001B[39m\u001B[38;5;124m\"\u001B[39m\n\u001B[0;32m    889\u001B[0m         \u001B[38;5;124mf\u001B[39m\u001B[38;5;124m\"\u001B[39m\u001B[38;5;124mexpected number of decision variables and objectives (\u001B[39m\u001B[38;5;132;01m{\u001B[39;00mexpected_columns\u001B[38;5;132;01m}\u001B[39;00m\u001B[38;5;124m).\u001B[39m\u001B[38;5;124m\"\u001B[39m\n\u001B[0;32m    890\u001B[0m     )\n\u001B[0;32m    892\u001B[0m solutions \u001B[38;5;241m=\u001B[39m []\n\u001B[0;32m    893\u001B[0m \u001B[38;5;28;01mfor\u001B[39;00m index,row \u001B[38;5;129;01min\u001B[39;00m archive\u001B[38;5;241m.\u001B[39miterrows():\n",
      "\u001B[1;31mEMAError\u001B[0m: The number of columns in the archive (49) does not match the expected number of decision variables and objectives (48)."
     ]
    }
   ],
   "execution_count": 20
  },
  {
   "cell_type": "markdown",
   "source": [
    "## Plot"
   ],
   "metadata": {
    "collapsed": false
   },
   "id": "ce81748ff357486f"
  },
  {
   "cell_type": "code",
   "source": [
    "sns.set_style(\"white\")\n",
    "fig, axes = plt.subplots(nrows=5, figsize=(8, 12), sharex=True)\n",
    "\n",
    "ax2, ax3, ax4, ax5, ax6 = axes\n",
    "\n",
    "for metrics, convergence in zip(metrics_by_seed, convergences):\n",
    "    # ax1.plot(metrics.nfe, metrics.hypervolume)\n",
    "    # ax1.set_ylabel(\"hypervolume\")\n",
    "\n",
    "    ax2.plot(convergence.nfe, convergence.epsilon_progress)\n",
    "    ax2.set_ylabel(\"$\\epsilon$ progress\")\n",
    "\n",
    "    ax3.plot(metrics.nfe, metrics.generational_distance)\n",
    "    ax3.set_ylabel(\"generational distance\")\n",
    "\n",
    "    ax4.plot(metrics.nfe, metrics.epsilon_indicator)\n",
    "    ax4.set_ylabel(\"epsilon indicator\")\n",
    "\n",
    "    ax5.plot(metrics.nfe, metrics.inverted_gd)\n",
    "    ax5.set_ylabel(\"inverted generational\\ndistance\")\n",
    "\n",
    "    ax6.plot(metrics.nfe, metrics.spacing)\n",
    "    ax6.set_ylabel(\"spacing\")\n",
    "\n",
    "ax6.set_xlabel(\"nfe\")\n",
    "\n",
    "\n",
    "sns.despine(fig)\n",
    "\n",
    "plt.show()"
   ],
   "metadata": {
    "collapsed": false
   },
   "id": "8c88e6db2d727f13",
   "outputs": [],
   "execution_count": null
  },
  {
   "metadata": {},
   "cell_type": "code",
   "source": [
    "print(metrics)"
   ],
   "id": "825ca79b49eb7394",
   "outputs": [],
   "execution_count": null
  },
  {
   "metadata": {},
   "cell_type": "code",
   "source": [
    "\n",
    "for outcome in dike_model_problem.outcomes:\n",
    "    print(outcome)\n",
    "    \n",
    "#     \n",
    "# dike_model_problem.outcomes.__delitem__(\"A.1_Expected Number of Deaths\")\n",
    "# dike_model_problem.outcomes.__delitem__(\"A.1_Expected Annual Damage\")"
   ],
   "id": "bccd4a646f41998c",
   "outputs": [],
   "execution_count": null
  },
  {
   "metadata": {},
   "cell_type": "code",
   "source": [
    "# change outcomes so direction is undesirable\n",
    "minimize = ScalarOutcome.MINIMIZE\n",
    "maximize = ScalarOutcome.MAXIMIZE\n",
    "\n",
    "for outcome in dike_model.outcomes:\n",
    "    if outcome.kind == minimize:\n",
    "        outcome.kind = maximize\n",
    "    else:\n",
    "        outcome.kind = minimize\n",
    "\n",
    "with MultiprocessingEvaluator(model) as evaluator:\n",
    "    results1 = evaluator.optimize(\n",
    "        nfe=1000, searchover=\"uncertainties\", epsilons=[0.1] * len(model.outcomes)\n",
    "    )"
   ],
   "id": "c6b5d761a1206e66",
   "outputs": [],
   "execution_count": null
  },
  {
   "metadata": {},
   "cell_type": "code",
   "source": [
    "from ema_workbench.analysis import parcoords\n",
    "\n",
    "data = results1.loc[:, [o.name for o in model.outcomes]]\n",
    "\n",
    "# get the minimum and maximum values as present in the dataframe\n",
    "limits = parcoords.get_limits(data)\n",
    "\n",
    "# we know that the lowest possible value for all objectives is 0\n",
    "limits.loc[0, [\"utility\", \"inertia\", \"reliability\", \"max_P\"]] = 0\n",
    "# inertia and reliability are defined on unit interval, so their theoretical maximum is 1\n",
    "limits.loc[1, [\"inertia\", \"reliability\"]] = 1\n",
    "\n",
    "paraxes = parcoords.ParallelAxes(limits)\n",
    "paraxes.plot(data)\n",
    "paraxes.invert_axis(\"max_P\")\n",
    "plt.show()\n"
   ],
   "id": "668008bdf8185fec",
   "outputs": [],
   "execution_count": null
  },
  {
   "metadata": {},
   "cell_type": "code",
   "source": [],
   "id": "7a8be83110a825c0",
   "outputs": [],
   "execution_count": null
  },
  {
   "metadata": {},
   "cell_type": "code",
   "source": [],
   "id": "ca60a5f127c7289",
   "outputs": [],
   "execution_count": null
  }
 ],
 "metadata": {
  "kernelspec": {
   "display_name": "Python 3",
   "language": "python",
   "name": "python3"
  },
  "language_info": {
   "codemirror_mode": {
    "name": "ipython",
    "version": 2
   },
   "file_extension": ".py",
   "mimetype": "text/x-python",
   "name": "python",
   "nbconvert_exporter": "python",
   "pygments_lexer": "ipython2",
   "version": "2.7.6"
  }
 },
 "nbformat": 4,
 "nbformat_minor": 5
}
