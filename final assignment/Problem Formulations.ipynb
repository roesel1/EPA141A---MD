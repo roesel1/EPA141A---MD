{
 "cells": [
  {
   "cell_type": "code",
   "execution_count": 17,
   "metadata": {
    "ExecuteTime": {
     "end_time": "2024-05-30T13:31:17.755265Z",
     "start_time": "2024-05-30T13:31:17.750666Z"
    }
   },
   "outputs": [],
   "source": [
    "import numpy as np\n",
    "import scipy as sp\n",
    "import pandas as pd\n",
    "import matplotlib.pyplot as plt\n",
    "import seaborn as sns\n",
    "import networkx as nx"
   ]
  },
  {
   "cell_type": "code",
   "execution_count": 18,
   "metadata": {
    "ExecuteTime": {
     "end_time": "2024-05-30T13:31:17.771503Z",
     "start_time": "2024-05-30T13:31:17.764040Z"
    }
   },
   "outputs": [
    {
     "name": "stdout",
     "output_type": "stream",
     "text": [
      "2.2.2\n",
      "3.3\n"
     ]
    }
   ],
   "source": [
    "# make sure pandas is version 1.0 or higher\n",
    "# make sure networkx is verion 2.4 or higher\n",
    "print(pd.__version__)\n",
    "print(nx.__version__)"
   ]
  },
  {
   "cell_type": "code",
   "execution_count": 19,
   "metadata": {
    "scrolled": true,
    "ExecuteTime": {
     "end_time": "2024-05-30T13:31:17.779278Z",
     "start_time": "2024-05-30T13:31:17.773778Z"
    }
   },
   "outputs": [],
   "source": [
    "from ema_workbench import (\n",
    "    Model,\n",
    "    Policy,\n",
    "    ema_logging,\n",
    "    SequentialEvaluator,\n",
    "    MultiprocessingEvaluator,\n",
    "\n",
    ")\n",
    "from dike_model_function import DikeNetwork  # @UnresolvedImport\n",
    "from problem_formulation import get_model_for_problem_formulation, sum_over, sum_over_time\n",
    "\n"
   ]
  },
  {
   "cell_type": "code",
   "execution_count": 20,
   "metadata": {
    "ExecuteTime": {
     "end_time": "2024-05-30T13:31:17.983547Z",
     "start_time": "2024-05-30T13:31:17.780396Z"
    }
   },
   "outputs": [],
   "source": [
    "ema_logging.log_to_stderr(ema_logging.INFO)\n",
    "\n",
    "# choose problem formulation number, between 0-5\n",
    "# each problem formulation has its own list of outcomes\n",
    "dike_model, planning_steps = get_model_for_problem_formulation(3)"
   ]
  },
  {
   "cell_type": "code",
   "execution_count": 21,
   "metadata": {
    "ExecuteTime": {
     "end_time": "2024-05-30T13:31:17.995462Z",
     "start_time": "2024-05-30T13:31:17.984603Z"
    }
   },
   "outputs": [
    {
     "name": "stdout",
     "output_type": "stream",
     "text": [
      "CategoricalParameter('discount rate 0', [0, 1, 2, 3])\n",
      "CategoricalParameter('discount rate 1', [0, 1, 2, 3])\n",
      "CategoricalParameter('discount rate 2', [0, 1, 2, 3])\n",
      "IntegerParameter('A.0_ID flood wave shape', 0, 132, resolution=None, default=None, variable_name=['A.0_ID flood wave shape'], pff=False)\n",
      "RealParameter('A.1_Bmax', 30, 350, resolution=None, default=None, variable_name=['A.1_Bmax'], pff=False)\n",
      "RealParameter('A.1_pfail', 0, 1, resolution=None, default=None, variable_name=['A.1_pfail'], pff=False)\n",
      "CategoricalParameter('A.1_Brate', [0, 1, 2])\n",
      "RealParameter('A.2_Bmax', 30, 350, resolution=None, default=None, variable_name=['A.2_Bmax'], pff=False)\n",
      "RealParameter('A.2_pfail', 0, 1, resolution=None, default=None, variable_name=['A.2_pfail'], pff=False)\n",
      "CategoricalParameter('A.2_Brate', [0, 1, 2])\n",
      "RealParameter('A.3_Bmax', 30, 350, resolution=None, default=None, variable_name=['A.3_Bmax'], pff=False)\n",
      "RealParameter('A.3_pfail', 0, 1, resolution=None, default=None, variable_name=['A.3_pfail'], pff=False)\n",
      "CategoricalParameter('A.3_Brate', [0, 1, 2])\n",
      "RealParameter('A.4_Bmax', 30, 350, resolution=None, default=None, variable_name=['A.4_Bmax'], pff=False)\n",
      "RealParameter('A.4_pfail', 0, 1, resolution=None, default=None, variable_name=['A.4_pfail'], pff=False)\n",
      "CategoricalParameter('A.4_Brate', [0, 1, 2])\n",
      "RealParameter('A.5_Bmax', 30, 350, resolution=None, default=None, variable_name=['A.5_Bmax'], pff=False)\n",
      "RealParameter('A.5_pfail', 0, 1, resolution=None, default=None, variable_name=['A.5_pfail'], pff=False)\n",
      "CategoricalParameter('A.5_Brate', [0, 1, 2])\n"
     ]
    }
   ],
   "source": [
    "# enlisting uncertainties, their types (RealParameter/IntegerParameter/CategoricalParameter), lower boundary, and upper boundary\n",
    "import copy\n",
    "\n",
    "for unc in dike_model.uncertainties:\n",
    "    print(repr(unc))\n",
    "\n",
    "uncertainties = copy.deepcopy(dike_model.uncertainties)"
   ]
  },
  {
   "cell_type": "code",
   "execution_count": 22,
   "metadata": {
    "ExecuteTime": {
     "end_time": "2024-05-30T13:31:18.009894Z",
     "start_time": "2024-05-30T13:31:17.996687Z"
    }
   },
   "outputs": [
    {
     "name": "stdout",
     "output_type": "stream",
     "text": [
      "IntegerParameter('0_RfR 0', 0, 1, resolution=None, default=None, variable_name=['0_RfR 0'], pff=False)\n",
      "IntegerParameter('0_RfR 1', 0, 1, resolution=None, default=None, variable_name=['0_RfR 1'], pff=False)\n",
      "IntegerParameter('0_RfR 2', 0, 1, resolution=None, default=None, variable_name=['0_RfR 2'], pff=False)\n",
      "IntegerParameter('1_RfR 0', 0, 1, resolution=None, default=None, variable_name=['1_RfR 0'], pff=False)\n",
      "IntegerParameter('1_RfR 1', 0, 1, resolution=None, default=None, variable_name=['1_RfR 1'], pff=False)\n",
      "IntegerParameter('1_RfR 2', 0, 1, resolution=None, default=None, variable_name=['1_RfR 2'], pff=False)\n",
      "IntegerParameter('2_RfR 0', 0, 1, resolution=None, default=None, variable_name=['2_RfR 0'], pff=False)\n",
      "IntegerParameter('2_RfR 1', 0, 1, resolution=None, default=None, variable_name=['2_RfR 1'], pff=False)\n",
      "IntegerParameter('2_RfR 2', 0, 1, resolution=None, default=None, variable_name=['2_RfR 2'], pff=False)\n",
      "IntegerParameter('3_RfR 0', 0, 1, resolution=None, default=None, variable_name=['3_RfR 0'], pff=False)\n",
      "IntegerParameter('3_RfR 1', 0, 1, resolution=None, default=None, variable_name=['3_RfR 1'], pff=False)\n",
      "IntegerParameter('3_RfR 2', 0, 1, resolution=None, default=None, variable_name=['3_RfR 2'], pff=False)\n",
      "IntegerParameter('4_RfR 0', 0, 1, resolution=None, default=None, variable_name=['4_RfR 0'], pff=False)\n",
      "IntegerParameter('4_RfR 1', 0, 1, resolution=None, default=None, variable_name=['4_RfR 1'], pff=False)\n",
      "IntegerParameter('4_RfR 2', 0, 1, resolution=None, default=None, variable_name=['4_RfR 2'], pff=False)\n",
      "IntegerParameter('EWS_DaysToThreat', 0, 4, resolution=None, default=None, variable_name=['EWS_DaysToThreat'], pff=False)\n",
      "IntegerParameter('A.1_DikeIncrease 0', 0, 10, resolution=None, default=None, variable_name=['A.1_DikeIncrease 0'], pff=False)\n",
      "IntegerParameter('A.1_DikeIncrease 1', 0, 10, resolution=None, default=None, variable_name=['A.1_DikeIncrease 1'], pff=False)\n",
      "IntegerParameter('A.1_DikeIncrease 2', 0, 10, resolution=None, default=None, variable_name=['A.1_DikeIncrease 2'], pff=False)\n",
      "IntegerParameter('A.2_DikeIncrease 0', 0, 10, resolution=None, default=None, variable_name=['A.2_DikeIncrease 0'], pff=False)\n",
      "IntegerParameter('A.2_DikeIncrease 1', 0, 10, resolution=None, default=None, variable_name=['A.2_DikeIncrease 1'], pff=False)\n",
      "IntegerParameter('A.2_DikeIncrease 2', 0, 10, resolution=None, default=None, variable_name=['A.2_DikeIncrease 2'], pff=False)\n",
      "IntegerParameter('A.3_DikeIncrease 0', 0, 10, resolution=None, default=None, variable_name=['A.3_DikeIncrease 0'], pff=False)\n",
      "IntegerParameter('A.3_DikeIncrease 1', 0, 10, resolution=None, default=None, variable_name=['A.3_DikeIncrease 1'], pff=False)\n",
      "IntegerParameter('A.3_DikeIncrease 2', 0, 10, resolution=None, default=None, variable_name=['A.3_DikeIncrease 2'], pff=False)\n",
      "IntegerParameter('A.4_DikeIncrease 0', 0, 10, resolution=None, default=None, variable_name=['A.4_DikeIncrease 0'], pff=False)\n",
      "IntegerParameter('A.4_DikeIncrease 1', 0, 10, resolution=None, default=None, variable_name=['A.4_DikeIncrease 1'], pff=False)\n",
      "IntegerParameter('A.4_DikeIncrease 2', 0, 10, resolution=None, default=None, variable_name=['A.4_DikeIncrease 2'], pff=False)\n",
      "IntegerParameter('A.5_DikeIncrease 0', 0, 10, resolution=None, default=None, variable_name=['A.5_DikeIncrease 0'], pff=False)\n",
      "IntegerParameter('A.5_DikeIncrease 1', 0, 10, resolution=None, default=None, variable_name=['A.5_DikeIncrease 1'], pff=False)\n",
      "IntegerParameter('A.5_DikeIncrease 2', 0, 10, resolution=None, default=None, variable_name=['A.5_DikeIncrease 2'], pff=False)\n"
     ]
    }
   ],
   "source": [
    "# enlisting policy levers, their types (RealParameter/IntegerParameter), lower boundary, and upper boundary\n",
    "for policy in dike_model.levers:\n",
    "    print(repr(policy))\n",
    "\n",
    "levers = copy.deepcopy(dike_model.levers)"
   ]
  },
  {
   "cell_type": "code",
   "execution_count": 23,
   "metadata": {
    "ExecuteTime": {
     "end_time": "2024-05-30T13:31:18.017958Z",
     "start_time": "2024-05-30T13:31:18.010954Z"
    }
   },
   "outputs": [
    {
     "name": "stdout",
     "output_type": "stream",
     "text": [
      "ScalarOutcome('A.1 Total Costs', variable_name=('A.1_Expected Annual Damage', 'A.1_Dike Investment Costs'), function=<function sum_over at 0x000001E9BEEFF4C0>)\n",
      "ScalarOutcome('A.1_Expected Number of Deaths', variable_name=('A.1_Expected Number of Deaths',), function=<function sum_over at 0x000001E9BEEFF4C0>)\n",
      "ScalarOutcome('A.2 Total Costs', variable_name=('A.2_Expected Annual Damage', 'A.2_Dike Investment Costs'), function=<function sum_over at 0x000001E9BEEFF4C0>)\n",
      "ScalarOutcome('A.2_Expected Number of Deaths', variable_name=('A.2_Expected Number of Deaths',), function=<function sum_over at 0x000001E9BEEFF4C0>)\n",
      "ScalarOutcome('A.3 Total Costs', variable_name=('A.3_Expected Annual Damage', 'A.3_Dike Investment Costs'), function=<function sum_over at 0x000001E9BEEFF4C0>)\n",
      "ScalarOutcome('A.3_Expected Number of Deaths', variable_name=('A.3_Expected Number of Deaths',), function=<function sum_over at 0x000001E9BEEFF4C0>)\n",
      "ScalarOutcome('A.4 Total Costs', variable_name=('A.4_Expected Annual Damage', 'A.4_Dike Investment Costs'), function=<function sum_over at 0x000001E9BEEFF4C0>)\n",
      "ScalarOutcome('A.4_Expected Number of Deaths', variable_name=('A.4_Expected Number of Deaths',), function=<function sum_over at 0x000001E9BEEFF4C0>)\n",
      "ScalarOutcome('A.5 Total Costs', variable_name=('A.5_Expected Annual Damage', 'A.5_Dike Investment Costs'), function=<function sum_over at 0x000001E9BEEFF4C0>)\n",
      "ScalarOutcome('A.5_Expected Number of Deaths', variable_name=('A.5_Expected Number of Deaths',), function=<function sum_over at 0x000001E9BEEFF4C0>)\n",
      "ScalarOutcome('RfR Total Costs', variable_name=('RfR Total Costs',), function=<function sum_over at 0x000001E9BEEFF4C0>)\n",
      "ScalarOutcome('Expected Evacuation Costs', variable_name=('Expected Evacuation Costs',), function=<function sum_over at 0x000001E9BEEFF4C0>)\n"
     ]
    }
   ],
   "source": [
    "# enlisting outcomes\n",
    "for outcome in dike_model.outcomes:\n",
    "    print(repr(outcome))"
   ]
  },
  {
   "cell_type": "code",
   "execution_count": 24,
   "metadata": {
    "ExecuteTime": {
     "end_time": "2024-05-30T13:32:17.806300Z",
     "start_time": "2024-05-30T13:31:18.018956Z"
    }
   },
   "outputs": [
    {
     "name": "stderr",
     "output_type": "stream",
     "text": [
      "[MainProcess/INFO] pool started with 12 workers\n",
      "[MainProcess/INFO] performing 50 scenarios * 4 policies * 1 model(s) = 200 experiments\n",
      "100%|████████████████████████████████████████| 200/200 [00:19<00:00, 10.35it/s]\n",
      "[MainProcess/INFO] experiments finished\n",
      "[MainProcess/INFO] terminating pool\n"
     ]
    }
   ],
   "source": [
    "# running the model through EMA workbench\n",
    "with MultiprocessingEvaluator(dike_model) as evaluator:\n",
    "    results = evaluator.perform_experiments(scenarios=50, policies=4)"
   ]
  },
  {
   "cell_type": "code",
   "execution_count": 25,
   "metadata": {
    "scrolled": true,
    "ExecuteTime": {
     "end_time": "2024-05-30T13:32:17.832190Z",
     "start_time": "2024-05-30T13:32:17.808344Z"
    }
   },
   "outputs": [
    {
     "name": "stdout",
     "output_type": "stream",
     "text": [
      "dict_keys(['A.1 Total Costs', 'A.1_Expected Number of Deaths', 'A.2 Total Costs', 'A.2_Expected Number of Deaths', 'A.3 Total Costs', 'A.3_Expected Number of Deaths', 'A.4 Total Costs', 'A.4_Expected Number of Deaths', 'A.5 Total Costs', 'A.5_Expected Number of Deaths', 'RfR Total Costs', 'Expected Evacuation Costs'])\n"
     ]
    },
    {
     "data": {
      "text/plain": "     A.0_ID flood wave shape    A.1_Bmax A.1_Brate  A.1_pfail    A.2_Bmax  \\\n0                         35   46.151948       1.0   0.418172  213.734772   \n1                         69  213.604276       1.0   0.535521  326.842900   \n2                         89  237.918202      10.0   0.435853  291.355423   \n3                         50  114.850964      10.0   0.078306  176.979982   \n4                        107  218.398231       1.0   0.983562   31.397571   \n..                       ...         ...       ...        ...         ...   \n195                      109  241.496897       1.5   0.197729  238.486292   \n196                       87  205.812239       1.0   0.807345  182.157459   \n197                       75  261.253969      10.0   0.675556  197.918233   \n198                        3  344.079767       1.5   0.730897  259.493786   \n199                      129  163.564592       1.0   0.367648  189.437324   \n\n    A.2_Brate  A.2_pfail    A.3_Bmax A.3_Brate  A.3_pfail  ...  \\\n0         1.0   0.239841  121.890348       1.5   0.995246  ...   \n1         1.0   0.003404  292.478491      10.0   0.780966  ...   \n2         1.5   0.668494  243.182365       1.0   0.940557  ...   \n3         1.0   0.914051  200.593839       1.5   0.417640  ...   \n4         1.0   0.982504  138.396233       1.0   0.311102  ...   \n..        ...        ...         ...       ...        ...  ...   \n195       1.5   0.479579  254.876426       1.5   0.014068  ...   \n196       1.0   0.659771  235.711720       1.0   0.692191  ...   \n197       1.0   0.184954   97.755587       1.0   0.604331  ...   \n198      10.0   0.325798   79.688811       1.5   0.280794  ...   \n199       1.5   0.719802  129.237942       1.0   0.560170  ...   \n\n     A.4_DikeIncrease 0 A.4_DikeIncrease 1  A.4_DikeIncrease 2  \\\n0                     0                  4                   4   \n1                     0                  4                   4   \n2                     0                  4                   4   \n3                     0                  4                   4   \n4                     0                  4                   4   \n..                  ...                ...                 ...   \n195                   6                  6                   7   \n196                   6                  6                   7   \n197                   6                  6                   7   \n198                   6                  6                   7   \n199                   6                  6                   7   \n\n     A.5_DikeIncrease 0 A.5_DikeIncrease 1  A.5_DikeIncrease 2  \\\n0                     3                 10                   6   \n1                     3                 10                   6   \n2                     3                 10                   6   \n3                     3                 10                   6   \n4                     3                 10                   6   \n..                  ...                ...                 ...   \n195                   8                  0                   8   \n196                   8                  0                   8   \n197                   8                  0                   8   \n198                   8                  0                   8   \n199                   8                  0                   8   \n\n    EWS_DaysToThreat scenario policy     model  \n0                  2      158    154  dikesnet  \n1                  2      159    154  dikesnet  \n2                  2      160    154  dikesnet  \n3                  2      161    154  dikesnet  \n4                  2      162    154  dikesnet  \n..               ...      ...    ...       ...  \n195                1      203    157  dikesnet  \n196                1      204    157  dikesnet  \n197                1      205    157  dikesnet  \n198                1      206    157  dikesnet  \n199                1      207    157  dikesnet  \n\n[200 rows x 53 columns]",
      "text/html": "<div>\n<style scoped>\n    .dataframe tbody tr th:only-of-type {\n        vertical-align: middle;\n    }\n\n    .dataframe tbody tr th {\n        vertical-align: top;\n    }\n\n    .dataframe thead th {\n        text-align: right;\n    }\n</style>\n<table border=\"1\" class=\"dataframe\">\n  <thead>\n    <tr style=\"text-align: right;\">\n      <th></th>\n      <th>A.0_ID flood wave shape</th>\n      <th>A.1_Bmax</th>\n      <th>A.1_Brate</th>\n      <th>A.1_pfail</th>\n      <th>A.2_Bmax</th>\n      <th>A.2_Brate</th>\n      <th>A.2_pfail</th>\n      <th>A.3_Bmax</th>\n      <th>A.3_Brate</th>\n      <th>A.3_pfail</th>\n      <th>...</th>\n      <th>A.4_DikeIncrease 0</th>\n      <th>A.4_DikeIncrease 1</th>\n      <th>A.4_DikeIncrease 2</th>\n      <th>A.5_DikeIncrease 0</th>\n      <th>A.5_DikeIncrease 1</th>\n      <th>A.5_DikeIncrease 2</th>\n      <th>EWS_DaysToThreat</th>\n      <th>scenario</th>\n      <th>policy</th>\n      <th>model</th>\n    </tr>\n  </thead>\n  <tbody>\n    <tr>\n      <th>0</th>\n      <td>35</td>\n      <td>46.151948</td>\n      <td>1.0</td>\n      <td>0.418172</td>\n      <td>213.734772</td>\n      <td>1.0</td>\n      <td>0.239841</td>\n      <td>121.890348</td>\n      <td>1.5</td>\n      <td>0.995246</td>\n      <td>...</td>\n      <td>0</td>\n      <td>4</td>\n      <td>4</td>\n      <td>3</td>\n      <td>10</td>\n      <td>6</td>\n      <td>2</td>\n      <td>158</td>\n      <td>154</td>\n      <td>dikesnet</td>\n    </tr>\n    <tr>\n      <th>1</th>\n      <td>69</td>\n      <td>213.604276</td>\n      <td>1.0</td>\n      <td>0.535521</td>\n      <td>326.842900</td>\n      <td>1.0</td>\n      <td>0.003404</td>\n      <td>292.478491</td>\n      <td>10.0</td>\n      <td>0.780966</td>\n      <td>...</td>\n      <td>0</td>\n      <td>4</td>\n      <td>4</td>\n      <td>3</td>\n      <td>10</td>\n      <td>6</td>\n      <td>2</td>\n      <td>159</td>\n      <td>154</td>\n      <td>dikesnet</td>\n    </tr>\n    <tr>\n      <th>2</th>\n      <td>89</td>\n      <td>237.918202</td>\n      <td>10.0</td>\n      <td>0.435853</td>\n      <td>291.355423</td>\n      <td>1.5</td>\n      <td>0.668494</td>\n      <td>243.182365</td>\n      <td>1.0</td>\n      <td>0.940557</td>\n      <td>...</td>\n      <td>0</td>\n      <td>4</td>\n      <td>4</td>\n      <td>3</td>\n      <td>10</td>\n      <td>6</td>\n      <td>2</td>\n      <td>160</td>\n      <td>154</td>\n      <td>dikesnet</td>\n    </tr>\n    <tr>\n      <th>3</th>\n      <td>50</td>\n      <td>114.850964</td>\n      <td>10.0</td>\n      <td>0.078306</td>\n      <td>176.979982</td>\n      <td>1.0</td>\n      <td>0.914051</td>\n      <td>200.593839</td>\n      <td>1.5</td>\n      <td>0.417640</td>\n      <td>...</td>\n      <td>0</td>\n      <td>4</td>\n      <td>4</td>\n      <td>3</td>\n      <td>10</td>\n      <td>6</td>\n      <td>2</td>\n      <td>161</td>\n      <td>154</td>\n      <td>dikesnet</td>\n    </tr>\n    <tr>\n      <th>4</th>\n      <td>107</td>\n      <td>218.398231</td>\n      <td>1.0</td>\n      <td>0.983562</td>\n      <td>31.397571</td>\n      <td>1.0</td>\n      <td>0.982504</td>\n      <td>138.396233</td>\n      <td>1.0</td>\n      <td>0.311102</td>\n      <td>...</td>\n      <td>0</td>\n      <td>4</td>\n      <td>4</td>\n      <td>3</td>\n      <td>10</td>\n      <td>6</td>\n      <td>2</td>\n      <td>162</td>\n      <td>154</td>\n      <td>dikesnet</td>\n    </tr>\n    <tr>\n      <th>...</th>\n      <td>...</td>\n      <td>...</td>\n      <td>...</td>\n      <td>...</td>\n      <td>...</td>\n      <td>...</td>\n      <td>...</td>\n      <td>...</td>\n      <td>...</td>\n      <td>...</td>\n      <td>...</td>\n      <td>...</td>\n      <td>...</td>\n      <td>...</td>\n      <td>...</td>\n      <td>...</td>\n      <td>...</td>\n      <td>...</td>\n      <td>...</td>\n      <td>...</td>\n      <td>...</td>\n    </tr>\n    <tr>\n      <th>195</th>\n      <td>109</td>\n      <td>241.496897</td>\n      <td>1.5</td>\n      <td>0.197729</td>\n      <td>238.486292</td>\n      <td>1.5</td>\n      <td>0.479579</td>\n      <td>254.876426</td>\n      <td>1.5</td>\n      <td>0.014068</td>\n      <td>...</td>\n      <td>6</td>\n      <td>6</td>\n      <td>7</td>\n      <td>8</td>\n      <td>0</td>\n      <td>8</td>\n      <td>1</td>\n      <td>203</td>\n      <td>157</td>\n      <td>dikesnet</td>\n    </tr>\n    <tr>\n      <th>196</th>\n      <td>87</td>\n      <td>205.812239</td>\n      <td>1.0</td>\n      <td>0.807345</td>\n      <td>182.157459</td>\n      <td>1.0</td>\n      <td>0.659771</td>\n      <td>235.711720</td>\n      <td>1.0</td>\n      <td>0.692191</td>\n      <td>...</td>\n      <td>6</td>\n      <td>6</td>\n      <td>7</td>\n      <td>8</td>\n      <td>0</td>\n      <td>8</td>\n      <td>1</td>\n      <td>204</td>\n      <td>157</td>\n      <td>dikesnet</td>\n    </tr>\n    <tr>\n      <th>197</th>\n      <td>75</td>\n      <td>261.253969</td>\n      <td>10.0</td>\n      <td>0.675556</td>\n      <td>197.918233</td>\n      <td>1.0</td>\n      <td>0.184954</td>\n      <td>97.755587</td>\n      <td>1.0</td>\n      <td>0.604331</td>\n      <td>...</td>\n      <td>6</td>\n      <td>6</td>\n      <td>7</td>\n      <td>8</td>\n      <td>0</td>\n      <td>8</td>\n      <td>1</td>\n      <td>205</td>\n      <td>157</td>\n      <td>dikesnet</td>\n    </tr>\n    <tr>\n      <th>198</th>\n      <td>3</td>\n      <td>344.079767</td>\n      <td>1.5</td>\n      <td>0.730897</td>\n      <td>259.493786</td>\n      <td>10.0</td>\n      <td>0.325798</td>\n      <td>79.688811</td>\n      <td>1.5</td>\n      <td>0.280794</td>\n      <td>...</td>\n      <td>6</td>\n      <td>6</td>\n      <td>7</td>\n      <td>8</td>\n      <td>0</td>\n      <td>8</td>\n      <td>1</td>\n      <td>206</td>\n      <td>157</td>\n      <td>dikesnet</td>\n    </tr>\n    <tr>\n      <th>199</th>\n      <td>129</td>\n      <td>163.564592</td>\n      <td>1.0</td>\n      <td>0.367648</td>\n      <td>189.437324</td>\n      <td>1.5</td>\n      <td>0.719802</td>\n      <td>129.237942</td>\n      <td>1.0</td>\n      <td>0.560170</td>\n      <td>...</td>\n      <td>6</td>\n      <td>6</td>\n      <td>7</td>\n      <td>8</td>\n      <td>0</td>\n      <td>8</td>\n      <td>1</td>\n      <td>207</td>\n      <td>157</td>\n      <td>dikesnet</td>\n    </tr>\n  </tbody>\n</table>\n<p>200 rows × 53 columns</p>\n</div>"
     },
     "execution_count": 25,
     "metadata": {},
     "output_type": "execute_result"
    }
   ],
   "source": [
    "# observing the simulation runs\n",
    "experiments, outcomes = results\n",
    "print(outcomes.keys())\n",
    "experiments"
   ]
  },
  {
   "cell_type": "code",
   "execution_count": 26,
   "metadata": {
    "ExecuteTime": {
     "end_time": "2024-05-30T13:32:17.850482Z",
     "start_time": "2024-05-30T13:32:17.833260Z"
    }
   },
   "outputs": [
    {
     "data": {
      "text/plain": "     A.1 Total Costs  A.1_Expected Number of Deaths  A.2 Total Costs  \\\n0       2.181322e+08                            0.0     1.922237e+08   \n1       2.181322e+08                            0.0     2.360918e+08   \n2       2.181322e+08                            0.0     1.922237e+08   \n3       2.181322e+08                            0.0     1.922237e+08   \n4       2.181322e+08                            0.0     1.922237e+08   \n..               ...                            ...              ...   \n195     1.576980e+08                            0.0     1.952327e+08   \n196     1.576980e+08                            0.0     1.925815e+08   \n197     1.576980e+08                            0.0     2.050961e+08   \n198     1.576980e+08                            0.0     2.003880e+08   \n199     1.576980e+08                            0.0     1.911861e+08   \n\n     A.2_Expected Number of Deaths  A.3 Total Costs  \\\n0                         0.000000     1.034875e+08   \n1                         0.005683     1.034875e+08   \n2                         0.000000     1.034875e+08   \n3                         0.000000     1.034875e+08   \n4                         0.000000     1.034875e+08   \n..                             ...              ...   \n195                       0.001381     2.831182e+08   \n196                       0.000741     5.892684e+07   \n197                       0.004572     5.892684e+07   \n198                       0.002413     5.892684e+07   \n199                       0.000000     5.892684e+07   \n\n     A.3_Expected Number of Deaths  A.4 Total Costs  \\\n0                         0.000000     2.198261e+07   \n1                         0.000000     2.078505e+07   \n2                         0.000000     2.602052e+07   \n3                         0.000000     5.616154e+07   \n4                         0.000000     2.170894e+07   \n..                             ...              ...   \n195                       0.128496     4.932829e+07   \n196                       0.000000     4.932829e+07   \n197                       0.000000     4.932829e+07   \n198                       0.000000     4.932829e+07   \n199                       0.000000     4.932829e+07   \n\n     A.4_Expected Number of Deaths  A.5 Total Costs  \\\n0                         0.000098     1.958874e+08   \n1                         0.000000     1.980297e+08   \n2                         0.000300     1.570315e+08   \n3                         0.001863     1.696057e+08   \n4                         0.000093     1.570315e+08   \n..                             ...              ...   \n195                       0.000000     1.118733e+08   \n196                       0.000000     1.118733e+08   \n197                       0.000000     1.118733e+08   \n198                       0.000000     1.118733e+08   \n199                       0.000000     1.118733e+08   \n\n     A.5_Expected Number of Deaths  RfR Total Costs  Expected Evacuation Costs  \n0                         0.005156     6.258000e+08                1988.089425  \n1                         0.005267     6.258000e+08                3897.412320  \n2                         0.000000     6.258000e+08                 221.691483  \n3                         0.001214     6.258000e+08                2164.397050  \n4                         0.000000     6.258000e+08                  59.765697  \n..                             ...              ...                        ...  \n195                       0.000000     1.742800e+09                5452.693116  \n196                       0.000000     1.742800e+09                  54.015949  \n197                       0.000000     1.742800e+09                 357.580292  \n198                       0.000000     1.742800e+09                 180.478623  \n199                       0.000000     1.742800e+09                   0.000000  \n\n[200 rows x 12 columns]",
      "text/html": "<div>\n<style scoped>\n    .dataframe tbody tr th:only-of-type {\n        vertical-align: middle;\n    }\n\n    .dataframe tbody tr th {\n        vertical-align: top;\n    }\n\n    .dataframe thead th {\n        text-align: right;\n    }\n</style>\n<table border=\"1\" class=\"dataframe\">\n  <thead>\n    <tr style=\"text-align: right;\">\n      <th></th>\n      <th>A.1 Total Costs</th>\n      <th>A.1_Expected Number of Deaths</th>\n      <th>A.2 Total Costs</th>\n      <th>A.2_Expected Number of Deaths</th>\n      <th>A.3 Total Costs</th>\n      <th>A.3_Expected Number of Deaths</th>\n      <th>A.4 Total Costs</th>\n      <th>A.4_Expected Number of Deaths</th>\n      <th>A.5 Total Costs</th>\n      <th>A.5_Expected Number of Deaths</th>\n      <th>RfR Total Costs</th>\n      <th>Expected Evacuation Costs</th>\n    </tr>\n  </thead>\n  <tbody>\n    <tr>\n      <th>0</th>\n      <td>2.181322e+08</td>\n      <td>0.0</td>\n      <td>1.922237e+08</td>\n      <td>0.000000</td>\n      <td>1.034875e+08</td>\n      <td>0.000000</td>\n      <td>2.198261e+07</td>\n      <td>0.000098</td>\n      <td>1.958874e+08</td>\n      <td>0.005156</td>\n      <td>6.258000e+08</td>\n      <td>1988.089425</td>\n    </tr>\n    <tr>\n      <th>1</th>\n      <td>2.181322e+08</td>\n      <td>0.0</td>\n      <td>2.360918e+08</td>\n      <td>0.005683</td>\n      <td>1.034875e+08</td>\n      <td>0.000000</td>\n      <td>2.078505e+07</td>\n      <td>0.000000</td>\n      <td>1.980297e+08</td>\n      <td>0.005267</td>\n      <td>6.258000e+08</td>\n      <td>3897.412320</td>\n    </tr>\n    <tr>\n      <th>2</th>\n      <td>2.181322e+08</td>\n      <td>0.0</td>\n      <td>1.922237e+08</td>\n      <td>0.000000</td>\n      <td>1.034875e+08</td>\n      <td>0.000000</td>\n      <td>2.602052e+07</td>\n      <td>0.000300</td>\n      <td>1.570315e+08</td>\n      <td>0.000000</td>\n      <td>6.258000e+08</td>\n      <td>221.691483</td>\n    </tr>\n    <tr>\n      <th>3</th>\n      <td>2.181322e+08</td>\n      <td>0.0</td>\n      <td>1.922237e+08</td>\n      <td>0.000000</td>\n      <td>1.034875e+08</td>\n      <td>0.000000</td>\n      <td>5.616154e+07</td>\n      <td>0.001863</td>\n      <td>1.696057e+08</td>\n      <td>0.001214</td>\n      <td>6.258000e+08</td>\n      <td>2164.397050</td>\n    </tr>\n    <tr>\n      <th>4</th>\n      <td>2.181322e+08</td>\n      <td>0.0</td>\n      <td>1.922237e+08</td>\n      <td>0.000000</td>\n      <td>1.034875e+08</td>\n      <td>0.000000</td>\n      <td>2.170894e+07</td>\n      <td>0.000093</td>\n      <td>1.570315e+08</td>\n      <td>0.000000</td>\n      <td>6.258000e+08</td>\n      <td>59.765697</td>\n    </tr>\n    <tr>\n      <th>...</th>\n      <td>...</td>\n      <td>...</td>\n      <td>...</td>\n      <td>...</td>\n      <td>...</td>\n      <td>...</td>\n      <td>...</td>\n      <td>...</td>\n      <td>...</td>\n      <td>...</td>\n      <td>...</td>\n      <td>...</td>\n    </tr>\n    <tr>\n      <th>195</th>\n      <td>1.576980e+08</td>\n      <td>0.0</td>\n      <td>1.952327e+08</td>\n      <td>0.001381</td>\n      <td>2.831182e+08</td>\n      <td>0.128496</td>\n      <td>4.932829e+07</td>\n      <td>0.000000</td>\n      <td>1.118733e+08</td>\n      <td>0.000000</td>\n      <td>1.742800e+09</td>\n      <td>5452.693116</td>\n    </tr>\n    <tr>\n      <th>196</th>\n      <td>1.576980e+08</td>\n      <td>0.0</td>\n      <td>1.925815e+08</td>\n      <td>0.000741</td>\n      <td>5.892684e+07</td>\n      <td>0.000000</td>\n      <td>4.932829e+07</td>\n      <td>0.000000</td>\n      <td>1.118733e+08</td>\n      <td>0.000000</td>\n      <td>1.742800e+09</td>\n      <td>54.015949</td>\n    </tr>\n    <tr>\n      <th>197</th>\n      <td>1.576980e+08</td>\n      <td>0.0</td>\n      <td>2.050961e+08</td>\n      <td>0.004572</td>\n      <td>5.892684e+07</td>\n      <td>0.000000</td>\n      <td>4.932829e+07</td>\n      <td>0.000000</td>\n      <td>1.118733e+08</td>\n      <td>0.000000</td>\n      <td>1.742800e+09</td>\n      <td>357.580292</td>\n    </tr>\n    <tr>\n      <th>198</th>\n      <td>1.576980e+08</td>\n      <td>0.0</td>\n      <td>2.003880e+08</td>\n      <td>0.002413</td>\n      <td>5.892684e+07</td>\n      <td>0.000000</td>\n      <td>4.932829e+07</td>\n      <td>0.000000</td>\n      <td>1.118733e+08</td>\n      <td>0.000000</td>\n      <td>1.742800e+09</td>\n      <td>180.478623</td>\n    </tr>\n    <tr>\n      <th>199</th>\n      <td>1.576980e+08</td>\n      <td>0.0</td>\n      <td>1.911861e+08</td>\n      <td>0.000000</td>\n      <td>5.892684e+07</td>\n      <td>0.000000</td>\n      <td>4.932829e+07</td>\n      <td>0.000000</td>\n      <td>1.118733e+08</td>\n      <td>0.000000</td>\n      <td>1.742800e+09</td>\n      <td>0.000000</td>\n    </tr>\n  </tbody>\n</table>\n<p>200 rows × 12 columns</p>\n</div>"
     },
     "execution_count": 26,
     "metadata": {},
     "output_type": "execute_result"
    }
   ],
   "source": [
    "# only works because we have scalar outcomes\n",
    "pd.DataFrame(outcomes)"
   ]
  },
  {
   "cell_type": "code",
   "execution_count": 27,
   "metadata": {
    "ExecuteTime": {
     "end_time": "2024-05-30T13:32:17.857894Z",
     "start_time": "2024-05-30T13:32:17.851573Z"
    }
   },
   "outputs": [],
   "source": [
    "# defining specific policies\n",
    "# for example, policy 1 is about extra protection in upper boundary\n",
    "# policy 2 is about extra protection in lower boundary\n",
    "# policy 3 is extra protection in random locations\n",
    "\n",
    "\n",
    "def get_do_nothing_dict():\n",
    "    return {l.name: 0 for l in dike_model.levers}\n",
    "\n",
    "\n",
    "policies = [\n",
    "    Policy(\n",
    "        \"policy 1\",\n",
    "        **dict(\n",
    "            get_do_nothing_dict(),\n",
    "            **{\"0_RfR 0\": 1, \"0_RfR 1\": 1, \"0_RfR 2\": 1, \"A.1_DikeIncrease 0\": 5}\n",
    "        )\n",
    "    ),\n",
    "    Policy(\n",
    "        \"policy 2\",\n",
    "        **dict(\n",
    "            get_do_nothing_dict(),\n",
    "            **{\"4_RfR 0\": 1, \"4_RfR 1\": 1, \"4_RfR 2\": 1, \"A.5_DikeIncrease 0\": 5}\n",
    "        )\n",
    "    ),\n",
    "    Policy(\n",
    "        \"policy 3\",\n",
    "        **dict(\n",
    "            get_do_nothing_dict(),\n",
    "            **{\"1_RfR 0\": 1, \"2_RfR 1\": 1, \"3_RfR 2\": 1, \"A.3_DikeIncrease 0\": 5}\n",
    "        )\n",
    "    ),\n",
    "]"
   ]
  },
  {
   "cell_type": "code",
   "execution_count": 28,
   "metadata": {
    "ExecuteTime": {
     "end_time": "2024-05-30T13:33:33.103171Z",
     "start_time": "2024-05-30T13:32:17.858987Z"
    }
   },
   "outputs": [
    {
     "name": "stderr",
     "output_type": "stream",
     "text": [
      "[MainProcess/INFO] pool started with 12 workers\n",
      "[MainProcess/INFO] performing 100 scenarios * 3 policies * 1 model(s) = 300 experiments\n",
      "100%|████████████████████████████████████████| 300/300 [00:36<00:00,  8.17it/s]\n",
      "[MainProcess/INFO] experiments finished\n",
      "[MainProcess/INFO] terminating pool\n"
     ]
    }
   ],
   "source": [
    "# pass the policies list to EMA workbench experiment runs\n",
    "n_scenarios = 100\n",
    "with MultiprocessingEvaluator(dike_model) as evaluator:\n",
    "    results = evaluator.perform_experiments(n_scenarios, policies)"
   ]
  },
  {
   "cell_type": "code",
   "execution_count": 29,
   "metadata": {
    "ExecuteTime": {
     "end_time": "2024-05-30T13:33:33.107719Z",
     "start_time": "2024-05-30T13:33:33.104256Z"
    }
   },
   "outputs": [],
   "source": [
    "experiments, outcomes = results"
   ]
  },
  {
   "cell_type": "code",
   "execution_count": 32,
   "metadata": {
    "ExecuteTime": {
     "end_time": "2024-05-30T13:42:26.369813Z",
     "start_time": "2024-05-30T13:42:26.352070Z"
    }
   },
   "outputs": [
    {
     "data": {
      "text/plain": "     A.1 Total Costs  A.1_Expected Number of Deaths  A.2 Total Costs  \\\n0       5.397251e+07                       0.000000     1.521789e+07   \n1       5.397251e+07                       0.000000     1.857979e+07   \n2       5.397251e+07                       0.000000     2.346682e+07   \n3       5.397251e+07                       0.000000     9.650537e+07   \n4       5.397251e+07                       0.000000     6.372418e+06   \n..               ...                            ...              ...   \n295     0.000000e+00                       0.000000     9.924702e+08   \n296     2.786996e+09                       1.555735     2.164163e+07   \n297     0.000000e+00                       0.000000     1.052821e+07   \n298     1.793667e+07                       0.010894     8.584575e+07   \n299     1.485685e+07                       0.011390     3.179086e+08   \n\n     A.2_Expected Number of Deaths  A.3 Total Costs  \\\n0                         0.014060     7.752970e+08   \n1                         0.020339     7.083854e+07   \n2                         0.020233     1.333933e+07   \n3                         0.073692     0.000000e+00   \n4                         0.006301     1.040623e+09   \n..                             ...              ...   \n295                       0.780720     2.879840e+07   \n296                       0.017362     2.879840e+07   \n297                       0.011496     2.879840e+07   \n298                       0.071652     2.879840e+07   \n299                       0.316044     2.879840e+07   \n\n     A.3_Expected Number of Deaths  A.4 Total Costs  \\\n0                         1.267965     9.102283e+07   \n1                         0.143553     7.460206e+07   \n2                         0.021760     0.000000e+00   \n3                         0.000000     1.044744e+08   \n4                         1.773026     1.442210e+08   \n..                             ...              ...   \n295                       0.000000     0.000000e+00   \n296                       0.000000     5.939467e+07   \n297                       0.000000     9.313292e+07   \n298                       0.000000     1.366559e+06   \n299                       0.000000     0.000000e+00   \n\n     A.4_Expected Number of Deaths  A.5 Total Costs  \\\n0                         0.035579     0.000000e+00   \n1                         0.038095     0.000000e+00   \n2                         0.000000     2.450278e+08   \n3                         0.038261     5.384522e+07   \n4                         0.054748     0.000000e+00   \n..                             ...              ...   \n295                       0.000000     0.000000e+00   \n296                       0.020847     0.000000e+00   \n297                       0.044731     0.000000e+00   \n298                       0.000616     0.000000e+00   \n299                       0.000000     0.000000e+00   \n\n     A.5_Expected Number of Deaths  RfR Total Costs  Expected Evacuation Costs  \n0                         0.000000      253800000.0                        0.0  \n1                         0.000000      253800000.0                        0.0  \n2                         0.195518      253800000.0                        0.0  \n3                         0.038566      253800000.0                        0.0  \n4                         0.000000      253800000.0                        0.0  \n..                             ...              ...                        ...  \n295                       0.000000      369700000.0                        0.0  \n296                       0.000000      369700000.0                        0.0  \n297                       0.000000      369700000.0                        0.0  \n298                       0.000000      369700000.0                        0.0  \n299                       0.000000      369700000.0                        0.0  \n\n[300 rows x 12 columns]",
      "text/html": "<div>\n<style scoped>\n    .dataframe tbody tr th:only-of-type {\n        vertical-align: middle;\n    }\n\n    .dataframe tbody tr th {\n        vertical-align: top;\n    }\n\n    .dataframe thead th {\n        text-align: right;\n    }\n</style>\n<table border=\"1\" class=\"dataframe\">\n  <thead>\n    <tr style=\"text-align: right;\">\n      <th></th>\n      <th>A.1 Total Costs</th>\n      <th>A.1_Expected Number of Deaths</th>\n      <th>A.2 Total Costs</th>\n      <th>A.2_Expected Number of Deaths</th>\n      <th>A.3 Total Costs</th>\n      <th>A.3_Expected Number of Deaths</th>\n      <th>A.4 Total Costs</th>\n      <th>A.4_Expected Number of Deaths</th>\n      <th>A.5 Total Costs</th>\n      <th>A.5_Expected Number of Deaths</th>\n      <th>RfR Total Costs</th>\n      <th>Expected Evacuation Costs</th>\n    </tr>\n  </thead>\n  <tbody>\n    <tr>\n      <th>0</th>\n      <td>5.397251e+07</td>\n      <td>0.000000</td>\n      <td>1.521789e+07</td>\n      <td>0.014060</td>\n      <td>7.752970e+08</td>\n      <td>1.267965</td>\n      <td>9.102283e+07</td>\n      <td>0.035579</td>\n      <td>0.000000e+00</td>\n      <td>0.000000</td>\n      <td>253800000.0</td>\n      <td>0.0</td>\n    </tr>\n    <tr>\n      <th>1</th>\n      <td>5.397251e+07</td>\n      <td>0.000000</td>\n      <td>1.857979e+07</td>\n      <td>0.020339</td>\n      <td>7.083854e+07</td>\n      <td>0.143553</td>\n      <td>7.460206e+07</td>\n      <td>0.038095</td>\n      <td>0.000000e+00</td>\n      <td>0.000000</td>\n      <td>253800000.0</td>\n      <td>0.0</td>\n    </tr>\n    <tr>\n      <th>2</th>\n      <td>5.397251e+07</td>\n      <td>0.000000</td>\n      <td>2.346682e+07</td>\n      <td>0.020233</td>\n      <td>1.333933e+07</td>\n      <td>0.021760</td>\n      <td>0.000000e+00</td>\n      <td>0.000000</td>\n      <td>2.450278e+08</td>\n      <td>0.195518</td>\n      <td>253800000.0</td>\n      <td>0.0</td>\n    </tr>\n    <tr>\n      <th>3</th>\n      <td>5.397251e+07</td>\n      <td>0.000000</td>\n      <td>9.650537e+07</td>\n      <td>0.073692</td>\n      <td>0.000000e+00</td>\n      <td>0.000000</td>\n      <td>1.044744e+08</td>\n      <td>0.038261</td>\n      <td>5.384522e+07</td>\n      <td>0.038566</td>\n      <td>253800000.0</td>\n      <td>0.0</td>\n    </tr>\n    <tr>\n      <th>4</th>\n      <td>5.397251e+07</td>\n      <td>0.000000</td>\n      <td>6.372418e+06</td>\n      <td>0.006301</td>\n      <td>1.040623e+09</td>\n      <td>1.773026</td>\n      <td>1.442210e+08</td>\n      <td>0.054748</td>\n      <td>0.000000e+00</td>\n      <td>0.000000</td>\n      <td>253800000.0</td>\n      <td>0.0</td>\n    </tr>\n    <tr>\n      <th>...</th>\n      <td>...</td>\n      <td>...</td>\n      <td>...</td>\n      <td>...</td>\n      <td>...</td>\n      <td>...</td>\n      <td>...</td>\n      <td>...</td>\n      <td>...</td>\n      <td>...</td>\n      <td>...</td>\n      <td>...</td>\n    </tr>\n    <tr>\n      <th>295</th>\n      <td>0.000000e+00</td>\n      <td>0.000000</td>\n      <td>9.924702e+08</td>\n      <td>0.780720</td>\n      <td>2.879840e+07</td>\n      <td>0.000000</td>\n      <td>0.000000e+00</td>\n      <td>0.000000</td>\n      <td>0.000000e+00</td>\n      <td>0.000000</td>\n      <td>369700000.0</td>\n      <td>0.0</td>\n    </tr>\n    <tr>\n      <th>296</th>\n      <td>2.786996e+09</td>\n      <td>1.555735</td>\n      <td>2.164163e+07</td>\n      <td>0.017362</td>\n      <td>2.879840e+07</td>\n      <td>0.000000</td>\n      <td>5.939467e+07</td>\n      <td>0.020847</td>\n      <td>0.000000e+00</td>\n      <td>0.000000</td>\n      <td>369700000.0</td>\n      <td>0.0</td>\n    </tr>\n    <tr>\n      <th>297</th>\n      <td>0.000000e+00</td>\n      <td>0.000000</td>\n      <td>1.052821e+07</td>\n      <td>0.011496</td>\n      <td>2.879840e+07</td>\n      <td>0.000000</td>\n      <td>9.313292e+07</td>\n      <td>0.044731</td>\n      <td>0.000000e+00</td>\n      <td>0.000000</td>\n      <td>369700000.0</td>\n      <td>0.0</td>\n    </tr>\n    <tr>\n      <th>298</th>\n      <td>1.793667e+07</td>\n      <td>0.010894</td>\n      <td>8.584575e+07</td>\n      <td>0.071652</td>\n      <td>2.879840e+07</td>\n      <td>0.000000</td>\n      <td>1.366559e+06</td>\n      <td>0.000616</td>\n      <td>0.000000e+00</td>\n      <td>0.000000</td>\n      <td>369700000.0</td>\n      <td>0.0</td>\n    </tr>\n    <tr>\n      <th>299</th>\n      <td>1.485685e+07</td>\n      <td>0.011390</td>\n      <td>3.179086e+08</td>\n      <td>0.316044</td>\n      <td>2.879840e+07</td>\n      <td>0.000000</td>\n      <td>0.000000e+00</td>\n      <td>0.000000</td>\n      <td>0.000000e+00</td>\n      <td>0.000000</td>\n      <td>369700000.0</td>\n      <td>0.0</td>\n    </tr>\n  </tbody>\n</table>\n<p>300 rows × 12 columns</p>\n</div>"
     },
     "execution_count": 32,
     "metadata": {},
     "output_type": "execute_result"
    }
   ],
   "source": [
    "# only works because we have scalar outcomes\n",
    "df =pd.DataFrame(outcomes)\n",
    "df"
   ]
  },
  {
   "cell_type": "code",
   "execution_count": 34,
   "metadata": {
    "pycharm": {
     "name": "#%%"
    },
    "ExecuteTime": {
     "end_time": "2024-05-30T13:42:38.953774Z",
     "start_time": "2024-05-30T13:42:38.613610Z"
    }
   },
   "outputs": [
    {
     "data": {
      "text/plain": "<Axes: >"
     },
     "execution_count": 34,
     "metadata": {},
     "output_type": "execute_result"
    },
    {
     "data": {
      "text/plain": "<Figure size 640x480 with 1 Axes>",
      "image/png": "[encoded data removed]"
     },
     "metadata": {},
     "output_type": "display_data"
    }
   ],
   "source": [
    "df[\"A.5_Expected Number of Deaths\"].plot() "
   ]
  }
 ],
 "metadata": {
  "kernelspec": {
   "display_name": "Python 3 (ipykernel)",
   "language": "python",
   "name": "python3"
  },
  "language_info": {
   "codemirror_mode": {
    "name": "ipython",
    "version": 3
   },
   "file_extension": ".py",
   "mimetype": "text/x-python",
   "name": "python",
   "nbconvert_exporter": "python",
   "pygments_lexer": "ipython3",
   "version": "3.9.16"
  }
 },
 "nbformat": 4,
 "nbformat_minor": 4
}
